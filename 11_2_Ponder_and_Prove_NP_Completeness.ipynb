{
  "nbformat": 4,
  "nbformat_minor": 0,
  "metadata": {
    "colab": {
      "name": "11_2_Ponder_and_Prove_NP_Completeness.ipynb",
      "provenance": []
    },
    "kernelspec": {
      "name": "python3",
      "display_name": "Python 3"
    }
  },
  "cells": [
    {
      "cell_type": "markdown",
      "metadata": {
        "id": "G0Ig-dqAHa5l"
      },
      "source": [
        "# Ponder and Prove NP-Completeness\n",
        "## Due: Saturday, 20 March 2021, 11:59 pm"
      ]
    },
    {
      "cell_type": "markdown",
      "metadata": {
        "id": "-ZTHg3i2Hg4j"
      },
      "source": [
        "## TODO Watch and Learn"
      ]
    },
    {
      "cell_type": "markdown",
      "metadata": {
        "id": "eA7uftrYb4Ln"
      },
      "source": [
        "Watch each of the following videos:\n",
        "\n",
        "* [P vs. NP - The Biggest Unsolved Problem in Computer Science](https://www.youtube.com/watch?v=EHp4FPyajKQ)\n",
        "* [What is complexity theory? (P vs. NP explained visually)](https://www.youtube.com/watch?v=u2DLlNQiPB4)\n",
        "* [P vs. NP and the Computational Complexity Zoo](https://www.youtube.com/watch?v=YX40hbAHx3s&t=3s)\n",
        "\n",
        "For each video, state two things that interested you (theoretical or practical). Just a couple of sentences that summarize each point of interest."
      ]
    },
    {
      "cell_type": "markdown",
      "metadata": {
        "id": "GzB8wHYWgrzt"
      },
      "source": [
        "The first video:\n",
        "\n",
        "It explained how problems can be solved using the same algorithm making them logically equivalent. The tic tac toe example was effective.\n",
        "\n",
        "It emphasized the importance of the question: P == NP? It makes me want to attempt to answer it.\n",
        "\n",
        "The second video:\n",
        "\n",
        "The loop illistration with the grocery list helped me visualize the difference.\n",
        "\n",
        "I thought the use of time vs steps graph was an effective way to show P and NP differences.\n",
        "\n",
        "The third video:\n",
        "\n",
        "The diagram showing the overlap of different complexities was an awesome way to learn about other groups that are not P or NP. \n",
        "\n",
        "This video did a great job at showing the potential outcomes of if P = NP. There so many great things that would change the world for the better."
      ]
    },
    {
      "cell_type": "markdown",
      "metadata": {
        "id": "EsRshRnZhRFa"
      },
      "source": [
        "## TODO Exercises"
      ]
    },
    {
      "cell_type": "markdown",
      "metadata": {
        "id": "F3724sGjhTPo"
      },
      "source": [
        "Do the following Chapter 16 Exercises:"
      ]
    },
    {
      "cell_type": "markdown",
      "metadata": {
        "id": "XZ7ygErThWjn"
      },
      "source": [
        "### 16.7.2.1"
      ]
    },
    {
      "cell_type": "markdown",
      "metadata": {
        "id": "psJ_6GxWhtsK"
      },
      "source": [
        "A SAT instance is given in the DIMACS format.\n",
        "\n",
        "(a) What is the CNF formula captured by this instance?\n",
        "\n",
        "The CNF formula is shown in the output from the code below. It has a clause for every possible combination of 5 boolean variables.\n",
        "\n",
        "(b) By inspection, answer whether the instance is satisfiable, and why.\n",
        "\n",
        "No, for every combination of boolean variables, there is a clause that is the \"opposite\" (as in mutually exclusive) which will reject it.\n",
        "\n",
        "(c) If it is not satisfiable, then what is the minimal number of rows that must be deleted before the instance becomes satisfiable? If these rows are not unique, list the first two possible such omissions (of sets of rows), starting from the top of the given listing.\n",
        "\n",
        "Only one row needs to be deleted. It does not matter which is removed, as all, if removed, would allow the \"opposite\" to be consistent with the rest of the formula.\n",
        "\n",
        "(d) Check your answer using CryptoMiniSat.\n",
        "\n",
        "Done. If I removed any row, it was satisfiable."
      ]
    },
    {
      "cell_type": "code",
      "metadata": {
        "colab": {
          "base_uri": "https://localhost:8080/",
          "height": 69
        },
        "id": "e9HR0yE5RTTs",
        "outputId": "e2636d21-cc29-4b17-cc4a-74225bfc6e17"
      },
      "source": [
        "'.'.join([*map(lambda b:f\"({'!'*int(b[0])}a+{'!'*int(b[1])}b+{'!'*int(b[2])}c+{'!'*int(b[3])}d+{'!'*int(b[4])}e)\",[*map(lambda n:bin(n)[2::].zfill(5),range(32))])])"
      ],
      "execution_count": 1,
      "outputs": [
        {
          "output_type": "execute_result",
          "data": {
            "application/vnd.google.colaboratory.intrinsic+json": {
              "type": "string"
            },
            "text/plain": [
              "'(a+b+c+d+e).(a+b+c+d+!e).(a+b+c+!d+e).(a+b+c+!d+!e).(a+b+!c+d+e).(a+b+!c+d+!e).(a+b+!c+!d+e).(a+b+!c+!d+!e).(a+!b+c+d+e).(a+!b+c+d+!e).(a+!b+c+!d+e).(a+!b+c+!d+!e).(a+!b+!c+d+e).(a+!b+!c+d+!e).(a+!b+!c+!d+e).(a+!b+!c+!d+!e).(!a+b+c+d+e).(!a+b+c+d+!e).(!a+b+c+!d+e).(!a+b+c+!d+!e).(!a+b+!c+d+e).(!a+b+!c+d+!e).(!a+b+!c+!d+e).(!a+b+!c+!d+!e).(!a+!b+c+d+e).(!a+!b+c+d+!e).(!a+!b+c+!d+e).(!a+!b+c+!d+!e).(!a+!b+!c+d+e).(!a+!b+!c+d+!e).(!a+!b+!c+!d+e).(!a+!b+!c+!d+!e)'"
            ]
          },
          "metadata": {
            "tags": []
          },
          "execution_count": 1
        }
      ]
    },
    {
      "cell_type": "markdown",
      "metadata": {
        "id": "0IRR9xZ7hums"
      },
      "source": [
        "### 16.7.2.2"
      ]
    },
    {
      "cell_type": "markdown",
      "metadata": {
        "id": "MjW37Ew9hvi_"
      },
      "source": [
        "Consider the set of undirected graphs $\\langle G \\rangle$ with a set of nodes $N$ and a set of edges $E \\subseteq N \\times N$ such that we can two-color the graph (meaning no two nodes connected by an edge have the same color).\n",
        "\n",
        "We can use a breadth-first search to color the graph by choosing a starting color for the first node then make every node connected to it the opposite color. Then go to those nodes and make every node connected to them the original color. From there switch colors back and forth but continue to branch out to uncolored nodes making them the opposite of what they are adjacent to."
      ]
    },
    {
      "cell_type": "markdown",
      "metadata": {
        "id": "IdS-nwwRhv5W"
      },
      "source": [
        "### 16.7.2.8"
      ]
    },
    {
      "cell_type": "markdown",
      "metadata": {
        "id": "o8MUWcafhwnM"
      },
      "source": [
        "A Hamiltonian cycle in a graph with respect to a given node $n$ is a tour that begins at $n$ and visits all other nodes exactly once, returning to $n$. In a 5-clique, how many distinct Hamiltonian cycles exist? How about in an $n$-clique?\n",
        "\n",
        "If the nodes are labeled, then there are $5!$ distinct Hamiltonian cycles in a 5-clique graph. If the nodes are not labeled, then there are only $4!$ distinct Hamiltonian cycles in a 5-clique graph. The same goes for an n-clique graph: There are $n!$ distinct Hamiltonian cycles in an $n$-clique graph if the nodes are labeled, and there are $(n-1)!$ distinct Hamiltonian cycles if they are not.\n",
        "\n",
        "My group thought it was important to make the distinction between whether the nodes were labeled. I, personally, do not think this matters. I think the number of distinct Hamiltonian cycles is always $(n-1)!$ as the first node chosen will not matter, just the links chosen afterwards."
      ]
    },
    {
      "cell_type": "markdown",
      "metadata": {
        "id": "Sdyg1GB3hxKu"
      },
      "source": [
        "### 16.7.2.9"
      ]
    },
    {
      "cell_type": "markdown",
      "metadata": {
        "id": "NuRLP4a_hx82"
      },
      "source": [
        "Define the language HalfClique to be the set of input encodings  ⟨G⟩  such that  G  is an undirected graph having a clique with at least  n/2  nodes, where  n  is the number of nodes in  G . Show that HalfClique is NPC. Hint: Mapping reduction from Clique.\n",
        "\n",
        "$\\{\\langle G \\rangle : G$ is an undirected graph having a clique with at least  n/2  nodes, where  n  is the number of nodes in  $G\\}$.\n",
        "\n",
        "To show that HalfClique is NPC, it just needs to be shown that HalfClique is in NP and in NP-Hard.\n",
        "\n",
        "It is obvious that it is NP because Clique is in NP.\n",
        "\n",
        "To show it is NP-Hard, Clique can be mapped to HalfClique which proves this because Clique is known to be NPC.\n",
        "\n",
        "Let $m$ be the number of nodes in a Clique graph and $k$ be the size of its clique.\n",
        "\n",
        "There are three scenarios that need to be proven able to map to HalfClique.\n",
        "\n",
        "$$k = m/2$$\n",
        "$$k < m/2$$\n",
        "$$k > m/2$$\n",
        "\n",
        "if $k = m/2$, no changes need to be made because it is already HalfClique.\n",
        "\n",
        "if $k < m/2$, then more nodes need to be added to the clique to bring it up to half. To do this we can add $m - 2k$ nodes. These new nodes should have vertices to all other nodes and among themselves.\n",
        "\n",
        "if $k > m/2$, then more nodes need to be added to the graph outside the clique to bring the ratio of clique to the rest of the graph down to half. Add $2k - m$ nodes to the graph but do not add any vertices to these nodes.\n",
        "\n",
        "That's it."
      ]
    },
    {
      "cell_type": "markdown",
      "metadata": {
        "id": "npHvn-zchyV8"
      },
      "source": [
        "### 16.7.2.10"
      ]
    },
    {
      "cell_type": "markdown",
      "metadata": {
        "id": "M_-j59EZh0xJ"
      },
      "source": [
        "The game of Sudoku has been shown to be in NPC. In practice, one can encode and solve Sudoku using SAT solvers. This is also a good way to understand the power of modern SAT solvers. Study the Sudoku solver (MIT license) written by Nicholas Pilkington at https://gist.github.com/nickponline/9c91fe65fef5b58ae1b0. Test it on the instance provided as well as a few that you create. Note: This solver will need Python2 (or you may adapt it for Python3)."
      ]
    },
    {
      "cell_type": "code",
      "metadata": {
        "colab": {
          "base_uri": "https://localhost:8080/"
        },
        "id": "WlPu-dSywBk5",
        "outputId": "ada99ebe-8265-4066-abc3-15fa16fd42fe"
      },
      "source": [
        "!pip install pycosat"
      ],
      "execution_count": 2,
      "outputs": [
        {
          "output_type": "stream",
          "text": [
            "Collecting pycosat\n",
            "\u001b[?25l  Downloading https://files.pythonhosted.org/packages/c0/fd/e38d68774c0a345b0090d608a90f1fbf423970d812f7ec7aef9ac024e648/pycosat-0.6.3.zip (66kB)\n",
            "\r\u001b[K     |█████                           | 10kB 15.1MB/s eta 0:00:01\r\u001b[K     |█████████▉                      | 20kB 20.2MB/s eta 0:00:01\r\u001b[K     |██████████████▊                 | 30kB 12.3MB/s eta 0:00:01\r\u001b[K     |███████████████████▋            | 40kB 9.4MB/s eta 0:00:01\r\u001b[K     |████████████████████████▌       | 51kB 8.0MB/s eta 0:00:01\r\u001b[K     |█████████████████████████████▍  | 61kB 8.2MB/s eta 0:00:01\r\u001b[K     |████████████████████████████████| 71kB 4.1MB/s \n",
            "\u001b[?25hBuilding wheels for collected packages: pycosat\n",
            "  Building wheel for pycosat (setup.py) ... \u001b[?25l\u001b[?25hdone\n",
            "  Created wheel for pycosat: filename=pycosat-0.6.3-cp37-cp37m-linux_x86_64.whl size=143809 sha256=3fdb7399c4eb93dab67af71d48d055c87230ca76fe0d4af496e9e0f359b0358c\n",
            "  Stored in directory: /root/.cache/pip/wheels/c4/67/ff/5570304e45814eccef48a3c69c3af25d0456ed3a34eddbbe38\n",
            "Successfully built pycosat\n",
            "Installing collected packages: pycosat\n",
            "Successfully installed pycosat-0.6.3\n"
          ],
          "name": "stdout"
        }
      ]
    },
    {
      "cell_type": "code",
      "metadata": {
        "colab": {
          "base_uri": "https://localhost:8080/"
        },
        "id": "I4FO4SUtwGTE",
        "outputId": "25589c34-c36c-435c-fe86-feec449fcc09"
      },
      "source": [
        "import pycosat\n",
        "\n",
        "N = 9\n",
        "M = 3\n",
        "\n",
        "def exactly_one(variables):\n",
        "    cnf = [ variables ]\n",
        "    n = len(variables)\n",
        "\n",
        "    for i in range(n):\n",
        "        for j in range(i+1, n):\n",
        "            v1 = variables[i]\n",
        "            v2 = variables[j]\n",
        "            cnf.append([-v1, -v2])\n",
        "\n",
        "    return cnf\n",
        "\n",
        "def transform(i, j, k):\n",
        "    return i*N*N + j*N + k + 1\n",
        "\n",
        "def inverse_transform(v):\n",
        "    v, k = divmod(v-1, N)\n",
        "    v, j = divmod(v, N)\n",
        "    v, i = divmod(v, N)\n",
        "    return i, j, k\n",
        "\n",
        "if __name__ == '__main__':\n",
        "    cnf = []\n",
        "\n",
        "    # Cell, row and column constraints\n",
        "    for i in range(N):\n",
        "        for s in range(N):\n",
        "            cnf = cnf + exactly_one([ transform(i, j, s) for j in range(N) ])\n",
        "            cnf = cnf + exactly_one([ transform(j, i, s) for j in range(N) ])\n",
        "\n",
        "        for j in range(N):\n",
        "            cnf = cnf + exactly_one([ transform(i, j, k) for k in range(N) ])\n",
        "\n",
        "    # Sub-matrix constraints\n",
        "    for k in range(N):\n",
        "        for x in range(M):\n",
        "            for y in range(M):\n",
        "                v = [ transform(y*M + i, x*M + j, k) for i in range(M) for j in range(M)]\n",
        "                cnf = cnf + exactly_one(v)\n",
        "\n",
        "    # See contribution from @GregoryMorse below\n",
        "    cnf = { frozenset(x) for x in cnf }\n",
        "    cnf = list(cnf)\n",
        "\n",
        "    # A 16-constraint Sudoku\n",
        "    constraints = [\n",
        "        (0, 3, 7),\n",
        "        (1, 0, 1),\n",
        "        (2, 3, 4),\n",
        "        (2, 4, 3),\n",
        "        (2, 6, 2),\n",
        "        (3, 8, 6),\n",
        "        (4, 3, 5),\n",
        "        (4, 5, 9),\n",
        "        (5, 6, 4),\n",
        "        (5, 7, 1),\n",
        "        (5, 8, 8),\n",
        "        (6, 4, 8),\n",
        "        (6, 5, 1),\n",
        "        (7, 2, 2),\n",
        "        (7, 7, 5),\n",
        "        (8, 1, 4),\n",
        "        (8, 6, 3),\n",
        "\n",
        "    ]\n",
        "\n",
        "    cnf = cnf + [[transform(z[0], z[1], z[2])-1] for z in constraints]\n",
        "\n",
        "    for solution in pycosat.itersolve(cnf):\n",
        "        X = [ inverse_transform(v) for v in solution if v > 0]\n",
        "        for i, cell in enumerate(sorted(X, key=lambda h: h[0] * N*N + h[1] * N)):\n",
        "            print(cell[2]+1, end=\" \")\n",
        "            if (i+1) % N == 0: print(\"\")"
      ],
      "execution_count": 3,
      "outputs": [
        {
          "output_type": "stream",
          "text": [
            "2 6 4 7 1 5 8 3 9 \n",
            "1 3 7 8 9 2 6 4 5 \n",
            "5 9 8 4 3 6 2 7 1 \n",
            "4 2 3 1 7 8 5 9 6 \n",
            "8 1 6 5 4 9 7 2 3 \n",
            "7 5 9 6 2 3 4 1 8 \n",
            "3 7 5 2 8 1 9 6 4 \n",
            "9 8 2 3 6 4 1 5 7 \n",
            "6 4 1 9 5 7 3 8 2 \n"
          ],
          "name": "stdout"
        }
      ]
    },
    {
      "cell_type": "code",
      "metadata": {
        "colab": {
          "base_uri": "https://localhost:8080/"
        },
        "id": "7TdchGQ2wyiN",
        "outputId": "f643669b-be2a-4476-ce64-55ba78c537b3"
      },
      "source": [
        "import pycosat\n",
        "\n",
        "N = 9\n",
        "M = 3\n",
        "\n",
        "def exactly_one(variables):\n",
        "    cnf = [ variables ]\n",
        "    n = len(variables)\n",
        "\n",
        "    for i in range(n):\n",
        "        for j in range(i+1, n):\n",
        "            v1 = variables[i]\n",
        "            v2 = variables[j]\n",
        "            cnf.append([-v1, -v2])\n",
        "\n",
        "    return cnf\n",
        "\n",
        "def transform(i, j, k):\n",
        "    return i*N*N + j*N + k + 1\n",
        "\n",
        "def inverse_transform(v):\n",
        "    v, k = divmod(v-1, N)\n",
        "    v, j = divmod(v, N)\n",
        "    v, i = divmod(v, N)\n",
        "    return i, j, k\n",
        "\n",
        "if __name__ == '__main__':\n",
        "    cnf = []\n",
        "\n",
        "    # Cell, row and column constraints\n",
        "    for i in range(N):\n",
        "        for s in range(N):\n",
        "            cnf = cnf + exactly_one([ transform(i, j, s) for j in range(N) ])\n",
        "            cnf = cnf + exactly_one([ transform(j, i, s) for j in range(N) ])\n",
        "\n",
        "        for j in range(N):\n",
        "            cnf = cnf + exactly_one([ transform(i, j, k) for k in range(N) ])\n",
        "\n",
        "    # Sub-matrix constraints\n",
        "    for k in range(N):\n",
        "        for x in range(M):\n",
        "            for y in range(M):\n",
        "                v = [ transform(y*M + i, x*M + j, k) for i in range(M) for j in range(M)]\n",
        "                cnf = cnf + exactly_one(v)\n",
        "\n",
        "    # See contribution from @GregoryMorse below\n",
        "    cnf = { frozenset(x) for x in cnf }\n",
        "    cnf = list(cnf)\n",
        "\n",
        "    # A 20-constraint Sudoku\n",
        "    constraints = [\n",
        "        (0, 6, 2),\n",
        "        (1, 1, 8),\n",
        "        (1, 5, 7),\n",
        "        (1, 7, 9),\n",
        "        (2, 0, 6),\n",
        "        (2, 2, 2),\n",
        "        (2, 6, 5),\n",
        "        (3, 1, 7),\n",
        "        (3, 4, 6),\n",
        "        (4, 3, 9),\n",
        "        (4, 5, 1),\n",
        "        (5, 4, 2),\n",
        "        (5, 7, 4),\n",
        "        (6, 2, 5),\n",
        "        (6, 6, 6),\n",
        "        (6, 8, 3),\n",
        "        (7, 1, 9),\n",
        "        (7, 3, 4),\n",
        "        (7, 7, 7),\n",
        "        (8, 2, 6)\n",
        "\n",
        "\n",
        "    ]\n",
        "\n",
        "    cnf = cnf + [[transform(z[0], z[1], z[2])-1] for z in constraints]\n",
        "\n",
        "    for solution in pycosat.itersolve(cnf):\n",
        "        X = [ inverse_transform(v) for v in solution if v > 0]\n",
        "        for i, cell in enumerate(sorted(X, key=lambda h: h[0] * N*N + h[1] * N)):\n",
        "            print(cell[2]+1, end=\" \")\n",
        "            if (i+1) % N == 0: print(\"\")"
      ],
      "execution_count": 4,
      "outputs": [
        {
          "output_type": "stream",
          "text": [
            "9 5 7 6 1 3 2 8 4 \n",
            "4 8 3 2 5 7 1 9 6 \n",
            "6 1 2 8 4 9 5 3 7 \n",
            "1 7 8 3 6 4 9 5 2 \n",
            "5 2 4 9 7 1 3 6 8 \n",
            "3 6 9 5 2 8 7 4 1 \n",
            "8 4 5 7 9 2 6 1 3 \n",
            "2 9 1 4 3 6 8 7 5 \n",
            "7 3 6 1 8 5 4 2 9 \n"
          ],
          "name": "stdout"
        }
      ]
    },
    {
      "cell_type": "markdown",
      "metadata": {
        "id": "0FEjXwMpiZF-"
      },
      "source": [
        "### 16.7.2.12"
      ]
    },
    {
      "cell_type": "markdown",
      "metadata": {
        "id": "fUWY-FGXiZF_"
      },
      "source": [
        "Show that a 3-CNF formula\n",
        "\n",
        "$$\\Phi = \\phi_0 \\land \\phi_1 \\land ... \\phi_i \\land \\phi_{(N-1)}$$\n",
        "is unsatisfiable if and only if for any variable assignment, there is one clause $\\phi_j$ with all the literals true and another clause $\\phi_k$ with all the literals false.\n",
        "\n",
        "A CNF is satisfiable if all clauses consider at least one variable consistent for at least one variable assignment. This means that it is only unsatisfiable if there is at least one clause that is inconsistent with each variable in each variable assignments. This makes the second part of the statement obviously true. For every variable assigment there has to be a \"$\\phi_k$ with all the literals false\".\n",
        "\n",
        "As for the first part, if there is a clause that is the complete opposite (everything inconsistent with) of every possible variable assignment, then it accounts for the negation of every possibility. The negation of every possibility is just every possibility in the reverse order (order does not matter but it illustrates a point).\n",
        "\n",
        "For example, every possible variable assignment with 3 variables:\n",
        "\n",
        "000 001 010 011 100 101 110 111\n",
        "\n",
        "It negated:\n",
        "\n",
        "111 110 101 100 011 010 001 000\n",
        "\n",
        "Still the same set.\n",
        "\n",
        "This shows that if there is a clause that has all false there will also be a clause with all true because it is needed to be inconsistent with the negation."
      ]
    },
    {
      "cell_type": "markdown",
      "metadata": {
        "id": "Ua6BlQDSicB_"
      },
      "source": [
        "## TODO Explore a Powerful Tool"
      ]
    },
    {
      "cell_type": "markdown",
      "metadata": {
        "id": "CzhO3COaikyu"
      },
      "source": [
        "Do the following NON-book exercise:"
      ]
    },
    {
      "cell_type": "markdown",
      "metadata": {
        "id": "PhRWte2iiw4I"
      },
      "source": [
        "SAT, while being NP-Complete, is a \"workhorse of a tool.\" This exercise asks you to get a taste of running the CryptoMinisat tool on a non-trivial SAT formula. Click on https://msoos.github.io/cryptominisat_web/ to access this tool. When it comes up, it has a prefilled formula. There is a Play button that you can click, whereupon it solves the SAT instance.\n",
        "\n",
        "This exercise asks you to replace this SAT instance with something bigger: specifically, the Pigeonhole problem (hole6.cnf) from: https://people.sc.fsu.edu/~jburkardt/data/cnf/cnf.html\n",
        "\n",
        "Just click the above link, get the hole6.cnf file, and plunk the CNF into the buffer.\n",
        "\n",
        "Hit Play and report on the execution time (you can just look at your phone's clock). If under 2 seconds, say \"negligible\" for your answer!\n",
        "\n",
        "How much time would such a problem take through brute-force enumeration of $2^n$ combinations on a computer that takes a microsecond per variable combination (the $n$ is the number of variables used in the Pigeonhole problem)? HINT: Here is how you read the contents of a CNF file:\n",
        "\n",
        "```\n",
        "c File:  hole6.cnf <--- these are comment lines - starts wth a \"C\"\n",
        "c...\n",
        "c\n",
        "p cnf 42 133\n",
        "-1     -7\n",
        "-1     -13\n",
        "...\n",
        "0 0\n",
        "<--- CRUCIAL !! Tells you there are 42 variables and 133 clauses\n",
        "<--- This line says (!x1 + !x7). The \"0\" is just end-of-a-clause marker!\n",
        "<--- This line says (!x1 + !x13)\n",
        " 12     11     10     9      8      7    0 <--- This clause reads\n",
        "                                          (x12 + x11 + x10 + x9 + x8 + x7)\n",
        "```\n",
        "\n",
        "Okay, now you have all the info you need to calculate the time it takes to enumerate $2^n$ combinations!!\n",
        "\n"
      ]
    },
    {
      "cell_type": "markdown",
      "metadata": {
        "id": "MVUe4b9dkd5n"
      },
      "source": [
        "Your (two-part) answer goes here.\n",
        "\n",
        "1. CryptoMinisat runtime: Negligible\n",
        "2. $2^n$ runtime estimation: $2^{42}$ microseconds which is 50.9033 days"
      ]
    },
    {
      "cell_type": "markdown",
      "metadata": {
        "id": "8Q8t6FsUkxwS"
      },
      "source": [
        "## TODO Read and Learn"
      ]
    },
    {
      "cell_type": "markdown",
      "metadata": {
        "id": "K5LVir0Yk0Ed"
      },
      "source": [
        "List six facts that you found interesting about Boolean SAT in these articles:\n",
        "\n",
        "https://cacm.acm.org/magazines/2009/8/34498-boolean-satisfiability-from-theoretical-hardness-to-practical-success/fulltext\n",
        "\n",
        "and\n",
        "\n",
        "https://en.wikipedia.org/wiki/Boolean_satisfiability_problem\n",
        "\n",
        "Anything that interested you is fine – theoretical or practical. Please write 1-2 sentences per point that interested you."
      ]
    },
    {
      "cell_type": "markdown",
      "metadata": {
        "id": "6j3A7t_5lMIF"
      },
      "source": [
        "The fact that the SAT has had such an impact on computation is amazing.\n",
        "\n",
        "\"Since the SAT problem is NP-complete, only algorithms with exponential worst-case complexity are known for it. In spite of this, efficient and scalable algorithms for SAT were developed during the 2000s and have contributed to dramatic advances in our ability to automatically solve problem instances involving tens of thousands of variables and millions of constraints (i.e. clauses).\" \n",
        "\n",
        "Creating a more efficient algorithm for these problems would better the world in so many ways.\n",
        "\n",
        "It is being used commercially in more areas.\n",
        "\n",
        "\"SAT was the first known NP-complete problem\""
      ]
    }
  ]
}