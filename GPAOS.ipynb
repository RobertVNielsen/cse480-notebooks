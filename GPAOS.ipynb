{
  "nbformat": 4,
  "nbformat_minor": 0,
  "metadata": {
    "colab": {
      "name": "GPAOS.ipynb",
      "provenance": [],
      "include_colab_link": true
    },
    "kernelspec": {
      "name": "python3",
      "display_name": "Python 3"
    },
    "language_info": {
      "name": "python"
    }
  },
  "cells": [
    {
      "cell_type": "markdown",
      "metadata": {
        "id": "view-in-github",
        "colab_type": "text"
      },
      "source": [
        "<a href=\"https://colab.research.google.com/github/RobertVNielsen/cse480-notebooks/blob/master/GPAOS.ipynb\" target=\"_parent\"><img src=\"https://colab.research.google.com/assets/colab-badge.svg\" alt=\"Open In Colab\"/></a>"
      ]
    },
    {
      "cell_type": "markdown",
      "metadata": {
        "id": "ppkAMT7f2_NO"
      },
      "source": [
        "The last few weeks I have been working on a Pascal's triangle variation with my friend that goes to BYU Provo.\n",
        "\n",
        "Dug deeper in Lambda Calculus.\n",
        "\n",
        "Tried to make a million dollars but instead went down a rabbit hole and convinced myself that all NP Complete problems are equivalent.\n",
        "\n",
        "Computational Complexity of Arranging Music\n",
        "\n"
      ]
    }
  ]
}