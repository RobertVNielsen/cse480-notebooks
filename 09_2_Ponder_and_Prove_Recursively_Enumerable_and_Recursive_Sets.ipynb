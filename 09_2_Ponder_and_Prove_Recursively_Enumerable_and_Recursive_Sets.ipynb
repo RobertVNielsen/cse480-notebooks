{
  "nbformat": 4,
  "nbformat_minor": 0,
  "metadata": {
    "colab": {
      "name": "09_2_Ponder_and_Prove_Recursively_Enumerable_and_Recursive_Sets.ipynb",
      "provenance": [],
      "include_colab_link": true
    },
    "kernelspec": {
      "name": "python3",
      "display_name": "Python 3"
    }
  },
  "cells": [
    {
      "cell_type": "markdown",
      "metadata": {
        "id": "view-in-github",
        "colab_type": "text"
      },
      "source": [
        "<a href=\"https://colab.research.google.com/github/RobertVNielsen/cse480-notebooks/blob/master/09_2_Ponder_and_Prove_Recursively_Enumerable_and_Recursive_Sets.ipynb\" target=\"_parent\"><img src=\"https://colab.research.google.com/assets/colab-badge.svg\" alt=\"Open In Colab\"/></a>"
      ]
    },
    {
      "cell_type": "markdown",
      "metadata": {
        "id": "KROWXw9EqAOY"
      },
      "source": [
        "# Ponder and Prove Recursively Enumerable and Recursive Sets\n",
        "## Due: Saturday, 27 February 2021, 11:59 pm"
      ]
    },
    {
      "cell_type": "markdown",
      "metadata": {
        "id": "uLXu2I4YqK2x"
      },
      "source": [
        "## TODO Exercise 14.4.1, RE and Recursive\n"
      ]
    },
    {
      "cell_type": "markdown",
      "metadata": {
        "id": "m7clQtUHqQDq"
      },
      "source": [
        "Do the first six parts only (we'll do part 7 in class together)."
      ]
    },
    {
      "cell_type": "markdown",
      "metadata": {
        "id": "ND770ZuCq5kG"
      },
      "source": [
        "1. Describe a decider to check whether the language of a given DFA $D$ is infinite."
      ]
    },
    {
      "cell_type": "markdown",
      "metadata": {
        "id": "MRG7nNwoq_qT"
      },
      "source": [
        "It needs to go through all combinations of paths that are available and look for a loop with an accept state within it.\n",
        "\n",
        "To accomplish that, it needs to remember every state it has been through. If it gets a repeat it needs to look for an accept state in its memory since the first time seeing that state."
      ]
    },
    {
      "cell_type": "markdown",
      "metadata": {
        "id": "5rVqkMA0kWFT"
      },
      "source": [
        "2. Describe a decider to check whether a linear bounded automaton $L$ working on an input $w$ will go into an infinite loop."
      ]
    },
    {
      "cell_type": "markdown",
      "metadata": {
        "id": "CzHz1MFfkWFY"
      },
      "source": [
        "It need to look for any repeats of state.\n",
        "\n",
        "To accomplish that, it will need to remember the string present in the automaton  and where in the tape the program is currently. If there is a repeat in both of those things then it is in an infinite loop."
      ]
    },
    {
      "cell_type": "markdown",
      "metadata": {
        "id": "PBAwrOrkkWk7"
      },
      "source": [
        "3. Describe an enumerator for the language $Halt_{TM}$ similar to how the enumerator for $A_{TM}$ was designed."
      ]
    },
    {
      "cell_type": "markdown",
      "metadata": {
        "id": "BNHY7u_0kWk8"
      },
      "source": [
        "Keep listing pairs (A, B) of strings from $\\Sigma$* on an “internal tape.”\n",
        "\n",
        "Keep checking whether A is a Turing machine description (e.g., our markdown language for the TM has a parser; one can run this parser and see if it accepts A). \n",
        " \n",
        "If so, A happens to be a Turing machine description.\n",
        "\n",
        "Run Turing machine A on B, treating B as its input. Again, do not run to completion; instead, engage in a dovetailed execution with all other TMs and inputs meanwhile being enumerated internally.\n",
        "\n",
        "When the dovetailed simulation finds an (A,B) pair such that A halts on B, it lists the (A, B) pair on the output tape.\n",
        "\n",
        "This listing will produce every (M,w) such that M halts on w. The difference between this and $A_{TM}$ is that halt includes rejecting.\n",
        "\n",
        "The existence of this enumerator means that $Halt_{TM}$ is RE."
      ]
    },
    {
      "cell_type": "markdown",
      "metadata": {
        "id": "8Jeqy8I_kWrR"
      },
      "source": [
        "4. Describe an enumerator for the language $\\overline{L_{UnivCFG}}$."
      ]
    },
    {
      "cell_type": "markdown",
      "metadata": {
        "id": "t9SwwfftkWrS"
      },
      "source": [
        "Keep listing pairs (M, G) from Σ* on an “internal tape.”\n",
        "\n",
        "Keep checking whether M is a Turing machine description (e.g., our markdown language for the TM has a parser; one can run this parser and see if it accepts M). \n",
        " \n",
        "If so, M happens to be a Turing machine description.\n",
        "\n",
        "Keep checking whether G is a grammar description.\n",
        "\n",
        "If so, G happens to be a grammar description.\n",
        "\n",
        "Run Turing machine M on G, treating G as its input. Again, do not run to completion; instead, engage in a dovetailed execution with all other TMs and inputs meanwhile being enumerated internally.\n",
        "\n",
        "When the dovetailed simulation finds an (M, G) pair such that M finds G to be a CFG, it lists the (M, G) pair on the output tape."
      ]
    },
    {
      "cell_type": "markdown",
      "metadata": {
        "id": "98rHo7ggkWwM"
      },
      "source": [
        "5. Describe a semi-decider for whether or not a grammar $G_{1}$ has a language that is not contained in the language of another grammar $G_{2}$. That is, we must be able to enumerate all such pairs\n",
        "$(G_{1}, G_{2})$ such that $L(G_{1}) \\not \\subseteq L(G_{2})$."
      ]
    },
    {
      "cell_type": "markdown",
      "metadata": {
        "id": "tGMfPWVSkWwN"
      },
      "source": [
        "Enumerate all strings on both $G_1$ and $G_2$.\n",
        "\n",
        "Compare every string in $G_1$ with every string in $G_2$.\n",
        "\n",
        "Everytime they are not thre same language, list them as a pair as output.\n",
        "\n",
        "This list is $L(G_{1}) \\not \\subseteq L(G_{2})$."
      ]
    },
    {
      "cell_type": "markdown",
      "metadata": {
        "id": "55N7qScokW2I"
      },
      "source": [
        "6. Suppose someone claims to have a decider for $L(G_{1}) \\subseteq L(G_{2})$. Demonstrate how to build a reduction proof from $UnivCFG$. Draw a diagram similar to Figure 14.1 explaining your proof."
      ]
    },
    {
      "cell_type": "markdown",
      "metadata": {
        "id": "EcOgH0dGhWXP"
      },
      "source": [
        "."
      ]
    },
    {
      "cell_type": "markdown",
      "metadata": {
        "id": "b1UH0-3-OPVA"
      },
      "source": [
        "What [...] is mathematics? The answer, it appears, is that any argument which is carried out with sufficient precision is mathematical, and the reason that your friends and ours cannot understand mathematics is not because they have no head for figures, but because they are unable to **achieve the degree of concentration required to follow a moderately involved sequence of inferences**.\n"
      ]
    },
    {
      "cell_type": "markdown",
      "metadata": {
        "id": "iPiO58ZohUMy"
      },
      "source": [
        "7. In 15.2.2, we will argue that $L_{AmbCFG}$ is not recursive. Assuming this result, argue that $\\overline{L_{AmbCFG}}$ is not RE.\n"
      ]
    },
    {
      "cell_type": "markdown",
      "metadata": {
        "id": "Y5s-HiojkW2J"
      },
      "source": [
        "Recall Theorem 14.2.3:\n",
        "\n",
        "If a language $L$ and its complement $\\overline{L}$ are both RE, then $L$ is recursive.\n",
        "\n",
        "We get to assume that $L_{AmbCFG}$ is not recursive.\n",
        "\n",
        "Therefore, by the contrapositive of the Theorem, we know that it is NOT the case that both \"$L_{AmbCFG}$ is RE\" and \"its complement $\\overline{L_{AmbCFG}}$ is RE\" can be true.\n",
        "\n",
        "By DeMorgan's Law we translate that into the equivalent statement:\n",
        "\n",
        "Either $L_{AmbCFG}$ is not RE, or $\\overline{L_{AmbCFG}}$ is not RE.\n",
        "\n",
        "In section 14.3.4 on pages 218 and 219, $L_{AmbCFG}$ is proven to be RE.\n",
        "\n",
        "Therefore, $\\overline{L_{AmbCFG}}$ must be the one that is not RE."
      ]
    }
  ]
}