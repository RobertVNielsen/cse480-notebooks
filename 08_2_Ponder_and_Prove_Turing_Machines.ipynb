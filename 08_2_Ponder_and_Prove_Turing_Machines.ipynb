{
  "nbformat": 4,
  "nbformat_minor": 0,
  "metadata": {
    "colab": {
      "name": "08_2_Ponder_and_Prove_Turing_Machines.ipynb",
      "provenance": []
    },
    "kernelspec": {
      "name": "python3",
      "display_name": "Python 3"
    }
  },
  "cells": [
    {
      "cell_type": "markdown",
      "metadata": {
        "id": "KROWXw9EqAOY"
      },
      "source": [
        "# Ponder and Prove Turing Machines\n",
        "## Due: Saturday, 27 February 2021, 11:59 pm"
      ]
    },
    {
      "cell_type": "code",
      "metadata": {
        "id": "V1U47yQNZCHQ",
        "outputId": "1e4af1cb-97b7-4e34-8815-878b0962a984",
        "colab": {
          "base_uri": "https://localhost:8080/"
        }
      },
      "source": [
        "import sys\r\n",
        "\r\n",
        "# -- Detect if in Own Install or in Colab\r\n",
        "try:\r\n",
        "    import google.colab\r\n",
        "    OWN_INSTALL = False\r\n",
        "except:\r\n",
        "    OWN_INSTALL = True\r\n",
        "    \r\n",
        "if OWN_INSTALL:\r\n",
        "  sys.path[0:0] = ['../../../../..',  '../../../../../3rdparty',  \r\n",
        "                   '../../../..',  '../../../../3rdparty',  \r\n",
        "                   '../../..',     '../../../3rdparty', \r\n",
        "                   '../..',        '../../3rdparty',\r\n",
        "                   '..',           '../3rdparty',\r\n",
        "                   '../Jove',      '../Jove/jove']\r\n",
        "\r\n",
        "else: # In colab\r\n",
        "  ! if [ ! -d Jove ]; then git clone https://github.com/ganeshutah/Jove Jove; fi\r\n",
        "  sys.path.append('./Jove')\r\n",
        "  sys.path.append('./Jove/jove')\r\n",
        "\r\n",
        "# -- common imports --\r\n",
        "from jove.Def_TM     import *\r\n",
        "from jove.Def_md2mc  import *\r\n",
        "from jove.DotBashers import *"
      ],
      "execution_count": 1,
      "outputs": [
        {
          "output_type": "stream",
          "text": [
            "Cloning into 'Jove'...\n",
            "remote: Enumerating objects: 4634, done.\u001b[K\n",
            "remote: Total 4634 (delta 0), reused 0 (delta 0), pack-reused 4634\u001b[K\n",
            "Receiving objects: 100% (4634/4634), 7.38 MiB | 25.87 MiB/s, done.\n",
            "Resolving deltas: 100% (3005/3005), done.\n",
            "You may use any of these help commands:\n",
            "help(step_tm)\n",
            "help(run_tm)\n",
            "help(explore_tm)\n",
            "\n",
            "You may use any of these help commands:\n",
            "help(md2mc)\n",
            ".. and if you want to dig more, then ..\n",
            "help(default_line_attr)\n",
            "help(length_ok_input_items)\n",
            "help(union_line_attr_list_fld)\n",
            "help(extend_rsltdict)\n",
            "help(form_delta)\n",
            "help(get_machine_components)\n",
            "\n",
            "You may use any of these help commands:\n",
            "help(ResetStNum)\n",
            "help(NxtStateStr)\n",
            "\n"
          ],
          "name": "stdout"
        }
      ]
    },
    {
      "cell_type": "markdown",
      "metadata": {
        "id": "uLXu2I4YqK2x"
      },
      "source": [
        "## TODO Study Examples"
      ]
    },
    {
      "cell_type": "markdown",
      "metadata": {
        "id": "m7clQtUHqQDq"
      },
      "source": [
        "In the folders\n",
        "\n",
        "Jove/For_CS3100_Fall2020/17_DTMs_and_NDTMs\n",
        "\n",
        "and \n",
        "\n",
        "Jove/For_CS3100_Fall2020/18_More_TM_Exs\n",
        "\n",
        "you will find many examples of Deterministic Turing Machines, and Nondeterministic Turing Machines. Study these carefully!"
      ]
    },
    {
      "cell_type": "markdown",
      "metadata": {
        "id": "ND770ZuCq5kG"
      },
      "source": [
        "## TODO Write a Summary"
      ]
    },
    {
      "cell_type": "markdown",
      "metadata": {
        "id": "MRG7nNwoq_qT"
      },
      "source": [
        "Describe what you learned about TMs of both varieties."
      ]
    },
    {
      "cell_type": "markdown",
      "metadata": {
        "id": "IZv2_MDnrkiY"
      },
      "source": [
        "## TODO Create a DTM to Delete a Character"
      ]
    },
    {
      "cell_type": "markdown",
      "metadata": {
        "id": "8CO727aIrrEi"
      },
      "source": [
        "This task is to delete a character from the tape string. Deleting the current symbol means transforming the tape from $x\\sigma y$ to $xy$ where $\\sigma$ is any symbol, including a blank, and $y$ is a string of nonblank symbols. Assume the input alphabet is $\\{a, b\\}$.\n",
        "\n",
        "HINT: Use a couple of states (labeled $q_a$ and $q_b$, say) for your TM to remember a symbol between the time it is erased and the time it is copied in the next square to the left. (The complete DTM requires about 6 states total, with 12 transitions.)\n"
      ]
    },
    {
      "cell_type": "code",
      "metadata": {
        "id": "VWtrsUQAZzIA",
        "outputId": "8725c44b-28ac-4af4-caf9-cdb46356fffd",
        "colab": {
          "base_uri": "https://localhost:8080/",
          "height": 196
        }
      },
      "source": [
        "deleteChar = md2mc('''\r\n",
        "TM \r\n",
        "\r\n",
        "I : a ; . , R -> Q0\r\n",
        "I : b ; . , R -> Q0\r\n",
        "I : . ; . , R -> Q0\r\n",
        "\r\n",
        "Q0 : a ; a , R -> Q0\r\n",
        "Q0 : b ; b , R -> Q0\r\n",
        "Q0 : . ; . , L -> Q1\r\n",
        "\r\n",
        "Q1 : a ; . , L -> Qa\r\n",
        "Q1 : b ; . , L -> Qb\r\n",
        "\r\n",
        "Qa : a ; a , L -> Qa\r\n",
        "Qa : b ; a , L -> Qb\r\n",
        "Qa : . ; a , L -> F\r\n",
        "\r\n",
        "Qb : a ; b , L -> Qa\r\n",
        "Qb : b ; b , L -> Qb\r\n",
        "Qb : . ; b , L -> F\r\n",
        "\r\n",
        "''')\r\n",
        "dotObj_tm(deleteChar, FuseEdges=True)"
      ],
      "execution_count": 21,
      "outputs": [
        {
          "output_type": "execute_result",
          "data": {
            "text/plain": [
              "<graphviz.dot.Digraph at 0x7f6cea55b150>"
            ],
            "image/svg+xml": "<?xml version=\"1.0\" encoding=\"UTF-8\" standalone=\"no\"?>\n<!DOCTYPE svg PUBLIC \"-//W3C//DTD SVG 1.1//EN\"\n \"http://www.w3.org/Graphics/SVG/1.1/DTD/svg11.dtd\">\n<!-- Generated by graphviz version 2.40.1 (20161225.0304)\n -->\n<!-- Title: %3 Pages: 1 -->\n<svg width=\"722pt\" height=\"131pt\"\n viewBox=\"0.00 0.00 722.38 131.20\" xmlns=\"http://www.w3.org/2000/svg\" xmlns:xlink=\"http://www.w3.org/1999/xlink\">\n<g id=\"graph0\" class=\"graph\" transform=\"scale(1 1) rotate(0) translate(4 127.1961)\">\n<title>%3</title>\n<polygon fill=\"#ffffff\" stroke=\"transparent\" points=\"-4,4 -4,-127.1961 718.3841,-127.1961 718.3841,4 -4,4\"/>\n<!-- EMPTY -->\n<g id=\"node1\" class=\"node\">\n<title>EMPTY</title>\n</g>\n<!-- I -->\n<g id=\"node5\" class=\"node\">\n<title>I</title>\n<ellipse fill=\"none\" stroke=\"#000000\" cx=\"109\" cy=\"-22.748\" rx=\"18\" ry=\"18\"/>\n<text text-anchor=\"middle\" x=\"109\" y=\"-19.048\" font-family=\"Times,serif\" font-size=\"14.00\" fill=\"#000000\">I</text>\n</g>\n<!-- EMPTY&#45;&gt;I -->\n<g id=\"edge1\" class=\"edge\">\n<title>EMPTY&#45;&gt;I</title>\n<path fill=\"none\" stroke=\"#000000\" d=\"M54.3048,-22.748C62.6909,-22.748 71.9407,-22.748 80.4103,-22.748\"/>\n<polygon fill=\"#000000\" stroke=\"#000000\" points=\"80.5976,-26.2481 90.5976,-22.748 80.5976,-19.2481 80.5976,-26.2481\"/>\n</g>\n<!-- Q0 -->\n<g id=\"node2\" class=\"node\">\n<title>Q0</title>\n<ellipse fill=\"none\" stroke=\"#000000\" cx=\"229.748\" cy=\"-22.748\" rx=\"22.9987\" ry=\"22.9987\"/>\n<text text-anchor=\"middle\" x=\"229.748\" y=\"-19.048\" font-family=\"Times,serif\" font-size=\"14.00\" fill=\"#000000\">Q0</text>\n</g>\n<!-- Q0&#45;&gt;Q0 -->\n<g id=\"edge3\" class=\"edge\">\n<title>Q0&#45;&gt;Q0</title>\n<path fill=\"none\" stroke=\"#000000\" d=\"M219.6171,-43.2948C218.0585,-53.9191 221.4355,-63.496 229.748,-63.496 235.2031,-63.496 238.5326,-59.3716 239.7365,-53.5334\"/>\n<polygon fill=\"#000000\" stroke=\"#000000\" points=\"243.2394,-53.3425 239.8788,-43.2948 236.2401,-53.2452 243.2394,-53.3425\"/>\n<text text-anchor=\"middle\" x=\"229.748\" y=\"-82.296\" font-family=\"Times,serif\" font-size=\"14.00\" fill=\"#000000\">a ; a,R </text>\n<text text-anchor=\"middle\" x=\"229.748\" y=\"-67.296\" font-family=\"Times,serif\" font-size=\"14.00\" fill=\"#000000\"> b ; b,R</text>\n</g>\n<!-- Q1 -->\n<g id=\"node6\" class=\"node\">\n<title>Q1</title>\n<ellipse fill=\"none\" stroke=\"#000000\" cx=\"343.2439\" cy=\"-22.748\" rx=\"22.9987\" ry=\"22.9987\"/>\n<text text-anchor=\"middle\" x=\"343.2439\" y=\"-19.048\" font-family=\"Times,serif\" font-size=\"14.00\" fill=\"#000000\">Q1</text>\n</g>\n<!-- Q0&#45;&gt;Q1 -->\n<g id=\"edge4\" class=\"edge\">\n<title>Q0&#45;&gt;Q1</title>\n<path fill=\"none\" stroke=\"#000000\" d=\"M252.7156,-22.748C269.253,-22.748 291.8081,-22.748 310.2672,-22.748\"/>\n<polygon fill=\"#000000\" stroke=\"#000000\" points=\"310.3105,-26.2481 320.3105,-22.748 310.3105,-19.2481 310.3105,-26.2481\"/>\n<text text-anchor=\"middle\" x=\"286.496\" y=\"-26.548\" font-family=\"Times,serif\" font-size=\"14.00\" fill=\"#000000\">. ; .,L</text>\n</g>\n<!-- Qa -->\n<g id=\"node3\" class=\"node\">\n<title>Qa</title>\n<ellipse fill=\"none\" stroke=\"#000000\" cx=\"457.44\" cy=\"-68.748\" rx=\"21.3963\" ry=\"21.3963\"/>\n<text text-anchor=\"middle\" x=\"457.44\" y=\"-65.048\" font-family=\"Times,serif\" font-size=\"14.00\" fill=\"#000000\">Qa</text>\n</g>\n<!-- Qa&#45;&gt;Qa -->\n<g id=\"edge7\" class=\"edge\">\n<title>Qa&#45;&gt;Qa</title>\n<path fill=\"none\" stroke=\"#000000\" d=\"M447.4425,-87.8254C445.5763,-98.4304 448.9088,-108.1961 457.44,-108.1961 463.0387,-108.1961 466.3984,-103.9903 467.5192,-98.1017\"/>\n<polygon fill=\"#000000\" stroke=\"#000000\" points=\"471.017,-97.7973 467.4376,-87.8254 464.0172,-97.8529 471.017,-97.7973\"/>\n<text text-anchor=\"middle\" x=\"457.44\" y=\"-111.9961\" font-family=\"Times,serif\" font-size=\"14.00\" fill=\"#000000\">a ; a,L</text>\n</g>\n<!-- Qb -->\n<g id=\"node4\" class=\"node\">\n<title>Qb</title>\n<ellipse fill=\"none\" stroke=\"#000000\" cx=\"575.6361\" cy=\"-27.748\" rx=\"22.9987\" ry=\"22.9987\"/>\n<text text-anchor=\"middle\" x=\"575.6361\" y=\"-24.048\" font-family=\"Times,serif\" font-size=\"14.00\" fill=\"#000000\">Qb</text>\n</g>\n<!-- Qa&#45;&gt;Qb -->\n<g id=\"edge8\" class=\"edge\">\n<title>Qa&#45;&gt;Qb</title>\n<path fill=\"none\" stroke=\"#000000\" d=\"M479.1582,-67.6269C495.0732,-66.2103 516.9391,-63.0041 534.8881,-55.748 539.8344,-53.7484 544.7809,-51.0692 549.436,-48.1582\"/>\n<polygon fill=\"#000000\" stroke=\"#000000\" points=\"551.6334,-50.8972 557.9518,-42.3925 547.7089,-45.1007 551.6334,-50.8972\"/>\n<text text-anchor=\"middle\" x=\"515.8881\" y=\"-69.548\" font-family=\"Times,serif\" font-size=\"14.00\" fill=\"#000000\">b ; a,L</text>\n</g>\n<!-- F -->\n<g id=\"node7\" class=\"node\">\n<title>F</title>\n<ellipse fill=\"none\" stroke=\"#000000\" cx=\"692.3841\" cy=\"-73.748\" rx=\"18\" ry=\"18\"/>\n<ellipse fill=\"none\" stroke=\"#000000\" cx=\"692.3841\" cy=\"-73.748\" rx=\"22\" ry=\"22\"/>\n<text text-anchor=\"middle\" x=\"692.3841\" y=\"-70.048\" font-family=\"Times,serif\" font-size=\"14.00\" fill=\"#000000\">F</text>\n</g>\n<!-- Qa&#45;&gt;F -->\n<g id=\"edge9\" class=\"edge\">\n<title>Qa&#45;&gt;F</title>\n<path fill=\"none\" stroke=\"#000000\" d=\"M477.1837,-77.8527C483.3827,-80.4116 490.3237,-82.9763 496.8881,-84.748 540.5742,-96.5384 553.3597,-97.2528 598.3841,-92.748 619.5326,-90.632 642.9633,-85.9018 661.1414,-81.6908\"/>\n<polygon fill=\"#000000\" stroke=\"#000000\" points=\"662.0003,-85.0842 670.9157,-79.36 660.3766,-78.2751 662.0003,-85.0842\"/>\n<text text-anchor=\"middle\" x=\"575.6361\" y=\"-99.548\" font-family=\"Times,serif\" font-size=\"14.00\" fill=\"#000000\">. ; a,L</text>\n</g>\n<!-- Qb&#45;&gt;Qa -->\n<g id=\"edge10\" class=\"edge\">\n<title>Qb&#45;&gt;Qa</title>\n<path fill=\"none\" stroke=\"#000000\" d=\"M552.7233,-27.0216C536.5358,-27.2952 514.6496,-29.2875 496.8881,-36.748 491.1587,-39.1546 485.5944,-42.661 480.5385,-46.4794\"/>\n<polygon fill=\"#000000\" stroke=\"#000000\" points=\"478.0515,-43.994 472.5704,-53.0608 482.5093,-49.391 478.0515,-43.994\"/>\n<text text-anchor=\"middle\" x=\"515.8881\" y=\"-40.548\" font-family=\"Times,serif\" font-size=\"14.00\" fill=\"#000000\">a ; b,L</text>\n</g>\n<!-- Qb&#45;&gt;Qb -->\n<g id=\"edge11\" class=\"edge\">\n<title>Qb&#45;&gt;Qb</title>\n<path fill=\"none\" stroke=\"#000000\" d=\"M565.1434,-48.2948C563.5292,-58.9191 567.0267,-68.496 575.6361,-68.496 581.286,-68.496 584.7344,-64.3716 585.9814,-58.5334\"/>\n<polygon fill=\"#000000\" stroke=\"#000000\" points=\"589.4844,-58.3442 586.1288,-48.2948 582.4851,-58.2434 589.4844,-58.3442\"/>\n<text text-anchor=\"middle\" x=\"575.6361\" y=\"-72.296\" font-family=\"Times,serif\" font-size=\"14.00\" fill=\"#000000\">b ; b,L</text>\n</g>\n<!-- Qb&#45;&gt;F -->\n<g id=\"edge12\" class=\"edge\">\n<title>Qb&#45;&gt;F</title>\n<path fill=\"none\" stroke=\"#000000\" d=\"M597.0495,-36.1851C615.3786,-43.407 641.9667,-53.883 662.4102,-61.938\"/>\n<polygon fill=\"#000000\" stroke=\"#000000\" points=\"661.3025,-65.2633 671.8895,-65.6729 663.8687,-58.7506 661.3025,-65.2633\"/>\n<text text-anchor=\"middle\" x=\"634.3841\" y=\"-61.548\" font-family=\"Times,serif\" font-size=\"14.00\" fill=\"#000000\">. ; b,L</text>\n</g>\n<!-- I&#45;&gt;Q0 -->\n<g id=\"edge2\" class=\"edge\">\n<title>I&#45;&gt;Q0</title>\n<path fill=\"none\" stroke=\"#000000\" d=\"M127.0772,-22.748C145.3654,-22.748 174.0592,-22.748 196.469,-22.748\"/>\n<polygon fill=\"#000000\" stroke=\"#000000\" points=\"196.5771,-26.2481 206.5771,-22.748 196.577,-19.2481 196.5771,-26.2481\"/>\n<text text-anchor=\"middle\" x=\"167\" y=\"-56.548\" font-family=\"Times,serif\" font-size=\"14.00\" fill=\"#000000\">. ; .,R </text>\n<text text-anchor=\"middle\" x=\"167\" y=\"-41.548\" font-family=\"Times,serif\" font-size=\"14.00\" fill=\"#000000\"> b ; .,R </text>\n<text text-anchor=\"middle\" x=\"167\" y=\"-26.548\" font-family=\"Times,serif\" font-size=\"14.00\" fill=\"#000000\"> a ; .,R</text>\n</g>\n<!-- Q1&#45;&gt;Qa -->\n<g id=\"edge5\" class=\"edge\">\n<title>Q1&#45;&gt;Qa</title>\n<path fill=\"none\" stroke=\"#000000\" d=\"M364.4557,-31.2924C382.3337,-38.4939 408.1052,-48.8751 427.9846,-56.8829\"/>\n<polygon fill=\"#000000\" stroke=\"#000000\" points=\"426.9059,-60.2216 437.4894,-60.7116 429.5214,-53.7286 426.9059,-60.2216\"/>\n<text text-anchor=\"middle\" x=\"400.9919\" y=\"-56.548\" font-family=\"Times,serif\" font-size=\"14.00\" fill=\"#000000\">a ; .,L</text>\n</g>\n<!-- Q1&#45;&gt;Qb -->\n<g id=\"edge6\" class=\"edge\">\n<title>Q1&#45;&gt;Qb</title>\n<path fill=\"none\" stroke=\"#000000\" d=\"M366.2684,-22.4649C402.2674,-22.1405 474.0614,-21.9679 534.8881,-24.748 537.4302,-24.8642 540.0601,-25.0067 542.7032,-25.1659\"/>\n<polygon fill=\"#000000\" stroke=\"#000000\" points=\"542.5936,-28.6663 552.8051,-25.8423 543.0612,-21.682 542.5936,-28.6663\"/>\n<text text-anchor=\"middle\" x=\"457.44\" y=\"-27.548\" font-family=\"Times,serif\" font-size=\"14.00\" fill=\"#000000\">b ; .,L</text>\n</g>\n</g>\n</svg>\n"
          },
          "metadata": {
            "tags": []
          },
          "execution_count": 21
        }
      ]
    },
    {
      "cell_type": "code",
      "metadata": {
        "id": "01Wqldexdb5u",
        "outputId": "86f59590-159f-4b97-af16-b1c73376066a",
        "colab": {
          "base_uri": "https://localhost:8080/"
        }
      },
      "source": [
        "explore_tm(deleteChar, \"baabab\", 100)"
      ],
      "execution_count": 25,
      "outputs": [
        {
          "output_type": "stream",
          "text": [
            "Allocating  8  tape cells to the RIGHT!\n",
            "Allocating  8  tape cells to the LEFT!\n",
            "Detailing the halted configs now.\n",
            "Accepted at  ('F', 7, '........aabab.........', 87)\n",
            " via .. \n",
            " ->('I', 0, 'baabab', 100)\n",
            " ->('Q0', 1, '.aabab', 99)\n",
            " ->('Q0', 2, '.aabab', 98)\n",
            " ->('Q0', 3, '.aabab', 97)\n",
            " ->('Q0', 4, '.aabab', 96)\n",
            " ->('Q0', 5, '.aabab', 95)\n",
            " ->('Q0', 6, '.aabab', 94)\n",
            " ->('Q1', 5, '.aabab........', 93)\n",
            " ->('Qb', 4, '.aaba.........', 92)\n",
            " ->('Qa', 3, '.aabb.........', 91)\n",
            " ->('Qb', 2, '.aaab.........', 90)\n",
            " ->('Qa', 1, '.abab.........', 89)\n",
            " ->('Qa', 0, '.abab.........', 88)\n",
            " ->('F', 7, '........aabab.........', 87)\n"
          ],
          "name": "stdout"
        }
      ]
    },
    {
      "cell_type": "markdown",
      "metadata": {
        "id": "FmWSlviOsUC7"
      },
      "source": [
        "## TODO Create a DTM to Insert a Character"
      ]
    },
    {
      "cell_type": "markdown",
      "metadata": {
        "id": "jA2pQpkJsdXS"
      },
      "source": [
        "This task is the opposite of the first one, namely, to insert a character into the tape string. Inserting the symbol $\\sigma$ is done virtually the same way as deleting, except that the single pass goes from left to right, symbols are moved to the right instead of to the left, and the move that starts things off writes $\\sigma$ instead of a blank.\n"
      ]
    },
    {
      "cell_type": "code",
      "metadata": {
        "id": "wRLH4oDlhIdg",
        "outputId": "1d0e86b3-1fed-4b58-ba94-86730e5b4632",
        "colab": {
          "base_uri": "https://localhost:8080/",
          "height": 224
        }
      },
      "source": [
        "insertChar = md2mc('''\r\n",
        "TM \r\n",
        "\r\n",
        "I : a ; σ , R -> Qa\r\n",
        "I : b ; σ , R -> Qb\r\n",
        "I : . ; σ , R -> F\r\n",
        "\r\n",
        "Qa : a ; a , R -> Qa\r\n",
        "Qa : b ; a , R -> Qb\r\n",
        "Qa : . ; a , R -> F\r\n",
        "\r\n",
        "Qb : a ; b , R -> Qa\r\n",
        "Qb : b ; b , R -> Qb\r\n",
        "Qb : . ; b , R -> F\r\n",
        "\r\n",
        "''')\r\n",
        "dotObj_tm(insertChar, FuseEdges=True)"
      ],
      "execution_count": 30,
      "outputs": [
        {
          "output_type": "execute_result",
          "data": {
            "text/plain": [
              "<graphviz.dot.Digraph at 0x7f6cea2107d0>"
            ],
            "image/svg+xml": "<?xml version=\"1.0\" encoding=\"UTF-8\" standalone=\"no\"?>\n<!DOCTYPE svg PUBLIC \"-//W3C//DTD SVG 1.1//EN\"\n \"http://www.w3.org/Graphics/SVG/1.1/DTD/svg11.dtd\">\n<!-- Generated by graphviz version 2.40.1 (20161225.0304)\n -->\n<!-- Title: %3 Pages: 1 -->\n<svg width=\"489pt\" height=\"152pt\"\n viewBox=\"0.00 0.00 489.39 151.65\" xmlns=\"http://www.w3.org/2000/svg\" xmlns:xlink=\"http://www.w3.org/1999/xlink\">\n<g id=\"graph0\" class=\"graph\" transform=\"scale(1 1) rotate(0) translate(4 147.6536)\">\n<title>%3</title>\n<polygon fill=\"#ffffff\" stroke=\"transparent\" points=\"-4,4 -4,-147.6536 485.3922,-147.6536 485.3922,4 -4,4\"/>\n<!-- EMPTY -->\n<g id=\"node1\" class=\"node\">\n<title>EMPTY</title>\n</g>\n<!-- I -->\n<g id=\"node3\" class=\"node\">\n<title>I</title>\n<ellipse fill=\"none\" stroke=\"#000000\" cx=\"109\" cy=\"-23.9057\" rx=\"18\" ry=\"18\"/>\n<text text-anchor=\"middle\" x=\"109\" y=\"-20.2057\" font-family=\"Times,serif\" font-size=\"14.00\" fill=\"#000000\">I</text>\n</g>\n<!-- EMPTY&#45;&gt;I -->\n<g id=\"edge1\" class=\"edge\">\n<title>EMPTY&#45;&gt;I</title>\n<path fill=\"none\" stroke=\"#000000\" d=\"M54.3048,-23.9057C62.6909,-23.9057 71.9407,-23.9057 80.4103,-23.9057\"/>\n<polygon fill=\"#000000\" stroke=\"#000000\" points=\"80.5976,-27.4058 90.5976,-23.9057 80.5976,-20.4058 80.5976,-27.4058\"/>\n</g>\n<!-- Qb -->\n<g id=\"node2\" class=\"node\">\n<title>Qb</title>\n<ellipse fill=\"none\" stroke=\"#000000\" cx=\"225.748\" cy=\"-87.9057\" rx=\"22.9987\" ry=\"22.9987\"/>\n<text text-anchor=\"middle\" x=\"225.748\" y=\"-84.2057\" font-family=\"Times,serif\" font-size=\"14.00\" fill=\"#000000\">Qb</text>\n</g>\n<!-- Qb&#45;&gt;Qb -->\n<g id=\"edge9\" class=\"edge\">\n<title>Qb&#45;&gt;Qb</title>\n<path fill=\"none\" stroke=\"#000000\" d=\"M214.9622,-108.0326C213.1293,-118.8231 216.7245,-128.6536 225.748,-128.6536 231.6696,-128.6536 235.2535,-124.42 236.4997,-118.4597\"/>\n<polygon fill=\"#000000\" stroke=\"#000000\" points=\"240.001,-118.044 236.5338,-108.0326 233.0011,-118.0211 240.001,-118.044\"/>\n<text text-anchor=\"middle\" x=\"225.748\" y=\"-132.4536\" font-family=\"Times,serif\" font-size=\"14.00\" fill=\"#000000\">b ; b,R</text>\n</g>\n<!-- Qa -->\n<g id=\"node4\" class=\"node\">\n<title>Qa</title>\n<ellipse fill=\"none\" stroke=\"#000000\" cx=\"344.9441\" cy=\"-34.9057\" rx=\"21.3963\" ry=\"21.3963\"/>\n<text text-anchor=\"middle\" x=\"344.9441\" y=\"-31.2057\" font-family=\"Times,serif\" font-size=\"14.00\" fill=\"#000000\">Qa</text>\n</g>\n<!-- Qb&#45;&gt;Qa -->\n<g id=\"edge8\" class=\"edge\">\n<title>Qb&#45;&gt;Qa</title>\n<path fill=\"none\" stroke=\"#000000\" d=\"M241.947,-71.4411C248.9677,-65.1316 257.6086,-58.381 266.496,-53.9057 280.9988,-46.6026 298.445,-42.0181 313.1988,-39.1873\"/>\n<polygon fill=\"#000000\" stroke=\"#000000\" points=\"314.1297,-42.5782 323.3853,-37.4223 312.9346,-35.681 314.1297,-42.5782\"/>\n<text text-anchor=\"middle\" x=\"285.996\" y=\"-57.7057\" font-family=\"Times,serif\" font-size=\"14.00\" fill=\"#000000\">a ; b,R</text>\n</g>\n<!-- F -->\n<g id=\"node5\" class=\"node\">\n<title>F</title>\n<ellipse fill=\"none\" stroke=\"#000000\" cx=\"459.3922\" cy=\"-34.9057\" rx=\"18\" ry=\"18\"/>\n<ellipse fill=\"none\" stroke=\"#000000\" cx=\"459.3922\" cy=\"-34.9057\" rx=\"22\" ry=\"22\"/>\n<text text-anchor=\"middle\" x=\"459.3922\" y=\"-31.2057\" font-family=\"Times,serif\" font-size=\"14.00\" fill=\"#000000\">F</text>\n</g>\n<!-- Qb&#45;&gt;F -->\n<g id=\"edge10\" class=\"edge\">\n<title>Qb&#45;&gt;F</title>\n<path fill=\"none\" stroke=\"#000000\" d=\"M246.9235,-97.3031C253.1092,-99.6056 259.9651,-101.7418 266.496,-102.9057 310.2603,-110.705 324.4633,-112.6746 366.3922,-97.9057 392,-88.8856 417.2598,-71.0443 434.9766,-56.6438\"/>\n<polygon fill=\"#000000\" stroke=\"#000000\" points=\"437.61,-59.0043 443.0366,-49.9046 433.1198,-53.6341 437.61,-59.0043\"/>\n<text text-anchor=\"middle\" x=\"344.9441\" y=\"-111.7057\" font-family=\"Times,serif\" font-size=\"14.00\" fill=\"#000000\">. ; b,R</text>\n</g>\n<!-- I&#45;&gt;Qb -->\n<g id=\"edge3\" class=\"edge\">\n<title>I&#45;&gt;Qb</title>\n<path fill=\"none\" stroke=\"#000000\" d=\"M125.2333,-32.8046C143.736,-42.9476 174.3336,-59.7209 196.9185,-72.1016\"/>\n<polygon fill=\"#000000\" stroke=\"#000000\" points=\"195.2933,-75.2021 205.7447,-76.9401 198.6583,-69.0639 195.2933,-75.2021\"/>\n<text text-anchor=\"middle\" x=\"165\" y=\"-68.7057\" font-family=\"Times,serif\" font-size=\"14.00\" fill=\"#000000\">b ; σ,R</text>\n</g>\n<!-- I&#45;&gt;Qa -->\n<g id=\"edge2\" class=\"edge\">\n<title>I&#45;&gt;Qa</title>\n<path fill=\"none\" stroke=\"#000000\" d=\"M127.1224,-24.7506C167.0336,-26.6113 262.9505,-31.083 313.1304,-33.4225\"/>\n<polygon fill=\"#000000\" stroke=\"#000000\" points=\"313.2451,-36.9315 323.3973,-33.9011 313.5712,-29.9391 313.2451,-36.9315\"/>\n<text text-anchor=\"middle\" x=\"225.748\" y=\"-33.7057\" font-family=\"Times,serif\" font-size=\"14.00\" fill=\"#000000\">a ; σ,R</text>\n</g>\n<!-- I&#45;&gt;F -->\n<g id=\"edge4\" class=\"edge\">\n<title>I&#45;&gt;F</title>\n<path fill=\"none\" stroke=\"#000000\" d=\"M126.5911,-19.8487C168.414,-10.802 276.98,9.1588 366.3922,-4.9057 388.027,-8.3088 411.4912,-15.9085 429.4382,-22.6069\"/>\n<polygon fill=\"#000000\" stroke=\"#000000\" points=\"428.2045,-25.8822 438.7945,-26.2031 430.716,-19.3483 428.2045,-25.8822\"/>\n<text text-anchor=\"middle\" x=\"285.996\" y=\"-4.7057\" font-family=\"Times,serif\" font-size=\"14.00\" fill=\"#000000\">. ; σ,R</text>\n</g>\n<!-- Qa&#45;&gt;Qb -->\n<g id=\"edge6\" class=\"edge\">\n<title>Qa&#45;&gt;Qb</title>\n<path fill=\"none\" stroke=\"#000000\" d=\"M331.2498,-52.0319C324.3176,-59.5716 315.299,-67.848 305.496,-72.9057 291.1901,-80.2865 273.767,-84.0669 258.8596,-85.9905\"/>\n<polygon fill=\"#000000\" stroke=\"#000000\" points=\"258.1041,-82.551 248.5298,-87.0879 258.8437,-89.5118 258.1041,-82.551\"/>\n<text text-anchor=\"middle\" x=\"285.996\" y=\"-87.7057\" font-family=\"Times,serif\" font-size=\"14.00\" fill=\"#000000\">b ; a,R</text>\n</g>\n<!-- Qa&#45;&gt;Qa -->\n<g id=\"edge5\" class=\"edge\">\n<title>Qa&#45;&gt;Qa</title>\n<path fill=\"none\" stroke=\"#000000\" d=\"M334.9465,-53.9831C333.0803,-64.588 336.4128,-74.3538 344.9441,-74.3538 350.5427,-74.3538 353.9024,-70.148 355.0232,-64.2594\"/>\n<polygon fill=\"#000000\" stroke=\"#000000\" points=\"358.521,-63.9549 354.9416,-53.9831 351.5212,-64.0106 358.521,-63.9549\"/>\n<text text-anchor=\"middle\" x=\"344.9441\" y=\"-78.1538\" font-family=\"Times,serif\" font-size=\"14.00\" fill=\"#000000\">a ; a,R</text>\n</g>\n<!-- Qa&#45;&gt;F -->\n<g id=\"edge7\" class=\"edge\">\n<title>Qa&#45;&gt;F</title>\n<path fill=\"none\" stroke=\"#000000\" d=\"M366.4709,-34.9057C383.5167,-34.9057 407.5987,-34.9057 426.9752,-34.9057\"/>\n<polygon fill=\"#000000\" stroke=\"#000000\" points=\"427.1813,-38.4058 437.1812,-34.9057 427.1812,-31.4058 427.1813,-38.4058\"/>\n<text text-anchor=\"middle\" x=\"401.8922\" y=\"-38.7057\" font-family=\"Times,serif\" font-size=\"14.00\" fill=\"#000000\">. ; a,R</text>\n</g>\n</g>\n</svg>\n"
          },
          "metadata": {
            "tags": []
          },
          "execution_count": 30
        }
      ]
    },
    {
      "cell_type": "code",
      "metadata": {
        "id": "OsJ7tKMJhMGj",
        "outputId": "ae93eebb-82dd-4f80-ee57-02b500cb2f73",
        "colab": {
          "base_uri": "https://localhost:8080/"
        }
      },
      "source": [
        "explore_tm(insertChar, \"baabab\", 100)"
      ],
      "execution_count": 31,
      "outputs": [
        {
          "output_type": "stream",
          "text": [
            "Allocating  8  tape cells to the RIGHT!\n",
            "Detailing the halted configs now.\n",
            "Accepted at  ('F', 7, 'σbaabab.......', 93)\n",
            " via .. \n",
            " ->('I', 0, 'baabab', 100)\n",
            " ->('Qb', 1, 'σaabab', 99)\n",
            " ->('Qa', 2, 'σbabab', 98)\n",
            " ->('Qa', 3, 'σbabab', 97)\n",
            " ->('Qb', 4, 'σbaaab', 96)\n",
            " ->('Qa', 5, 'σbaabb', 95)\n",
            " ->('Qb', 6, 'σbaaba', 94)\n",
            " ->('F', 7, 'σbaabab.......', 93)\n"
          ],
          "name": "stdout"
        }
      ]
    },
    {
      "cell_type": "markdown",
      "metadata": {
        "id": "rgOacLFksrEm"
      },
      "source": [
        "## TODO Create a DTM to Copy a String"
      ]
    },
    {
      "cell_type": "markdown",
      "metadata": {
        "id": "Iw2WYYVPsuqJ"
      },
      "source": [
        "Let $\\sqcup$ represent the blank symbol. A *Copy* DTM starts with tape $\\sqcup\\ x$ where $x$ is a string of nonblank symbols, and ends up with $\\sqcup\\ x \\sqcup x$. Again, assume the input alphabet is $\\{a, b\\}$.\n",
        "\n",
        "HINT: This DTM requires about 10 states, and not quite double that many transitions."
      ]
    },
    {
      "cell_type": "code",
      "metadata": {
        "id": "XAxqJrhFjLrv",
        "outputId": "daad4f25-8163-415d-87f5-5fb631673239",
        "colab": {
          "base_uri": "https://localhost:8080/",
          "height": 574
        }
      },
      "source": [
        "copyString = md2mc('''\r\n",
        "TM \r\n",
        "\r\n",
        "I : ⊔ ; ⊔ , R -> Q0\r\n",
        "\r\n",
        "Q0 : a ; a , R -> Q0\r\n",
        "Q0 : b ; b , R -> Q0\r\n",
        "Q0 : . ; ⊔ , L -> Q1\r\n",
        "\r\n",
        "Q1 : a ; a , L -> Q1\r\n",
        "Q1 : b ; b , L -> Q1\r\n",
        "Q1 : ⊔ ; ⊔ , R -> Q2\r\n",
        "\r\n",
        "Q2 : a ; . , R -> Q2a\r\n",
        "Q2 : b ; . , R -> Q2b\r\n",
        "Q2 : ⊔ ; ⊔ , R -> F\r\n",
        "\r\n",
        "Q2a : a ; a , R -> Q2a\r\n",
        "Q2a : b ; b , R -> Q2a\r\n",
        "Q2a : ⊔ ; ⊔ , R -> Q2a\r\n",
        "Q2a : . ; a , L -> Q3a\r\n",
        "\r\n",
        "Q2b : a ; a , R -> Q2b\r\n",
        "Q2b : b ; b , R -> Q2b\r\n",
        "Q2b : ⊔ ; ⊔ , R -> Q2b\r\n",
        "Q2b : . ; b , L -> Q3b\r\n",
        "\r\n",
        "Q3a : a ; a , L -> Q3a\r\n",
        "Q3a : b ; b , L -> Q3a\r\n",
        "Q3a : ⊔ ; ⊔ , L -> Q3a\r\n",
        "Q3a : . ; a , R -> Q2\r\n",
        "\r\n",
        "Q3b : a ; a , L -> Q3b\r\n",
        "Q3b : b ; b , L -> Q3b\r\n",
        "Q3b : ⊔ ; ⊔ , L -> Q3b\r\n",
        "Q3b : . ; b , R -> Q2\r\n",
        "\r\n",
        "''')\r\n",
        "dotObj_tm(copyString, FuseEdges=True)"
      ],
      "execution_count": 59,
      "outputs": [
        {
          "output_type": "execute_result",
          "data": {
            "text/plain": [
              "<graphviz.dot.Digraph at 0x7f6cea57e550>"
            ],
            "image/svg+xml": "<?xml version=\"1.0\" encoding=\"UTF-8\" standalone=\"no\"?>\n<!DOCTYPE svg PUBLIC \"-//W3C//DTD SVG 1.1//EN\"\n \"http://www.w3.org/Graphics/SVG/1.1/DTD/svg11.dtd\">\n<!-- Generated by graphviz version 2.40.1 (20161225.0304)\n -->\n<!-- Title: %3 Pages: 1 -->\n<svg width=\"804pt\" height=\"415pt\"\n viewBox=\"0.00 0.00 804.38 415.23\" xmlns=\"http://www.w3.org/2000/svg\" xmlns:xlink=\"http://www.w3.org/1999/xlink\">\n<g id=\"graph0\" class=\"graph\" transform=\"scale(1 1) rotate(0) translate(4 411.2277)\">\n<title>%3</title>\n<polygon fill=\"#ffffff\" stroke=\"transparent\" points=\"-4,4 -4,-411.2277 800.3806,-411.2277 800.3806,4 -4,4\"/>\n<!-- EMPTY -->\n<g id=\"node1\" class=\"node\">\n<title>EMPTY</title>\n</g>\n<!-- I -->\n<g id=\"node5\" class=\"node\">\n<title>I</title>\n<ellipse fill=\"none\" stroke=\"#000000\" cx=\"109\" cy=\"-119.5801\" rx=\"18\" ry=\"18\"/>\n<text text-anchor=\"middle\" x=\"109\" y=\"-115.8801\" font-family=\"Times,serif\" font-size=\"14.00\" fill=\"#000000\">I</text>\n</g>\n<!-- EMPTY&#45;&gt;I -->\n<g id=\"edge1\" class=\"edge\">\n<title>EMPTY&#45;&gt;I</title>\n<path fill=\"none\" stroke=\"#000000\" d=\"M54.3048,-119.5801C62.6909,-119.5801 71.9407,-119.5801 80.4103,-119.5801\"/>\n<polygon fill=\"#000000\" stroke=\"#000000\" points=\"80.5976,-123.0802 90.5976,-119.5801 80.5976,-116.0802 80.5976,-123.0802\"/>\n</g>\n<!-- Q2a -->\n<g id=\"node2\" class=\"node\">\n<title>Q2a</title>\n<ellipse fill=\"none\" stroke=\"#000000\" cx=\"639.7855\" cy=\"-254.5801\" rx=\"26.7961\" ry=\"26.7961\"/>\n<text text-anchor=\"middle\" x=\"639.7855\" y=\"-250.8801\" font-family=\"Times,serif\" font-size=\"14.00\" fill=\"#000000\">Q2a</text>\n</g>\n<!-- Q2a&#45;&gt;Q2a -->\n<g id=\"edge10\" class=\"edge\">\n<title>Q2a&#45;&gt;Q2a</title>\n<path fill=\"none\" stroke=\"#000000\" d=\"M628.3421,-278.9204C627.2523,-289.8098 631.0667,-299.2277 639.7855,-299.2277 645.5071,-299.2277 649.1167,-295.1718 650.6142,-289.3057\"/>\n<polygon fill=\"#000000\" stroke=\"#000000\" points=\"654.1318,-289.1098 651.2288,-278.9204 647.1441,-288.6961 654.1318,-289.1098\"/>\n<text text-anchor=\"middle\" x=\"639.7855\" y=\"-333.0277\" font-family=\"Times,serif\" font-size=\"14.00\" fill=\"#000000\">a ; a,R </text>\n<text text-anchor=\"middle\" x=\"639.7855\" y=\"-318.0277\" font-family=\"Times,serif\" font-size=\"14.00\" fill=\"#000000\"> b ; b,R </text>\n<text text-anchor=\"middle\" x=\"639.7855\" y=\"-303.0277\" font-family=\"Times,serif\" font-size=\"14.00\" fill=\"#000000\"> ⊔ ; ⊔,R</text>\n</g>\n<!-- Q3a -->\n<g id=\"node6\" class=\"node\">\n<title>Q3a</title>\n<ellipse fill=\"none\" stroke=\"#000000\" cx=\"766.3806\" cy=\"-317.5801\" rx=\"26.7961\" ry=\"26.7961\"/>\n<text text-anchor=\"middle\" x=\"766.3806\" y=\"-313.8801\" font-family=\"Times,serif\" font-size=\"14.00\" fill=\"#000000\">Q3a</text>\n</g>\n<!-- Q2a&#45;&gt;Q3a -->\n<g id=\"edge11\" class=\"edge\">\n<title>Q2a&#45;&gt;Q3a</title>\n<path fill=\"none\" stroke=\"#000000\" d=\"M663.895,-266.5782C683.5174,-276.3432 711.4233,-290.2306 733.162,-301.0488\"/>\n<polygon fill=\"#000000\" stroke=\"#000000\" points=\"731.8488,-304.3047 742.3608,-305.6266 734.9675,-298.0378 731.8488,-304.3047\"/>\n<text text-anchor=\"middle\" x=\"703.083\" y=\"-296.3801\" font-family=\"Times,serif\" font-size=\"14.00\" fill=\"#000000\">. ; a,L</text>\n</g>\n<!-- Q2b -->\n<g id=\"node3\" class=\"node\">\n<title>Q2b</title>\n<ellipse fill=\"none\" stroke=\"#000000\" cx=\"639.7855\" cy=\"-119.5801\" rx=\"27.0966\" ry=\"27.0966\"/>\n<text text-anchor=\"middle\" x=\"639.7855\" y=\"-115.8801\" font-family=\"Times,serif\" font-size=\"14.00\" fill=\"#000000\">Q2b</text>\n</g>\n<!-- Q2b&#45;&gt;Q2b -->\n<g id=\"edge12\" class=\"edge\">\n<title>Q2b&#45;&gt;Q2b</title>\n<path fill=\"none\" stroke=\"#000000\" d=\"M628.2995,-144.7342C627.3592,-155.5862 631.1878,-164.8776 639.7855,-164.8776 645.4277,-164.8776 649.016,-160.8762 650.5506,-155.0581\"/>\n<polygon fill=\"#000000\" stroke=\"#000000\" points=\"654.0663,-154.9537 651.2714,-144.7342 647.0833,-154.4661 654.0663,-154.9537\"/>\n<text text-anchor=\"middle\" x=\"639.7855\" y=\"-198.6776\" font-family=\"Times,serif\" font-size=\"14.00\" fill=\"#000000\">a ; a,R </text>\n<text text-anchor=\"middle\" x=\"639.7855\" y=\"-183.6776\" font-family=\"Times,serif\" font-size=\"14.00\" fill=\"#000000\"> b ; b,R </text>\n<text text-anchor=\"middle\" x=\"639.7855\" y=\"-168.6776\" font-family=\"Times,serif\" font-size=\"14.00\" fill=\"#000000\"> ⊔ ; ⊔,R</text>\n</g>\n<!-- Q3b -->\n<g id=\"node9\" class=\"node\">\n<title>Q3b</title>\n<ellipse fill=\"none\" stroke=\"#000000\" cx=\"766.3806\" cy=\"-36.5801\" rx=\"27.0966\" ry=\"27.0966\"/>\n<text text-anchor=\"middle\" x=\"766.3806\" y=\"-32.8801\" font-family=\"Times,serif\" font-size=\"14.00\" fill=\"#000000\">Q3b</text>\n</g>\n<!-- Q2b&#45;&gt;Q3b -->\n<g id=\"edge13\" class=\"edge\">\n<title>Q2b&#45;&gt;Q3b</title>\n<path fill=\"none\" stroke=\"#000000\" d=\"M662.7109,-104.5494C682.8397,-91.3523 712.3169,-72.026 734.6985,-57.3519\"/>\n<polygon fill=\"#000000\" stroke=\"#000000\" points=\"736.7541,-60.1894 743.198,-51.7794 732.916,-54.3354 736.7541,-60.1894\"/>\n<text text-anchor=\"middle\" x=\"703.083\" y=\"-91.3801\" font-family=\"Times,serif\" font-size=\"14.00\" fill=\"#000000\">. ; b,L</text>\n</g>\n<!-- Q0 -->\n<g id=\"node4\" class=\"node\">\n<title>Q0</title>\n<ellipse fill=\"none\" stroke=\"#000000\" cx=\"239.748\" cy=\"-119.5801\" rx=\"22.9987\" ry=\"22.9987\"/>\n<text text-anchor=\"middle\" x=\"239.748\" y=\"-115.8801\" font-family=\"Times,serif\" font-size=\"14.00\" fill=\"#000000\">Q0</text>\n</g>\n<!-- Q0&#45;&gt;Q0 -->\n<g id=\"edge3\" class=\"edge\">\n<title>Q0&#45;&gt;Q0</title>\n<path fill=\"none\" stroke=\"#000000\" d=\"M228.6026,-139.707C226.7086,-150.4975 230.4238,-160.328 239.748,-160.328 245.867,-160.328 249.5704,-156.0944 250.8581,-150.1341\"/>\n<polygon fill=\"#000000\" stroke=\"#000000\" points=\"254.3595,-149.7188 250.8933,-139.707 247.3595,-149.6951 254.3595,-149.7188\"/>\n<text text-anchor=\"middle\" x=\"239.748\" y=\"-179.128\" font-family=\"Times,serif\" font-size=\"14.00\" fill=\"#000000\">a ; a,R </text>\n<text text-anchor=\"middle\" x=\"239.748\" y=\"-164.128\" font-family=\"Times,serif\" font-size=\"14.00\" fill=\"#000000\"> b ; b,R</text>\n</g>\n<!-- Q1 -->\n<g id=\"node8\" class=\"node\">\n<title>Q1</title>\n<ellipse fill=\"none\" stroke=\"#000000\" cx=\"364.2439\" cy=\"-119.5801\" rx=\"22.9987\" ry=\"22.9987\"/>\n<text text-anchor=\"middle\" x=\"364.2439\" y=\"-115.8801\" font-family=\"Times,serif\" font-size=\"14.00\" fill=\"#000000\">Q1</text>\n</g>\n<!-- Q0&#45;&gt;Q1 -->\n<g id=\"edge4\" class=\"edge\">\n<title>Q0&#45;&gt;Q1</title>\n<path fill=\"none\" stroke=\"#000000\" d=\"M262.5825,-119.5801C281.766,-119.5801 309.4335,-119.5801 331.0631,-119.5801\"/>\n<polygon fill=\"#000000\" stroke=\"#000000\" points=\"331.1327,-123.0802 341.1326,-119.5801 331.1326,-116.0802 331.1327,-123.0802\"/>\n<text text-anchor=\"middle\" x=\"301.996\" y=\"-123.3801\" font-family=\"Times,serif\" font-size=\"14.00\" fill=\"#000000\">. ; ⊔,L</text>\n</g>\n<!-- I&#45;&gt;Q0 -->\n<g id=\"edge2\" class=\"edge\">\n<title>I&#45;&gt;Q0</title>\n<path fill=\"none\" stroke=\"#000000\" d=\"M127.1799,-119.5801C147.6865,-119.5801 181.4589,-119.5801 206.6716,-119.5801\"/>\n<polygon fill=\"#000000\" stroke=\"#000000\" points=\"206.8893,-123.0802 216.8893,-119.5801 206.8893,-116.0802 206.8893,-123.0802\"/>\n<text text-anchor=\"middle\" x=\"172\" y=\"-123.3801\" font-family=\"Times,serif\" font-size=\"14.00\" fill=\"#000000\">⊔ ; ⊔,R</text>\n</g>\n<!-- Q3a&#45;&gt;Q3a -->\n<g id=\"edge14\" class=\"edge\">\n<title>Q3a&#45;&gt;Q3a</title>\n<path fill=\"none\" stroke=\"#000000\" d=\"M754.9373,-341.9204C753.8474,-352.8098 757.6619,-362.2277 766.3806,-362.2277 772.1023,-362.2277 775.7119,-358.1718 777.2093,-352.3057\"/>\n<polygon fill=\"#000000\" stroke=\"#000000\" points=\"780.727,-352.1098 777.824,-341.9204 773.7392,-351.6961 780.727,-352.1098\"/>\n<text text-anchor=\"middle\" x=\"766.3806\" y=\"-396.0277\" font-family=\"Times,serif\" font-size=\"14.00\" fill=\"#000000\">b ; b,L </text>\n<text text-anchor=\"middle\" x=\"766.3806\" y=\"-381.0277\" font-family=\"Times,serif\" font-size=\"14.00\" fill=\"#000000\"> ⊔ ; ⊔,L </text>\n<text text-anchor=\"middle\" x=\"766.3806\" y=\"-366.0277\" font-family=\"Times,serif\" font-size=\"14.00\" fill=\"#000000\"> a ; a,L</text>\n</g>\n<!-- Q2 -->\n<g id=\"node7\" class=\"node\">\n<title>Q2</title>\n<ellipse fill=\"none\" stroke=\"#000000\" cx=\"499.7399\" cy=\"-119.5801\" rx=\"22.9987\" ry=\"22.9987\"/>\n<text text-anchor=\"middle\" x=\"499.7399\" y=\"-115.8801\" font-family=\"Times,serif\" font-size=\"14.00\" fill=\"#000000\">Q2</text>\n</g>\n<!-- Q3a&#45;&gt;Q2 -->\n<g id=\"edge15\" class=\"edge\">\n<title>Q3a&#45;&gt;Q2</title>\n<path fill=\"none\" stroke=\"#000000\" d=\"M744.0152,-332.3563C712.6822,-351.025 654.8156,-377.9484 612.4879,-353.5801 539.3941,-311.4995 512.9229,-206.0057 503.965,-152.218\"/>\n<polygon fill=\"#000000\" stroke=\"#000000\" points=\"507.3992,-151.5243 502.3983,-142.184 500.483,-152.6043 507.3992,-151.5243\"/>\n<text text-anchor=\"middle\" x=\"639.7855\" y=\"-366.3801\" font-family=\"Times,serif\" font-size=\"14.00\" fill=\"#000000\">. ; a,R</text>\n</g>\n<!-- Q2&#45;&gt;Q2a -->\n<g id=\"edge7\" class=\"edge\">\n<title>Q2&#45;&gt;Q2a</title>\n<path fill=\"none\" stroke=\"#000000\" d=\"M516.3549,-135.5965C540.2988,-158.6777 584.755,-201.5323 613.2693,-229.0192\"/>\n<polygon fill=\"#000000\" stroke=\"#000000\" points=\"610.877,-231.5745 620.5056,-235.9948 615.7351,-226.5348 610.877,-231.5745\"/>\n<text text-anchor=\"middle\" x=\"567.4879\" y=\"-214.3801\" font-family=\"Times,serif\" font-size=\"14.00\" fill=\"#000000\">a ; .,R</text>\n</g>\n<!-- Q2&#45;&gt;Q2b -->\n<g id=\"edge8\" class=\"edge\">\n<title>Q2&#45;&gt;Q2b</title>\n<path fill=\"none\" stroke=\"#000000\" d=\"M522.5523,-119.5801C544.0787,-119.5801 576.7472,-119.5801 602.1355,-119.5801\"/>\n<polygon fill=\"#000000\" stroke=\"#000000\" points=\"602.1666,-123.0802 612.1666,-119.5801 602.1666,-116.0802 602.1666,-123.0802\"/>\n<text text-anchor=\"middle\" x=\"567.4879\" y=\"-123.3801\" font-family=\"Times,serif\" font-size=\"14.00\" fill=\"#000000\">b ; .,R</text>\n</g>\n<!-- F -->\n<g id=\"node10\" class=\"node\">\n<title>F</title>\n<ellipse fill=\"none\" stroke=\"#000000\" cx=\"639.7855\" cy=\"-52.5801\" rx=\"18\" ry=\"18\"/>\n<ellipse fill=\"none\" stroke=\"#000000\" cx=\"639.7855\" cy=\"-52.5801\" rx=\"22\" ry=\"22\"/>\n<text text-anchor=\"middle\" x=\"639.7855\" y=\"-48.8801\" font-family=\"Times,serif\" font-size=\"14.00\" fill=\"#000000\">F</text>\n</g>\n<!-- Q2&#45;&gt;F -->\n<g id=\"edge9\" class=\"edge\">\n<title>Q2&#45;&gt;F</title>\n<path fill=\"none\" stroke=\"#000000\" d=\"M520.4041,-109.694C544.1215,-98.3472 583.2103,-79.6465 610.1622,-66.7523\"/>\n<polygon fill=\"#000000\" stroke=\"#000000\" points=\"611.9815,-69.7619 619.4918,-62.2889 608.9605,-63.4473 611.9815,-69.7619\"/>\n<text text-anchor=\"middle\" x=\"567.4879\" y=\"-103.3801\" font-family=\"Times,serif\" font-size=\"14.00\" fill=\"#000000\">⊔ ; ⊔,R</text>\n</g>\n<!-- Q1&#45;&gt;Q2 -->\n<g id=\"edge6\" class=\"edge\">\n<title>Q1&#45;&gt;Q2</title>\n<path fill=\"none\" stroke=\"#000000\" d=\"M387.229,-119.5801C408.9332,-119.5801 441.7319,-119.5801 466.3255,-119.5801\"/>\n<polygon fill=\"#000000\" stroke=\"#000000\" points=\"466.6421,-123.0802 476.6421,-119.5801 466.6421,-116.0802 466.6421,-123.0802\"/>\n<text text-anchor=\"middle\" x=\"431.9919\" y=\"-123.3801\" font-family=\"Times,serif\" font-size=\"14.00\" fill=\"#000000\">⊔ ; ⊔,R</text>\n</g>\n<!-- Q1&#45;&gt;Q1 -->\n<g id=\"edge5\" class=\"edge\">\n<title>Q1&#45;&gt;Q1</title>\n<path fill=\"none\" stroke=\"#000000\" d=\"M353.0986,-139.707C351.2046,-150.4975 354.9197,-160.328 364.2439,-160.328 370.363,-160.328 374.0663,-156.0944 375.3541,-150.1341\"/>\n<polygon fill=\"#000000\" stroke=\"#000000\" points=\"378.8554,-149.7188 375.3893,-139.707 371.8555,-149.6951 378.8554,-149.7188\"/>\n<text text-anchor=\"middle\" x=\"364.2439\" y=\"-179.128\" font-family=\"Times,serif\" font-size=\"14.00\" fill=\"#000000\">b ; b,L </text>\n<text text-anchor=\"middle\" x=\"364.2439\" y=\"-164.128\" font-family=\"Times,serif\" font-size=\"14.00\" fill=\"#000000\"> a ; a,L</text>\n</g>\n<!-- Q3b&#45;&gt;Q2 -->\n<g id=\"edge17\" class=\"edge\">\n<title>Q3b&#45;&gt;Q2</title>\n<path fill=\"none\" stroke=\"#000000\" d=\"M741.9728,-23.816C711.0357,-9.4277 656.4428,9.9353 612.4879,-6.5801 570.5858,-22.3241 536.6761,-63.1842 517.3537,-91.1998\"/>\n<polygon fill=\"#000000\" stroke=\"#000000\" points=\"514.2538,-89.5389 511.6012,-99.7963 520.0715,-93.4319 514.2538,-89.5389\"/>\n<text text-anchor=\"middle\" x=\"639.7855\" y=\"-10.3801\" font-family=\"Times,serif\" font-size=\"14.00\" fill=\"#000000\">. ; b,R</text>\n</g>\n<!-- Q3b&#45;&gt;Q3b -->\n<g id=\"edge16\" class=\"edge\">\n<title>Q3b&#45;&gt;Q3b</title>\n<path fill=\"none\" stroke=\"#000000\" d=\"M754.8947,-61.7342C753.9543,-72.5862 757.783,-81.8776 766.3806,-81.8776 772.0228,-81.8776 775.6112,-77.8762 777.1457,-72.0581\"/>\n<polygon fill=\"#000000\" stroke=\"#000000\" points=\"780.6615,-71.9537 777.8666,-61.7342 773.6785,-71.4661 780.6615,-71.9537\"/>\n<text text-anchor=\"middle\" x=\"766.3806\" y=\"-115.6776\" font-family=\"Times,serif\" font-size=\"14.00\" fill=\"#000000\">b ; b,L </text>\n<text text-anchor=\"middle\" x=\"766.3806\" y=\"-100.6776\" font-family=\"Times,serif\" font-size=\"14.00\" fill=\"#000000\"> ⊔ ; ⊔,L </text>\n<text text-anchor=\"middle\" x=\"766.3806\" y=\"-85.6776\" font-family=\"Times,serif\" font-size=\"14.00\" fill=\"#000000\"> a ; a,L</text>\n</g>\n</g>\n</svg>\n"
          },
          "metadata": {
            "tags": []
          },
          "execution_count": 59
        }
      ]
    },
    {
      "cell_type": "code",
      "metadata": {
        "id": "87ijKVrJjPL8",
        "outputId": "7df61155-e7e9-425d-b2fd-8a0e3a1c5380",
        "colab": {
          "base_uri": "https://localhost:8080/"
        }
      },
      "source": [
        "explore_tm(copyString, \"⊔bab\", 100)"
      ],
      "execution_count": 60,
      "outputs": [
        {
          "output_type": "stream",
          "text": [
            "Allocating  8  tape cells to the RIGHT!\n",
            "Detailing the halted configs now.\n",
            "Accepted at  ('F', 5, '⊔bab⊔bab....', 63)\n",
            " via .. \n",
            " ->('I', 0, '⊔bab', 100)\n",
            " ->('Q0', 1, '⊔bab', 99)\n",
            " ->('Q0', 2, '⊔bab', 98)\n",
            " ->('Q0', 3, '⊔bab', 97)\n",
            " ->('Q0', 4, '⊔bab', 96)\n",
            " ->('Q1', 3, '⊔bab⊔.......', 95)\n",
            " ->('Q1', 2, '⊔bab⊔.......', 94)\n",
            " ->('Q1', 1, '⊔bab⊔.......', 93)\n",
            " ->('Q1', 0, '⊔bab⊔.......', 92)\n",
            " ->('Q2', 1, '⊔bab⊔.......', 91)\n",
            " ->('Q2b', 2, '⊔.ab⊔.......', 90)\n",
            " ->('Q2b', 3, '⊔.ab⊔.......', 89)\n",
            " ->('Q2b', 4, '⊔.ab⊔.......', 88)\n",
            " ->('Q2b', 5, '⊔.ab⊔.......', 87)\n",
            " ->('Q3b', 4, '⊔.ab⊔b......', 86)\n",
            " ->('Q3b', 3, '⊔.ab⊔b......', 85)\n",
            " ->('Q3b', 2, '⊔.ab⊔b......', 84)\n",
            " ->('Q3b', 1, '⊔.ab⊔b......', 83)\n",
            " ->('Q2', 2, '⊔bab⊔b......', 82)\n",
            " ->('Q2a', 3, '⊔b.b⊔b......', 81)\n",
            " ->('Q2a', 4, '⊔b.b⊔b......', 80)\n",
            " ->('Q2a', 5, '⊔b.b⊔b......', 79)\n",
            " ->('Q2a', 6, '⊔b.b⊔b......', 78)\n",
            " ->('Q3a', 5, '⊔b.b⊔ba.....', 77)\n",
            " ->('Q3a', 4, '⊔b.b⊔ba.....', 76)\n",
            " ->('Q3a', 3, '⊔b.b⊔ba.....', 75)\n",
            " ->('Q3a', 2, '⊔b.b⊔ba.....', 74)\n",
            " ->('Q2', 3, '⊔bab⊔ba.....', 73)\n",
            " ->('Q2b', 4, '⊔ba.⊔ba.....', 72)\n",
            " ->('Q2b', 5, '⊔ba.⊔ba.....', 71)\n",
            " ->('Q2b', 6, '⊔ba.⊔ba.....', 70)\n",
            " ->('Q2b', 7, '⊔ba.⊔ba.....', 69)\n",
            " ->('Q3b', 6, '⊔ba.⊔bab....', 68)\n",
            " ->('Q3b', 5, '⊔ba.⊔bab....', 67)\n",
            " ->('Q3b', 4, '⊔ba.⊔bab....', 66)\n",
            " ->('Q3b', 3, '⊔ba.⊔bab....', 65)\n",
            " ->('Q2', 4, '⊔bab⊔bab....', 64)\n",
            " ->('F', 5, '⊔bab⊔bab....', 63)\n"
          ],
          "name": "stdout"
        }
      ]
    },
    {
      "cell_type": "markdown",
      "metadata": {
        "id": "sTNke7j5t9D6"
      },
      "source": [
        "## TODO Refresh Your Knowledge of the 3x+1 Conjecture"
      ]
    },
    {
      "cell_type": "markdown",
      "metadata": {
        "id": "NpXXTnxMuN8t"
      },
      "source": [
        "The code on page 200 does the 3x+1 Conjecture testing recursively:"
      ]
    },
    {
      "cell_type": "code",
      "metadata": {
        "id": "8E-aZBdbuCo5",
        "outputId": "dbbfa68a-b785-4b97-9665-5fa4ff08bed8",
        "colab": {
          "base_uri": "https://localhost:8080/"
        }
      },
      "source": [
        "def tep1(x):\n",
        "    if (x==1):\n",
        "        return 1\n",
        "    elif (x%2 == 0):\n",
        "        return tep1(x/2)\n",
        "    else:\n",
        "        return tep1(3*x+1)\n",
        "\n",
        "print(tep1(3))\n",
        "print(tep1(191))\n",
        "print(tep1(19192949297080))\n",
        "print(tep1(191929492970809272397923472398492839482))\n",
        "print(tep1(191929492970809272397923472398492839482938492))"
      ],
      "execution_count": 61,
      "outputs": [
        {
          "output_type": "stream",
          "text": [
            "1\n",
            "1\n",
            "1\n",
            "1\n",
            "1\n"
          ],
          "name": "stdout"
        }
      ]
    },
    {
      "cell_type": "markdown",
      "metadata": {
        "id": "4zkYEg08uZju"
      },
      "source": [
        "Two Python techniques --- \"memoizing\" and \"listifying\" --- make for faster code:"
      ]
    },
    {
      "cell_type": "code",
      "metadata": {
        "id": "er7VN37Au07d",
        "outputId": "c095bdcb-6da3-44db-e650-1ca71c9a556c",
        "colab": {
          "base_uri": "https://localhost:8080/"
        }
      },
      "source": [
        "def memoize(func):\n",
        "    results = {}\n",
        "    def inner(i):\n",
        "        if not i in results:\n",
        "            results[i] = func(i)\n",
        "        return results[i]\n",
        "    return inner\n",
        "\n",
        "def listify(func):\n",
        "    def inner(x):\n",
        "        return list(func(x))\n",
        "    return inner\n",
        "\n",
        "@memoize\n",
        "def tep1(x):\n",
        "    return 1 if x == 2 else tep1(x/2) if x%2 == 0 else tep1(3*x+1)\n",
        "\n",
        "@listify\n",
        "def tepmany(x):\n",
        "    for i in range(1, x+1):\n",
        "        yield tep1(i)\n",
        "\n",
        "print(max(tepmany(100000)))"
      ],
      "execution_count": 62,
      "outputs": [
        {
          "output_type": "stream",
          "text": [
            "1\n"
          ],
          "name": "stdout"
        }
      ]
    },
    {
      "cell_type": "markdown",
      "metadata": {
        "id": "0QX5geEMvvcw"
      },
      "source": [
        "# TODO Modify a NON-Trivial Turing Machine Program"
      ]
    },
    {
      "cell_type": "markdown",
      "metadata": {
        "id": "3TemaqVUv1MI"
      },
      "source": [
        "The Turing machine program on page 202 performs the continuing 3x+1 transformation on an input that is a binary number. So for example if the\n",
        "initial tape has\n",
        "\n",
        "$11$\n",
        "\n",
        "which is the binary representation of the decimal number three, the final tape\n",
        "will have\n",
        "\n",
        "$1$\n",
        "\n",
        "on it.\n",
        "\n",
        "Modify the program so that a trace of all intermediate results appears on the output tape, e.g.:\n",
        "\n",
        "$11*1010*101*10000*1000*100*10*1$\n",
        "\n",
        "which separates with a star the binary representations of the numbers in the\n",
        "continuing 3x+1 transformation from 3 to 10 to 5 to 16 to 8 to 4 to 2 to 1.\n"
      ]
    }
  ]
}