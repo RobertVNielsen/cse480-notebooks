{
  "nbformat": 4,
  "nbformat_minor": 0,
  "metadata": {
    "colab": {
      "name": "08_2_Ponder_and_Prove_Turing_Machines.ipynb",
      "provenance": []
    },
    "kernelspec": {
      "name": "python3",
      "display_name": "Python 3"
    }
  },
  "cells": [
    {
      "cell_type": "markdown",
      "metadata": {
        "id": "KROWXw9EqAOY"
      },
      "source": [
        "# Ponder and Prove Turing Machines\n",
        "## Due: Saturday, 27 February 2021, 11:59 pm"
      ]
    },
    {
      "cell_type": "code",
      "metadata": {
        "id": "V1U47yQNZCHQ",
        "colab": {
          "base_uri": "https://localhost:8080/"
        },
        "outputId": "2c83ec57-271c-48d5-8abb-e4360e548166"
      },
      "source": [
        "import sys\r\n",
        "\r\n",
        "# -- Detect if in Own Install or in Colab\r\n",
        "try:\r\n",
        "    import google.colab\r\n",
        "    OWN_INSTALL = False\r\n",
        "except:\r\n",
        "    OWN_INSTALL = True\r\n",
        "    \r\n",
        "if OWN_INSTALL:\r\n",
        "  sys.path[0:0] = ['../../../../..',  '../../../../../3rdparty',  \r\n",
        "                   '../../../..',  '../../../../3rdparty',  \r\n",
        "                   '../../..',     '../../../3rdparty', \r\n",
        "                   '../..',        '../../3rdparty',\r\n",
        "                   '..',           '../3rdparty',\r\n",
        "                   '../Jove',      '../Jove/jove']\r\n",
        "\r\n",
        "else: # In colab\r\n",
        "  ! if [ ! -d Jove ]; then git clone https://github.com/ganeshutah/Jove Jove; fi\r\n",
        "  sys.path.append('./Jove')\r\n",
        "  sys.path.append('./Jove/jove')\r\n",
        "\r\n",
        "# -- common imports --\r\n",
        "from jove.Def_TM     import *\r\n",
        "from jove.Def_md2mc  import *\r\n",
        "from jove.DotBashers import *"
      ],
      "execution_count": 1,
      "outputs": [
        {
          "output_type": "stream",
          "text": [
            "Cloning into 'Jove'...\n",
            "remote: Enumerating objects: 4634, done.\u001b[K\n",
            "remote: Total 4634 (delta 0), reused 0 (delta 0), pack-reused 4634\u001b[K\n",
            "Receiving objects: 100% (4634/4634), 7.38 MiB | 24.52 MiB/s, done.\n",
            "Resolving deltas: 100% (3005/3005), done.\n",
            "You may use any of these help commands:\n",
            "help(step_tm)\n",
            "help(run_tm)\n",
            "help(explore_tm)\n",
            "\n",
            "You may use any of these help commands:\n",
            "help(md2mc)\n",
            ".. and if you want to dig more, then ..\n",
            "help(default_line_attr)\n",
            "help(length_ok_input_items)\n",
            "help(union_line_attr_list_fld)\n",
            "help(extend_rsltdict)\n",
            "help(form_delta)\n",
            "help(get_machine_components)\n",
            "\n",
            "You may use any of these help commands:\n",
            "help(ResetStNum)\n",
            "help(NxtStateStr)\n",
            "\n"
          ],
          "name": "stdout"
        }
      ]
    },
    {
      "cell_type": "markdown",
      "metadata": {
        "id": "uLXu2I4YqK2x"
      },
      "source": [
        "## TODO Study Examples"
      ]
    },
    {
      "cell_type": "markdown",
      "metadata": {
        "id": "m7clQtUHqQDq"
      },
      "source": [
        "In the folders\n",
        "\n",
        "Jove/For_CS3100_Fall2020/17_DTMs_and_NDTMs\n",
        "\n",
        "and \n",
        "\n",
        "Jove/For_CS3100_Fall2020/18_More_TM_Exs\n",
        "\n",
        "you will find many examples of Deterministic Turing Machines, and Nondeterministic Turing Machines. Study these carefully!"
      ]
    },
    {
      "cell_type": "markdown",
      "metadata": {
        "id": "ND770ZuCq5kG"
      },
      "source": [
        "## TODO Write a Summary"
      ]
    },
    {
      "cell_type": "markdown",
      "metadata": {
        "id": "MRG7nNwoq_qT"
      },
      "source": [
        "Describe what you learned about TMs of both varieties."
      ]
    },
    {
      "cell_type": "markdown",
      "metadata": {
        "id": "IZv2_MDnrkiY"
      },
      "source": [
        "## TODO Create a DTM to Delete a Character"
      ]
    },
    {
      "cell_type": "markdown",
      "metadata": {
        "id": "8CO727aIrrEi"
      },
      "source": [
        "This task is to delete a character from the tape string. Deleting the current symbol means transforming the tape from $x\\sigma y$ to $xy$ where $\\sigma$ is any symbol, including a blank, and $y$ is a string of nonblank symbols. Assume the input alphabet is $\\{a, b\\}$.\n",
        "\n",
        "HINT: Use a couple of states (labeled $q_a$ and $q_b$, say) for your TM to remember a symbol between the time it is erased and the time it is copied in the next square to the left. (The complete DTM requires about 6 states total, with 12 transitions.)\n"
      ]
    },
    {
      "cell_type": "code",
      "metadata": {
        "id": "VWtrsUQAZzIA",
        "colab": {
          "base_uri": "https://localhost:8080/",
          "height": 196
        },
        "outputId": "8725c44b-28ac-4af4-caf9-cdb46356fffd"
      },
      "source": [
        "deleteChar = md2mc('''\r\n",
        "TM \r\n",
        "\r\n",
        "I : a ; . , R -> Q0\r\n",
        "I : b ; . , R -> Q0\r\n",
        "I : . ; . , R -> Q0\r\n",
        "\r\n",
        "Q0 : a ; a , R -> Q0\r\n",
        "Q0 : b ; b , R -> Q0\r\n",
        "Q0 : . ; . , L -> Q1\r\n",
        "\r\n",
        "Q1 : a ; . , L -> Qa\r\n",
        "Q1 : b ; . , L -> Qb\r\n",
        "\r\n",
        "Qa : a ; a , L -> Qa\r\n",
        "Qa : b ; a , L -> Qb\r\n",
        "Qa : . ; a , L -> F\r\n",
        "\r\n",
        "Qb : a ; b , L -> Qa\r\n",
        "Qb : b ; b , L -> Qb\r\n",
        "Qb : . ; b , L -> F\r\n",
        "\r\n",
        "''')\r\n",
        "dotObj_tm(deleteChar, FuseEdges=True)"
      ],
      "execution_count": null,
      "outputs": [
        {
          "output_type": "execute_result",
          "data": {
            "text/plain": [
              "<graphviz.dot.Digraph at 0x7f6cea55b150>"
            ],
            "image/svg+xml": "<?xml version=\"1.0\" encoding=\"UTF-8\" standalone=\"no\"?>\n<!DOCTYPE svg PUBLIC \"-//W3C//DTD SVG 1.1//EN\"\n \"http://www.w3.org/Graphics/SVG/1.1/DTD/svg11.dtd\">\n<!-- Generated by graphviz version 2.40.1 (20161225.0304)\n -->\n<!-- Title: %3 Pages: 1 -->\n<svg width=\"722pt\" height=\"131pt\"\n viewBox=\"0.00 0.00 722.38 131.20\" xmlns=\"http://www.w3.org/2000/svg\" xmlns:xlink=\"http://www.w3.org/1999/xlink\">\n<g id=\"graph0\" class=\"graph\" transform=\"scale(1 1) rotate(0) translate(4 127.1961)\">\n<title>%3</title>\n<polygon fill=\"#ffffff\" stroke=\"transparent\" points=\"-4,4 -4,-127.1961 718.3841,-127.1961 718.3841,4 -4,4\"/>\n<!-- EMPTY -->\n<g id=\"node1\" class=\"node\">\n<title>EMPTY</title>\n</g>\n<!-- I -->\n<g id=\"node5\" class=\"node\">\n<title>I</title>\n<ellipse fill=\"none\" stroke=\"#000000\" cx=\"109\" cy=\"-22.748\" rx=\"18\" ry=\"18\"/>\n<text text-anchor=\"middle\" x=\"109\" y=\"-19.048\" font-family=\"Times,serif\" font-size=\"14.00\" fill=\"#000000\">I</text>\n</g>\n<!-- EMPTY&#45;&gt;I -->\n<g id=\"edge1\" class=\"edge\">\n<title>EMPTY&#45;&gt;I</title>\n<path fill=\"none\" stroke=\"#000000\" d=\"M54.3048,-22.748C62.6909,-22.748 71.9407,-22.748 80.4103,-22.748\"/>\n<polygon fill=\"#000000\" stroke=\"#000000\" points=\"80.5976,-26.2481 90.5976,-22.748 80.5976,-19.2481 80.5976,-26.2481\"/>\n</g>\n<!-- Q0 -->\n<g id=\"node2\" class=\"node\">\n<title>Q0</title>\n<ellipse fill=\"none\" stroke=\"#000000\" cx=\"229.748\" cy=\"-22.748\" rx=\"22.9987\" ry=\"22.9987\"/>\n<text text-anchor=\"middle\" x=\"229.748\" y=\"-19.048\" font-family=\"Times,serif\" font-size=\"14.00\" fill=\"#000000\">Q0</text>\n</g>\n<!-- Q0&#45;&gt;Q0 -->\n<g id=\"edge3\" class=\"edge\">\n<title>Q0&#45;&gt;Q0</title>\n<path fill=\"none\" stroke=\"#000000\" d=\"M219.6171,-43.2948C218.0585,-53.9191 221.4355,-63.496 229.748,-63.496 235.2031,-63.496 238.5326,-59.3716 239.7365,-53.5334\"/>\n<polygon fill=\"#000000\" stroke=\"#000000\" points=\"243.2394,-53.3425 239.8788,-43.2948 236.2401,-53.2452 243.2394,-53.3425\"/>\n<text text-anchor=\"middle\" x=\"229.748\" y=\"-82.296\" font-family=\"Times,serif\" font-size=\"14.00\" fill=\"#000000\">a ; a,R </text>\n<text text-anchor=\"middle\" x=\"229.748\" y=\"-67.296\" font-family=\"Times,serif\" font-size=\"14.00\" fill=\"#000000\"> b ; b,R</text>\n</g>\n<!-- Q1 -->\n<g id=\"node6\" class=\"node\">\n<title>Q1</title>\n<ellipse fill=\"none\" stroke=\"#000000\" cx=\"343.2439\" cy=\"-22.748\" rx=\"22.9987\" ry=\"22.9987\"/>\n<text text-anchor=\"middle\" x=\"343.2439\" y=\"-19.048\" font-family=\"Times,serif\" font-size=\"14.00\" fill=\"#000000\">Q1</text>\n</g>\n<!-- Q0&#45;&gt;Q1 -->\n<g id=\"edge4\" class=\"edge\">\n<title>Q0&#45;&gt;Q1</title>\n<path fill=\"none\" stroke=\"#000000\" d=\"M252.7156,-22.748C269.253,-22.748 291.8081,-22.748 310.2672,-22.748\"/>\n<polygon fill=\"#000000\" stroke=\"#000000\" points=\"310.3105,-26.2481 320.3105,-22.748 310.3105,-19.2481 310.3105,-26.2481\"/>\n<text text-anchor=\"middle\" x=\"286.496\" y=\"-26.548\" font-family=\"Times,serif\" font-size=\"14.00\" fill=\"#000000\">. ; .,L</text>\n</g>\n<!-- Qa -->\n<g id=\"node3\" class=\"node\">\n<title>Qa</title>\n<ellipse fill=\"none\" stroke=\"#000000\" cx=\"457.44\" cy=\"-68.748\" rx=\"21.3963\" ry=\"21.3963\"/>\n<text text-anchor=\"middle\" x=\"457.44\" y=\"-65.048\" font-family=\"Times,serif\" font-size=\"14.00\" fill=\"#000000\">Qa</text>\n</g>\n<!-- Qa&#45;&gt;Qa -->\n<g id=\"edge7\" class=\"edge\">\n<title>Qa&#45;&gt;Qa</title>\n<path fill=\"none\" stroke=\"#000000\" d=\"M447.4425,-87.8254C445.5763,-98.4304 448.9088,-108.1961 457.44,-108.1961 463.0387,-108.1961 466.3984,-103.9903 467.5192,-98.1017\"/>\n<polygon fill=\"#000000\" stroke=\"#000000\" points=\"471.017,-97.7973 467.4376,-87.8254 464.0172,-97.8529 471.017,-97.7973\"/>\n<text text-anchor=\"middle\" x=\"457.44\" y=\"-111.9961\" font-family=\"Times,serif\" font-size=\"14.00\" fill=\"#000000\">a ; a,L</text>\n</g>\n<!-- Qb -->\n<g id=\"node4\" class=\"node\">\n<title>Qb</title>\n<ellipse fill=\"none\" stroke=\"#000000\" cx=\"575.6361\" cy=\"-27.748\" rx=\"22.9987\" ry=\"22.9987\"/>\n<text text-anchor=\"middle\" x=\"575.6361\" y=\"-24.048\" font-family=\"Times,serif\" font-size=\"14.00\" fill=\"#000000\">Qb</text>\n</g>\n<!-- Qa&#45;&gt;Qb -->\n<g id=\"edge8\" class=\"edge\">\n<title>Qa&#45;&gt;Qb</title>\n<path fill=\"none\" stroke=\"#000000\" d=\"M479.1582,-67.6269C495.0732,-66.2103 516.9391,-63.0041 534.8881,-55.748 539.8344,-53.7484 544.7809,-51.0692 549.436,-48.1582\"/>\n<polygon fill=\"#000000\" stroke=\"#000000\" points=\"551.6334,-50.8972 557.9518,-42.3925 547.7089,-45.1007 551.6334,-50.8972\"/>\n<text text-anchor=\"middle\" x=\"515.8881\" y=\"-69.548\" font-family=\"Times,serif\" font-size=\"14.00\" fill=\"#000000\">b ; a,L</text>\n</g>\n<!-- F -->\n<g id=\"node7\" class=\"node\">\n<title>F</title>\n<ellipse fill=\"none\" stroke=\"#000000\" cx=\"692.3841\" cy=\"-73.748\" rx=\"18\" ry=\"18\"/>\n<ellipse fill=\"none\" stroke=\"#000000\" cx=\"692.3841\" cy=\"-73.748\" rx=\"22\" ry=\"22\"/>\n<text text-anchor=\"middle\" x=\"692.3841\" y=\"-70.048\" font-family=\"Times,serif\" font-size=\"14.00\" fill=\"#000000\">F</text>\n</g>\n<!-- Qa&#45;&gt;F -->\n<g id=\"edge9\" class=\"edge\">\n<title>Qa&#45;&gt;F</title>\n<path fill=\"none\" stroke=\"#000000\" d=\"M477.1837,-77.8527C483.3827,-80.4116 490.3237,-82.9763 496.8881,-84.748 540.5742,-96.5384 553.3597,-97.2528 598.3841,-92.748 619.5326,-90.632 642.9633,-85.9018 661.1414,-81.6908\"/>\n<polygon fill=\"#000000\" stroke=\"#000000\" points=\"662.0003,-85.0842 670.9157,-79.36 660.3766,-78.2751 662.0003,-85.0842\"/>\n<text text-anchor=\"middle\" x=\"575.6361\" y=\"-99.548\" font-family=\"Times,serif\" font-size=\"14.00\" fill=\"#000000\">. ; a,L</text>\n</g>\n<!-- Qb&#45;&gt;Qa -->\n<g id=\"edge10\" class=\"edge\">\n<title>Qb&#45;&gt;Qa</title>\n<path fill=\"none\" stroke=\"#000000\" d=\"M552.7233,-27.0216C536.5358,-27.2952 514.6496,-29.2875 496.8881,-36.748 491.1587,-39.1546 485.5944,-42.661 480.5385,-46.4794\"/>\n<polygon fill=\"#000000\" stroke=\"#000000\" points=\"478.0515,-43.994 472.5704,-53.0608 482.5093,-49.391 478.0515,-43.994\"/>\n<text text-anchor=\"middle\" x=\"515.8881\" y=\"-40.548\" font-family=\"Times,serif\" font-size=\"14.00\" fill=\"#000000\">a ; b,L</text>\n</g>\n<!-- Qb&#45;&gt;Qb -->\n<g id=\"edge11\" class=\"edge\">\n<title>Qb&#45;&gt;Qb</title>\n<path fill=\"none\" stroke=\"#000000\" d=\"M565.1434,-48.2948C563.5292,-58.9191 567.0267,-68.496 575.6361,-68.496 581.286,-68.496 584.7344,-64.3716 585.9814,-58.5334\"/>\n<polygon fill=\"#000000\" stroke=\"#000000\" points=\"589.4844,-58.3442 586.1288,-48.2948 582.4851,-58.2434 589.4844,-58.3442\"/>\n<text text-anchor=\"middle\" x=\"575.6361\" y=\"-72.296\" font-family=\"Times,serif\" font-size=\"14.00\" fill=\"#000000\">b ; b,L</text>\n</g>\n<!-- Qb&#45;&gt;F -->\n<g id=\"edge12\" class=\"edge\">\n<title>Qb&#45;&gt;F</title>\n<path fill=\"none\" stroke=\"#000000\" d=\"M597.0495,-36.1851C615.3786,-43.407 641.9667,-53.883 662.4102,-61.938\"/>\n<polygon fill=\"#000000\" stroke=\"#000000\" points=\"661.3025,-65.2633 671.8895,-65.6729 663.8687,-58.7506 661.3025,-65.2633\"/>\n<text text-anchor=\"middle\" x=\"634.3841\" y=\"-61.548\" font-family=\"Times,serif\" font-size=\"14.00\" fill=\"#000000\">. ; b,L</text>\n</g>\n<!-- I&#45;&gt;Q0 -->\n<g id=\"edge2\" class=\"edge\">\n<title>I&#45;&gt;Q0</title>\n<path fill=\"none\" stroke=\"#000000\" d=\"M127.0772,-22.748C145.3654,-22.748 174.0592,-22.748 196.469,-22.748\"/>\n<polygon fill=\"#000000\" stroke=\"#000000\" points=\"196.5771,-26.2481 206.5771,-22.748 196.577,-19.2481 196.5771,-26.2481\"/>\n<text text-anchor=\"middle\" x=\"167\" y=\"-56.548\" font-family=\"Times,serif\" font-size=\"14.00\" fill=\"#000000\">. ; .,R </text>\n<text text-anchor=\"middle\" x=\"167\" y=\"-41.548\" font-family=\"Times,serif\" font-size=\"14.00\" fill=\"#000000\"> b ; .,R </text>\n<text text-anchor=\"middle\" x=\"167\" y=\"-26.548\" font-family=\"Times,serif\" font-size=\"14.00\" fill=\"#000000\"> a ; .,R</text>\n</g>\n<!-- Q1&#45;&gt;Qa -->\n<g id=\"edge5\" class=\"edge\">\n<title>Q1&#45;&gt;Qa</title>\n<path fill=\"none\" stroke=\"#000000\" d=\"M364.4557,-31.2924C382.3337,-38.4939 408.1052,-48.8751 427.9846,-56.8829\"/>\n<polygon fill=\"#000000\" stroke=\"#000000\" points=\"426.9059,-60.2216 437.4894,-60.7116 429.5214,-53.7286 426.9059,-60.2216\"/>\n<text text-anchor=\"middle\" x=\"400.9919\" y=\"-56.548\" font-family=\"Times,serif\" font-size=\"14.00\" fill=\"#000000\">a ; .,L</text>\n</g>\n<!-- Q1&#45;&gt;Qb -->\n<g id=\"edge6\" class=\"edge\">\n<title>Q1&#45;&gt;Qb</title>\n<path fill=\"none\" stroke=\"#000000\" d=\"M366.2684,-22.4649C402.2674,-22.1405 474.0614,-21.9679 534.8881,-24.748 537.4302,-24.8642 540.0601,-25.0067 542.7032,-25.1659\"/>\n<polygon fill=\"#000000\" stroke=\"#000000\" points=\"542.5936,-28.6663 552.8051,-25.8423 543.0612,-21.682 542.5936,-28.6663\"/>\n<text text-anchor=\"middle\" x=\"457.44\" y=\"-27.548\" font-family=\"Times,serif\" font-size=\"14.00\" fill=\"#000000\">b ; .,L</text>\n</g>\n</g>\n</svg>\n"
          },
          "metadata": {
            "tags": []
          },
          "execution_count": 21
        }
      ]
    },
    {
      "cell_type": "code",
      "metadata": {
        "id": "01Wqldexdb5u",
        "colab": {
          "base_uri": "https://localhost:8080/"
        },
        "outputId": "86f59590-159f-4b97-af16-b1c73376066a"
      },
      "source": [
        "explore_tm(deleteChar, \"baabab\", 100)"
      ],
      "execution_count": null,
      "outputs": [
        {
          "output_type": "stream",
          "text": [
            "Allocating  8  tape cells to the RIGHT!\n",
            "Allocating  8  tape cells to the LEFT!\n",
            "Detailing the halted configs now.\n",
            "Accepted at  ('F', 7, '........aabab.........', 87)\n",
            " via .. \n",
            " ->('I', 0, 'baabab', 100)\n",
            " ->('Q0', 1, '.aabab', 99)\n",
            " ->('Q0', 2, '.aabab', 98)\n",
            " ->('Q0', 3, '.aabab', 97)\n",
            " ->('Q0', 4, '.aabab', 96)\n",
            " ->('Q0', 5, '.aabab', 95)\n",
            " ->('Q0', 6, '.aabab', 94)\n",
            " ->('Q1', 5, '.aabab........', 93)\n",
            " ->('Qb', 4, '.aaba.........', 92)\n",
            " ->('Qa', 3, '.aabb.........', 91)\n",
            " ->('Qb', 2, '.aaab.........', 90)\n",
            " ->('Qa', 1, '.abab.........', 89)\n",
            " ->('Qa', 0, '.abab.........', 88)\n",
            " ->('F', 7, '........aabab.........', 87)\n"
          ],
          "name": "stdout"
        }
      ]
    },
    {
      "cell_type": "markdown",
      "metadata": {
        "id": "FmWSlviOsUC7"
      },
      "source": [
        "## TODO Create a DTM to Insert a Character"
      ]
    },
    {
      "cell_type": "markdown",
      "metadata": {
        "id": "jA2pQpkJsdXS"
      },
      "source": [
        "This task is the opposite of the first one, namely, to insert a character into the tape string. Inserting the symbol $\\sigma$ is done virtually the same way as deleting, except that the single pass goes from left to right, symbols are moved to the right instead of to the left, and the move that starts things off writes $\\sigma$ instead of a blank.\n"
      ]
    },
    {
      "cell_type": "code",
      "metadata": {
        "id": "wRLH4oDlhIdg",
        "colab": {
          "base_uri": "https://localhost:8080/",
          "height": 224
        },
        "outputId": "1d0e86b3-1fed-4b58-ba94-86730e5b4632"
      },
      "source": [
        "insertChar = md2mc('''\r\n",
        "TM \r\n",
        "\r\n",
        "I : a ; σ , R -> Qa\r\n",
        "I : b ; σ , R -> Qb\r\n",
        "I : . ; σ , R -> F\r\n",
        "\r\n",
        "Qa : a ; a , R -> Qa\r\n",
        "Qa : b ; a , R -> Qb\r\n",
        "Qa : . ; a , R -> F\r\n",
        "\r\n",
        "Qb : a ; b , R -> Qa\r\n",
        "Qb : b ; b , R -> Qb\r\n",
        "Qb : . ; b , R -> F\r\n",
        "\r\n",
        "''')\r\n",
        "dotObj_tm(insertChar, FuseEdges=True)"
      ],
      "execution_count": null,
      "outputs": [
        {
          "output_type": "execute_result",
          "data": {
            "text/plain": [
              "<graphviz.dot.Digraph at 0x7f6cea2107d0>"
            ],
            "image/svg+xml": "<?xml version=\"1.0\" encoding=\"UTF-8\" standalone=\"no\"?>\n<!DOCTYPE svg PUBLIC \"-//W3C//DTD SVG 1.1//EN\"\n \"http://www.w3.org/Graphics/SVG/1.1/DTD/svg11.dtd\">\n<!-- Generated by graphviz version 2.40.1 (20161225.0304)\n -->\n<!-- Title: %3 Pages: 1 -->\n<svg width=\"489pt\" height=\"152pt\"\n viewBox=\"0.00 0.00 489.39 151.65\" xmlns=\"http://www.w3.org/2000/svg\" xmlns:xlink=\"http://www.w3.org/1999/xlink\">\n<g id=\"graph0\" class=\"graph\" transform=\"scale(1 1) rotate(0) translate(4 147.6536)\">\n<title>%3</title>\n<polygon fill=\"#ffffff\" stroke=\"transparent\" points=\"-4,4 -4,-147.6536 485.3922,-147.6536 485.3922,4 -4,4\"/>\n<!-- EMPTY -->\n<g id=\"node1\" class=\"node\">\n<title>EMPTY</title>\n</g>\n<!-- I -->\n<g id=\"node3\" class=\"node\">\n<title>I</title>\n<ellipse fill=\"none\" stroke=\"#000000\" cx=\"109\" cy=\"-23.9057\" rx=\"18\" ry=\"18\"/>\n<text text-anchor=\"middle\" x=\"109\" y=\"-20.2057\" font-family=\"Times,serif\" font-size=\"14.00\" fill=\"#000000\">I</text>\n</g>\n<!-- EMPTY&#45;&gt;I -->\n<g id=\"edge1\" class=\"edge\">\n<title>EMPTY&#45;&gt;I</title>\n<path fill=\"none\" stroke=\"#000000\" d=\"M54.3048,-23.9057C62.6909,-23.9057 71.9407,-23.9057 80.4103,-23.9057\"/>\n<polygon fill=\"#000000\" stroke=\"#000000\" points=\"80.5976,-27.4058 90.5976,-23.9057 80.5976,-20.4058 80.5976,-27.4058\"/>\n</g>\n<!-- Qb -->\n<g id=\"node2\" class=\"node\">\n<title>Qb</title>\n<ellipse fill=\"none\" stroke=\"#000000\" cx=\"225.748\" cy=\"-87.9057\" rx=\"22.9987\" ry=\"22.9987\"/>\n<text text-anchor=\"middle\" x=\"225.748\" y=\"-84.2057\" font-family=\"Times,serif\" font-size=\"14.00\" fill=\"#000000\">Qb</text>\n</g>\n<!-- Qb&#45;&gt;Qb -->\n<g id=\"edge9\" class=\"edge\">\n<title>Qb&#45;&gt;Qb</title>\n<path fill=\"none\" stroke=\"#000000\" d=\"M214.9622,-108.0326C213.1293,-118.8231 216.7245,-128.6536 225.748,-128.6536 231.6696,-128.6536 235.2535,-124.42 236.4997,-118.4597\"/>\n<polygon fill=\"#000000\" stroke=\"#000000\" points=\"240.001,-118.044 236.5338,-108.0326 233.0011,-118.0211 240.001,-118.044\"/>\n<text text-anchor=\"middle\" x=\"225.748\" y=\"-132.4536\" font-family=\"Times,serif\" font-size=\"14.00\" fill=\"#000000\">b ; b,R</text>\n</g>\n<!-- Qa -->\n<g id=\"node4\" class=\"node\">\n<title>Qa</title>\n<ellipse fill=\"none\" stroke=\"#000000\" cx=\"344.9441\" cy=\"-34.9057\" rx=\"21.3963\" ry=\"21.3963\"/>\n<text text-anchor=\"middle\" x=\"344.9441\" y=\"-31.2057\" font-family=\"Times,serif\" font-size=\"14.00\" fill=\"#000000\">Qa</text>\n</g>\n<!-- Qb&#45;&gt;Qa -->\n<g id=\"edge8\" class=\"edge\">\n<title>Qb&#45;&gt;Qa</title>\n<path fill=\"none\" stroke=\"#000000\" d=\"M241.947,-71.4411C248.9677,-65.1316 257.6086,-58.381 266.496,-53.9057 280.9988,-46.6026 298.445,-42.0181 313.1988,-39.1873\"/>\n<polygon fill=\"#000000\" stroke=\"#000000\" points=\"314.1297,-42.5782 323.3853,-37.4223 312.9346,-35.681 314.1297,-42.5782\"/>\n<text text-anchor=\"middle\" x=\"285.996\" y=\"-57.7057\" font-family=\"Times,serif\" font-size=\"14.00\" fill=\"#000000\">a ; b,R</text>\n</g>\n<!-- F -->\n<g id=\"node5\" class=\"node\">\n<title>F</title>\n<ellipse fill=\"none\" stroke=\"#000000\" cx=\"459.3922\" cy=\"-34.9057\" rx=\"18\" ry=\"18\"/>\n<ellipse fill=\"none\" stroke=\"#000000\" cx=\"459.3922\" cy=\"-34.9057\" rx=\"22\" ry=\"22\"/>\n<text text-anchor=\"middle\" x=\"459.3922\" y=\"-31.2057\" font-family=\"Times,serif\" font-size=\"14.00\" fill=\"#000000\">F</text>\n</g>\n<!-- Qb&#45;&gt;F -->\n<g id=\"edge10\" class=\"edge\">\n<title>Qb&#45;&gt;F</title>\n<path fill=\"none\" stroke=\"#000000\" d=\"M246.9235,-97.3031C253.1092,-99.6056 259.9651,-101.7418 266.496,-102.9057 310.2603,-110.705 324.4633,-112.6746 366.3922,-97.9057 392,-88.8856 417.2598,-71.0443 434.9766,-56.6438\"/>\n<polygon fill=\"#000000\" stroke=\"#000000\" points=\"437.61,-59.0043 443.0366,-49.9046 433.1198,-53.6341 437.61,-59.0043\"/>\n<text text-anchor=\"middle\" x=\"344.9441\" y=\"-111.7057\" font-family=\"Times,serif\" font-size=\"14.00\" fill=\"#000000\">. ; b,R</text>\n</g>\n<!-- I&#45;&gt;Qb -->\n<g id=\"edge3\" class=\"edge\">\n<title>I&#45;&gt;Qb</title>\n<path fill=\"none\" stroke=\"#000000\" d=\"M125.2333,-32.8046C143.736,-42.9476 174.3336,-59.7209 196.9185,-72.1016\"/>\n<polygon fill=\"#000000\" stroke=\"#000000\" points=\"195.2933,-75.2021 205.7447,-76.9401 198.6583,-69.0639 195.2933,-75.2021\"/>\n<text text-anchor=\"middle\" x=\"165\" y=\"-68.7057\" font-family=\"Times,serif\" font-size=\"14.00\" fill=\"#000000\">b ; σ,R</text>\n</g>\n<!-- I&#45;&gt;Qa -->\n<g id=\"edge2\" class=\"edge\">\n<title>I&#45;&gt;Qa</title>\n<path fill=\"none\" stroke=\"#000000\" d=\"M127.1224,-24.7506C167.0336,-26.6113 262.9505,-31.083 313.1304,-33.4225\"/>\n<polygon fill=\"#000000\" stroke=\"#000000\" points=\"313.2451,-36.9315 323.3973,-33.9011 313.5712,-29.9391 313.2451,-36.9315\"/>\n<text text-anchor=\"middle\" x=\"225.748\" y=\"-33.7057\" font-family=\"Times,serif\" font-size=\"14.00\" fill=\"#000000\">a ; σ,R</text>\n</g>\n<!-- I&#45;&gt;F -->\n<g id=\"edge4\" class=\"edge\">\n<title>I&#45;&gt;F</title>\n<path fill=\"none\" stroke=\"#000000\" d=\"M126.5911,-19.8487C168.414,-10.802 276.98,9.1588 366.3922,-4.9057 388.027,-8.3088 411.4912,-15.9085 429.4382,-22.6069\"/>\n<polygon fill=\"#000000\" stroke=\"#000000\" points=\"428.2045,-25.8822 438.7945,-26.2031 430.716,-19.3483 428.2045,-25.8822\"/>\n<text text-anchor=\"middle\" x=\"285.996\" y=\"-4.7057\" font-family=\"Times,serif\" font-size=\"14.00\" fill=\"#000000\">. ; σ,R</text>\n</g>\n<!-- Qa&#45;&gt;Qb -->\n<g id=\"edge6\" class=\"edge\">\n<title>Qa&#45;&gt;Qb</title>\n<path fill=\"none\" stroke=\"#000000\" d=\"M331.2498,-52.0319C324.3176,-59.5716 315.299,-67.848 305.496,-72.9057 291.1901,-80.2865 273.767,-84.0669 258.8596,-85.9905\"/>\n<polygon fill=\"#000000\" stroke=\"#000000\" points=\"258.1041,-82.551 248.5298,-87.0879 258.8437,-89.5118 258.1041,-82.551\"/>\n<text text-anchor=\"middle\" x=\"285.996\" y=\"-87.7057\" font-family=\"Times,serif\" font-size=\"14.00\" fill=\"#000000\">b ; a,R</text>\n</g>\n<!-- Qa&#45;&gt;Qa -->\n<g id=\"edge5\" class=\"edge\">\n<title>Qa&#45;&gt;Qa</title>\n<path fill=\"none\" stroke=\"#000000\" d=\"M334.9465,-53.9831C333.0803,-64.588 336.4128,-74.3538 344.9441,-74.3538 350.5427,-74.3538 353.9024,-70.148 355.0232,-64.2594\"/>\n<polygon fill=\"#000000\" stroke=\"#000000\" points=\"358.521,-63.9549 354.9416,-53.9831 351.5212,-64.0106 358.521,-63.9549\"/>\n<text text-anchor=\"middle\" x=\"344.9441\" y=\"-78.1538\" font-family=\"Times,serif\" font-size=\"14.00\" fill=\"#000000\">a ; a,R</text>\n</g>\n<!-- Qa&#45;&gt;F -->\n<g id=\"edge7\" class=\"edge\">\n<title>Qa&#45;&gt;F</title>\n<path fill=\"none\" stroke=\"#000000\" d=\"M366.4709,-34.9057C383.5167,-34.9057 407.5987,-34.9057 426.9752,-34.9057\"/>\n<polygon fill=\"#000000\" stroke=\"#000000\" points=\"427.1813,-38.4058 437.1812,-34.9057 427.1812,-31.4058 427.1813,-38.4058\"/>\n<text text-anchor=\"middle\" x=\"401.8922\" y=\"-38.7057\" font-family=\"Times,serif\" font-size=\"14.00\" fill=\"#000000\">. ; a,R</text>\n</g>\n</g>\n</svg>\n"
          },
          "metadata": {
            "tags": []
          },
          "execution_count": 30
        }
      ]
    },
    {
      "cell_type": "code",
      "metadata": {
        "id": "OsJ7tKMJhMGj",
        "colab": {
          "base_uri": "https://localhost:8080/"
        },
        "outputId": "ae93eebb-82dd-4f80-ee57-02b500cb2f73"
      },
      "source": [
        "explore_tm(insertChar, \"baabab\", 100)"
      ],
      "execution_count": null,
      "outputs": [
        {
          "output_type": "stream",
          "text": [
            "Allocating  8  tape cells to the RIGHT!\n",
            "Detailing the halted configs now.\n",
            "Accepted at  ('F', 7, 'σbaabab.......', 93)\n",
            " via .. \n",
            " ->('I', 0, 'baabab', 100)\n",
            " ->('Qb', 1, 'σaabab', 99)\n",
            " ->('Qa', 2, 'σbabab', 98)\n",
            " ->('Qa', 3, 'σbabab', 97)\n",
            " ->('Qb', 4, 'σbaaab', 96)\n",
            " ->('Qa', 5, 'σbaabb', 95)\n",
            " ->('Qb', 6, 'σbaaba', 94)\n",
            " ->('F', 7, 'σbaabab.......', 93)\n"
          ],
          "name": "stdout"
        }
      ]
    },
    {
      "cell_type": "markdown",
      "metadata": {
        "id": "rgOacLFksrEm"
      },
      "source": [
        "## TODO Create a DTM to Copy a String"
      ]
    },
    {
      "cell_type": "markdown",
      "metadata": {
        "id": "Iw2WYYVPsuqJ"
      },
      "source": [
        "Let $\\sqcup$ represent the blank symbol. A *Copy* DTM starts with tape $\\sqcup\\ x$ where $x$ is a string of nonblank symbols, and ends up with $\\sqcup\\ x \\sqcup x$. Again, assume the input alphabet is $\\{a, b\\}$.\n",
        "\n",
        "HINT: This DTM requires about 10 states, and not quite double that many transitions."
      ]
    },
    {
      "cell_type": "code",
      "metadata": {
        "id": "XAxqJrhFjLrv",
        "colab": {
          "base_uri": "https://localhost:8080/",
          "height": 574
        },
        "outputId": "daad4f25-8163-415d-87f5-5fb631673239"
      },
      "source": [
        "copyString = md2mc('''\r\n",
        "TM \r\n",
        "\r\n",
        "I : ⊔ ; ⊔ , R -> Q0\r\n",
        "\r\n",
        "Q0 : a ; a , R -> Q0\r\n",
        "Q0 : b ; b , R -> Q0\r\n",
        "Q0 : . ; ⊔ , L -> Q1\r\n",
        "\r\n",
        "Q1 : a ; a , L -> Q1\r\n",
        "Q1 : b ; b , L -> Q1\r\n",
        "Q1 : ⊔ ; ⊔ , R -> Q2\r\n",
        "\r\n",
        "Q2 : a ; . , R -> Q2a\r\n",
        "Q2 : b ; . , R -> Q2b\r\n",
        "Q2 : ⊔ ; ⊔ , R -> F\r\n",
        "\r\n",
        "Q2a : a ; a , R -> Q2a\r\n",
        "Q2a : b ; b , R -> Q2a\r\n",
        "Q2a : ⊔ ; ⊔ , R -> Q2a\r\n",
        "Q2a : . ; a , L -> Q3a\r\n",
        "\r\n",
        "Q2b : a ; a , R -> Q2b\r\n",
        "Q2b : b ; b , R -> Q2b\r\n",
        "Q2b : ⊔ ; ⊔ , R -> Q2b\r\n",
        "Q2b : . ; b , L -> Q3b\r\n",
        "\r\n",
        "Q3a : a ; a , L -> Q3a\r\n",
        "Q3a : b ; b , L -> Q3a\r\n",
        "Q3a : ⊔ ; ⊔ , L -> Q3a\r\n",
        "Q3a : . ; a , R -> Q2\r\n",
        "\r\n",
        "Q3b : a ; a , L -> Q3b\r\n",
        "Q3b : b ; b , L -> Q3b\r\n",
        "Q3b : ⊔ ; ⊔ , L -> Q3b\r\n",
        "Q3b : . ; b , R -> Q2\r\n",
        "\r\n",
        "''')\r\n",
        "dotObj_tm(copyString, FuseEdges=True)"
      ],
      "execution_count": null,
      "outputs": [
        {
          "output_type": "execute_result",
          "data": {
            "text/plain": [
              "<graphviz.dot.Digraph at 0x7f6cea57e550>"
            ],
            "image/svg+xml": "<?xml version=\"1.0\" encoding=\"UTF-8\" standalone=\"no\"?>\n<!DOCTYPE svg PUBLIC \"-//W3C//DTD SVG 1.1//EN\"\n \"http://www.w3.org/Graphics/SVG/1.1/DTD/svg11.dtd\">\n<!-- Generated by graphviz version 2.40.1 (20161225.0304)\n -->\n<!-- Title: %3 Pages: 1 -->\n<svg width=\"804pt\" height=\"415pt\"\n viewBox=\"0.00 0.00 804.38 415.23\" xmlns=\"http://www.w3.org/2000/svg\" xmlns:xlink=\"http://www.w3.org/1999/xlink\">\n<g id=\"graph0\" class=\"graph\" transform=\"scale(1 1) rotate(0) translate(4 411.2277)\">\n<title>%3</title>\n<polygon fill=\"#ffffff\" stroke=\"transparent\" points=\"-4,4 -4,-411.2277 800.3806,-411.2277 800.3806,4 -4,4\"/>\n<!-- EMPTY -->\n<g id=\"node1\" class=\"node\">\n<title>EMPTY</title>\n</g>\n<!-- I -->\n<g id=\"node5\" class=\"node\">\n<title>I</title>\n<ellipse fill=\"none\" stroke=\"#000000\" cx=\"109\" cy=\"-119.5801\" rx=\"18\" ry=\"18\"/>\n<text text-anchor=\"middle\" x=\"109\" y=\"-115.8801\" font-family=\"Times,serif\" font-size=\"14.00\" fill=\"#000000\">I</text>\n</g>\n<!-- EMPTY&#45;&gt;I -->\n<g id=\"edge1\" class=\"edge\">\n<title>EMPTY&#45;&gt;I</title>\n<path fill=\"none\" stroke=\"#000000\" d=\"M54.3048,-119.5801C62.6909,-119.5801 71.9407,-119.5801 80.4103,-119.5801\"/>\n<polygon fill=\"#000000\" stroke=\"#000000\" points=\"80.5976,-123.0802 90.5976,-119.5801 80.5976,-116.0802 80.5976,-123.0802\"/>\n</g>\n<!-- Q2a -->\n<g id=\"node2\" class=\"node\">\n<title>Q2a</title>\n<ellipse fill=\"none\" stroke=\"#000000\" cx=\"639.7855\" cy=\"-254.5801\" rx=\"26.7961\" ry=\"26.7961\"/>\n<text text-anchor=\"middle\" x=\"639.7855\" y=\"-250.8801\" font-family=\"Times,serif\" font-size=\"14.00\" fill=\"#000000\">Q2a</text>\n</g>\n<!-- Q2a&#45;&gt;Q2a -->\n<g id=\"edge10\" class=\"edge\">\n<title>Q2a&#45;&gt;Q2a</title>\n<path fill=\"none\" stroke=\"#000000\" d=\"M628.3421,-278.9204C627.2523,-289.8098 631.0667,-299.2277 639.7855,-299.2277 645.5071,-299.2277 649.1167,-295.1718 650.6142,-289.3057\"/>\n<polygon fill=\"#000000\" stroke=\"#000000\" points=\"654.1318,-289.1098 651.2288,-278.9204 647.1441,-288.6961 654.1318,-289.1098\"/>\n<text text-anchor=\"middle\" x=\"639.7855\" y=\"-333.0277\" font-family=\"Times,serif\" font-size=\"14.00\" fill=\"#000000\">a ; a,R </text>\n<text text-anchor=\"middle\" x=\"639.7855\" y=\"-318.0277\" font-family=\"Times,serif\" font-size=\"14.00\" fill=\"#000000\"> b ; b,R </text>\n<text text-anchor=\"middle\" x=\"639.7855\" y=\"-303.0277\" font-family=\"Times,serif\" font-size=\"14.00\" fill=\"#000000\"> ⊔ ; ⊔,R</text>\n</g>\n<!-- Q3a -->\n<g id=\"node6\" class=\"node\">\n<title>Q3a</title>\n<ellipse fill=\"none\" stroke=\"#000000\" cx=\"766.3806\" cy=\"-317.5801\" rx=\"26.7961\" ry=\"26.7961\"/>\n<text text-anchor=\"middle\" x=\"766.3806\" y=\"-313.8801\" font-family=\"Times,serif\" font-size=\"14.00\" fill=\"#000000\">Q3a</text>\n</g>\n<!-- Q2a&#45;&gt;Q3a -->\n<g id=\"edge11\" class=\"edge\">\n<title>Q2a&#45;&gt;Q3a</title>\n<path fill=\"none\" stroke=\"#000000\" d=\"M663.895,-266.5782C683.5174,-276.3432 711.4233,-290.2306 733.162,-301.0488\"/>\n<polygon fill=\"#000000\" stroke=\"#000000\" points=\"731.8488,-304.3047 742.3608,-305.6266 734.9675,-298.0378 731.8488,-304.3047\"/>\n<text text-anchor=\"middle\" x=\"703.083\" y=\"-296.3801\" font-family=\"Times,serif\" font-size=\"14.00\" fill=\"#000000\">. ; a,L</text>\n</g>\n<!-- Q2b -->\n<g id=\"node3\" class=\"node\">\n<title>Q2b</title>\n<ellipse fill=\"none\" stroke=\"#000000\" cx=\"639.7855\" cy=\"-119.5801\" rx=\"27.0966\" ry=\"27.0966\"/>\n<text text-anchor=\"middle\" x=\"639.7855\" y=\"-115.8801\" font-family=\"Times,serif\" font-size=\"14.00\" fill=\"#000000\">Q2b</text>\n</g>\n<!-- Q2b&#45;&gt;Q2b -->\n<g id=\"edge12\" class=\"edge\">\n<title>Q2b&#45;&gt;Q2b</title>\n<path fill=\"none\" stroke=\"#000000\" d=\"M628.2995,-144.7342C627.3592,-155.5862 631.1878,-164.8776 639.7855,-164.8776 645.4277,-164.8776 649.016,-160.8762 650.5506,-155.0581\"/>\n<polygon fill=\"#000000\" stroke=\"#000000\" points=\"654.0663,-154.9537 651.2714,-144.7342 647.0833,-154.4661 654.0663,-154.9537\"/>\n<text text-anchor=\"middle\" x=\"639.7855\" y=\"-198.6776\" font-family=\"Times,serif\" font-size=\"14.00\" fill=\"#000000\">a ; a,R </text>\n<text text-anchor=\"middle\" x=\"639.7855\" y=\"-183.6776\" font-family=\"Times,serif\" font-size=\"14.00\" fill=\"#000000\"> b ; b,R </text>\n<text text-anchor=\"middle\" x=\"639.7855\" y=\"-168.6776\" font-family=\"Times,serif\" font-size=\"14.00\" fill=\"#000000\"> ⊔ ; ⊔,R</text>\n</g>\n<!-- Q3b -->\n<g id=\"node9\" class=\"node\">\n<title>Q3b</title>\n<ellipse fill=\"none\" stroke=\"#000000\" cx=\"766.3806\" cy=\"-36.5801\" rx=\"27.0966\" ry=\"27.0966\"/>\n<text text-anchor=\"middle\" x=\"766.3806\" y=\"-32.8801\" font-family=\"Times,serif\" font-size=\"14.00\" fill=\"#000000\">Q3b</text>\n</g>\n<!-- Q2b&#45;&gt;Q3b -->\n<g id=\"edge13\" class=\"edge\">\n<title>Q2b&#45;&gt;Q3b</title>\n<path fill=\"none\" stroke=\"#000000\" d=\"M662.7109,-104.5494C682.8397,-91.3523 712.3169,-72.026 734.6985,-57.3519\"/>\n<polygon fill=\"#000000\" stroke=\"#000000\" points=\"736.7541,-60.1894 743.198,-51.7794 732.916,-54.3354 736.7541,-60.1894\"/>\n<text text-anchor=\"middle\" x=\"703.083\" y=\"-91.3801\" font-family=\"Times,serif\" font-size=\"14.00\" fill=\"#000000\">. ; b,L</text>\n</g>\n<!-- Q0 -->\n<g id=\"node4\" class=\"node\">\n<title>Q0</title>\n<ellipse fill=\"none\" stroke=\"#000000\" cx=\"239.748\" cy=\"-119.5801\" rx=\"22.9987\" ry=\"22.9987\"/>\n<text text-anchor=\"middle\" x=\"239.748\" y=\"-115.8801\" font-family=\"Times,serif\" font-size=\"14.00\" fill=\"#000000\">Q0</text>\n</g>\n<!-- Q0&#45;&gt;Q0 -->\n<g id=\"edge3\" class=\"edge\">\n<title>Q0&#45;&gt;Q0</title>\n<path fill=\"none\" stroke=\"#000000\" d=\"M228.6026,-139.707C226.7086,-150.4975 230.4238,-160.328 239.748,-160.328 245.867,-160.328 249.5704,-156.0944 250.8581,-150.1341\"/>\n<polygon fill=\"#000000\" stroke=\"#000000\" points=\"254.3595,-149.7188 250.8933,-139.707 247.3595,-149.6951 254.3595,-149.7188\"/>\n<text text-anchor=\"middle\" x=\"239.748\" y=\"-179.128\" font-family=\"Times,serif\" font-size=\"14.00\" fill=\"#000000\">a ; a,R </text>\n<text text-anchor=\"middle\" x=\"239.748\" y=\"-164.128\" font-family=\"Times,serif\" font-size=\"14.00\" fill=\"#000000\"> b ; b,R</text>\n</g>\n<!-- Q1 -->\n<g id=\"node8\" class=\"node\">\n<title>Q1</title>\n<ellipse fill=\"none\" stroke=\"#000000\" cx=\"364.2439\" cy=\"-119.5801\" rx=\"22.9987\" ry=\"22.9987\"/>\n<text text-anchor=\"middle\" x=\"364.2439\" y=\"-115.8801\" font-family=\"Times,serif\" font-size=\"14.00\" fill=\"#000000\">Q1</text>\n</g>\n<!-- Q0&#45;&gt;Q1 -->\n<g id=\"edge4\" class=\"edge\">\n<title>Q0&#45;&gt;Q1</title>\n<path fill=\"none\" stroke=\"#000000\" d=\"M262.5825,-119.5801C281.766,-119.5801 309.4335,-119.5801 331.0631,-119.5801\"/>\n<polygon fill=\"#000000\" stroke=\"#000000\" points=\"331.1327,-123.0802 341.1326,-119.5801 331.1326,-116.0802 331.1327,-123.0802\"/>\n<text text-anchor=\"middle\" x=\"301.996\" y=\"-123.3801\" font-family=\"Times,serif\" font-size=\"14.00\" fill=\"#000000\">. ; ⊔,L</text>\n</g>\n<!-- I&#45;&gt;Q0 -->\n<g id=\"edge2\" class=\"edge\">\n<title>I&#45;&gt;Q0</title>\n<path fill=\"none\" stroke=\"#000000\" d=\"M127.1799,-119.5801C147.6865,-119.5801 181.4589,-119.5801 206.6716,-119.5801\"/>\n<polygon fill=\"#000000\" stroke=\"#000000\" points=\"206.8893,-123.0802 216.8893,-119.5801 206.8893,-116.0802 206.8893,-123.0802\"/>\n<text text-anchor=\"middle\" x=\"172\" y=\"-123.3801\" font-family=\"Times,serif\" font-size=\"14.00\" fill=\"#000000\">⊔ ; ⊔,R</text>\n</g>\n<!-- Q3a&#45;&gt;Q3a -->\n<g id=\"edge14\" class=\"edge\">\n<title>Q3a&#45;&gt;Q3a</title>\n<path fill=\"none\" stroke=\"#000000\" d=\"M754.9373,-341.9204C753.8474,-352.8098 757.6619,-362.2277 766.3806,-362.2277 772.1023,-362.2277 775.7119,-358.1718 777.2093,-352.3057\"/>\n<polygon fill=\"#000000\" stroke=\"#000000\" points=\"780.727,-352.1098 777.824,-341.9204 773.7392,-351.6961 780.727,-352.1098\"/>\n<text text-anchor=\"middle\" x=\"766.3806\" y=\"-396.0277\" font-family=\"Times,serif\" font-size=\"14.00\" fill=\"#000000\">b ; b,L </text>\n<text text-anchor=\"middle\" x=\"766.3806\" y=\"-381.0277\" font-family=\"Times,serif\" font-size=\"14.00\" fill=\"#000000\"> ⊔ ; ⊔,L </text>\n<text text-anchor=\"middle\" x=\"766.3806\" y=\"-366.0277\" font-family=\"Times,serif\" font-size=\"14.00\" fill=\"#000000\"> a ; a,L</text>\n</g>\n<!-- Q2 -->\n<g id=\"node7\" class=\"node\">\n<title>Q2</title>\n<ellipse fill=\"none\" stroke=\"#000000\" cx=\"499.7399\" cy=\"-119.5801\" rx=\"22.9987\" ry=\"22.9987\"/>\n<text text-anchor=\"middle\" x=\"499.7399\" y=\"-115.8801\" font-family=\"Times,serif\" font-size=\"14.00\" fill=\"#000000\">Q2</text>\n</g>\n<!-- Q3a&#45;&gt;Q2 -->\n<g id=\"edge15\" class=\"edge\">\n<title>Q3a&#45;&gt;Q2</title>\n<path fill=\"none\" stroke=\"#000000\" d=\"M744.0152,-332.3563C712.6822,-351.025 654.8156,-377.9484 612.4879,-353.5801 539.3941,-311.4995 512.9229,-206.0057 503.965,-152.218\"/>\n<polygon fill=\"#000000\" stroke=\"#000000\" points=\"507.3992,-151.5243 502.3983,-142.184 500.483,-152.6043 507.3992,-151.5243\"/>\n<text text-anchor=\"middle\" x=\"639.7855\" y=\"-366.3801\" font-family=\"Times,serif\" font-size=\"14.00\" fill=\"#000000\">. ; a,R</text>\n</g>\n<!-- Q2&#45;&gt;Q2a -->\n<g id=\"edge7\" class=\"edge\">\n<title>Q2&#45;&gt;Q2a</title>\n<path fill=\"none\" stroke=\"#000000\" d=\"M516.3549,-135.5965C540.2988,-158.6777 584.755,-201.5323 613.2693,-229.0192\"/>\n<polygon fill=\"#000000\" stroke=\"#000000\" points=\"610.877,-231.5745 620.5056,-235.9948 615.7351,-226.5348 610.877,-231.5745\"/>\n<text text-anchor=\"middle\" x=\"567.4879\" y=\"-214.3801\" font-family=\"Times,serif\" font-size=\"14.00\" fill=\"#000000\">a ; .,R</text>\n</g>\n<!-- Q2&#45;&gt;Q2b -->\n<g id=\"edge8\" class=\"edge\">\n<title>Q2&#45;&gt;Q2b</title>\n<path fill=\"none\" stroke=\"#000000\" d=\"M522.5523,-119.5801C544.0787,-119.5801 576.7472,-119.5801 602.1355,-119.5801\"/>\n<polygon fill=\"#000000\" stroke=\"#000000\" points=\"602.1666,-123.0802 612.1666,-119.5801 602.1666,-116.0802 602.1666,-123.0802\"/>\n<text text-anchor=\"middle\" x=\"567.4879\" y=\"-123.3801\" font-family=\"Times,serif\" font-size=\"14.00\" fill=\"#000000\">b ; .,R</text>\n</g>\n<!-- F -->\n<g id=\"node10\" class=\"node\">\n<title>F</title>\n<ellipse fill=\"none\" stroke=\"#000000\" cx=\"639.7855\" cy=\"-52.5801\" rx=\"18\" ry=\"18\"/>\n<ellipse fill=\"none\" stroke=\"#000000\" cx=\"639.7855\" cy=\"-52.5801\" rx=\"22\" ry=\"22\"/>\n<text text-anchor=\"middle\" x=\"639.7855\" y=\"-48.8801\" font-family=\"Times,serif\" font-size=\"14.00\" fill=\"#000000\">F</text>\n</g>\n<!-- Q2&#45;&gt;F -->\n<g id=\"edge9\" class=\"edge\">\n<title>Q2&#45;&gt;F</title>\n<path fill=\"none\" stroke=\"#000000\" d=\"M520.4041,-109.694C544.1215,-98.3472 583.2103,-79.6465 610.1622,-66.7523\"/>\n<polygon fill=\"#000000\" stroke=\"#000000\" points=\"611.9815,-69.7619 619.4918,-62.2889 608.9605,-63.4473 611.9815,-69.7619\"/>\n<text text-anchor=\"middle\" x=\"567.4879\" y=\"-103.3801\" font-family=\"Times,serif\" font-size=\"14.00\" fill=\"#000000\">⊔ ; ⊔,R</text>\n</g>\n<!-- Q1&#45;&gt;Q2 -->\n<g id=\"edge6\" class=\"edge\">\n<title>Q1&#45;&gt;Q2</title>\n<path fill=\"none\" stroke=\"#000000\" d=\"M387.229,-119.5801C408.9332,-119.5801 441.7319,-119.5801 466.3255,-119.5801\"/>\n<polygon fill=\"#000000\" stroke=\"#000000\" points=\"466.6421,-123.0802 476.6421,-119.5801 466.6421,-116.0802 466.6421,-123.0802\"/>\n<text text-anchor=\"middle\" x=\"431.9919\" y=\"-123.3801\" font-family=\"Times,serif\" font-size=\"14.00\" fill=\"#000000\">⊔ ; ⊔,R</text>\n</g>\n<!-- Q1&#45;&gt;Q1 -->\n<g id=\"edge5\" class=\"edge\">\n<title>Q1&#45;&gt;Q1</title>\n<path fill=\"none\" stroke=\"#000000\" d=\"M353.0986,-139.707C351.2046,-150.4975 354.9197,-160.328 364.2439,-160.328 370.363,-160.328 374.0663,-156.0944 375.3541,-150.1341\"/>\n<polygon fill=\"#000000\" stroke=\"#000000\" points=\"378.8554,-149.7188 375.3893,-139.707 371.8555,-149.6951 378.8554,-149.7188\"/>\n<text text-anchor=\"middle\" x=\"364.2439\" y=\"-179.128\" font-family=\"Times,serif\" font-size=\"14.00\" fill=\"#000000\">b ; b,L </text>\n<text text-anchor=\"middle\" x=\"364.2439\" y=\"-164.128\" font-family=\"Times,serif\" font-size=\"14.00\" fill=\"#000000\"> a ; a,L</text>\n</g>\n<!-- Q3b&#45;&gt;Q2 -->\n<g id=\"edge17\" class=\"edge\">\n<title>Q3b&#45;&gt;Q2</title>\n<path fill=\"none\" stroke=\"#000000\" d=\"M741.9728,-23.816C711.0357,-9.4277 656.4428,9.9353 612.4879,-6.5801 570.5858,-22.3241 536.6761,-63.1842 517.3537,-91.1998\"/>\n<polygon fill=\"#000000\" stroke=\"#000000\" points=\"514.2538,-89.5389 511.6012,-99.7963 520.0715,-93.4319 514.2538,-89.5389\"/>\n<text text-anchor=\"middle\" x=\"639.7855\" y=\"-10.3801\" font-family=\"Times,serif\" font-size=\"14.00\" fill=\"#000000\">. ; b,R</text>\n</g>\n<!-- Q3b&#45;&gt;Q3b -->\n<g id=\"edge16\" class=\"edge\">\n<title>Q3b&#45;&gt;Q3b</title>\n<path fill=\"none\" stroke=\"#000000\" d=\"M754.8947,-61.7342C753.9543,-72.5862 757.783,-81.8776 766.3806,-81.8776 772.0228,-81.8776 775.6112,-77.8762 777.1457,-72.0581\"/>\n<polygon fill=\"#000000\" stroke=\"#000000\" points=\"780.6615,-71.9537 777.8666,-61.7342 773.6785,-71.4661 780.6615,-71.9537\"/>\n<text text-anchor=\"middle\" x=\"766.3806\" y=\"-115.6776\" font-family=\"Times,serif\" font-size=\"14.00\" fill=\"#000000\">b ; b,L </text>\n<text text-anchor=\"middle\" x=\"766.3806\" y=\"-100.6776\" font-family=\"Times,serif\" font-size=\"14.00\" fill=\"#000000\"> ⊔ ; ⊔,L </text>\n<text text-anchor=\"middle\" x=\"766.3806\" y=\"-85.6776\" font-family=\"Times,serif\" font-size=\"14.00\" fill=\"#000000\"> a ; a,L</text>\n</g>\n</g>\n</svg>\n"
          },
          "metadata": {
            "tags": []
          },
          "execution_count": 59
        }
      ]
    },
    {
      "cell_type": "code",
      "metadata": {
        "id": "87ijKVrJjPL8",
        "colab": {
          "base_uri": "https://localhost:8080/"
        },
        "outputId": "7df61155-e7e9-425d-b2fd-8a0e3a1c5380"
      },
      "source": [
        "explore_tm(copyString, \"⊔bab\", 100)"
      ],
      "execution_count": null,
      "outputs": [
        {
          "output_type": "stream",
          "text": [
            "Allocating  8  tape cells to the RIGHT!\n",
            "Detailing the halted configs now.\n",
            "Accepted at  ('F', 5, '⊔bab⊔bab....', 63)\n",
            " via .. \n",
            " ->('I', 0, '⊔bab', 100)\n",
            " ->('Q0', 1, '⊔bab', 99)\n",
            " ->('Q0', 2, '⊔bab', 98)\n",
            " ->('Q0', 3, '⊔bab', 97)\n",
            " ->('Q0', 4, '⊔bab', 96)\n",
            " ->('Q1', 3, '⊔bab⊔.......', 95)\n",
            " ->('Q1', 2, '⊔bab⊔.......', 94)\n",
            " ->('Q1', 1, '⊔bab⊔.......', 93)\n",
            " ->('Q1', 0, '⊔bab⊔.......', 92)\n",
            " ->('Q2', 1, '⊔bab⊔.......', 91)\n",
            " ->('Q2b', 2, '⊔.ab⊔.......', 90)\n",
            " ->('Q2b', 3, '⊔.ab⊔.......', 89)\n",
            " ->('Q2b', 4, '⊔.ab⊔.......', 88)\n",
            " ->('Q2b', 5, '⊔.ab⊔.......', 87)\n",
            " ->('Q3b', 4, '⊔.ab⊔b......', 86)\n",
            " ->('Q3b', 3, '⊔.ab⊔b......', 85)\n",
            " ->('Q3b', 2, '⊔.ab⊔b......', 84)\n",
            " ->('Q3b', 1, '⊔.ab⊔b......', 83)\n",
            " ->('Q2', 2, '⊔bab⊔b......', 82)\n",
            " ->('Q2a', 3, '⊔b.b⊔b......', 81)\n",
            " ->('Q2a', 4, '⊔b.b⊔b......', 80)\n",
            " ->('Q2a', 5, '⊔b.b⊔b......', 79)\n",
            " ->('Q2a', 6, '⊔b.b⊔b......', 78)\n",
            " ->('Q3a', 5, '⊔b.b⊔ba.....', 77)\n",
            " ->('Q3a', 4, '⊔b.b⊔ba.....', 76)\n",
            " ->('Q3a', 3, '⊔b.b⊔ba.....', 75)\n",
            " ->('Q3a', 2, '⊔b.b⊔ba.....', 74)\n",
            " ->('Q2', 3, '⊔bab⊔ba.....', 73)\n",
            " ->('Q2b', 4, '⊔ba.⊔ba.....', 72)\n",
            " ->('Q2b', 5, '⊔ba.⊔ba.....', 71)\n",
            " ->('Q2b', 6, '⊔ba.⊔ba.....', 70)\n",
            " ->('Q2b', 7, '⊔ba.⊔ba.....', 69)\n",
            " ->('Q3b', 6, '⊔ba.⊔bab....', 68)\n",
            " ->('Q3b', 5, '⊔ba.⊔bab....', 67)\n",
            " ->('Q3b', 4, '⊔ba.⊔bab....', 66)\n",
            " ->('Q3b', 3, '⊔ba.⊔bab....', 65)\n",
            " ->('Q2', 4, '⊔bab⊔bab....', 64)\n",
            " ->('F', 5, '⊔bab⊔bab....', 63)\n"
          ],
          "name": "stdout"
        }
      ]
    },
    {
      "cell_type": "markdown",
      "metadata": {
        "id": "sTNke7j5t9D6"
      },
      "source": [
        "## TODO Refresh Your Knowledge of the 3x+1 Conjecture"
      ]
    },
    {
      "cell_type": "markdown",
      "metadata": {
        "id": "NpXXTnxMuN8t"
      },
      "source": [
        "The code on page 200 does the 3x+1 Conjecture testing recursively:"
      ]
    },
    {
      "cell_type": "code",
      "metadata": {
        "id": "8E-aZBdbuCo5",
        "colab": {
          "base_uri": "https://localhost:8080/"
        },
        "outputId": "dbbfa68a-b785-4b97-9665-5fa4ff08bed8"
      },
      "source": [
        "def tep1(x):\n",
        "    if (x==1):\n",
        "        return 1\n",
        "    elif (x%2 == 0):\n",
        "        return tep1(x/2)\n",
        "    else:\n",
        "        return tep1(3*x+1)\n",
        "\n",
        "print(tep1(3))\n",
        "print(tep1(191))\n",
        "print(tep1(19192949297080))\n",
        "print(tep1(191929492970809272397923472398492839482))\n",
        "print(tep1(191929492970809272397923472398492839482938492))"
      ],
      "execution_count": null,
      "outputs": [
        {
          "output_type": "stream",
          "text": [
            "1\n",
            "1\n",
            "1\n",
            "1\n",
            "1\n"
          ],
          "name": "stdout"
        }
      ]
    },
    {
      "cell_type": "markdown",
      "metadata": {
        "id": "4zkYEg08uZju"
      },
      "source": [
        "Two Python techniques --- \"memoizing\" and \"listifying\" --- make for faster code:"
      ]
    },
    {
      "cell_type": "code",
      "metadata": {
        "id": "er7VN37Au07d",
        "colab": {
          "base_uri": "https://localhost:8080/"
        },
        "outputId": "c095bdcb-6da3-44db-e650-1ca71c9a556c"
      },
      "source": [
        "def memoize(func):\n",
        "    results = {}\n",
        "    def inner(i):\n",
        "        if not i in results:\n",
        "            results[i] = func(i)\n",
        "        return results[i]\n",
        "    return inner\n",
        "\n",
        "def listify(func):\n",
        "    def inner(x):\n",
        "        return list(func(x))\n",
        "    return inner\n",
        "\n",
        "@memoize\n",
        "def tep1(x):\n",
        "    return 1 if x == 2 else tep1(x/2) if x%2 == 0 else tep1(3*x+1)\n",
        "\n",
        "@listify\n",
        "def tepmany(x):\n",
        "    for i in range(1, x+1):\n",
        "        yield tep1(i)\n",
        "\n",
        "print(max(tepmany(100000)))"
      ],
      "execution_count": null,
      "outputs": [
        {
          "output_type": "stream",
          "text": [
            "1\n"
          ],
          "name": "stdout"
        }
      ]
    },
    {
      "cell_type": "markdown",
      "metadata": {
        "id": "0QX5geEMvvcw"
      },
      "source": [
        "# TODO Modify a NON-Trivial Turing Machine Program"
      ]
    },
    {
      "cell_type": "markdown",
      "metadata": {
        "id": "3TemaqVUv1MI"
      },
      "source": [
        "The Turing machine program on page 202 performs the continuing 3x+1 transformation on an input that is a binary number. So for example if the\n",
        "initial tape has\n",
        "\n",
        "$11$\n",
        "\n",
        "which is the binary representation of the decimal number three, the final tape\n",
        "will have\n",
        "\n",
        "$1$\n",
        "\n",
        "on it.\n",
        "\n",
        "Modify the program so that a trace of all intermediate results appears on the output tape, e.g.:\n",
        "\n",
        "$11*1010*101*10000*1000*100*10*1$\n",
        "\n",
        "which separates with a star the binary representations of the numbers in the\n",
        "continuing 3x+1 transformation from 3 to 10 to 5 to 16 to 8 to 4 to 2 to 1.\n"
      ]
    },
    {
      "cell_type": "code",
      "metadata": {
        "id": "zNA5fElit7-l",
        "outputId": "2a2de83d-7fa6-432e-d05b-06f911ae26b4",
        "colab": {
          "base_uri": "https://localhost:8080/",
          "height": 884
        }
      },
      "source": [
        "collatz = md2mc('''\r\n",
        "TM \r\n",
        "\r\n",
        "I : 0 ; 0 , L -> I\r\n",
        "I : 1 ; 1 , L -> I\r\n",
        "I : . ; * , R -> C0\r\n",
        "I : * ; * , R -> C0\r\n",
        "\r\n",
        "C0 : 0 ; 0 , R -> C0\r\n",
        "C0 : 1 ; 1 , R -> C0\r\n",
        "C0 : . ; * , L -> C1\r\n",
        "\r\n",
        "C1 : 0 ; 0 , L -> C1\r\n",
        "C1 : 1 ; 1 , L -> C1\r\n",
        "C1 : * ; * , R -> C2\r\n",
        "\r\n",
        "C2 : 0 ; . , R -> C20\r\n",
        "C2 : 1 ; . , R -> C21\r\n",
        "C2 : * ; * , R -> SI\r\n",
        "\r\n",
        "C20 : 0 ; 0 , R -> C20\r\n",
        "C20 : 1 ; 1 , R -> C20\r\n",
        "C20 : * ; * , R -> C20\r\n",
        "C20 : . ; 0 , L -> C30\r\n",
        "\r\n",
        "C21 : 0 ; 0 , R -> C21\r\n",
        "C21 : 1 ; 1 , R -> C21\r\n",
        "C21 : * ; * , R -> C21\r\n",
        "C21 : . ; 1 , L -> C31\r\n",
        "\r\n",
        "C30 : 0 ; 0 , L -> C30\r\n",
        "C30 : 1 ; 1 , L -> C30\r\n",
        "C30 : * ; * , L -> C30\r\n",
        "C30 : . ; 0 , R -> C2\r\n",
        "\r\n",
        "C31 : 0 ; 0 , L -> C31\r\n",
        "C31 : 1 ; 1 , L -> C31\r\n",
        "C31 : * ; * , L -> C31\r\n",
        "C31 : . ; 1 , R -> C2\r\n",
        "\r\n",
        "\r\n",
        "SI : 0 ; 0 , R -> SI\r\n",
        "SI : 1 ; 1 , R -> SI \r\n",
        "SI : . ; . , L -> S0\r\n",
        "\r\n",
        "S0 : 0 ; 0 , L -> D0\r\n",
        "S0 : 1 ; 1 , L -> S1\r\n",
        "\r\n",
        "S1 : 1 ; 1 , L -> S2\r\n",
        "S1 : 0 ; 0 , L -> S2\r\n",
        "S1 : * ; * , L -> F\r\n",
        "\r\n",
        "S2 : 1 ; 1 , R -> M3\r\n",
        "S2 : 0 ; 0 , R -> M3\r\n",
        "S2 : * ; * , R -> M3\r\n",
        "\r\n",
        "!! DIVIDE BY 2 !!\r\n",
        "D0 : 0 ; 0 , R -> D0\r\n",
        "D0 : 1 ; 1 , R -> D0\r\n",
        "D0 : . ; . , L -> D1\r\n",
        "\r\n",
        "D1 : 0 ; . , L -> I\r\n",
        "\r\n",
        "!! MULTIPLY BY 3 !!\r\n",
        "M3 : 0 ; 0 , R -> M3\r\n",
        "M3 : 1 ; 1 , R -> M3\r\n",
        "M3 : . ; . , L -> Q0\r\n",
        "\r\n",
        "Q0 : 0 ; 0, R -> Q1\r\n",
        "Q0 : 1 ; 1, R -> Q2\r\n",
        "\r\n",
        "Q1 : . ; 0 , L -> Q3\r\n",
        "Q2 : . ; 1 , L -> Q3\r\n",
        "\r\n",
        "Q3 : 0 ; 0, L -> Q4\r\n",
        "Q3 : 1 ; 1, L -> Q4\r\n",
        "\r\n",
        "Q4 : 0 ; 0, R -> Q5\r\n",
        "Q4 : 1 ; 1, R -> Q6\r\n",
        "Q4 : . ; . , R -> A1\r\n",
        "Q4 : * ; * , R -> A1\r\n",
        "\r\n",
        "Q5 : 0 ; 0 , L -> Q3\r\n",
        "Q5 : 1 ; 1 , L -> Q3\r\n",
        "Q5 : . ; . , R -> A1\r\n",
        "\r\n",
        "Q6 : 0 ; 1 , L -> Q3\r\n",
        "Q6 : 1 ; 0 , L -> Q7\r\n",
        "\r\n",
        "Q7 : 0 ; 1 , L -> Q3\r\n",
        "Q7 : 1 ; 0 , L -> Q7\r\n",
        "Q7 : . ; 1 , R -> A1\r\n",
        "Q7 : * ; 1 , R -> Q8\r\n",
        "\r\n",
        "Q8 : 0 ; 0 , L -> SHM\r\n",
        "Q8 : 1 ; 1 , L -> SHM\r\n",
        "Q8 : * ; 1 , L -> SHM\r\n",
        "\r\n",
        "!! ADD 1 !!\r\n",
        "A1 : 0 ; 0 , R -> A1\r\n",
        "A1 : 1 ; 1 , R -> A1\r\n",
        "A1 : . ; . , L -> A2\r\n",
        "\r\n",
        "A2 : 0 ; 1 , L -> I\r\n",
        "A2 : 1 ; 0 , L -> A2\r\n",
        "A2 : . ; 1 , L -> I\r\n",
        "A2 : * ; 1 , R -> A3\r\n",
        "\r\n",
        "A3 : 0 ; 0 , L -> SHA\r\n",
        "A3 : 1 ; 1 , L -> SHA\r\n",
        "A3 : * ; 1 , L -> SHA\r\n",
        "\r\n",
        "!! SHIFT AFTER MULT !!\r\n",
        "SHM : 0 ; * , R -> P0M\r\n",
        "SHM : 1 ; * , R -> P1M\r\n",
        "\r\n",
        "P0M : 0 ; 0 , R -> P0M\r\n",
        "P0M : 1 ; 0 , R -> P1M\r\n",
        "P0M : . ; 0 , L -> A1\r\n",
        "\r\n",
        "P1M : 0 ; 1 , R -> P0M\r\n",
        "P1M : 1 ; 1 , R -> P1M\r\n",
        "P1M : . ; 1 , L -> A1\r\n",
        "\r\n",
        "!! SHIFT AFTER ADD !!\r\n",
        "SHA : 0 ; * , R -> P0A\r\n",
        "SHA : 1 ; * , R -> P1A\r\n",
        "\r\n",
        "P0A : 0 ; 0 , R -> P0A\r\n",
        "P0A : 1 ; 0 , R -> P1A\r\n",
        "P0A : . ; 0 , L -> I\r\n",
        "\r\n",
        "P1A : 0 ; 1 , R -> P0A\r\n",
        "P1A : 1 ; 1 , R -> P1A\r\n",
        "P1A : . ; 1 , L -> I\r\n",
        "\r\n",
        "''')\r\n",
        "dotObj_tm(collatz, FuseEdges=True)"
      ],
      "execution_count": 103,
      "outputs": [
        {
          "output_type": "execute_result",
          "data": {
            "text/plain": [
              "<graphviz.dot.Digraph at 0x7f0bc33a2610>"
            ],
            "image/svg+xml": "<?xml version=\"1.0\" encoding=\"UTF-8\" standalone=\"no\"?>\n<!DOCTYPE svg PUBLIC \"-//W3C//DTD SVG 1.1//EN\"\n \"http://www.w3.org/Graphics/SVG/1.1/DTD/svg11.dtd\">\n<!-- Generated by graphviz version 2.40.1 (20161225.0304)\n -->\n<!-- Title: %3 Pages: 1 -->\n<svg width=\"3141pt\" height=\"632pt\"\n viewBox=\"0.00 0.00 3141.19 632.00\" xmlns=\"http://www.w3.org/2000/svg\" xmlns:xlink=\"http://www.w3.org/1999/xlink\">\n<g id=\"graph0\" class=\"graph\" transform=\"scale(1 1) rotate(0) translate(4 628)\">\n<title>%3</title>\n<polygon fill=\"#ffffff\" stroke=\"transparent\" points=\"-4,4 -4,-628 3137.1949,-628 3137.1949,4 -4,4\"/>\n<!-- EMPTY -->\n<g id=\"node1\" class=\"node\">\n<title>EMPTY</title>\n</g>\n<!-- I -->\n<g id=\"node5\" class=\"node\">\n<title>I</title>\n<ellipse fill=\"none\" stroke=\"#000000\" cx=\"109\" cy=\"-95\" rx=\"18\" ry=\"18\"/>\n<text text-anchor=\"middle\" x=\"109\" y=\"-91.3\" font-family=\"Times,serif\" font-size=\"14.00\" fill=\"#000000\">I</text>\n</g>\n<!-- EMPTY&#45;&gt;I -->\n<g id=\"edge1\" class=\"edge\">\n<title>EMPTY&#45;&gt;I</title>\n<path fill=\"none\" stroke=\"#000000\" d=\"M54.3048,-95C62.6909,-95 71.9407,-95 80.4103,-95\"/>\n<polygon fill=\"#000000\" stroke=\"#000000\" points=\"80.5976,-98.5001 90.5976,-95 80.5976,-91.5001 80.5976,-98.5001\"/>\n</g>\n<!-- M3 -->\n<g id=\"node2\" class=\"node\">\n<title>M3</title>\n<ellipse fill=\"none\" stroke=\"#000000\" cx=\"1096.2186\" cy=\"-273\" rx=\"24.0958\" ry=\"24.0958\"/>\n<text text-anchor=\"middle\" x=\"1096.2186\" y=\"-269.3\" font-family=\"Times,serif\" font-size=\"14.00\" fill=\"#000000\">M3</text>\n</g>\n<!-- M3&#45;&gt;M3 -->\n<g id=\"edge29\" class=\"edge\">\n<title>M3&#45;&gt;M3</title>\n<path fill=\"none\" stroke=\"#000000\" d=\"M1085.6648,-294.6345C1084.2046,-305.4239 1087.7225,-315.0479 1096.2186,-315.0479 1101.7941,-315.0479 1105.2258,-310.9032 1106.5135,-305.0043\"/>\n<polygon fill=\"#000000\" stroke=\"#000000\" points=\"1110.0216,-304.7187 1106.7723,-294.6345 1103.0238,-304.544 1110.0216,-304.7187\"/>\n<text text-anchor=\"middle\" x=\"1096.2186\" y=\"-333.8479\" font-family=\"Times,serif\" font-size=\"14.00\" fill=\"#000000\">1 ; 1,R </text>\n<text text-anchor=\"middle\" x=\"1096.2186\" y=\"-318.8479\" font-family=\"Times,serif\" font-size=\"14.00\" fill=\"#000000\"> 0 ; 0,R</text>\n</g>\n<!-- Q0 -->\n<g id=\"node28\" class=\"node\">\n<title>Q0</title>\n<ellipse fill=\"none\" stroke=\"#000000\" cx=\"1211.0144\" cy=\"-273\" rx=\"22.9987\" ry=\"22.9987\"/>\n<text text-anchor=\"middle\" x=\"1211.0144\" y=\"-269.3\" font-family=\"Times,serif\" font-size=\"14.00\" fill=\"#000000\">Q0</text>\n</g>\n<!-- M3&#45;&gt;Q0 -->\n<g id=\"edge30\" class=\"edge\">\n<title>M3&#45;&gt;Q0</title>\n<path fill=\"none\" stroke=\"#000000\" d=\"M1120.2835,-273C1137.0693,-273 1159.6754,-273 1178.1232,-273\"/>\n<polygon fill=\"#000000\" stroke=\"#000000\" points=\"1178.1543,-276.5001 1188.1543,-273 1178.1542,-269.5001 1178.1543,-276.5001\"/>\n<text text-anchor=\"middle\" x=\"1154.2664\" y=\"-276.8\" font-family=\"Times,serif\" font-size=\"14.00\" fill=\"#000000\">. ; .,L</text>\n</g>\n<!-- C2 -->\n<g id=\"node3\" class=\"node\">\n<title>C2</title>\n<ellipse fill=\"none\" stroke=\"#000000\" cx=\"465.4902\" cy=\"-275\" rx=\"22.1965\" ry=\"22.1965\"/>\n<text text-anchor=\"middle\" x=\"465.4902\" y=\"-271.3\" font-family=\"Times,serif\" font-size=\"14.00\" fill=\"#000000\">C2</text>\n</g>\n<!-- C20 -->\n<g id=\"node19\" class=\"node\">\n<title>C20</title>\n<ellipse fill=\"none\" stroke=\"#000000\" cx=\"590.2359\" cy=\"-305\" rx=\"26.7961\" ry=\"26.7961\"/>\n<text text-anchor=\"middle\" x=\"590.2359\" y=\"-301.3\" font-family=\"Times,serif\" font-size=\"14.00\" fill=\"#000000\">C20</text>\n</g>\n<!-- C2&#45;&gt;C20 -->\n<g id=\"edge8\" class=\"edge\">\n<title>C2&#45;&gt;C20</title>\n<path fill=\"none\" stroke=\"#000000\" d=\"M487.2192,-280.2256C505.6594,-284.6603 532.4943,-291.1138 554.1527,-296.3224\"/>\n<polygon fill=\"#000000\" stroke=\"#000000\" points=\"553.4583,-299.7551 563.9995,-298.6904 555.0952,-292.9492 553.4583,-299.7551\"/>\n<text text-anchor=\"middle\" x=\"525.5882\" y=\"-296.8\" font-family=\"Times,serif\" font-size=\"14.00\" fill=\"#000000\">0 ; .,R</text>\n</g>\n<!-- C21 -->\n<g id=\"node26\" class=\"node\">\n<title>C21</title>\n<ellipse fill=\"none\" stroke=\"#000000\" cx=\"590.2359\" cy=\"-491\" rx=\"26.7961\" ry=\"26.7961\"/>\n<text text-anchor=\"middle\" x=\"590.2359\" y=\"-487.3\" font-family=\"Times,serif\" font-size=\"14.00\" fill=\"#000000\">C21</text>\n</g>\n<!-- C2&#45;&gt;C21 -->\n<g id=\"edge9\" class=\"edge\">\n<title>C2&#45;&gt;C21</title>\n<path fill=\"none\" stroke=\"#000000\" d=\"M468.3973,-296.9088C474.126,-337.37 487.8709,-421.8061 505.5882,-445 518.0098,-461.2612 537.8917,-472.4858 555.2662,-479.774\"/>\n<polygon fill=\"#000000\" stroke=\"#000000\" points=\"554.0096,-483.0406 564.5974,-483.425 556.5602,-476.5219 554.0096,-483.0406\"/>\n<text text-anchor=\"middle\" x=\"525.5882\" y=\"-477.8\" font-family=\"Times,serif\" font-size=\"14.00\" fill=\"#000000\">1 ; .,R</text>\n</g>\n<!-- SI -->\n<g id=\"node30\" class=\"node\">\n<title>SI</title>\n<ellipse fill=\"none\" stroke=\"#000000\" cx=\"590.2359\" cy=\"-142\" rx=\"18.6979\" ry=\"18.6979\"/>\n<text text-anchor=\"middle\" x=\"590.2359\" y=\"-138.3\" font-family=\"Times,serif\" font-size=\"14.00\" fill=\"#000000\">SI</text>\n</g>\n<!-- C2&#45;&gt;SI -->\n<g id=\"edge10\" class=\"edge\">\n<title>C2&#45;&gt;SI</title>\n<path fill=\"none\" stroke=\"#000000\" d=\"M476.8032,-255.7687C484.2729,-243.7758 494.6694,-228.3327 505.5882,-216 524.3806,-194.7744 549.0945,-173.8151 566.9627,-159.6515\"/>\n<polygon fill=\"#000000\" stroke=\"#000000\" points=\"569.4023,-162.1871 575.1285,-153.2729 565.0932,-156.6705 569.4023,-162.1871\"/>\n<text text-anchor=\"middle\" x=\"525.5882\" y=\"-219.8\" font-family=\"Times,serif\" font-size=\"14.00\" fill=\"#000000\">* ; *,R</text>\n</g>\n<!-- S2 -->\n<g id=\"node4\" class=\"node\">\n<title>S2</title>\n<ellipse fill=\"none\" stroke=\"#000000\" cx=\"965.4227\" cy=\"-273\" rx=\"20.5982\" ry=\"20.5982\"/>\n<text text-anchor=\"middle\" x=\"965.4227\" y=\"-269.3\" font-family=\"Times,serif\" font-size=\"14.00\" fill=\"#000000\">S2</text>\n</g>\n<!-- S2&#45;&gt;M3 -->\n<g id=\"edge25\" class=\"edge\">\n<title>S2&#45;&gt;M3</title>\n<path fill=\"none\" stroke=\"#000000\" d=\"M986.4373,-273C1006.8183,-273 1038.0883,-273 1062.0494,-273\"/>\n<polygon fill=\"#000000\" stroke=\"#000000\" points=\"1062.1477,-276.5001 1072.1477,-273 1062.1476,-269.5001 1062.1477,-276.5001\"/>\n<text text-anchor=\"middle\" x=\"1030.1707\" y=\"-306.8\" font-family=\"Times,serif\" font-size=\"14.00\" fill=\"#000000\">* ; *,R </text>\n<text text-anchor=\"middle\" x=\"1030.1707\" y=\"-291.8\" font-family=\"Times,serif\" font-size=\"14.00\" fill=\"#000000\"> 1 ; 1,R </text>\n<text text-anchor=\"middle\" x=\"1030.1707\" y=\"-276.8\" font-family=\"Times,serif\" font-size=\"14.00\" fill=\"#000000\"> 0 ; 0,R</text>\n</g>\n<!-- I&#45;&gt;I -->\n<g id=\"edge2\" class=\"edge\">\n<title>I&#45;&gt;I</title>\n<path fill=\"none\" stroke=\"#000000\" d=\"M102.6208,-112.0373C101.3189,-121.8579 103.4453,-131 109,-131 112.4717,-131 114.6042,-127.4289 115.3975,-122.3529\"/>\n<polygon fill=\"#000000\" stroke=\"#000000\" points=\"118.8971,-122.031 115.3792,-112.0373 111.8971,-122.0435 118.8971,-122.031\"/>\n<text text-anchor=\"middle\" x=\"109\" y=\"-149.8\" font-family=\"Times,serif\" font-size=\"14.00\" fill=\"#000000\">0 ; 0,L </text>\n<text text-anchor=\"middle\" x=\"109\" y=\"-134.8\" font-family=\"Times,serif\" font-size=\"14.00\" fill=\"#000000\"> 1 ; 1,L</text>\n</g>\n<!-- C0 -->\n<g id=\"node27\" class=\"node\">\n<title>C0</title>\n<ellipse fill=\"none\" stroke=\"#000000\" cx=\"229.098\" cy=\"-195\" rx=\"22.1965\" ry=\"22.1965\"/>\n<text text-anchor=\"middle\" x=\"229.098\" y=\"-191.3\" font-family=\"Times,serif\" font-size=\"14.00\" fill=\"#000000\">C0</text>\n</g>\n<!-- I&#45;&gt;C0 -->\n<g id=\"edge3\" class=\"edge\">\n<title>I&#45;&gt;C0</title>\n<path fill=\"none\" stroke=\"#000000\" d=\"M123.2484,-106.864C143.1217,-123.4115 179.4726,-153.6793 203.9588,-174.0677\"/>\n<polygon fill=\"#000000\" stroke=\"#000000\" points=\"201.8426,-176.8602 211.767,-180.5693 206.3218,-171.4808 201.8426,-176.8602\"/>\n<text text-anchor=\"middle\" x=\"167\" y=\"-178.8\" font-family=\"Times,serif\" font-size=\"14.00\" fill=\"#000000\">* ; *,R </text>\n<text text-anchor=\"middle\" x=\"167\" y=\"-163.8\" font-family=\"Times,serif\" font-size=\"14.00\" fill=\"#000000\"> . ; *,R</text>\n</g>\n<!-- C30 -->\n<g id=\"node6\" class=\"node\">\n<title>C30</title>\n<ellipse fill=\"none\" stroke=\"#000000\" cx=\"715.5311\" cy=\"-273\" rx=\"26.7961\" ry=\"26.7961\"/>\n<text text-anchor=\"middle\" x=\"715.5311\" y=\"-269.3\" font-family=\"Times,serif\" font-size=\"14.00\" fill=\"#000000\">C30</text>\n</g>\n<!-- C30&#45;&gt;C2 -->\n<g id=\"edge16\" class=\"edge\">\n<title>C30&#45;&gt;C2</title>\n<path fill=\"none\" stroke=\"#000000\" d=\"M689.3503,-266.5471C669.5827,-262.0201 641.7115,-256.3692 616.8835,-254 593.3038,-251.7499 587.1435,-251.507 563.5882,-254 540.9788,-256.3929 515.9202,-261.8058 496.789,-266.5366\"/>\n<polygon fill=\"#000000\" stroke=\"#000000\" points=\"495.9268,-263.1443 487.097,-268.9997 497.651,-269.9287 495.9268,-263.1443\"/>\n<text text-anchor=\"middle\" x=\"590.2359\" y=\"-257.8\" font-family=\"Times,serif\" font-size=\"14.00\" fill=\"#000000\">. ; 0,R</text>\n</g>\n<!-- C30&#45;&gt;C30 -->\n<g id=\"edge15\" class=\"edge\">\n<title>C30&#45;&gt;C30</title>\n<path fill=\"none\" stroke=\"#000000\" d=\"M704.0878,-297.3404C702.9979,-308.2298 706.8124,-317.6476 715.5311,-317.6476 721.2528,-317.6476 724.8624,-313.5917 726.3599,-307.7256\"/>\n<polygon fill=\"#000000\" stroke=\"#000000\" points=\"729.8775,-307.5297 726.9745,-297.3404 722.8897,-307.1161 729.8775,-307.5297\"/>\n<text text-anchor=\"middle\" x=\"715.5311\" y=\"-351.4476\" font-family=\"Times,serif\" font-size=\"14.00\" fill=\"#000000\">* ; *,L </text>\n<text text-anchor=\"middle\" x=\"715.5311\" y=\"-336.4476\" font-family=\"Times,serif\" font-size=\"14.00\" fill=\"#000000\"> 0 ; 0,L </text>\n<text text-anchor=\"middle\" x=\"715.5311\" y=\"-321.4476\" font-family=\"Times,serif\" font-size=\"14.00\" fill=\"#000000\"> 1 ; 1,L</text>\n</g>\n<!-- A2 -->\n<g id=\"node7\" class=\"node\">\n<title>A2</title>\n<ellipse fill=\"none\" stroke=\"#000000\" cx=\"2583.3662\" cy=\"-115\" rx=\"22.9987\" ry=\"22.9987\"/>\n<text text-anchor=\"middle\" x=\"2583.3662\" y=\"-111.3\" font-family=\"Times,serif\" font-size=\"14.00\" fill=\"#000000\">A2</text>\n</g>\n<!-- A2&#45;&gt;I -->\n<g id=\"edge50\" class=\"edge\">\n<title>A2&#45;&gt;I</title>\n<path fill=\"none\" stroke=\"#000000\" d=\"M2561.3855,-108.7815C2538.6682,-102.9105 2502.0827,-95 2469.8702,-95 229.098,-95 229.098,-95 229.098,-95 197.8176,-95 161.9544,-95 137.6223,-95\"/>\n<polygon fill=\"#000000\" stroke=\"#000000\" points=\"137.312,-91.5001 127.312,-95 137.312,-98.5001 137.312,-91.5001\"/>\n<text text-anchor=\"middle\" x=\"1332.5104\" y=\"-113.8\" font-family=\"Times,serif\" font-size=\"14.00\" fill=\"#000000\">0 ; 1,L </text>\n<text text-anchor=\"middle\" x=\"1332.5104\" y=\"-98.8\" font-family=\"Times,serif\" font-size=\"14.00\" fill=\"#000000\"> . ; 1,L</text>\n</g>\n<!-- A2&#45;&gt;A2 -->\n<g id=\"edge51\" class=\"edge\">\n<title>A2&#45;&gt;A2</title>\n<path fill=\"none\" stroke=\"#000000\" d=\"M2573.2353,-135.5468C2571.6768,-146.1711 2575.0537,-155.748 2583.3662,-155.748 2588.8213,-155.748 2592.1508,-151.6236 2593.3548,-145.7854\"/>\n<polygon fill=\"#000000\" stroke=\"#000000\" points=\"2596.8576,-145.5946 2593.4971,-135.5468 2589.8583,-145.4972 2596.8576,-145.5946\"/>\n<text text-anchor=\"middle\" x=\"2583.3662\" y=\"-159.548\" font-family=\"Times,serif\" font-size=\"14.00\" fill=\"#000000\">1 ; 0,L</text>\n</g>\n<!-- A3 -->\n<g id=\"node16\" class=\"node\">\n<title>A3</title>\n<ellipse fill=\"none\" stroke=\"#000000\" cx=\"2704.8622\" cy=\"-115\" rx=\"22.9987\" ry=\"22.9987\"/>\n<text text-anchor=\"middle\" x=\"2704.8622\" y=\"-111.3\" font-family=\"Times,serif\" font-size=\"14.00\" fill=\"#000000\">A3</text>\n</g>\n<!-- A2&#45;&gt;A3 -->\n<g id=\"edge52\" class=\"edge\">\n<title>A2&#45;&gt;A3</title>\n<path fill=\"none\" stroke=\"#000000\" d=\"M2606.2187,-115C2624.8008,-115 2651.2594,-115 2672.097,-115\"/>\n<polygon fill=\"#000000\" stroke=\"#000000\" points=\"2672.1122,-118.5001 2682.1122,-115 2672.1121,-111.5001 2672.1122,-118.5001\"/>\n<text text-anchor=\"middle\" x=\"2644.1142\" y=\"-118.8\" font-family=\"Times,serif\" font-size=\"14.00\" fill=\"#000000\">* ; 1,R</text>\n</g>\n<!-- Q8 -->\n<g id=\"node8\" class=\"node\">\n<title>Q8</title>\n<ellipse fill=\"none\" stroke=\"#000000\" cx=\"1938.9902\" cy=\"-215\" rx=\"22.9987\" ry=\"22.9987\"/>\n<text text-anchor=\"middle\" x=\"1938.9902\" y=\"-211.3\" font-family=\"Times,serif\" font-size=\"14.00\" fill=\"#000000\">Q8</text>\n</g>\n<!-- SHM -->\n<g id=\"node31\" class=\"node\">\n<title>SHM</title>\n<ellipse fill=\"none\" stroke=\"#000000\" cx=\"2074.9354\" cy=\"-203\" rx=\"31.3957\" ry=\"31.3957\"/>\n<text text-anchor=\"middle\" x=\"2074.9354\" y=\"-199.3\" font-family=\"Times,serif\" font-size=\"14.00\" fill=\"#000000\">SHM</text>\n</g>\n<!-- Q8&#45;&gt;SHM -->\n<g id=\"edge47\" class=\"edge\">\n<title>Q8&#45;&gt;SHM</title>\n<path fill=\"none\" stroke=\"#000000\" d=\"M1961.7444,-212.9915C1981.2997,-211.2653 2009.9935,-208.7325 2033.5972,-206.649\"/>\n<polygon fill=\"#000000\" stroke=\"#000000\" points=\"2034.042,-210.1234 2043.6955,-205.7576 2033.4265,-203.1505 2034.042,-210.1234\"/>\n<text text-anchor=\"middle\" x=\"2002.7382\" y=\"-245.8\" font-family=\"Times,serif\" font-size=\"14.00\" fill=\"#000000\">* ; 1,L </text>\n<text text-anchor=\"middle\" x=\"2002.7382\" y=\"-230.8\" font-family=\"Times,serif\" font-size=\"14.00\" fill=\"#000000\"> 0 ; 0,L </text>\n<text text-anchor=\"middle\" x=\"2002.7382\" y=\"-215.8\" font-family=\"Times,serif\" font-size=\"14.00\" fill=\"#000000\"> 1 ; 1,L</text>\n</g>\n<!-- S0 -->\n<g id=\"node9\" class=\"node\">\n<title>S0</title>\n<ellipse fill=\"none\" stroke=\"#000000\" cx=\"715.5311\" cy=\"-182\" rx=\"20.5982\" ry=\"20.5982\"/>\n<text text-anchor=\"middle\" x=\"715.5311\" y=\"-178.3\" font-family=\"Times,serif\" font-size=\"14.00\" fill=\"#000000\">S0</text>\n</g>\n<!-- D0 -->\n<g id=\"node20\" class=\"node\">\n<title>D0</title>\n<ellipse fill=\"none\" stroke=\"#000000\" cx=\"840.9268\" cy=\"-182\" rx=\"22.9987\" ry=\"22.9987\"/>\n<text text-anchor=\"middle\" x=\"840.9268\" y=\"-178.3\" font-family=\"Times,serif\" font-size=\"14.00\" fill=\"#000000\">D0</text>\n</g>\n<!-- S0&#45;&gt;D0 -->\n<g id=\"edge21\" class=\"edge\">\n<title>S0&#45;&gt;D0</title>\n<path fill=\"none\" stroke=\"#000000\" d=\"M736.5195,-182C756.0207,-182 785.3742,-182 807.9956,-182\"/>\n<polygon fill=\"#000000\" stroke=\"#000000\" points=\"808.1709,-185.5001 818.1709,-182 808.1708,-178.5001 808.1709,-185.5001\"/>\n<text text-anchor=\"middle\" x=\"780.1788\" y=\"-185.8\" font-family=\"Times,serif\" font-size=\"14.00\" fill=\"#000000\">0 ; 0,L</text>\n</g>\n<!-- S1 -->\n<g id=\"node32\" class=\"node\">\n<title>S1</title>\n<ellipse fill=\"none\" stroke=\"#000000\" cx=\"840.9268\" cy=\"-292\" rx=\"20.5982\" ry=\"20.5982\"/>\n<text text-anchor=\"middle\" x=\"840.9268\" y=\"-288.3\" font-family=\"Times,serif\" font-size=\"14.00\" fill=\"#000000\">S1</text>\n</g>\n<!-- S0&#45;&gt;S1 -->\n<g id=\"edge22\" class=\"edge\">\n<title>S0&#45;&gt;S1</title>\n<path fill=\"none\" stroke=\"#000000\" d=\"M731.4126,-195.9316C753.1775,-215.0243 792.4297,-249.4572 817.5537,-271.4966\"/>\n<polygon fill=\"#000000\" stroke=\"#000000\" points=\"815.3487,-274.2181 825.1743,-278.1815 819.9649,-268.9559 815.3487,-274.2181\"/>\n<text text-anchor=\"middle\" x=\"780.1788\" y=\"-256.8\" font-family=\"Times,serif\" font-size=\"14.00\" fill=\"#000000\">1 ; 1,L</text>\n</g>\n<!-- Q5 -->\n<g id=\"node10\" class=\"node\">\n<title>Q5</title>\n<ellipse fill=\"none\" stroke=\"#000000\" cx=\"1695.9983\" cy=\"-382\" rx=\"22.9987\" ry=\"22.9987\"/>\n<text text-anchor=\"middle\" x=\"1695.9983\" y=\"-378.3\" font-family=\"Times,serif\" font-size=\"14.00\" fill=\"#000000\">Q5</text>\n</g>\n<!-- A1 -->\n<g id=\"node18\" class=\"node\">\n<title>A1</title>\n<ellipse fill=\"none\" stroke=\"#000000\" cx=\"2469.8702\" cy=\"-271\" rx=\"22.9987\" ry=\"22.9987\"/>\n<text text-anchor=\"middle\" x=\"2469.8702\" y=\"-267.3\" font-family=\"Times,serif\" font-size=\"14.00\" fill=\"#000000\">A1</text>\n</g>\n<!-- Q5&#45;&gt;A1 -->\n<g id=\"edge40\" class=\"edge\">\n<title>Q5&#45;&gt;A1</title>\n<path fill=\"none\" stroke=\"#000000\" d=\"M1718.8345,-381.0999C1743.2504,-380.2162 1783.1021,-379 1817.4942,-379 1817.4942,-379 1817.4942,-379 2345.8749,-379 2385.8406,-379 2399.2769,-371.5804 2429.1223,-345 2442.1495,-333.3979 2451.8678,-316.6019 2458.5396,-301.9433\"/>\n<polygon fill=\"#000000\" stroke=\"#000000\" points=\"2461.7804,-303.2663 2462.4882,-292.6951 2455.3426,-300.5176 2461.7804,-303.2663\"/>\n<text text-anchor=\"middle\" x=\"2074.9354\" y=\"-382.8\" font-family=\"Times,serif\" font-size=\"14.00\" fill=\"#000000\">. ; .,R</text>\n</g>\n<!-- Q3 -->\n<g id=\"node21\" class=\"node\">\n<title>Q3</title>\n<ellipse fill=\"none\" stroke=\"#000000\" cx=\"1450.0063\" cy=\"-280\" rx=\"22.9987\" ry=\"22.9987\"/>\n<text text-anchor=\"middle\" x=\"1450.0063\" y=\"-276.3\" font-family=\"Times,serif\" font-size=\"14.00\" fill=\"#000000\">Q3</text>\n</g>\n<!-- Q5&#45;&gt;Q3 -->\n<g id=\"edge39\" class=\"edge\">\n<title>Q5&#45;&gt;Q3</title>\n<path fill=\"none\" stroke=\"#000000\" d=\"M1673.0891,-384.1092C1632.211,-386.6342 1545.8324,-386.218 1490.7543,-345 1478.9429,-336.1608 1469.7241,-322.802 1463.0656,-310.4894\"/>\n<polygon fill=\"#000000\" stroke=\"#000000\" points=\"1466.0967,-308.7267 1458.4724,-301.3701 1459.845,-311.8756 1466.0967,-308.7267\"/>\n<text text-anchor=\"middle\" x=\"1574.5023\" y=\"-400.8\" font-family=\"Times,serif\" font-size=\"14.00\" fill=\"#000000\">0 ; 0,L </text>\n<text text-anchor=\"middle\" x=\"1574.5023\" y=\"-385.8\" font-family=\"Times,serif\" font-size=\"14.00\" fill=\"#000000\"> 1 ; 1,L</text>\n</g>\n<!-- D1 -->\n<g id=\"node11\" class=\"node\">\n<title>D1</title>\n<ellipse fill=\"none\" stroke=\"#000000\" cx=\"965.4227\" cy=\"-206\" rx=\"22.9987\" ry=\"22.9987\"/>\n<text text-anchor=\"middle\" x=\"965.4227\" y=\"-202.3\" font-family=\"Times,serif\" font-size=\"14.00\" fill=\"#000000\">D1</text>\n</g>\n<!-- D1&#45;&gt;I -->\n<g id=\"edge28\" class=\"edge\">\n<title>D1&#45;&gt;I</title>\n<path fill=\"none\" stroke=\"#000000\" d=\"M952.1787,-224.496C948.618,-230.2017 945.0896,-236.6577 942.6747,-243 926.4502,-285.6119 935.5676,-299.7241 924.6747,-344 895.1661,-463.9428 964.4461,-609 840.9268,-609 229.098,-609 229.098,-609 229.098,-609 128.5406,-609 112.1314,-231.2492 109.4958,-123.4217\"/>\n<polygon fill=\"#000000\" stroke=\"#000000\" points=\"112.9921,-123.2131 109.2701,-113.2935 105.9939,-123.369 112.9921,-123.2131\"/>\n<text text-anchor=\"middle\" x=\"525.5882\" y=\"-612.8\" font-family=\"Times,serif\" font-size=\"14.00\" fill=\"#000000\">0 ; .,L</text>\n</g>\n<!-- Q6 -->\n<g id=\"node12\" class=\"node\">\n<title>Q6</title>\n<ellipse fill=\"none\" stroke=\"#000000\" cx=\"1695.9983\" cy=\"-273\" rx=\"22.9987\" ry=\"22.9987\"/>\n<text text-anchor=\"middle\" x=\"1695.9983\" y=\"-269.3\" font-family=\"Times,serif\" font-size=\"14.00\" fill=\"#000000\">Q6</text>\n</g>\n<!-- Q7 -->\n<g id=\"node15\" class=\"node\">\n<title>Q7</title>\n<ellipse fill=\"none\" stroke=\"#000000\" cx=\"1817.4942\" cy=\"-235\" rx=\"22.9987\" ry=\"22.9987\"/>\n<text text-anchor=\"middle\" x=\"1817.4942\" y=\"-231.3\" font-family=\"Times,serif\" font-size=\"14.00\" fill=\"#000000\">Q7</text>\n</g>\n<!-- Q6&#45;&gt;Q7 -->\n<g id=\"edge42\" class=\"edge\">\n<title>Q6&#45;&gt;Q7</title>\n<path fill=\"none\" stroke=\"#000000\" d=\"M1717.7193,-266.2064C1736.6926,-260.2721 1764.474,-251.583 1785.9066,-244.8796\"/>\n<polygon fill=\"#000000\" stroke=\"#000000\" points=\"1787.0523,-248.1885 1795.5516,-241.8629 1784.9627,-241.5077 1787.0523,-248.1885\"/>\n<text text-anchor=\"middle\" x=\"1756.7463\" y=\"-262.8\" font-family=\"Times,serif\" font-size=\"14.00\" fill=\"#000000\">1 ; 0,L</text>\n</g>\n<!-- Q6&#45;&gt;Q3 -->\n<g id=\"edge41\" class=\"edge\">\n<title>Q6&#45;&gt;Q3</title>\n<path fill=\"none\" stroke=\"#000000\" d=\"M1673.0966,-273.6517C1629.4036,-274.895 1533.9878,-277.6102 1483.2604,-279.0537\"/>\n<polygon fill=\"#000000\" stroke=\"#000000\" points=\"1483.045,-275.5583 1473.1487,-279.3415 1483.2442,-282.5555 1483.045,-275.5583\"/>\n<text text-anchor=\"middle\" x=\"1574.5023\" y=\"-280.8\" font-family=\"Times,serif\" font-size=\"14.00\" fill=\"#000000\">0 ; 1,L</text>\n</g>\n<!-- P1M -->\n<g id=\"node13\" class=\"node\">\n<title>P1M</title>\n<ellipse fill=\"none\" stroke=\"#000000\" cx=\"2211.38\" cy=\"-203\" rx=\"29.4969\" ry=\"29.4969\"/>\n<text text-anchor=\"middle\" x=\"2211.38\" y=\"-199.3\" font-family=\"Times,serif\" font-size=\"14.00\" fill=\"#000000\">P1M</text>\n</g>\n<!-- P1M&#45;&gt;P1M -->\n<g id=\"edge60\" class=\"edge\">\n<title>P1M&#45;&gt;P1M</title>\n<path fill=\"none\" stroke=\"#000000\" d=\"M2199.1138,-229.7142C2198.2679,-240.8271 2202.3566,-250.2474 2211.38,-250.2474 2217.4427,-250.2474 2221.2777,-245.9949 2222.8851,-239.8338\"/>\n<polygon fill=\"#000000\" stroke=\"#000000\" points=\"2226.3863,-239.9486 2223.6463,-229.7142 2219.406,-239.4235 2226.3863,-239.9486\"/>\n<text text-anchor=\"middle\" x=\"2211.38\" y=\"-254.0474\" font-family=\"Times,serif\" font-size=\"14.00\" fill=\"#000000\">1 ; 1,R</text>\n</g>\n<!-- P0M -->\n<g id=\"node17\" class=\"node\">\n<title>P0M</title>\n<ellipse fill=\"none\" stroke=\"#000000\" cx=\"2345.8749\" cy=\"-152\" rx=\"29.4969\" ry=\"29.4969\"/>\n<text text-anchor=\"middle\" x=\"2345.8749\" y=\"-148.3\" font-family=\"Times,serif\" font-size=\"14.00\" fill=\"#000000\">P0M</text>\n</g>\n<!-- P1M&#45;&gt;P0M -->\n<g id=\"edge59\" class=\"edge\">\n<title>P1M&#45;&gt;P0M</title>\n<path fill=\"none\" stroke=\"#000000\" d=\"M2240.7272,-202.4545C2258.1759,-201.2113 2280.3897,-197.9837 2298.6275,-190 2304.9768,-187.2205 2311.1855,-183.357 2316.906,-179.151\"/>\n<polygon fill=\"#000000\" stroke=\"#000000\" points=\"2319.2256,-181.7788 2324.8973,-172.8299 2314.8829,-176.2887 2319.2256,-181.7788\"/>\n<text text-anchor=\"middle\" x=\"2278.6275\" y=\"-204.8\" font-family=\"Times,serif\" font-size=\"14.00\" fill=\"#000000\">0 ; 1,R</text>\n</g>\n<!-- P1M&#45;&gt;A1 -->\n<g id=\"edge61\" class=\"edge\">\n<title>P1M&#45;&gt;A1</title>\n<path fill=\"none\" stroke=\"#000000\" d=\"M2239.1947,-213.5741C2245.5386,-215.8274 2252.281,-218.0982 2258.6275,-220 2321.2627,-238.769 2395.9089,-255.4996 2437.5954,-264.3494\"/>\n<polygon fill=\"#000000\" stroke=\"#000000\" points=\"2436.9495,-267.7901 2447.4561,-266.426 2438.392,-260.9403 2436.9495,-267.7901\"/>\n<text text-anchor=\"middle\" x=\"2345.8749\" y=\"-252.8\" font-family=\"Times,serif\" font-size=\"14.00\" fill=\"#000000\">. ; 1,L</text>\n</g>\n<!-- Q4 -->\n<g id=\"node14\" class=\"node\">\n<title>Q4</title>\n<ellipse fill=\"none\" stroke=\"#000000\" cx=\"1574.5023\" cy=\"-328\" rx=\"22.9987\" ry=\"22.9987\"/>\n<text text-anchor=\"middle\" x=\"1574.5023\" y=\"-324.3\" font-family=\"Times,serif\" font-size=\"14.00\" fill=\"#000000\">Q4</text>\n</g>\n<!-- Q4&#45;&gt;Q5 -->\n<g id=\"edge36\" class=\"edge\">\n<title>Q4&#45;&gt;Q5</title>\n<path fill=\"none\" stroke=\"#000000\" d=\"M1595.3882,-337.2829C1614.7733,-345.8988 1643.8542,-358.8241 1665.7728,-368.566\"/>\n<polygon fill=\"#000000\" stroke=\"#000000\" points=\"1664.4187,-371.7943 1674.9783,-372.6575 1667.2618,-365.3976 1664.4187,-371.7943\"/>\n<text text-anchor=\"middle\" x=\"1635.2503\" y=\"-365.8\" font-family=\"Times,serif\" font-size=\"14.00\" fill=\"#000000\">0 ; 0,R</text>\n</g>\n<!-- Q4&#45;&gt;Q6 -->\n<g id=\"edge37\" class=\"edge\">\n<title>Q4&#45;&gt;Q6</title>\n<path fill=\"none\" stroke=\"#000000\" d=\"M1593.4717,-314.655C1600.1664,-310.2838 1607.868,-305.6242 1615.2503,-302 1630.7857,-294.3731 1648.8524,-287.6957 1663.9526,-282.6769\"/>\n<polygon fill=\"#000000\" stroke=\"#000000\" points=\"1665.4244,-285.8796 1673.8651,-279.476 1663.2734,-279.2183 1665.4244,-285.8796\"/>\n<text text-anchor=\"middle\" x=\"1635.2503\" y=\"-305.8\" font-family=\"Times,serif\" font-size=\"14.00\" fill=\"#000000\">1 ; 1,R</text>\n</g>\n<!-- Q4&#45;&gt;A1 -->\n<g id=\"edge38\" class=\"edge\">\n<title>Q4&#45;&gt;A1</title>\n<path fill=\"none\" stroke=\"#000000\" d=\"M1597.3386,-328.9001C1621.7545,-329.7838 1661.6061,-331 1695.9983,-331 1695.9983,-331 1695.9983,-331 2345.8749,-331 2382.7223,-331 2420.1319,-309.2653 2444.0791,-291.9588\"/>\n<polygon fill=\"#000000\" stroke=\"#000000\" points=\"2446.3575,-294.6253 2452.2667,-285.8315 2442.1633,-289.0209 2446.3575,-294.6253\"/>\n<text text-anchor=\"middle\" x=\"2002.7382\" y=\"-349.8\" font-family=\"Times,serif\" font-size=\"14.00\" fill=\"#000000\">* ; *,R </text>\n<text text-anchor=\"middle\" x=\"2002.7382\" y=\"-334.8\" font-family=\"Times,serif\" font-size=\"14.00\" fill=\"#000000\"> . ; .,R</text>\n</g>\n<!-- Q7&#45;&gt;Q8 -->\n<g id=\"edge46\" class=\"edge\">\n<title>Q7&#45;&gt;Q8</title>\n<path fill=\"none\" stroke=\"#000000\" d=\"M1840.062,-231.285C1858.7305,-228.2119 1885.4891,-223.8071 1906.4705,-220.3532\"/>\n<polygon fill=\"#000000\" stroke=\"#000000\" points=\"1907.2447,-223.773 1916.5433,-218.6951 1906.1076,-216.8659 1907.2447,-223.773\"/>\n<text text-anchor=\"middle\" x=\"1878.2422\" y=\"-231.8\" font-family=\"Times,serif\" font-size=\"14.00\" fill=\"#000000\">* ; 1,R</text>\n</g>\n<!-- Q7&#45;&gt;Q7 -->\n<g id=\"edge44\" class=\"edge\">\n<title>Q7&#45;&gt;Q7</title>\n<path fill=\"none\" stroke=\"#000000\" d=\"M1806.7084,-255.1269C1804.8755,-265.9175 1808.4708,-275.748 1817.4942,-275.748 1823.4159,-275.748 1826.9998,-271.5143 1828.246,-265.554\"/>\n<polygon fill=\"#000000\" stroke=\"#000000\" points=\"1831.7473,-265.1384 1828.2801,-255.1269 1824.7473,-265.1154 1831.7473,-265.1384\"/>\n<text text-anchor=\"middle\" x=\"1817.4942\" y=\"-279.548\" font-family=\"Times,serif\" font-size=\"14.00\" fill=\"#000000\">1 ; 0,L</text>\n</g>\n<!-- Q7&#45;&gt;A1 -->\n<g id=\"edge45\" class=\"edge\">\n<title>Q7&#45;&gt;A1</title>\n<path fill=\"none\" stroke=\"#000000\" d=\"M1835.1676,-249.6358C1857.7624,-266.8179 1898.7881,-293 1938.9902,-293 1938.9902,-293 1938.9902,-293 2345.8749,-293 2377.4398,-293 2412.8393,-286.0028 2437.7087,-279.9007\"/>\n<polygon fill=\"#000000\" stroke=\"#000000\" points=\"2438.8524,-283.2213 2447.6805,-277.3633 2437.1262,-276.4374 2438.8524,-283.2213\"/>\n<text text-anchor=\"middle\" x=\"2144.1326\" y=\"-296.8\" font-family=\"Times,serif\" font-size=\"14.00\" fill=\"#000000\">. ; 1,R</text>\n</g>\n<!-- Q7&#45;&gt;Q3 -->\n<g id=\"edge43\" class=\"edge\">\n<title>Q7&#45;&gt;Q3</title>\n<path fill=\"none\" stroke=\"#000000\" d=\"M1794.6912,-235.0255C1766.1999,-235.2693 1715.988,-236.3982 1673.2503,-241 1604.7673,-248.3739 1525.5484,-263.9009 1482.3031,-272.9816\"/>\n<polygon fill=\"#000000\" stroke=\"#000000\" points=\"1481.4228,-269.5903 1472.366,-275.0881 1482.8744,-276.4382 1481.4228,-269.5903\"/>\n<text text-anchor=\"middle\" x=\"1635.2503\" y=\"-251.8\" font-family=\"Times,serif\" font-size=\"14.00\" fill=\"#000000\">0 ; 1,L</text>\n</g>\n<!-- SHA -->\n<g id=\"node24\" class=\"node\">\n<title>SHA</title>\n<ellipse fill=\"none\" stroke=\"#000000\" cx=\"2839.5075\" cy=\"-115\" rx=\"29.795\" ry=\"29.795\"/>\n<text text-anchor=\"middle\" x=\"2839.5075\" y=\"-111.3\" font-family=\"Times,serif\" font-size=\"14.00\" fill=\"#000000\">SHA</text>\n</g>\n<!-- A3&#45;&gt;SHA -->\n<g id=\"edge53\" class=\"edge\">\n<title>A3&#45;&gt;SHA</title>\n<path fill=\"none\" stroke=\"#000000\" d=\"M2727.7029,-115C2747.3101,-115 2776.0288,-115 2799.4499,-115\"/>\n<polygon fill=\"#000000\" stroke=\"#000000\" points=\"2799.4528,-118.5001 2809.4528,-115 2799.4528,-111.5001 2799.4528,-118.5001\"/>\n<text text-anchor=\"middle\" x=\"2768.6102\" y=\"-148.8\" font-family=\"Times,serif\" font-size=\"14.00\" fill=\"#000000\">* ; 1,L </text>\n<text text-anchor=\"middle\" x=\"2768.6102\" y=\"-133.8\" font-family=\"Times,serif\" font-size=\"14.00\" fill=\"#000000\"> 0 ; 0,L </text>\n<text text-anchor=\"middle\" x=\"2768.6102\" y=\"-118.8\" font-family=\"Times,serif\" font-size=\"14.00\" fill=\"#000000\"> 1 ; 1,L</text>\n</g>\n<!-- P0M&#45;&gt;P1M -->\n<g id=\"edge57\" class=\"edge\">\n<title>P0M&#45;&gt;P1M</title>\n<path fill=\"none\" stroke=\"#000000\" d=\"M2316.9255,-157.5169C2299.6179,-161.3298 2277.4126,-167.1381 2258.6275,-175 2254.1362,-176.8797 2249.5568,-179.1235 2245.1032,-181.5114\"/>\n<polygon fill=\"#000000\" stroke=\"#000000\" points=\"2243.1868,-178.5743 2236.2067,-186.5448 2246.6338,-184.6668 2243.1868,-178.5743\"/>\n<text text-anchor=\"middle\" x=\"2278.6275\" y=\"-178.8\" font-family=\"Times,serif\" font-size=\"14.00\" fill=\"#000000\">1 ; 0,R</text>\n</g>\n<!-- P0M&#45;&gt;P0M -->\n<g id=\"edge56\" class=\"edge\">\n<title>P0M&#45;&gt;P0M</title>\n<path fill=\"none\" stroke=\"#000000\" d=\"M2333.9481,-179.1894C2333.2743,-190.0944 2337.2499,-199.2474 2345.8749,-199.2474 2351.535,-199.2474 2355.1928,-195.3055 2356.8483,-189.5135\"/>\n<polygon fill=\"#000000\" stroke=\"#000000\" points=\"2360.3672,-189.4689 2357.8016,-179.1894 2353.3969,-188.8252 2360.3672,-189.4689\"/>\n<text text-anchor=\"middle\" x=\"2345.8749\" y=\"-203.0474\" font-family=\"Times,serif\" font-size=\"14.00\" fill=\"#000000\">0 ; 0,R</text>\n</g>\n<!-- P0M&#45;&gt;A1 -->\n<g id=\"edge58\" class=\"edge\">\n<title>P0M&#45;&gt;A1</title>\n<path fill=\"none\" stroke=\"#000000\" d=\"M2369.5303,-169.6028C2386.7916,-182.9137 2410.352,-202.0734 2429.1223,-221 2436.3793,-228.3174 2443.6847,-236.8356 2450.0659,-244.7454\"/>\n<polygon fill=\"#000000\" stroke=\"#000000\" points=\"2447.3966,-247.0127 2456.3404,-252.6923 2452.8905,-242.6749 2447.3966,-247.0127\"/>\n<text text-anchor=\"middle\" x=\"2411.1223\" y=\"-224.8\" font-family=\"Times,serif\" font-size=\"14.00\" fill=\"#000000\">. ; 0,L</text>\n</g>\n<!-- A1&#45;&gt;A2 -->\n<g id=\"edge49\" class=\"edge\">\n<title>A1&#45;&gt;A2</title>\n<path fill=\"none\" stroke=\"#000000\" d=\"M2483.3354,-252.4921C2503.3016,-225.0487 2540.8673,-173.4146 2563.8498,-141.8253\"/>\n<polygon fill=\"#000000\" stroke=\"#000000\" points=\"2566.8656,-143.6292 2569.9186,-133.4838 2561.2052,-139.511 2566.8656,-143.6292\"/>\n<text text-anchor=\"middle\" x=\"2526.6182\" y=\"-215.8\" font-family=\"Times,serif\" font-size=\"14.00\" fill=\"#000000\">. ; .,L</text>\n</g>\n<!-- A1&#45;&gt;A1 -->\n<g id=\"edge48\" class=\"edge\">\n<title>A1&#45;&gt;A1</title>\n<path fill=\"none\" stroke=\"#000000\" d=\"M2459.7394,-291.5468C2458.1808,-302.1711 2461.5577,-311.748 2469.8702,-311.748 2475.3253,-311.748 2478.6548,-307.6236 2479.8588,-301.7854\"/>\n<polygon fill=\"#000000\" stroke=\"#000000\" points=\"2483.3617,-301.5946 2480.0011,-291.5468 2476.3624,-301.4972 2483.3617,-301.5946\"/>\n<text text-anchor=\"middle\" x=\"2469.8702\" y=\"-330.548\" font-family=\"Times,serif\" font-size=\"14.00\" fill=\"#000000\">1 ; 1,R </text>\n<text text-anchor=\"middle\" x=\"2469.8702\" y=\"-315.548\" font-family=\"Times,serif\" font-size=\"14.00\" fill=\"#000000\"> 0 ; 0,R</text>\n</g>\n<!-- C20&#45;&gt;C30 -->\n<g id=\"edge12\" class=\"edge\">\n<title>C20&#45;&gt;C30</title>\n<path fill=\"none\" stroke=\"#000000\" d=\"M616.1971,-298.3696C634.5929,-293.6714 659.5048,-287.3089 679.7785,-282.1311\"/>\n<polygon fill=\"#000000\" stroke=\"#000000\" points=\"680.7803,-285.4877 689.6031,-279.6219 679.048,-278.7054 680.7803,-285.4877\"/>\n<text text-anchor=\"middle\" x=\"652.8835\" y=\"-295.8\" font-family=\"Times,serif\" font-size=\"14.00\" fill=\"#000000\">. ; 0,L</text>\n</g>\n<!-- C20&#45;&gt;C20 -->\n<g id=\"edge11\" class=\"edge\">\n<title>C20&#45;&gt;C20</title>\n<path fill=\"none\" stroke=\"#000000\" d=\"M578.7925,-329.3404C577.7027,-340.2298 581.5171,-349.6476 590.2359,-349.6476 595.9576,-349.6476 599.5671,-345.5917 601.0646,-339.7256\"/>\n<polygon fill=\"#000000\" stroke=\"#000000\" points=\"604.5822,-339.5297 601.6792,-329.3404 597.5945,-339.1161 604.5822,-339.5297\"/>\n<text text-anchor=\"middle\" x=\"590.2359\" y=\"-383.4476\" font-family=\"Times,serif\" font-size=\"14.00\" fill=\"#000000\">* ; *,R </text>\n<text text-anchor=\"middle\" x=\"590.2359\" y=\"-368.4476\" font-family=\"Times,serif\" font-size=\"14.00\" fill=\"#000000\"> 1 ; 1,R </text>\n<text text-anchor=\"middle\" x=\"590.2359\" y=\"-353.4476\" font-family=\"Times,serif\" font-size=\"14.00\" fill=\"#000000\"> 0 ; 0,R</text>\n</g>\n<!-- D0&#45;&gt;D1 -->\n<g id=\"edge27\" class=\"edge\">\n<title>D0&#45;&gt;D1</title>\n<path fill=\"none\" stroke=\"#000000\" d=\"M863.472,-186.3462C882.9501,-190.1012 911.3295,-195.5721 933.2033,-199.7888\"/>\n<polygon fill=\"#000000\" stroke=\"#000000\" points=\"932.5634,-203.2298 943.0452,-201.6861 933.8885,-196.3564 932.5634,-203.2298\"/>\n<text text-anchor=\"middle\" x=\"903.1747\" y=\"-201.8\" font-family=\"Times,serif\" font-size=\"14.00\" fill=\"#000000\">. ; .,L</text>\n</g>\n<!-- D0&#45;&gt;D0 -->\n<g id=\"edge26\" class=\"edge\">\n<title>D0&#45;&gt;D0</title>\n<path fill=\"none\" stroke=\"#000000\" d=\"M830.1409,-202.1269C828.308,-212.9175 831.9033,-222.748 840.9268,-222.748 846.8484,-222.748 850.4323,-218.5143 851.6785,-212.554\"/>\n<polygon fill=\"#000000\" stroke=\"#000000\" points=\"855.1798,-212.1384 851.7126,-202.1269 848.1798,-212.1154 855.1798,-212.1384\"/>\n<text text-anchor=\"middle\" x=\"840.9268\" y=\"-241.548\" font-family=\"Times,serif\" font-size=\"14.00\" fill=\"#000000\">1 ; 1,R </text>\n<text text-anchor=\"middle\" x=\"840.9268\" y=\"-226.548\" font-family=\"Times,serif\" font-size=\"14.00\" fill=\"#000000\"> 0 ; 0,R</text>\n</g>\n<!-- Q3&#45;&gt;Q4 -->\n<g id=\"edge35\" class=\"edge\">\n<title>Q3&#45;&gt;Q4</title>\n<path fill=\"none\" stroke=\"#000000\" d=\"M1471.408,-288.2515C1491.2717,-295.91 1521.0707,-307.3992 1543.5305,-316.0587\"/>\n<polygon fill=\"#000000\" stroke=\"#000000\" points=\"1542.3737,-319.3637 1552.9633,-319.6955 1544.8919,-312.8324 1542.3737,-319.3637\"/>\n<text text-anchor=\"middle\" x=\"1512.2543\" y=\"-329.8\" font-family=\"Times,serif\" font-size=\"14.00\" fill=\"#000000\">0 ; 0,L </text>\n<text text-anchor=\"middle\" x=\"1512.2543\" y=\"-314.8\" font-family=\"Times,serif\" font-size=\"14.00\" fill=\"#000000\"> 1 ; 1,L</text>\n</g>\n<!-- C1 -->\n<g id=\"node22\" class=\"node\">\n<title>C1</title>\n<ellipse fill=\"none\" stroke=\"#000000\" cx=\"345.2941\" cy=\"-236\" rx=\"22.1965\" ry=\"22.1965\"/>\n<text text-anchor=\"middle\" x=\"345.2941\" y=\"-232.3\" font-family=\"Times,serif\" font-size=\"14.00\" fill=\"#000000\">C1</text>\n</g>\n<!-- C1&#45;&gt;C2 -->\n<g id=\"edge7\" class=\"edge\">\n<title>C1&#45;&gt;C2</title>\n<path fill=\"none\" stroke=\"#000000\" d=\"M366.5061,-242.8826C385.3565,-248.999 413.1518,-258.0178 434.4932,-264.9424\"/>\n<polygon fill=\"#000000\" stroke=\"#000000\" points=\"433.4939,-268.2978 444.086,-268.055 435.6544,-261.6395 433.4939,-268.2978\"/>\n<text text-anchor=\"middle\" x=\"405.3922\" y=\"-264.8\" font-family=\"Times,serif\" font-size=\"14.00\" fill=\"#000000\">* ; *,R</text>\n</g>\n<!-- C1&#45;&gt;C1 -->\n<g id=\"edge6\" class=\"edge\">\n<title>C1&#45;&gt;C1</title>\n<path fill=\"none\" stroke=\"#000000\" d=\"M334.8678,-255.8059C333.096,-266.4243 336.5715,-276.098 345.2941,-276.098 351.0184,-276.098 354.4828,-271.9319 355.6875,-266.0667\"/>\n<polygon fill=\"#000000\" stroke=\"#000000\" points=\"359.1882,-265.8171 355.7204,-255.8059 352.1882,-265.7946 359.1882,-265.8171\"/>\n<text text-anchor=\"middle\" x=\"345.2941\" y=\"-294.898\" font-family=\"Times,serif\" font-size=\"14.00\" fill=\"#000000\">0 ; 0,L </text>\n<text text-anchor=\"middle\" x=\"345.2941\" y=\"-279.898\" font-family=\"Times,serif\" font-size=\"14.00\" fill=\"#000000\"> 1 ; 1,L</text>\n</g>\n<!-- Q1 -->\n<g id=\"node23\" class=\"node\">\n<title>Q1</title>\n<ellipse fill=\"none\" stroke=\"#000000\" cx=\"1332.5104\" cy=\"-311\" rx=\"22.9987\" ry=\"22.9987\"/>\n<text text-anchor=\"middle\" x=\"1332.5104\" y=\"-307.3\" font-family=\"Times,serif\" font-size=\"14.00\" fill=\"#000000\">Q1</text>\n</g>\n<!-- Q1&#45;&gt;Q3 -->\n<g id=\"edge33\" class=\"edge\">\n<title>Q1&#45;&gt;Q3</title>\n<path fill=\"none\" stroke=\"#000000\" d=\"M1354.6105,-305.1691C1372.5808,-300.4279 1398.1683,-293.6769 1418.3199,-288.3601\"/>\n<polygon fill=\"#000000\" stroke=\"#000000\" points=\"1419.2291,-291.7401 1428.0053,-285.8047 1417.4433,-284.9717 1419.2291,-291.7401\"/>\n<text text-anchor=\"middle\" x=\"1391.2584\" y=\"-303.8\" font-family=\"Times,serif\" font-size=\"14.00\" fill=\"#000000\">. ; 0,L</text>\n</g>\n<!-- P1A -->\n<g id=\"node33\" class=\"node\">\n<title>P1A</title>\n<ellipse fill=\"none\" stroke=\"#000000\" cx=\"2973.3524\" cy=\"-56\" rx=\"27.8951\" ry=\"27.8951\"/>\n<text text-anchor=\"middle\" x=\"2973.3524\" y=\"-52.3\" font-family=\"Times,serif\" font-size=\"14.00\" fill=\"#000000\">P1A</text>\n</g>\n<!-- SHA&#45;&gt;P1A -->\n<g id=\"edge63\" class=\"edge\">\n<title>SHA&#45;&gt;P1A</title>\n<path fill=\"none\" stroke=\"#000000\" d=\"M2866.916,-102.9181C2887.4355,-93.8729 2915.6767,-81.424 2937.9124,-71.6223\"/>\n<polygon fill=\"#000000\" stroke=\"#000000\" points=\"2939.6062,-74.7007 2947.3448,-67.4644 2936.7826,-68.2954 2939.6062,-74.7007\"/>\n<text text-anchor=\"middle\" x=\"2907.4048\" y=\"-96.8\" font-family=\"Times,serif\" font-size=\"14.00\" fill=\"#000000\">1 ; *,R</text>\n</g>\n<!-- P0A -->\n<g id=\"node34\" class=\"node\">\n<title>P0A</title>\n<ellipse fill=\"none\" stroke=\"#000000\" cx=\"3105.2474\" cy=\"-63\" rx=\"27.8951\" ry=\"27.8951\"/>\n<text text-anchor=\"middle\" x=\"3105.2474\" y=\"-59.3\" font-family=\"Times,serif\" font-size=\"14.00\" fill=\"#000000\">P0A</text>\n</g>\n<!-- SHA&#45;&gt;P0A -->\n<g id=\"edge62\" class=\"edge\">\n<title>SHA&#45;&gt;P0A</title>\n<path fill=\"none\" stroke=\"#000000\" d=\"M2868.4517,-122.7185C2901.2927,-130.1664 2956.1527,-138.6134 3001.2999,-126 3028.3871,-118.4323 3055.4442,-101.6688 3075.1608,-87.3356\"/>\n<polygon fill=\"#000000\" stroke=\"#000000\" points=\"3077.4946,-89.9608 3083.408,-81.1698 3073.3031,-84.3544 3077.4946,-89.9608\"/>\n<text text-anchor=\"middle\" x=\"2973.3524\" y=\"-136.8\" font-family=\"Times,serif\" font-size=\"14.00\" fill=\"#000000\">0 ; *,R</text>\n</g>\n<!-- C31 -->\n<g id=\"node25\" class=\"node\">\n<title>C31</title>\n<ellipse fill=\"none\" stroke=\"#000000\" cx=\"715.5311\" cy=\"-435\" rx=\"26.7961\" ry=\"26.7961\"/>\n<text text-anchor=\"middle\" x=\"715.5311\" y=\"-431.3\" font-family=\"Times,serif\" font-size=\"14.00\" fill=\"#000000\">C31</text>\n</g>\n<!-- C31&#45;&gt;C2 -->\n<g id=\"edge18\" class=\"edge\">\n<title>C31&#45;&gt;C2</title>\n<path fill=\"none\" stroke=\"#000000\" d=\"M688.7306,-435.0985C656.6298,-434.0293 602.3423,-428.3483 563.5882,-404 524.8928,-379.6886 495.8105,-334.2988 479.7194,-304.3637\"/>\n<polygon fill=\"#000000\" stroke=\"#000000\" points=\"482.6847,-302.4806 474.9558,-295.2339 476.4786,-305.7187 482.6847,-302.4806\"/>\n<text text-anchor=\"middle\" x=\"590.2359\" y=\"-428.8\" font-family=\"Times,serif\" font-size=\"14.00\" fill=\"#000000\">. ; 1,R</text>\n</g>\n<!-- C31&#45;&gt;C31 -->\n<g id=\"edge17\" class=\"edge\">\n<title>C31&#45;&gt;C31</title>\n<path fill=\"none\" stroke=\"#000000\" d=\"M704.0878,-459.3404C702.9979,-470.2298 706.8124,-479.6476 715.5311,-479.6476 721.2528,-479.6476 724.8624,-475.5917 726.3599,-469.7256\"/>\n<polygon fill=\"#000000\" stroke=\"#000000\" points=\"729.8775,-469.5297 726.9745,-459.3404 722.8897,-469.1161 729.8775,-469.5297\"/>\n<text text-anchor=\"middle\" x=\"715.5311\" y=\"-513.4476\" font-family=\"Times,serif\" font-size=\"14.00\" fill=\"#000000\">* ; *,L </text>\n<text text-anchor=\"middle\" x=\"715.5311\" y=\"-498.4476\" font-family=\"Times,serif\" font-size=\"14.00\" fill=\"#000000\"> 0 ; 0,L </text>\n<text text-anchor=\"middle\" x=\"715.5311\" y=\"-483.4476\" font-family=\"Times,serif\" font-size=\"14.00\" fill=\"#000000\"> 1 ; 1,L</text>\n</g>\n<!-- C21&#45;&gt;C31 -->\n<g id=\"edge14\" class=\"edge\">\n<title>C21&#45;&gt;C31</title>\n<path fill=\"none\" stroke=\"#000000\" d=\"M614.6915,-480.0697C633.8367,-471.5129 660.6771,-459.5167 681.8538,-450.0519\"/>\n<polygon fill=\"#000000\" stroke=\"#000000\" points=\"683.4357,-453.1786 691.1372,-445.9027 680.5794,-446.7879 683.4357,-453.1786\"/>\n<text text-anchor=\"middle\" x=\"652.8835\" y=\"-472.8\" font-family=\"Times,serif\" font-size=\"14.00\" fill=\"#000000\">. ; 1,L</text>\n</g>\n<!-- C21&#45;&gt;C21 -->\n<g id=\"edge13\" class=\"edge\">\n<title>C21&#45;&gt;C21</title>\n<path fill=\"none\" stroke=\"#000000\" d=\"M578.7925,-515.3404C577.7027,-526.2298 581.5171,-535.6476 590.2359,-535.6476 595.9576,-535.6476 599.5671,-531.5917 601.0646,-525.7256\"/>\n<polygon fill=\"#000000\" stroke=\"#000000\" points=\"604.5822,-525.5297 601.6792,-515.3404 597.5945,-525.1161 604.5822,-525.5297\"/>\n<text text-anchor=\"middle\" x=\"590.2359\" y=\"-569.4476\" font-family=\"Times,serif\" font-size=\"14.00\" fill=\"#000000\">* ; *,R </text>\n<text text-anchor=\"middle\" x=\"590.2359\" y=\"-554.4476\" font-family=\"Times,serif\" font-size=\"14.00\" fill=\"#000000\"> 1 ; 1,R </text>\n<text text-anchor=\"middle\" x=\"590.2359\" y=\"-539.4476\" font-family=\"Times,serif\" font-size=\"14.00\" fill=\"#000000\"> 0 ; 0,R</text>\n</g>\n<!-- C0&#45;&gt;C1 -->\n<g id=\"edge5\" class=\"edge\">\n<title>C0&#45;&gt;C1</title>\n<path fill=\"none\" stroke=\"#000000\" d=\"M250.1403,-202.4248C268.2375,-208.8104 294.5677,-218.1011 314.9452,-225.2913\"/>\n<polygon fill=\"#000000\" stroke=\"#000000\" points=\"313.8136,-228.6035 324.4084,-228.6304 316.1429,-222.0024 313.8136,-228.6035\"/>\n<text text-anchor=\"middle\" x=\"287.1961\" y=\"-225.8\" font-family=\"Times,serif\" font-size=\"14.00\" fill=\"#000000\">. ; *,L</text>\n</g>\n<!-- C0&#45;&gt;C0 -->\n<g id=\"edge4\" class=\"edge\">\n<title>C0&#45;&gt;C0</title>\n<path fill=\"none\" stroke=\"#000000\" d=\"M218.6717,-214.8059C216.8999,-225.4243 220.3754,-235.098 229.098,-235.098 234.8223,-235.098 238.2867,-230.9319 239.4914,-225.0667\"/>\n<polygon fill=\"#000000\" stroke=\"#000000\" points=\"242.9921,-224.8171 239.5243,-214.8059 235.9922,-224.7946 242.9921,-224.8171\"/>\n<text text-anchor=\"middle\" x=\"229.098\" y=\"-253.898\" font-family=\"Times,serif\" font-size=\"14.00\" fill=\"#000000\">1 ; 1,R </text>\n<text text-anchor=\"middle\" x=\"229.098\" y=\"-238.898\" font-family=\"Times,serif\" font-size=\"14.00\" fill=\"#000000\"> 0 ; 0,R</text>\n</g>\n<!-- Q0&#45;&gt;Q1 -->\n<g id=\"edge31\" class=\"edge\">\n<title>Q0&#45;&gt;Q1</title>\n<path fill=\"none\" stroke=\"#000000\" d=\"M1232.7355,-279.7936C1251.7087,-285.7279 1279.4902,-294.417 1300.9228,-301.1204\"/>\n<polygon fill=\"#000000\" stroke=\"#000000\" points=\"1299.9789,-304.4923 1310.5677,-304.1371 1302.0685,-297.8115 1299.9789,-304.4923\"/>\n<text text-anchor=\"middle\" x=\"1271.7624\" y=\"-300.8\" font-family=\"Times,serif\" font-size=\"14.00\" fill=\"#000000\">0 ; 0,R</text>\n</g>\n<!-- Q2 -->\n<g id=\"node29\" class=\"node\">\n<title>Q2</title>\n<ellipse fill=\"none\" stroke=\"#000000\" cx=\"1332.5104\" cy=\"-248\" rx=\"22.9987\" ry=\"22.9987\"/>\n<text text-anchor=\"middle\" x=\"1332.5104\" y=\"-244.3\" font-family=\"Times,serif\" font-size=\"14.00\" fill=\"#000000\">Q2</text>\n</g>\n<!-- Q0&#45;&gt;Q2 -->\n<g id=\"edge32\" class=\"edge\">\n<title>Q0&#45;&gt;Q2</title>\n<path fill=\"none\" stroke=\"#000000\" d=\"M1233.2986,-268.4146C1252.0199,-264.5624 1279.0208,-259.0065 1300.1291,-254.663\"/>\n<polygon fill=\"#000000\" stroke=\"#000000\" points=\"1300.8666,-258.0847 1309.956,-252.641 1299.4557,-251.2283 1300.8666,-258.0847\"/>\n<text text-anchor=\"middle\" x=\"1271.7624\" y=\"-267.8\" font-family=\"Times,serif\" font-size=\"14.00\" fill=\"#000000\">1 ; 1,R</text>\n</g>\n<!-- Q2&#45;&gt;Q3 -->\n<g id=\"edge34\" class=\"edge\">\n<title>Q2&#45;&gt;Q3</title>\n<path fill=\"none\" stroke=\"#000000\" d=\"M1354.6105,-254.019C1372.5808,-258.9132 1398.1683,-265.8819 1418.3199,-271.3702\"/>\n<polygon fill=\"#000000\" stroke=\"#000000\" points=\"1417.437,-274.7572 1428.0053,-274.008 1419.2765,-268.0032 1417.437,-274.7572\"/>\n<text text-anchor=\"middle\" x=\"1391.2584\" y=\"-271.8\" font-family=\"Times,serif\" font-size=\"14.00\" fill=\"#000000\">. ; 1,L</text>\n</g>\n<!-- SI&#45;&gt;S0 -->\n<g id=\"edge20\" class=\"edge\">\n<title>SI&#45;&gt;S0</title>\n<path fill=\"none\" stroke=\"#000000\" d=\"M608.4549,-147.8163C628.7655,-154.3004 661.9123,-164.8824 685.9521,-172.557\"/>\n<polygon fill=\"#000000\" stroke=\"#000000\" points=\"685.0426,-175.9406 695.6334,-175.6477 687.1715,-169.2722 685.0426,-175.9406\"/>\n<text text-anchor=\"middle\" x=\"652.8835\" y=\"-170.8\" font-family=\"Times,serif\" font-size=\"14.00\" fill=\"#000000\">. ; .,L</text>\n</g>\n<!-- SI&#45;&gt;SI -->\n<g id=\"edge19\" class=\"edge\">\n<title>SI&#45;&gt;SI</title>\n<path fill=\"none\" stroke=\"#000000\" d=\"M579.6354,-157.9077C576.6516,-168.5192 580.1851,-178.8483 590.2359,-178.8483 596.9887,-178.8483 600.7996,-174.1856 601.6684,-167.9073\"/>\n<polygon fill=\"#000000\" stroke=\"#000000\" points=\"605.1536,-167.5829 600.8363,-157.9077 598.1777,-168.1635 605.1536,-167.5829\"/>\n<text text-anchor=\"middle\" x=\"590.2359\" y=\"-197.6483\" font-family=\"Times,serif\" font-size=\"14.00\" fill=\"#000000\">1 ; 1,R </text>\n<text text-anchor=\"middle\" x=\"590.2359\" y=\"-182.6483\" font-family=\"Times,serif\" font-size=\"14.00\" fill=\"#000000\"> 0 ; 0,R</text>\n</g>\n<!-- SHM&#45;&gt;P1M -->\n<g id=\"edge55\" class=\"edge\">\n<title>SHM&#45;&gt;P1M</title>\n<path fill=\"none\" stroke=\"#000000\" d=\"M2106.2386,-203C2125.7575,-203 2151.0462,-203 2171.9306,-203\"/>\n<polygon fill=\"#000000\" stroke=\"#000000\" points=\"2172.0897,-206.5001 2182.0896,-203 2172.0896,-199.5001 2172.0897,-206.5001\"/>\n<text text-anchor=\"middle\" x=\"2144.1326\" y=\"-206.8\" font-family=\"Times,serif\" font-size=\"14.00\" fill=\"#000000\">1 ; *,R</text>\n</g>\n<!-- SHM&#45;&gt;P0M -->\n<g id=\"edge54\" class=\"edge\">\n<title>SHM&#45;&gt;P0M</title>\n<path fill=\"none\" stroke=\"#000000\" d=\"M2101.3858,-185.6122C2122.3216,-172.9441 2152.819,-156.8508 2182.1326,-150 2223.7246,-140.2797 2272.8945,-142.6575 2306.4226,-146.2811\"/>\n<polygon fill=\"#000000\" stroke=\"#000000\" points=\"2306.3901,-149.8011 2316.7292,-147.4876 2307.204,-142.8486 2306.3901,-149.8011\"/>\n<text text-anchor=\"middle\" x=\"2211.38\" y=\"-153.8\" font-family=\"Times,serif\" font-size=\"14.00\" fill=\"#000000\">0 ; *,R</text>\n</g>\n<!-- S1&#45;&gt;S2 -->\n<g id=\"edge23\" class=\"edge\">\n<title>S1&#45;&gt;S2</title>\n<path fill=\"none\" stroke=\"#000000\" d=\"M861.1257,-286.4776C867.6455,-284.8473 874.9308,-283.1844 881.6747,-282 898.9942,-278.9582 918.5212,-276.7883 934.3605,-275.3422\"/>\n<polygon fill=\"#000000\" stroke=\"#000000\" points=\"935.0017,-278.8001 944.6646,-274.455 934.4011,-271.8259 935.0017,-278.8001\"/>\n<text text-anchor=\"middle\" x=\"903.1747\" y=\"-300.8\" font-family=\"Times,serif\" font-size=\"14.00\" fill=\"#000000\">0 ; 0,L </text>\n<text text-anchor=\"middle\" x=\"903.1747\" y=\"-285.8\" font-family=\"Times,serif\" font-size=\"14.00\" fill=\"#000000\"> 1 ; 1,L</text>\n</g>\n<!-- F -->\n<g id=\"node35\" class=\"node\">\n<title>F</title>\n<ellipse fill=\"none\" stroke=\"#000000\" cx=\"965.4227\" cy=\"-334\" rx=\"18\" ry=\"18\"/>\n<ellipse fill=\"none\" stroke=\"#000000\" cx=\"965.4227\" cy=\"-334\" rx=\"22\" ry=\"22\"/>\n<text text-anchor=\"middle\" x=\"965.4227\" y=\"-330.3\" font-family=\"Times,serif\" font-size=\"14.00\" fill=\"#000000\">F</text>\n</g>\n<!-- S1&#45;&gt;F -->\n<g id=\"edge24\" class=\"edge\">\n<title>S1&#45;&gt;F</title>\n<path fill=\"none\" stroke=\"#000000\" d=\"M859.2456,-301.9588C866.1434,-305.4491 874.1423,-309.1941 881.6747,-312 898.5464,-318.2848 917.9616,-323.5042 933.8478,-327.2796\"/>\n<polygon fill=\"#000000\" stroke=\"#000000\" points=\"933.1854,-330.7185 943.7154,-329.5487 934.7542,-323.8966 933.1854,-330.7185\"/>\n<text text-anchor=\"middle\" x=\"903.1747\" y=\"-328.8\" font-family=\"Times,serif\" font-size=\"14.00\" fill=\"#000000\">* ; *,L</text>\n</g>\n<!-- P1A&#45;&gt;I -->\n<g id=\"edge69\" class=\"edge\">\n<title>P1A&#45;&gt;I</title>\n<path fill=\"none\" stroke=\"#000000\" d=\"M2945.4323,-53.6885C2918.3715,-51.6496 2876.1557,-49 2839.5075,-49 229.098,-49 229.098,-49 229.098,-49 193.9715,-49 156.6616,-66.3728 133.118,-79.7655\"/>\n<polygon fill=\"#000000\" stroke=\"#000000\" points=\"131.0473,-76.9234 124.2124,-85.0187 134.6038,-82.9526 131.0473,-76.9234\"/>\n<text text-anchor=\"middle\" x=\"1512.2543\" y=\"-52.8\" font-family=\"Times,serif\" font-size=\"14.00\" fill=\"#000000\">. ; 1,L</text>\n</g>\n<!-- P1A&#45;&gt;P1A -->\n<g id=\"edge68\" class=\"edge\">\n<title>P1A&#45;&gt;P1A</title>\n<path fill=\"none\" stroke=\"#000000\" d=\"M2961.4959,-81.5151C2960.5252,-92.5228 2964.4774,-101.9475 2973.3524,-101.9475 2979.3153,-101.9475 2983.0559,-97.6931 2984.5743,-91.5625\"/>\n<polygon fill=\"#000000\" stroke=\"#000000\" points=\"2988.0715,-91.7158 2985.2088,-81.5151 2981.0854,-91.2745 2988.0715,-91.7158\"/>\n<text text-anchor=\"middle\" x=\"2973.3524\" y=\"-105.7475\" font-family=\"Times,serif\" font-size=\"14.00\" fill=\"#000000\">1 ; 1,R</text>\n</g>\n<!-- P1A&#45;&gt;P0A -->\n<g id=\"edge67\" class=\"edge\">\n<title>P1A&#45;&gt;P0A</title>\n<path fill=\"none\" stroke=\"#000000\" d=\"M2999.7275,-45.8206C3006.0455,-43.8226 3012.836,-42.0284 3019.2999,-41 3036.8568,-38.2067 3041.9634,-37.0636 3059.2999,-41 3063.2619,-41.8996 3067.2814,-43.1848 3071.2104,-44.6881\"/>\n<polygon fill=\"#000000\" stroke=\"#000000\" points=\"3070.1368,-48.0366 3080.7056,-48.7793 3072.9067,-41.6079 3070.1368,-48.0366\"/>\n<text text-anchor=\"middle\" x=\"3039.2999\" y=\"-44.8\" font-family=\"Times,serif\" font-size=\"14.00\" fill=\"#000000\">0 ; 1,R</text>\n</g>\n<!-- P0A&#45;&gt;I -->\n<g id=\"edge66\" class=\"edge\">\n<title>P0A&#45;&gt;I</title>\n<path fill=\"none\" stroke=\"#000000\" d=\"M3083.4239,-45.1152C3058.4296,-26.4897 3015.4774,0 2973.3524,0 229.098,0 229.098,0 229.098,0 183.5194,0 145.1245,-42.6084 124.7337,-70.7548\"/>\n<polygon fill=\"#000000\" stroke=\"#000000\" points=\"121.6138,-69.1095 118.7597,-79.3127 127.3536,-73.1163 121.6138,-69.1095\"/>\n<text text-anchor=\"middle\" x=\"1574.5023\" y=\"-3.8\" font-family=\"Times,serif\" font-size=\"14.00\" fill=\"#000000\">. ; 0,L</text>\n</g>\n<!-- P0A&#45;&gt;P1A -->\n<g id=\"edge65\" class=\"edge\">\n<title>P0A&#45;&gt;P1A</title>\n<path fill=\"none\" stroke=\"#000000\" d=\"M3076.9714,-62.3826C3060.1983,-61.9242 3038.5246,-61.1715 3019.2999,-60 3016.7823,-59.8466 3014.1886,-59.6704 3011.5756,-59.4793\"/>\n<polygon fill=\"#000000\" stroke=\"#000000\" points=\"3011.767,-55.9836 3001.5224,-58.6853 3011.2158,-62.9618 3011.767,-55.9836\"/>\n<text text-anchor=\"middle\" x=\"3039.2999\" y=\"-65.8\" font-family=\"Times,serif\" font-size=\"14.00\" fill=\"#000000\">1 ; 0,R</text>\n</g>\n<!-- P0A&#45;&gt;P0A -->\n<g id=\"edge64\" class=\"edge\">\n<title>P0A&#45;&gt;P0A</title>\n<path fill=\"none\" stroke=\"#000000\" d=\"M3093.391,-88.5151C3092.4203,-99.5228 3096.3724,-108.9475 3105.2474,-108.9475 3111.2103,-108.9475 3114.9509,-104.6931 3116.4693,-98.5625\"/>\n<polygon fill=\"#000000\" stroke=\"#000000\" points=\"3119.9665,-98.7158 3117.1039,-88.5151 3112.9804,-98.2745 3119.9665,-98.7158\"/>\n<text text-anchor=\"middle\" x=\"3105.2474\" y=\"-112.7475\" font-family=\"Times,serif\" font-size=\"14.00\" fill=\"#000000\">0 ; 0,R</text>\n</g>\n</g>\n</svg>\n"
          },
          "metadata": {
            "tags": []
          },
          "execution_count": 103
        }
      ]
    },
    {
      "cell_type": "code",
      "metadata": {
        "id": "U-meR6zMuJ8t",
        "outputId": "b5ce5034-0983-4697-8a84-b54c52637455",
        "colab": {
          "base_uri": "https://localhost:8080/"
        }
      },
      "source": [
        "explore_tm(collatz, \"11\", 3000)"
      ],
      "execution_count": 108,
      "outputs": [
        {
          "output_type": "stream",
          "text": [
            "Allocating  8  tape cells to the LEFT!\n",
            "Allocating  8  tape cells to the RIGHT!\n",
            "Allocating  8  tape cells to the RIGHT!\n",
            "Allocating  8  tape cells to the RIGHT!\n",
            "Allocating  8  tape cells to the RIGHT!\n",
            "Detailing the halted configs now.\n",
            "Accepted at  ('F', 38, '.......*11*1010*101*10000*1000*100*10*1*1.', 2544)\n",
            " via .. \n",
            " ->('I', 0, '11', 3000)\n",
            " ->('I', 7, '........11', 2999)\n",
            " ->('C0', 8, '.......*11', 2998)\n",
            " ->('C0', 9, '.......*11', 2997)\n",
            " ->('C0', 10, '.......*11', 2996)\n",
            " ->('C1', 9, '.......*11*.......', 2995)\n",
            " ->('C1', 8, '.......*11*.......', 2994)\n",
            " ->('C1', 7, '.......*11*.......', 2993)\n",
            " ->('C2', 8, '.......*11*.......', 2992)\n",
            " ->('C21', 9, '.......*.1*.......', 2991)\n",
            " ->('C21', 10, '.......*.1*.......', 2990)\n",
            " ->('C21', 11, '.......*.1*.......', 2989)\n",
            " ->('C31', 10, '.......*.1*1......', 2988)\n",
            " ->('C31', 9, '.......*.1*1......', 2987)\n",
            " ->('C31', 8, '.......*.1*1......', 2986)\n",
            " ->('C2', 9, '.......*11*1......', 2985)\n",
            " ->('C21', 10, '.......*1.*1......', 2984)\n",
            " ->('C21', 11, '.......*1.*1......', 2983)\n",
            " ->('C21', 12, '.......*1.*1......', 2982)\n",
            " ->('C31', 11, '.......*1.*11.....', 2981)\n",
            " ->('C31', 10, '.......*1.*11.....', 2980)\n",
            " ->('C31', 9, '.......*1.*11.....', 2979)\n",
            " ->('C2', 10, '.......*11*11.....', 2978)\n",
            " ->('SI', 11, '.......*11*11.....', 2977)\n",
            " ->('SI', 12, '.......*11*11.....', 2976)\n",
            " ->('SI', 13, '.......*11*11.....', 2975)\n",
            " ->('S0', 12, '.......*11*11.....', 2974)\n",
            " ->('S1', 11, '.......*11*11.....', 2973)\n",
            " ->('S2', 10, '.......*11*11.....', 2972)\n",
            " ->('M3', 11, '.......*11*11.....', 2971)\n",
            " ->('M3', 12, '.......*11*11.....', 2970)\n",
            " ->('M3', 13, '.......*11*11.....', 2969)\n",
            " ->('Q0', 12, '.......*11*11.....', 2968)\n",
            " ->('Q2', 13, '.......*11*11.....', 2967)\n",
            " ->('Q3', 12, '.......*11*111....', 2966)\n",
            " ->('Q4', 11, '.......*11*111....', 2965)\n",
            " ->('Q6', 12, '.......*11*111....', 2964)\n",
            " ->('Q7', 11, '.......*11*101....', 2963)\n",
            " ->('Q7', 10, '.......*11*001....', 2962)\n",
            " ->('Q8', 11, '.......*111001....', 2961)\n",
            " ->('SHM', 10, '.......*111001....', 2960)\n",
            " ->('P1M', 11, '.......*11*001....', 2959)\n",
            " ->('P0M', 12, '.......*11*101....', 2958)\n",
            " ->('P0M', 13, '.......*11*101....', 2957)\n",
            " ->('P1M', 14, '.......*11*100....', 2956)\n",
            " ->('A1', 13, '.......*11*1001...', 2955)\n",
            " ->('A1', 14, '.......*11*1001...', 2954)\n",
            " ->('A1', 15, '.......*11*1001...', 2953)\n",
            " ->('A2', 14, '.......*11*1001...', 2952)\n",
            " ->('A2', 13, '.......*11*1000...', 2951)\n",
            " ->('I', 12, '.......*11*1010...', 2950)\n",
            " ->('I', 11, '.......*11*1010...', 2949)\n",
            " ->('I', 10, '.......*11*1010...', 2948)\n",
            " ->('C0', 11, '.......*11*1010...', 2947)\n",
            " ->('C0', 12, '.......*11*1010...', 2946)\n",
            " ->('C0', 13, '.......*11*1010...', 2945)\n",
            " ->('C0', 14, '.......*11*1010...', 2944)\n",
            " ->('C0', 15, '.......*11*1010...', 2943)\n",
            " ->('C1', 14, '.......*11*1010*..', 2942)\n",
            " ->('C1', 13, '.......*11*1010*..', 2941)\n",
            " ->('C1', 12, '.......*11*1010*..', 2940)\n",
            " ->('C1', 11, '.......*11*1010*..', 2939)\n",
            " ->('C1', 10, '.......*11*1010*..', 2938)\n",
            " ->('C2', 11, '.......*11*1010*..', 2937)\n",
            " ->('C21', 12, '.......*11*.010*..', 2936)\n",
            " ->('C21', 13, '.......*11*.010*..', 2935)\n",
            " ->('C21', 14, '.......*11*.010*..', 2934)\n",
            " ->('C21', 15, '.......*11*.010*..', 2933)\n",
            " ->('C21', 16, '.......*11*.010*..', 2932)\n",
            " ->('C31', 15, '.......*11*.010*1.', 2931)\n",
            " ->('C31', 14, '.......*11*.010*1.', 2930)\n",
            " ->('C31', 13, '.......*11*.010*1.', 2929)\n",
            " ->('C31', 12, '.......*11*.010*1.', 2928)\n",
            " ->('C31', 11, '.......*11*.010*1.', 2927)\n",
            " ->('C2', 12, '.......*11*1010*1.', 2926)\n",
            " ->('C20', 13, '.......*11*1.10*1.', 2925)\n",
            " ->('C20', 14, '.......*11*1.10*1.', 2924)\n",
            " ->('C20', 15, '.......*11*1.10*1.', 2923)\n",
            " ->('C20', 16, '.......*11*1.10*1.', 2922)\n",
            " ->('C20', 17, '.......*11*1.10*1.', 2921)\n",
            " ->('C30', 16, '.......*11*1.10*10', 2920)\n",
            " ->('C30', 15, '.......*11*1.10*10', 2919)\n",
            " ->('C30', 14, '.......*11*1.10*10', 2918)\n",
            " ->('C30', 13, '.......*11*1.10*10', 2917)\n",
            " ->('C30', 12, '.......*11*1.10*10', 2916)\n",
            " ->('C2', 13, '.......*11*1010*10', 2915)\n",
            " ->('C21', 14, '.......*11*10.0*10', 2914)\n",
            " ->('C21', 15, '.......*11*10.0*10', 2913)\n",
            " ->('C21', 16, '.......*11*10.0*10', 2912)\n",
            " ->('C21', 17, '.......*11*10.0*10', 2911)\n",
            " ->('C21', 18, '.......*11*10.0*10', 2910)\n",
            " ->('C31', 17, '.......*11*10.0*101.......', 2909)\n",
            " ->('C31', 16, '.......*11*10.0*101.......', 2908)\n",
            " ->('C31', 15, '.......*11*10.0*101.......', 2907)\n",
            " ->('C31', 14, '.......*11*10.0*101.......', 2906)\n",
            " ->('C31', 13, '.......*11*10.0*101.......', 2905)\n",
            " ->('C2', 14, '.......*11*1010*101.......', 2904)\n",
            " ->('C20', 15, '.......*11*101.*101.......', 2903)\n",
            " ->('C20', 16, '.......*11*101.*101.......', 2902)\n",
            " ->('C20', 17, '.......*11*101.*101.......', 2901)\n",
            " ->('C20', 18, '.......*11*101.*101.......', 2900)\n",
            " ->('C20', 19, '.......*11*101.*101.......', 2899)\n",
            " ->('C30', 18, '.......*11*101.*1010......', 2898)\n",
            " ->('C30', 17, '.......*11*101.*1010......', 2897)\n",
            " ->('C30', 16, '.......*11*101.*1010......', 2896)\n",
            " ->('C30', 15, '.......*11*101.*1010......', 2895)\n",
            " ->('C30', 14, '.......*11*101.*1010......', 2894)\n",
            " ->('C2', 15, '.......*11*1010*1010......', 2893)\n",
            " ->('SI', 16, '.......*11*1010*1010......', 2892)\n",
            " ->('SI', 17, '.......*11*1010*1010......', 2891)\n",
            " ->('SI', 18, '.......*11*1010*1010......', 2890)\n",
            " ->('SI', 19, '.......*11*1010*1010......', 2889)\n",
            " ->('SI', 20, '.......*11*1010*1010......', 2888)\n",
            " ->('S0', 19, '.......*11*1010*1010......', 2887)\n",
            " ->('D0', 18, '.......*11*1010*1010......', 2886)\n",
            " ->('D0', 19, '.......*11*1010*1010......', 2885)\n",
            " ->('D0', 20, '.......*11*1010*1010......', 2884)\n",
            " ->('D1', 19, '.......*11*1010*1010......', 2883)\n",
            " ->('I', 18, '.......*11*1010*101.......', 2882)\n",
            " ->('I', 17, '.......*11*1010*101.......', 2881)\n",
            " ->('I', 16, '.......*11*1010*101.......', 2880)\n",
            " ->('I', 15, '.......*11*1010*101.......', 2879)\n",
            " ->('C0', 16, '.......*11*1010*101.......', 2878)\n",
            " ->('C0', 17, '.......*11*1010*101.......', 2877)\n",
            " ->('C0', 18, '.......*11*1010*101.......', 2876)\n",
            " ->('C0', 19, '.......*11*1010*101.......', 2875)\n",
            " ->('C1', 18, '.......*11*1010*101*......', 2874)\n",
            " ->('C1', 17, '.......*11*1010*101*......', 2873)\n",
            " ->('C1', 16, '.......*11*1010*101*......', 2872)\n",
            " ->('C1', 15, '.......*11*1010*101*......', 2871)\n",
            " ->('C2', 16, '.......*11*1010*101*......', 2870)\n",
            " ->('C21', 17, '.......*11*1010*.01*......', 2869)\n",
            " ->('C21', 18, '.......*11*1010*.01*......', 2868)\n",
            " ->('C21', 19, '.......*11*1010*.01*......', 2867)\n",
            " ->('C21', 20, '.......*11*1010*.01*......', 2866)\n",
            " ->('C31', 19, '.......*11*1010*.01*1.....', 2865)\n",
            " ->('C31', 18, '.......*11*1010*.01*1.....', 2864)\n",
            " ->('C31', 17, '.......*11*1010*.01*1.....', 2863)\n",
            " ->('C31', 16, '.......*11*1010*.01*1.....', 2862)\n",
            " ->('C2', 17, '.......*11*1010*101*1.....', 2861)\n",
            " ->('C20', 18, '.......*11*1010*1.1*1.....', 2860)\n",
            " ->('C20', 19, '.......*11*1010*1.1*1.....', 2859)\n",
            " ->('C20', 20, '.......*11*1010*1.1*1.....', 2858)\n",
            " ->('C20', 21, '.......*11*1010*1.1*1.....', 2857)\n",
            " ->('C30', 20, '.......*11*1010*1.1*10....', 2856)\n",
            " ->('C30', 19, '.......*11*1010*1.1*10....', 2855)\n",
            " ->('C30', 18, '.......*11*1010*1.1*10....', 2854)\n",
            " ->('C30', 17, '.......*11*1010*1.1*10....', 2853)\n",
            " ->('C2', 18, '.......*11*1010*101*10....', 2852)\n",
            " ->('C21', 19, '.......*11*1010*10.*10....', 2851)\n",
            " ->('C21', 20, '.......*11*1010*10.*10....', 2850)\n",
            " ->('C21', 21, '.......*11*1010*10.*10....', 2849)\n",
            " ->('C21', 22, '.......*11*1010*10.*10....', 2848)\n",
            " ->('C31', 21, '.......*11*1010*10.*101...', 2847)\n",
            " ->('C31', 20, '.......*11*1010*10.*101...', 2846)\n",
            " ->('C31', 19, '.......*11*1010*10.*101...', 2845)\n",
            " ->('C31', 18, '.......*11*1010*10.*101...', 2844)\n",
            " ->('C2', 19, '.......*11*1010*101*101...', 2843)\n",
            " ->('SI', 20, '.......*11*1010*101*101...', 2842)\n",
            " ->('SI', 21, '.......*11*1010*101*101...', 2841)\n",
            " ->('SI', 22, '.......*11*1010*101*101...', 2840)\n",
            " ->('SI', 23, '.......*11*1010*101*101...', 2839)\n",
            " ->('S0', 22, '.......*11*1010*101*101...', 2838)\n",
            " ->('S1', 21, '.......*11*1010*101*101...', 2837)\n",
            " ->('S2', 20, '.......*11*1010*101*101...', 2836)\n",
            " ->('M3', 21, '.......*11*1010*101*101...', 2835)\n",
            " ->('M3', 22, '.......*11*1010*101*101...', 2834)\n",
            " ->('M3', 23, '.......*11*1010*101*101...', 2833)\n",
            " ->('Q0', 22, '.......*11*1010*101*101...', 2832)\n",
            " ->('Q2', 23, '.......*11*1010*101*101...', 2831)\n",
            " ->('Q3', 22, '.......*11*1010*101*1011..', 2830)\n",
            " ->('Q4', 21, '.......*11*1010*101*1011..', 2829)\n",
            " ->('Q5', 22, '.......*11*1010*101*1011..', 2828)\n",
            " ->('Q3', 21, '.......*11*1010*101*1011..', 2827)\n",
            " ->('Q4', 20, '.......*11*1010*101*1011..', 2826)\n",
            " ->('Q6', 21, '.......*11*1010*101*1011..', 2825)\n",
            " ->('Q3', 20, '.......*11*1010*101*1111..', 2824)\n",
            " ->('Q4', 19, '.......*11*1010*101*1111..', 2823)\n",
            " ->('A1', 20, '.......*11*1010*101*1111..', 2822)\n",
            " ->('A1', 21, '.......*11*1010*101*1111..', 2821)\n",
            " ->('A1', 22, '.......*11*1010*101*1111..', 2820)\n",
            " ->('A1', 23, '.......*11*1010*101*1111..', 2819)\n",
            " ->('A1', 24, '.......*11*1010*101*1111..', 2818)\n",
            " ->('A2', 23, '.......*11*1010*101*1111..', 2817)\n",
            " ->('A2', 22, '.......*11*1010*101*1110..', 2816)\n",
            " ->('A2', 21, '.......*11*1010*101*1100..', 2815)\n",
            " ->('A2', 20, '.......*11*1010*101*1000..', 2814)\n",
            " ->('A2', 19, '.......*11*1010*101*0000..', 2813)\n",
            " ->('A3', 20, '.......*11*1010*10110000..', 2812)\n",
            " ->('SHA', 19, '.......*11*1010*10110000..', 2811)\n",
            " ->('P1A', 20, '.......*11*1010*101*0000..', 2810)\n",
            " ->('P0A', 21, '.......*11*1010*101*1000..', 2809)\n",
            " ->('P0A', 22, '.......*11*1010*101*1000..', 2808)\n",
            " ->('P0A', 23, '.......*11*1010*101*1000..', 2807)\n",
            " ->('P0A', 24, '.......*11*1010*101*1000..', 2806)\n",
            " ->('I', 23, '.......*11*1010*101*10000.', 2805)\n",
            " ->('I', 22, '.......*11*1010*101*10000.', 2804)\n",
            " ->('I', 21, '.......*11*1010*101*10000.', 2803)\n",
            " ->('I', 20, '.......*11*1010*101*10000.', 2802)\n",
            " ->('I', 19, '.......*11*1010*101*10000.', 2801)\n",
            " ->('C0', 20, '.......*11*1010*101*10000.', 2800)\n",
            " ->('C0', 21, '.......*11*1010*101*10000.', 2799)\n",
            " ->('C0', 22, '.......*11*1010*101*10000.', 2798)\n",
            " ->('C0', 23, '.......*11*1010*101*10000.', 2797)\n",
            " ->('C0', 24, '.......*11*1010*101*10000.', 2796)\n",
            " ->('C0', 25, '.......*11*1010*101*10000.', 2795)\n",
            " ->('C1', 24, '.......*11*1010*101*10000*', 2794)\n",
            " ->('C1', 23, '.......*11*1010*101*10000*', 2793)\n",
            " ->('C1', 22, '.......*11*1010*101*10000*', 2792)\n",
            " ->('C1', 21, '.......*11*1010*101*10000*', 2791)\n",
            " ->('C1', 20, '.......*11*1010*101*10000*', 2790)\n",
            " ->('C1', 19, '.......*11*1010*101*10000*', 2789)\n",
            " ->('C2', 20, '.......*11*1010*101*10000*', 2788)\n",
            " ->('C21', 21, '.......*11*1010*101*.0000*', 2787)\n",
            " ->('C21', 22, '.......*11*1010*101*.0000*', 2786)\n",
            " ->('C21', 23, '.......*11*1010*101*.0000*', 2785)\n",
            " ->('C21', 24, '.......*11*1010*101*.0000*', 2784)\n",
            " ->('C21', 25, '.......*11*1010*101*.0000*', 2783)\n",
            " ->('C21', 26, '.......*11*1010*101*.0000*', 2782)\n",
            " ->('C31', 25, '.......*11*1010*101*.0000*1.......', 2781)\n",
            " ->('C31', 24, '.......*11*1010*101*.0000*1.......', 2780)\n",
            " ->('C31', 23, '.......*11*1010*101*.0000*1.......', 2779)\n",
            " ->('C31', 22, '.......*11*1010*101*.0000*1.......', 2778)\n",
            " ->('C31', 21, '.......*11*1010*101*.0000*1.......', 2777)\n",
            " ->('C31', 20, '.......*11*1010*101*.0000*1.......', 2776)\n",
            " ->('C2', 21, '.......*11*1010*101*10000*1.......', 2775)\n",
            " ->('C20', 22, '.......*11*1010*101*1.000*1.......', 2774)\n",
            " ->('C20', 23, '.......*11*1010*101*1.000*1.......', 2773)\n",
            " ->('C20', 24, '.......*11*1010*101*1.000*1.......', 2772)\n",
            " ->('C20', 25, '.......*11*1010*101*1.000*1.......', 2771)\n",
            " ->('C20', 26, '.......*11*1010*101*1.000*1.......', 2770)\n",
            " ->('C20', 27, '.......*11*1010*101*1.000*1.......', 2769)\n",
            " ->('C30', 26, '.......*11*1010*101*1.000*10......', 2768)\n",
            " ->('C30', 25, '.......*11*1010*101*1.000*10......', 2767)\n",
            " ->('C30', 24, '.......*11*1010*101*1.000*10......', 2766)\n",
            " ->('C30', 23, '.......*11*1010*101*1.000*10......', 2765)\n",
            " ->('C30', 22, '.......*11*1010*101*1.000*10......', 2764)\n",
            " ->('C30', 21, '.......*11*1010*101*1.000*10......', 2763)\n",
            " ->('C2', 22, '.......*11*1010*101*10000*10......', 2762)\n",
            " ->('C20', 23, '.......*11*1010*101*10.00*10......', 2761)\n",
            " ->('C20', 24, '.......*11*1010*101*10.00*10......', 2760)\n",
            " ->('C20', 25, '.......*11*1010*101*10.00*10......', 2759)\n",
            " ->('C20', 26, '.......*11*1010*101*10.00*10......', 2758)\n",
            " ->('C20', 27, '.......*11*1010*101*10.00*10......', 2757)\n",
            " ->('C20', 28, '.......*11*1010*101*10.00*10......', 2756)\n",
            " ->('C30', 27, '.......*11*1010*101*10.00*100.....', 2755)\n",
            " ->('C30', 26, '.......*11*1010*101*10.00*100.....', 2754)\n",
            " ->('C30', 25, '.......*11*1010*101*10.00*100.....', 2753)\n",
            " ->('C30', 24, '.......*11*1010*101*10.00*100.....', 2752)\n",
            " ->('C30', 23, '.......*11*1010*101*10.00*100.....', 2751)\n",
            " ->('C30', 22, '.......*11*1010*101*10.00*100.....', 2750)\n",
            " ->('C2', 23, '.......*11*1010*101*10000*100.....', 2749)\n",
            " ->('C20', 24, '.......*11*1010*101*100.0*100.....', 2748)\n",
            " ->('C20', 25, '.......*11*1010*101*100.0*100.....', 2747)\n",
            " ->('C20', 26, '.......*11*1010*101*100.0*100.....', 2746)\n",
            " ->('C20', 27, '.......*11*1010*101*100.0*100.....', 2745)\n",
            " ->('C20', 28, '.......*11*1010*101*100.0*100.....', 2744)\n",
            " ->('C20', 29, '.......*11*1010*101*100.0*100.....', 2743)\n",
            " ->('C30', 28, '.......*11*1010*101*100.0*1000....', 2742)\n",
            " ->('C30', 27, '.......*11*1010*101*100.0*1000....', 2741)\n",
            " ->('C30', 26, '.......*11*1010*101*100.0*1000....', 2740)\n",
            " ->('C30', 25, '.......*11*1010*101*100.0*1000....', 2739)\n",
            " ->('C30', 24, '.......*11*1010*101*100.0*1000....', 2738)\n",
            " ->('C30', 23, '.......*11*1010*101*100.0*1000....', 2737)\n",
            " ->('C2', 24, '.......*11*1010*101*10000*1000....', 2736)\n",
            " ->('C20', 25, '.......*11*1010*101*1000.*1000....', 2735)\n",
            " ->('C20', 26, '.......*11*1010*101*1000.*1000....', 2734)\n",
            " ->('C20', 27, '.......*11*1010*101*1000.*1000....', 2733)\n",
            " ->('C20', 28, '.......*11*1010*101*1000.*1000....', 2732)\n",
            " ->('C20', 29, '.......*11*1010*101*1000.*1000....', 2731)\n",
            " ->('C20', 30, '.......*11*1010*101*1000.*1000....', 2730)\n",
            " ->('C30', 29, '.......*11*1010*101*1000.*10000...', 2729)\n",
            " ->('C30', 28, '.......*11*1010*101*1000.*10000...', 2728)\n",
            " ->('C30', 27, '.......*11*1010*101*1000.*10000...', 2727)\n",
            " ->('C30', 26, '.......*11*1010*101*1000.*10000...', 2726)\n",
            " ->('C30', 25, '.......*11*1010*101*1000.*10000...', 2725)\n",
            " ->('C30', 24, '.......*11*1010*101*1000.*10000...', 2724)\n",
            " ->('C2', 25, '.......*11*1010*101*10000*10000...', 2723)\n",
            " ->('SI', 26, '.......*11*1010*101*10000*10000...', 2722)\n",
            " ->('SI', 27, '.......*11*1010*101*10000*10000...', 2721)\n",
            " ->('SI', 28, '.......*11*1010*101*10000*10000...', 2720)\n",
            " ->('SI', 29, '.......*11*1010*101*10000*10000...', 2719)\n",
            " ->('SI', 30, '.......*11*1010*101*10000*10000...', 2718)\n",
            " ->('SI', 31, '.......*11*1010*101*10000*10000...', 2717)\n",
            " ->('S0', 30, '.......*11*1010*101*10000*10000...', 2716)\n",
            " ->('D0', 29, '.......*11*1010*101*10000*10000...', 2715)\n",
            " ->('D0', 30, '.......*11*1010*101*10000*10000...', 2714)\n",
            " ->('D0', 31, '.......*11*1010*101*10000*10000...', 2713)\n",
            " ->('D1', 30, '.......*11*1010*101*10000*10000...', 2712)\n",
            " ->('I', 29, '.......*11*1010*101*10000*1000....', 2711)\n",
            " ->('I', 28, '.......*11*1010*101*10000*1000....', 2710)\n",
            " ->('I', 27, '.......*11*1010*101*10000*1000....', 2709)\n",
            " ->('I', 26, '.......*11*1010*101*10000*1000....', 2708)\n",
            " ->('I', 25, '.......*11*1010*101*10000*1000....', 2707)\n",
            " ->('C0', 26, '.......*11*1010*101*10000*1000....', 2706)\n",
            " ->('C0', 27, '.......*11*1010*101*10000*1000....', 2705)\n",
            " ->('C0', 28, '.......*11*1010*101*10000*1000....', 2704)\n",
            " ->('C0', 29, '.......*11*1010*101*10000*1000....', 2703)\n",
            " ->('C0', 30, '.......*11*1010*101*10000*1000....', 2702)\n",
            " ->('C1', 29, '.......*11*1010*101*10000*1000*...', 2701)\n",
            " ->('C1', 28, '.......*11*1010*101*10000*1000*...', 2700)\n",
            " ->('C1', 27, '.......*11*1010*101*10000*1000*...', 2699)\n",
            " ->('C1', 26, '.......*11*1010*101*10000*1000*...', 2698)\n",
            " ->('C1', 25, '.......*11*1010*101*10000*1000*...', 2697)\n",
            " ->('C2', 26, '.......*11*1010*101*10000*1000*...', 2696)\n",
            " ->('C21', 27, '.......*11*1010*101*10000*.000*...', 2695)\n",
            " ->('C21', 28, '.......*11*1010*101*10000*.000*...', 2694)\n",
            " ->('C21', 29, '.......*11*1010*101*10000*.000*...', 2693)\n",
            " ->('C21', 30, '.......*11*1010*101*10000*.000*...', 2692)\n",
            " ->('C21', 31, '.......*11*1010*101*10000*.000*...', 2691)\n",
            " ->('C31', 30, '.......*11*1010*101*10000*.000*1..', 2690)\n",
            " ->('C31', 29, '.......*11*1010*101*10000*.000*1..', 2689)\n",
            " ->('C31', 28, '.......*11*1010*101*10000*.000*1..', 2688)\n",
            " ->('C31', 27, '.......*11*1010*101*10000*.000*1..', 2687)\n",
            " ->('C31', 26, '.......*11*1010*101*10000*.000*1..', 2686)\n",
            " ->('C2', 27, '.......*11*1010*101*10000*1000*1..', 2685)\n",
            " ->('C20', 28, '.......*11*1010*101*10000*1.00*1..', 2684)\n",
            " ->('C20', 29, '.......*11*1010*101*10000*1.00*1..', 2683)\n",
            " ->('C20', 30, '.......*11*1010*101*10000*1.00*1..', 2682)\n",
            " ->('C20', 31, '.......*11*1010*101*10000*1.00*1..', 2681)\n",
            " ->('C20', 32, '.......*11*1010*101*10000*1.00*1..', 2680)\n",
            " ->('C30', 31, '.......*11*1010*101*10000*1.00*10.', 2679)\n",
            " ->('C30', 30, '.......*11*1010*101*10000*1.00*10.', 2678)\n",
            " ->('C30', 29, '.......*11*1010*101*10000*1.00*10.', 2677)\n",
            " ->('C30', 28, '.......*11*1010*101*10000*1.00*10.', 2676)\n",
            " ->('C30', 27, '.......*11*1010*101*10000*1.00*10.', 2675)\n",
            " ->('C2', 28, '.......*11*1010*101*10000*1000*10.', 2674)\n",
            " ->('C20', 29, '.......*11*1010*101*10000*10.0*10.', 2673)\n",
            " ->('C20', 30, '.......*11*1010*101*10000*10.0*10.', 2672)\n",
            " ->('C20', 31, '.......*11*1010*101*10000*10.0*10.', 2671)\n",
            " ->('C20', 32, '.......*11*1010*101*10000*10.0*10.', 2670)\n",
            " ->('C20', 33, '.......*11*1010*101*10000*10.0*10.', 2669)\n",
            " ->('C30', 32, '.......*11*1010*101*10000*10.0*100', 2668)\n",
            " ->('C30', 31, '.......*11*1010*101*10000*10.0*100', 2667)\n",
            " ->('C30', 30, '.......*11*1010*101*10000*10.0*100', 2666)\n",
            " ->('C30', 29, '.......*11*1010*101*10000*10.0*100', 2665)\n",
            " ->('C30', 28, '.......*11*1010*101*10000*10.0*100', 2664)\n",
            " ->('C2', 29, '.......*11*1010*101*10000*1000*100', 2663)\n",
            " ->('C20', 30, '.......*11*1010*101*10000*100.*100', 2662)\n",
            " ->('C20', 31, '.......*11*1010*101*10000*100.*100', 2661)\n",
            " ->('C20', 32, '.......*11*1010*101*10000*100.*100', 2660)\n",
            " ->('C20', 33, '.......*11*1010*101*10000*100.*100', 2659)\n",
            " ->('C20', 34, '.......*11*1010*101*10000*100.*100', 2658)\n",
            " ->('C30', 33, '.......*11*1010*101*10000*100.*1000.......', 2657)\n",
            " ->('C30', 32, '.......*11*1010*101*10000*100.*1000.......', 2656)\n",
            " ->('C30', 31, '.......*11*1010*101*10000*100.*1000.......', 2655)\n",
            " ->('C30', 30, '.......*11*1010*101*10000*100.*1000.......', 2654)\n",
            " ->('C30', 29, '.......*11*1010*101*10000*100.*1000.......', 2653)\n",
            " ->('C2', 30, '.......*11*1010*101*10000*1000*1000.......', 2652)\n",
            " ->('SI', 31, '.......*11*1010*101*10000*1000*1000.......', 2651)\n",
            " ->('SI', 32, '.......*11*1010*101*10000*1000*1000.......', 2650)\n",
            " ->('SI', 33, '.......*11*1010*101*10000*1000*1000.......', 2649)\n",
            " ->('SI', 34, '.......*11*1010*101*10000*1000*1000.......', 2648)\n",
            " ->('SI', 35, '.......*11*1010*101*10000*1000*1000.......', 2647)\n",
            " ->('S0', 34, '.......*11*1010*101*10000*1000*1000.......', 2646)\n",
            " ->('D0', 33, '.......*11*1010*101*10000*1000*1000.......', 2645)\n",
            " ->('D0', 34, '.......*11*1010*101*10000*1000*1000.......', 2644)\n",
            " ->('D0', 35, '.......*11*1010*101*10000*1000*1000.......', 2643)\n",
            " ->('D1', 34, '.......*11*1010*101*10000*1000*1000.......', 2642)\n",
            " ->('I', 33, '.......*11*1010*101*10000*1000*100........', 2641)\n",
            " ->('I', 32, '.......*11*1010*101*10000*1000*100........', 2640)\n",
            " ->('I', 31, '.......*11*1010*101*10000*1000*100........', 2639)\n",
            " ->('I', 30, '.......*11*1010*101*10000*1000*100........', 2638)\n",
            " ->('C0', 31, '.......*11*1010*101*10000*1000*100........', 2637)\n",
            " ->('C0', 32, '.......*11*1010*101*10000*1000*100........', 2636)\n",
            " ->('C0', 33, '.......*11*1010*101*10000*1000*100........', 2635)\n",
            " ->('C0', 34, '.......*11*1010*101*10000*1000*100........', 2634)\n",
            " ->('C1', 33, '.......*11*1010*101*10000*1000*100*.......', 2633)\n",
            " ->('C1', 32, '.......*11*1010*101*10000*1000*100*.......', 2632)\n",
            " ->('C1', 31, '.......*11*1010*101*10000*1000*100*.......', 2631)\n",
            " ->('C1', 30, '.......*11*1010*101*10000*1000*100*.......', 2630)\n",
            " ->('C2', 31, '.......*11*1010*101*10000*1000*100*.......', 2629)\n",
            " ->('C21', 32, '.......*11*1010*101*10000*1000*.00*.......', 2628)\n",
            " ->('C21', 33, '.......*11*1010*101*10000*1000*.00*.......', 2627)\n",
            " ->('C21', 34, '.......*11*1010*101*10000*1000*.00*.......', 2626)\n",
            " ->('C21', 35, '.......*11*1010*101*10000*1000*.00*.......', 2625)\n",
            " ->('C31', 34, '.......*11*1010*101*10000*1000*.00*1......', 2624)\n",
            " ->('C31', 33, '.......*11*1010*101*10000*1000*.00*1......', 2623)\n",
            " ->('C31', 32, '.......*11*1010*101*10000*1000*.00*1......', 2622)\n",
            " ->('C31', 31, '.......*11*1010*101*10000*1000*.00*1......', 2621)\n",
            " ->('C2', 32, '.......*11*1010*101*10000*1000*100*1......', 2620)\n",
            " ->('C20', 33, '.......*11*1010*101*10000*1000*1.0*1......', 2619)\n",
            " ->('C20', 34, '.......*11*1010*101*10000*1000*1.0*1......', 2618)\n",
            " ->('C20', 35, '.......*11*1010*101*10000*1000*1.0*1......', 2617)\n",
            " ->('C20', 36, '.......*11*1010*101*10000*1000*1.0*1......', 2616)\n",
            " ->('C30', 35, '.......*11*1010*101*10000*1000*1.0*10.....', 2615)\n",
            " ->('C30', 34, '.......*11*1010*101*10000*1000*1.0*10.....', 2614)\n",
            " ->('C30', 33, '.......*11*1010*101*10000*1000*1.0*10.....', 2613)\n",
            " ->('C30', 32, '.......*11*1010*101*10000*1000*1.0*10.....', 2612)\n",
            " ->('C2', 33, '.......*11*1010*101*10000*1000*100*10.....', 2611)\n",
            " ->('C20', 34, '.......*11*1010*101*10000*1000*10.*10.....', 2610)\n",
            " ->('C20', 35, '.......*11*1010*101*10000*1000*10.*10.....', 2609)\n",
            " ->('C20', 36, '.......*11*1010*101*10000*1000*10.*10.....', 2608)\n",
            " ->('C20', 37, '.......*11*1010*101*10000*1000*10.*10.....', 2607)\n",
            " ->('C30', 36, '.......*11*1010*101*10000*1000*10.*100....', 2606)\n",
            " ->('C30', 35, '.......*11*1010*101*10000*1000*10.*100....', 2605)\n",
            " ->('C30', 34, '.......*11*1010*101*10000*1000*10.*100....', 2604)\n",
            " ->('C30', 33, '.......*11*1010*101*10000*1000*10.*100....', 2603)\n",
            " ->('C2', 34, '.......*11*1010*101*10000*1000*100*100....', 2602)\n",
            " ->('SI', 35, '.......*11*1010*101*10000*1000*100*100....', 2601)\n",
            " ->('SI', 36, '.......*11*1010*101*10000*1000*100*100....', 2600)\n",
            " ->('SI', 37, '.......*11*1010*101*10000*1000*100*100....', 2599)\n",
            " ->('SI', 38, '.......*11*1010*101*10000*1000*100*100....', 2598)\n",
            " ->('S0', 37, '.......*11*1010*101*10000*1000*100*100....', 2597)\n",
            " ->('D0', 36, '.......*11*1010*101*10000*1000*100*100....', 2596)\n",
            " ->('D0', 37, '.......*11*1010*101*10000*1000*100*100....', 2595)\n",
            " ->('D0', 38, '.......*11*1010*101*10000*1000*100*100....', 2594)\n",
            " ->('D1', 37, '.......*11*1010*101*10000*1000*100*100....', 2593)\n",
            " ->('I', 36, '.......*11*1010*101*10000*1000*100*10.....', 2592)\n",
            " ->('I', 35, '.......*11*1010*101*10000*1000*100*10.....', 2591)\n",
            " ->('I', 34, '.......*11*1010*101*10000*1000*100*10.....', 2590)\n",
            " ->('C0', 35, '.......*11*1010*101*10000*1000*100*10.....', 2589)\n",
            " ->('C0', 36, '.......*11*1010*101*10000*1000*100*10.....', 2588)\n",
            " ->('C0', 37, '.......*11*1010*101*10000*1000*100*10.....', 2587)\n",
            " ->('C1', 36, '.......*11*1010*101*10000*1000*100*10*....', 2586)\n",
            " ->('C1', 35, '.......*11*1010*101*10000*1000*100*10*....', 2585)\n",
            " ->('C1', 34, '.......*11*1010*101*10000*1000*100*10*....', 2584)\n",
            " ->('C2', 35, '.......*11*1010*101*10000*1000*100*10*....', 2583)\n",
            " ->('C21', 36, '.......*11*1010*101*10000*1000*100*.0*....', 2582)\n",
            " ->('C21', 37, '.......*11*1010*101*10000*1000*100*.0*....', 2581)\n",
            " ->('C21', 38, '.......*11*1010*101*10000*1000*100*.0*....', 2580)\n",
            " ->('C31', 37, '.......*11*1010*101*10000*1000*100*.0*1...', 2579)\n",
            " ->('C31', 36, '.......*11*1010*101*10000*1000*100*.0*1...', 2578)\n",
            " ->('C31', 35, '.......*11*1010*101*10000*1000*100*.0*1...', 2577)\n",
            " ->('C2', 36, '.......*11*1010*101*10000*1000*100*10*1...', 2576)\n",
            " ->('C20', 37, '.......*11*1010*101*10000*1000*100*1.*1...', 2575)\n",
            " ->('C20', 38, '.......*11*1010*101*10000*1000*100*1.*1...', 2574)\n",
            " ->('C20', 39, '.......*11*1010*101*10000*1000*100*1.*1...', 2573)\n",
            " ->('C30', 38, '.......*11*1010*101*10000*1000*100*1.*10..', 2572)\n",
            " ->('C30', 37, '.......*11*1010*101*10000*1000*100*1.*10..', 2571)\n",
            " ->('C30', 36, '.......*11*1010*101*10000*1000*100*1.*10..', 2570)\n",
            " ->('C2', 37, '.......*11*1010*101*10000*1000*100*10*10..', 2569)\n",
            " ->('SI', 38, '.......*11*1010*101*10000*1000*100*10*10..', 2568)\n",
            " ->('SI', 39, '.......*11*1010*101*10000*1000*100*10*10..', 2567)\n",
            " ->('SI', 40, '.......*11*1010*101*10000*1000*100*10*10..', 2566)\n",
            " ->('S0', 39, '.......*11*1010*101*10000*1000*100*10*10..', 2565)\n",
            " ->('D0', 38, '.......*11*1010*101*10000*1000*100*10*10..', 2564)\n",
            " ->('D0', 39, '.......*11*1010*101*10000*1000*100*10*10..', 2563)\n",
            " ->('D0', 40, '.......*11*1010*101*10000*1000*100*10*10..', 2562)\n",
            " ->('D1', 39, '.......*11*1010*101*10000*1000*100*10*10..', 2561)\n",
            " ->('I', 38, '.......*11*1010*101*10000*1000*100*10*1...', 2560)\n",
            " ->('I', 37, '.......*11*1010*101*10000*1000*100*10*1...', 2559)\n",
            " ->('C0', 38, '.......*11*1010*101*10000*1000*100*10*1...', 2558)\n",
            " ->('C0', 39, '.......*11*1010*101*10000*1000*100*10*1...', 2557)\n",
            " ->('C1', 38, '.......*11*1010*101*10000*1000*100*10*1*..', 2556)\n",
            " ->('C1', 37, '.......*11*1010*101*10000*1000*100*10*1*..', 2555)\n",
            " ->('C2', 38, '.......*11*1010*101*10000*1000*100*10*1*..', 2554)\n",
            " ->('C21', 39, '.......*11*1010*101*10000*1000*100*10*.*..', 2553)\n",
            " ->('C21', 40, '.......*11*1010*101*10000*1000*100*10*.*..', 2552)\n",
            " ->('C31', 39, '.......*11*1010*101*10000*1000*100*10*.*1.', 2551)\n",
            " ->('C31', 38, '.......*11*1010*101*10000*1000*100*10*.*1.', 2550)\n",
            " ->('C2', 39, '.......*11*1010*101*10000*1000*100*10*1*1.', 2549)\n",
            " ->('SI', 40, '.......*11*1010*101*10000*1000*100*10*1*1.', 2548)\n",
            " ->('SI', 41, '.......*11*1010*101*10000*1000*100*10*1*1.', 2547)\n",
            " ->('S0', 40, '.......*11*1010*101*10000*1000*100*10*1*1.', 2546)\n",
            " ->('S1', 39, '.......*11*1010*101*10000*1000*100*10*1*1.', 2545)\n",
            " ->('F', 38, '.......*11*1010*101*10000*1000*100*10*1*1.', 2544)\n"
          ],
          "name": "stdout"
        }
      ]
    },
    {
      "cell_type": "markdown",
      "metadata": {
        "id": "S3hGp_3PgsrC"
      },
      "source": [
        ""
      ]
    }
  ]
}