{
  "nbformat": 4,
  "nbformat_minor": 0,
  "metadata": {
    "kernelspec": {
      "display_name": "Python 3",
      "language": "python",
      "name": "python3"
    },
    "language_info": {
      "codemirror_mode": {
        "name": "ipython",
        "version": 3
      },
      "file_extension": ".py",
      "mimetype": "text/x-python",
      "name": "python",
      "nbconvert_exporter": "python",
      "pygments_lexer": "ipython3",
      "version": "3.9.0"
    },
    "toc": {
      "colors": {
        "hover_highlight": "#DAA520",
        "running_highlight": "#FF0000",
        "selected_highlight": "#FFD700"
      },
      "moveMenuLeft": true,
      "nav_menu": {
        "height": "121px",
        "width": "252px"
      },
      "navigate_menu": true,
      "number_sections": true,
      "sideBar": true,
      "threshold": 4,
      "toc_cell": false,
      "toc_section_display": "block",
      "toc_window_display": false,
      "widenNotebook": false
    },
    "widgets": {
      "application/vnd.jupyter.widget-state+json": {
        "1f9131de4e59427f80efc617addbd919": {
          "model_module": "@jupyter-widgets/controls",
          "model_name": "VBoxModel",
          "state": {
            "_view_name": "VBoxView",
            "_dom_classes": [],
            "_model_name": "VBoxModel",
            "_view_module": "@jupyter-widgets/controls",
            "_model_module_version": "1.5.0",
            "_view_count": null,
            "_view_module_version": "1.5.0",
            "box_style": "",
            "layout": "IPY_MODEL_cd236fd8707242499564e00ee8e61dcd",
            "_model_module": "@jupyter-widgets/controls",
            "children": [
              "IPY_MODEL_51ad92d1cdfa4be188eae2e014db7267",
              "IPY_MODEL_741274d15db840beacbb61407ca3bf3c",
              "IPY_MODEL_eb894e6712e9488d9feed8eda80953d4",
              "IPY_MODEL_68f90e15382f4808a6d37d50dd2ebc0b"
            ]
          }
        },
        "cd236fd8707242499564e00ee8e61dcd": {
          "model_module": "@jupyter-widgets/base",
          "model_name": "LayoutModel",
          "state": {
            "_view_name": "LayoutView",
            "grid_template_rows": null,
            "right": null,
            "justify_content": null,
            "_view_module": "@jupyter-widgets/base",
            "overflow": null,
            "_model_module_version": "1.2.0",
            "_view_count": null,
            "flex_flow": null,
            "width": null,
            "min_width": null,
            "border": null,
            "align_items": null,
            "bottom": null,
            "_model_module": "@jupyter-widgets/base",
            "top": null,
            "grid_column": null,
            "overflow_y": null,
            "overflow_x": null,
            "grid_auto_flow": null,
            "grid_area": null,
            "grid_template_columns": null,
            "flex": null,
            "_model_name": "LayoutModel",
            "justify_items": null,
            "grid_row": null,
            "max_height": null,
            "align_content": null,
            "visibility": null,
            "align_self": null,
            "height": null,
            "min_height": null,
            "padding": null,
            "grid_auto_rows": null,
            "grid_gap": null,
            "max_width": null,
            "order": null,
            "_view_module_version": "1.2.0",
            "grid_template_areas": null,
            "object_position": null,
            "object_fit": null,
            "grid_auto_columns": null,
            "margin": null,
            "display": null,
            "left": null
          }
        },
        "51ad92d1cdfa4be188eae2e014db7267": {
          "model_module": "@jupyter-widgets/controls",
          "model_name": "HBoxModel",
          "state": {
            "_view_name": "HBoxView",
            "_dom_classes": [],
            "_model_name": "HBoxModel",
            "_view_module": "@jupyter-widgets/controls",
            "_model_module_version": "1.5.0",
            "_view_count": null,
            "_view_module_version": "1.5.0",
            "box_style": "",
            "layout": "IPY_MODEL_3119afb623bf4ecd8018a7a4853272b7",
            "_model_module": "@jupyter-widgets/controls",
            "children": [
              "IPY_MODEL_cb7a15eb73a040658a4b7ca38a4e27cf",
              "IPY_MODEL_d930da8d62754d55a7df0510844ca38c"
            ]
          }
        },
        "741274d15db840beacbb61407ca3bf3c": {
          "model_module": "@jupyter-widgets/output",
          "model_name": "OutputModel",
          "state": {
            "_view_name": "OutputView",
            "msg_id": "",
            "_dom_classes": [],
            "_model_name": "OutputModel",
            "outputs": [
              {
                "output_type": "display_data",
                "metadata": {
                  "tags": []
                },
                "text/plain": "<graphviz.files.Source at 0x7fa6488d0438>",
                "image/svg+xml": "<?xml version=\"1.0\" encoding=\"UTF-8\" standalone=\"no\"?>\n<!DOCTYPE svg PUBLIC \"-//W3C//DTD SVG 1.1//EN\"\n \"http://www.w3.org/Graphics/SVG/1.1/DTD/svg11.dtd\">\n<!-- Generated by graphviz version 2.40.1 (20161225.0304)\n -->\n<!-- Title: %3 Pages: 1 -->\n<svg width=\"473pt\" height=\"114pt\"\n viewBox=\"0.00 0.00 473.00 114.00\" xmlns=\"http://www.w3.org/2000/svg\" xmlns:xlink=\"http://www.w3.org/1999/xlink\">\n<g id=\"graph0\" class=\"graph\" transform=\"scale(1 1) rotate(0) translate(4 110)\">\n<title>%3</title>\n<polygon fill=\"#ffffff\" stroke=\"transparent\" points=\"-4,4 -4,-110 469,-110 469,4 -4,4\"/>\n<!-- EMPTY -->\n<g id=\"node1\" class=\"node\">\n<title>EMPTY</title>\n</g>\n<!-- I -->\n<g id=\"node2\" class=\"node\">\n<title>I</title>\n<ellipse fill=\"#66cd00\" stroke=\"#000000\" cx=\"109\" cy=\"-22\" rx=\"18\" ry=\"18\"/>\n<text text-anchor=\"middle\" x=\"109\" y=\"-18.3\" font-family=\"Times,serif\" font-size=\"14.00\" fill=\"#ffffff\">I</text>\n</g>\n<!-- EMPTY&#45;&gt;I -->\n<g id=\"edge1\" class=\"edge\">\n<title>EMPTY&#45;&gt;I</title>\n<path fill=\"none\" stroke=\"#000000\" d=\"M54.3048,-22C62.6909,-22 71.9407,-22 80.4103,-22\"/>\n<polygon fill=\"#000000\" stroke=\"#000000\" points=\"80.5976,-25.5001 90.5976,-22 80.5976,-18.5001 80.5976,-25.5001\"/>\n</g>\n<!-- I&#45;&gt;I -->\n<g id=\"edge2\" class=\"edge\">\n<title>I&#45;&gt;I</title>\n<path fill=\"none\" stroke=\"#000000\" d=\"M105.7643,-39.7817C105.2144,-49.3149 106.293,-58 109,-58 110.6496,-58 111.6945,-54.7749 112.1347,-50.0981\"/>\n<polygon fill=\"#000000\" stroke=\"#000000\" points=\"115.6375,-49.8156 112.2357,-39.7817 108.6379,-49.7469 115.6375,-49.8156\"/>\n<text text-anchor=\"start\" x=\"103\" y=\"-61.8\" font-family=\"Times,serif\" font-size=\"14.00\" fill=\"#000000\"> 0</text>\n</g>\n<!-- I&#45;&gt;I -->\n<g id=\"edge3\" class=\"edge\">\n<title>I&#45;&gt;I</title>\n<path fill=\"none\" stroke=\"#000000\" d=\"M103.6841,-39.4203C100.6538,-56.791 102.4258,-76 109,-76 114.2902,-76 116.4708,-63.5617 115.5419,-49.652\"/>\n<polygon fill=\"#000000\" stroke=\"#000000\" points=\"118.9808,-48.9328 114.3159,-39.4203 112.0305,-49.7657 118.9808,-48.9328\"/>\n<text text-anchor=\"start\" x=\"103\" y=\"-79.8\" font-family=\"Times,serif\" font-size=\"14.00\" fill=\"#000000\"> 1</text>\n</g>\n<!-- A -->\n<g id=\"node5\" class=\"node\">\n<title>A</title>\n<ellipse fill=\"#66cd00\" stroke=\"#000000\" cx=\"190\" cy=\"-22\" rx=\"18\" ry=\"18\"/>\n<text text-anchor=\"middle\" x=\"190\" y=\"-18.3\" font-family=\"Times,serif\" font-size=\"14.00\" fill=\"#ffffff\">A</text>\n</g>\n<!-- I&#45;&gt;A -->\n<g id=\"edge4\" class=\"edge\">\n<title>I&#45;&gt;A</title>\n<path fill=\"none\" stroke=\"#000000\" d=\"M127.3802,-22C137.4966,-22 150.2691,-22 161.6363,-22\"/>\n<polygon fill=\"#000000\" stroke=\"#000000\" points=\"161.9716,-25.5001 171.9716,-22 161.9716,-18.5001 161.9716,-25.5001\"/>\n<text text-anchor=\"start\" x=\"145\" y=\"-25.8\" font-family=\"Times,serif\" font-size=\"14.00\" fill=\"#000000\"> &#39;&#39;</text>\n</g>\n<!-- C -->\n<g id=\"node3\" class=\"node\">\n<title>C</title>\n<ellipse fill=\"#66cd00\" stroke=\"#000000\" cx=\"358\" cy=\"-22\" rx=\"18\" ry=\"18\"/>\n<text text-anchor=\"middle\" x=\"358\" y=\"-18.3\" font-family=\"Times,serif\" font-size=\"14.00\" fill=\"#ffffff\">C</text>\n</g>\n<!-- C&#45;&gt;C -->\n<g id=\"edge7\" class=\"edge\">\n<title>C&#45;&gt;C</title>\n<path fill=\"none\" stroke=\"#000000\" d=\"M354.4047,-39.7817C353.7938,-49.3149 354.9922,-58 358,-58 359.8329,-58 360.9939,-54.7749 361.483,-50.0981\"/>\n<polygon fill=\"#000000\" stroke=\"#000000\" points=\"364.9861,-49.8193 361.5953,-39.7817 357.9865,-49.743 364.9861,-49.8193\"/>\n<text text-anchor=\"start\" x=\"352\" y=\"-61.8\" font-family=\"Times,serif\" font-size=\"14.00\" fill=\"#000000\"> 0</text>\n</g>\n<!-- C&#45;&gt;C -->\n<g id=\"edge8\" class=\"edge\">\n<title>C&#45;&gt;C</title>\n<path fill=\"none\" stroke=\"#000000\" d=\"M352.1479,-39.1418C348.7056,-56.585 350.6563,-76 358,-76 363.9094,-76 366.3267,-63.4283 365.2519,-49.4287\"/>\n<polygon fill=\"#000000\" stroke=\"#000000\" points=\"368.6685,-48.5785 363.8521,-39.1418 361.7325,-49.5224 368.6685,-48.5785\"/>\n<text text-anchor=\"start\" x=\"352\" y=\"-79.8\" font-family=\"Times,serif\" font-size=\"14.00\" fill=\"#000000\"> 1</text>\n</g>\n<!-- F -->\n<g id=\"node6\" class=\"node\">\n<title>F</title>\n<ellipse fill=\"#66cd00\" stroke=\"#000000\" cx=\"443\" cy=\"-22\" rx=\"18\" ry=\"18\"/>\n<ellipse fill=\"none\" stroke=\"#000000\" cx=\"443\" cy=\"-22\" rx=\"22\" ry=\"22\"/>\n<text text-anchor=\"middle\" x=\"443\" y=\"-18.3\" font-family=\"Times,serif\" font-size=\"14.00\" fill=\"#ffffff\">F</text>\n</g>\n<!-- C&#45;&gt;F -->\n<g id=\"edge9\" class=\"edge\">\n<title>C&#45;&gt;F</title>\n<path fill=\"none\" stroke=\"#000000\" d=\"M376.0263,-22C386.0256,-22 398.7667,-22 410.4461,-22\"/>\n<polygon fill=\"#000000\" stroke=\"#000000\" points=\"410.7644,-25.5001 420.7644,-22 410.7644,-18.5001 410.7644,-25.5001\"/>\n<text text-anchor=\"start\" x=\"394\" y=\"-25.8\" font-family=\"Times,serif\" font-size=\"14.00\" fill=\"#000000\"> &#39;&#39;</text>\n</g>\n<!-- B -->\n<g id=\"node4\" class=\"node\">\n<title>B</title>\n<ellipse fill=\"none\" stroke=\"#000000\" cx=\"274\" cy=\"-22\" rx=\"18\" ry=\"18\"/>\n<text text-anchor=\"middle\" x=\"274\" y=\"-18.3\" font-family=\"Times,serif\" font-size=\"14.00\" fill=\"#000000\">B</text>\n</g>\n<!-- B&#45;&gt;C -->\n<g id=\"edge6\" class=\"edge\">\n<title>B&#45;&gt;C</title>\n<path fill=\"none\" stroke=\"#000000\" d=\"M292.2267,-22C303.1242,-22 317.2054,-22 329.5413,-22\"/>\n<polygon fill=\"#000000\" stroke=\"#000000\" points=\"329.8089,-25.5001 339.8088,-22 329.8088,-18.5001 329.8089,-25.5001\"/>\n<text text-anchor=\"start\" x=\"310\" y=\"-25.8\" font-family=\"Times,serif\" font-size=\"14.00\" fill=\"#000000\"> 1</text>\n</g>\n<!-- A&#45;&gt;B -->\n<g id=\"edge5\" class=\"edge\">\n<title>A&#45;&gt;B</title>\n<path fill=\"none\" stroke=\"#000000\" d=\"M208.2267,-22C219.1242,-22 233.2054,-22 245.5413,-22\"/>\n<polygon fill=\"#000000\" stroke=\"#000000\" points=\"245.8089,-25.5001 255.8088,-22 245.8088,-18.5001 245.8089,-25.5001\"/>\n<text text-anchor=\"start\" x=\"226\" y=\"-25.8\" font-family=\"Times,serif\" font-size=\"14.00\" fill=\"#000000\"> 0</text>\n</g>\n</g>\n</svg>\n"
              }
            ],
            "_view_module": "@jupyter-widgets/output",
            "_model_module_version": "1.0.0",
            "_view_count": null,
            "_view_module_version": "1.0.0",
            "layout": "IPY_MODEL_bdb3f22426c24d82abcbbafd1a2688ee",
            "_model_module": "@jupyter-widgets/output"
          }
        },
        "eb894e6712e9488d9feed8eda80953d4": {
          "model_module": "@jupyter-widgets/output",
          "model_name": "OutputModel",
          "state": {
            "_view_name": "OutputView",
            "msg_id": "",
            "_dom_classes": [],
            "_model_name": "OutputModel",
            "outputs": [
              {
                "output_type": "display_data",
                "metadata": {
                  "tags": []
                },
                "text/plain": "<graphviz.files.Source at 0x7fa6488d0438>",
                "image/svg+xml": "<?xml version=\"1.0\" encoding=\"UTF-8\" standalone=\"no\"?>\n<!DOCTYPE svg PUBLIC \"-//W3C//DTD SVG 1.1//EN\"\n \"http://www.w3.org/Graphics/SVG/1.1/DTD/svg11.dtd\">\n<!-- Generated by graphviz version 2.40.1 (20161225.0304)\n -->\n<!-- Title: %3 Pages: 1 -->\n<svg width=\"200pt\" height=\"47pt\"\n viewBox=\"0.00 0.00 200.00 47.00\" xmlns=\"http://www.w3.org/2000/svg\" xmlns:xlink=\"http://www.w3.org/1999/xlink\">\n<g id=\"graph0\" class=\"graph\" transform=\"scale(1 1) rotate(0) translate(4 43)\">\n<title>%3</title>\n<polygon fill=\"#ffffff\" stroke=\"transparent\" points=\"-4,4 -4,-43 196,-43 196,4 -4,4\"/>\n<!-- feed -->\n<g id=\"node1\" class=\"node\">\n<title>feed</title>\n<polygon fill=\"none\" stroke=\"#000000\" points=\"8,-3.5 8,-34.5 141,-34.5 141,-3.5 8,-3.5\"/>\n<text text-anchor=\"start\" x=\"17\" y=\"-15.9\" font-family=\"Times,serif\" font-size=\"12.00\" fill=\"#000000\">00000000000111111111</text>\n<polygon fill=\"none\" stroke=\"#000000\" points=\"141,-3.5 141,-34.5 166,-34.5 166,-3.5 141,-3.5\"/>\n<text text-anchor=\"start\" x=\"150\" y=\"-15.9\" font-family=\"Times,serif\" font-size=\"12.00\" fill=\"#000000\"> &#160;</text>\n<polygon fill=\"none\" stroke=\"#000000\" points=\"166,-3.5 166,-34.5 184,-34.5 184,-3.5 166,-3.5\"/>\n</g>\n</g>\n</svg>\n"
              }
            ],
            "_view_module": "@jupyter-widgets/output",
            "_model_module_version": "1.0.0",
            "_view_count": null,
            "_view_module_version": "1.0.0",
            "layout": "IPY_MODEL_e0d46053f52146d9ae6f21922c91dd2f",
            "_model_module": "@jupyter-widgets/output"
          }
        },
        "68f90e15382f4808a6d37d50dd2ebc0b": {
          "model_module": "@jupyter-widgets/controls",
          "model_name": "HBoxModel",
          "state": {
            "_view_name": "HBoxView",
            "_dom_classes": [],
            "_model_name": "HBoxModel",
            "_view_module": "@jupyter-widgets/controls",
            "_model_module_version": "1.5.0",
            "_view_count": null,
            "_view_module_version": "1.5.0",
            "box_style": "",
            "layout": "IPY_MODEL_48ee6a7887644f7bb3ebfad5bdb12457",
            "_model_module": "@jupyter-widgets/controls",
            "children": [
              "IPY_MODEL_9106157b7f9749cba0aa1c79188e463b",
              "IPY_MODEL_c623ecaddbd04fa0a759ba99e4e8a491",
              "IPY_MODEL_ffbe6b6793d44cbe880b6ea1cbea282c",
              "IPY_MODEL_43cce41cba5b49ff9e97f97e71fea10a"
            ]
          }
        },
        "3119afb623bf4ecd8018a7a4853272b7": {
          "model_module": "@jupyter-widgets/base",
          "model_name": "LayoutModel",
          "state": {
            "_view_name": "LayoutView",
            "grid_template_rows": null,
            "right": null,
            "justify_content": null,
            "_view_module": "@jupyter-widgets/base",
            "overflow": null,
            "_model_module_version": "1.2.0",
            "_view_count": null,
            "flex_flow": null,
            "width": null,
            "min_width": null,
            "border": null,
            "align_items": null,
            "bottom": null,
            "_model_module": "@jupyter-widgets/base",
            "top": null,
            "grid_column": null,
            "overflow_y": null,
            "overflow_x": null,
            "grid_auto_flow": null,
            "grid_area": null,
            "grid_template_columns": null,
            "flex": null,
            "_model_name": "LayoutModel",
            "justify_items": null,
            "grid_row": null,
            "max_height": null,
            "align_content": null,
            "visibility": null,
            "align_self": null,
            "height": null,
            "min_height": null,
            "padding": null,
            "grid_auto_rows": null,
            "grid_gap": null,
            "max_width": null,
            "order": null,
            "_view_module_version": "1.2.0",
            "grid_template_areas": null,
            "object_position": null,
            "object_fit": null,
            "grid_auto_columns": null,
            "margin": null,
            "display": null,
            "left": null
          }
        },
        "cb7a15eb73a040658a4b7ca38a4e27cf": {
          "model_module": "@jupyter-widgets/controls",
          "model_name": "TextModel",
          "state": {
            "_view_name": "TextView",
            "style": "IPY_MODEL_11734bda0a6f4ad8b97dd6a12fe65bed",
            "_dom_classes": [],
            "description": "Input:",
            "_model_name": "TextModel",
            "placeholder": "Sigma: {0,1}",
            "_view_module": "@jupyter-widgets/controls",
            "_model_module_version": "1.5.0",
            "value": "00000000000111111111",
            "_view_count": null,
            "disabled": true,
            "_view_module_version": "1.5.0",
            "continuous_update": true,
            "description_tooltip": null,
            "_model_module": "@jupyter-widgets/controls",
            "layout": "IPY_MODEL_c8f93b8411e143298fd7af14ae348e3c"
          }
        },
        "d930da8d62754d55a7df0510844ca38c": {
          "model_module": "@jupyter-widgets/controls",
          "model_name": "ButtonModel",
          "state": {
            "_view_name": "ButtonView",
            "style": "IPY_MODEL_4d08a911db6946f283640168436ab4f4",
            "_dom_classes": [],
            "description": "Change Input",
            "_model_name": "ButtonModel",
            "button_style": "primary",
            "_view_module": "@jupyter-widgets/controls",
            "_model_module_version": "1.5.0",
            "tooltip": "",
            "_view_count": null,
            "disabled": false,
            "_view_module_version": "1.5.0",
            "layout": "IPY_MODEL_1d2303eea49a4bee9ca5fe83f24a2286",
            "_model_module": "@jupyter-widgets/controls",
            "icon": ""
          }
        },
        "48ee6a7887644f7bb3ebfad5bdb12457": {
          "model_module": "@jupyter-widgets/base",
          "model_name": "LayoutModel",
          "state": {
            "_view_name": "LayoutView",
            "grid_template_rows": null,
            "right": null,
            "justify_content": null,
            "_view_module": "@jupyter-widgets/base",
            "overflow": null,
            "_model_module_version": "1.2.0",
            "_view_count": null,
            "flex_flow": null,
            "width": null,
            "min_width": null,
            "border": null,
            "align_items": null,
            "bottom": null,
            "_model_module": "@jupyter-widgets/base",
            "top": null,
            "grid_column": null,
            "overflow_y": null,
            "overflow_x": null,
            "grid_auto_flow": null,
            "grid_area": null,
            "grid_template_columns": null,
            "flex": null,
            "_model_name": "LayoutModel",
            "justify_items": null,
            "grid_row": null,
            "max_height": null,
            "align_content": null,
            "visibility": null,
            "align_self": null,
            "height": null,
            "min_height": null,
            "padding": null,
            "grid_auto_rows": null,
            "grid_gap": null,
            "max_width": null,
            "order": null,
            "_view_module_version": "1.2.0",
            "grid_template_areas": null,
            "object_position": null,
            "object_fit": null,
            "grid_auto_columns": null,
            "margin": null,
            "display": null,
            "left": null
          }
        },
        "9106157b7f9749cba0aa1c79188e463b": {
          "model_module": "@jupyter-widgets/controls",
          "model_name": "PlayModel",
          "state": {
            "_view_name": "PlayView",
            "style": "IPY_MODEL_38cb60dfcf844ceaa5d256f2eef64c5d",
            "interval": 950,
            "_dom_classes": [],
            "description": "Press play",
            "_model_name": "PlayModel",
            "max": 60,
            "_view_module": "@jupyter-widgets/controls",
            "_model_module_version": "1.5.0",
            "value": 60,
            "_view_count": null,
            "disabled": false,
            "_repeat": false,
            "_view_module_version": "1.5.0",
            "show_repeat": true,
            "min": 0,
            "_playing": false,
            "step": 1,
            "description_tooltip": null,
            "_model_module": "@jupyter-widgets/controls",
            "layout": "IPY_MODEL_7eb981ab3e1f4ceb9b0b6a1152d2a8a1"
          }
        },
        "c623ecaddbd04fa0a759ba99e4e8a491": {
          "model_module": "@jupyter-widgets/controls",
          "model_name": "ButtonModel",
          "state": {
            "_view_name": "ButtonView",
            "style": "IPY_MODEL_2ed8439eaf3d46d1899e69be6089c163",
            "_dom_classes": [],
            "description": "",
            "_model_name": "ButtonModel",
            "button_style": "",
            "_view_module": "@jupyter-widgets/controls",
            "_model_module_version": "1.5.0",
            "tooltip": "",
            "_view_count": null,
            "disabled": false,
            "_view_module_version": "1.5.0",
            "layout": "IPY_MODEL_77d0ae2de85849019e29b30da0f821c7",
            "_model_module": "@jupyter-widgets/controls",
            "icon": "step-backward"
          }
        },
        "ffbe6b6793d44cbe880b6ea1cbea282c": {
          "model_module": "@jupyter-widgets/controls",
          "model_name": "ButtonModel",
          "state": {
            "_view_name": "ButtonView",
            "style": "IPY_MODEL_f7c4da9e99cc49f98a28183a2cd8d3d6",
            "_dom_classes": [],
            "description": "",
            "_model_name": "ButtonModel",
            "button_style": "",
            "_view_module": "@jupyter-widgets/controls",
            "_model_module_version": "1.5.0",
            "tooltip": "",
            "_view_count": null,
            "disabled": true,
            "_view_module_version": "1.5.0",
            "layout": "IPY_MODEL_b36d7a6154fc432d9f2c71572a8c0658",
            "_model_module": "@jupyter-widgets/controls",
            "icon": "step-forward"
          }
        },
        "43cce41cba5b49ff9e97f97e71fea10a": {
          "model_module": "@jupyter-widgets/controls",
          "model_name": "IntSliderModel",
          "state": {
            "_view_name": "IntSliderView",
            "style": "IPY_MODEL_6024d275d08145bc88f3afaa87242f9b",
            "_dom_classes": [],
            "description": "Speed:",
            "step": 1,
            "_model_name": "IntSliderModel",
            "orientation": "horizontal",
            "max": 10,
            "_view_module": "@jupyter-widgets/controls",
            "_model_module_version": "1.5.0",
            "value": 1,
            "_view_count": null,
            "disabled": false,
            "_view_module_version": "1.5.0",
            "min": 1,
            "continuous_update": false,
            "readout_format": "d",
            "description_tooltip": null,
            "readout": true,
            "_model_module": "@jupyter-widgets/controls",
            "layout": "IPY_MODEL_0e6efd6181ec49f2a00b58ebe6e47631"
          }
        },
        "11734bda0a6f4ad8b97dd6a12fe65bed": {
          "model_module": "@jupyter-widgets/controls",
          "model_name": "DescriptionStyleModel",
          "state": {
            "_view_name": "StyleView",
            "_model_name": "DescriptionStyleModel",
            "description_width": "",
            "_view_module": "@jupyter-widgets/base",
            "_model_module_version": "1.5.0",
            "_view_count": null,
            "_view_module_version": "1.2.0",
            "_model_module": "@jupyter-widgets/controls"
          }
        },
        "c8f93b8411e143298fd7af14ae348e3c": {
          "model_module": "@jupyter-widgets/base",
          "model_name": "LayoutModel",
          "state": {
            "_view_name": "LayoutView",
            "grid_template_rows": null,
            "right": null,
            "justify_content": null,
            "_view_module": "@jupyter-widgets/base",
            "overflow": null,
            "_model_module_version": "1.2.0",
            "_view_count": null,
            "flex_flow": null,
            "width": "500px",
            "min_width": null,
            "border": null,
            "align_items": null,
            "bottom": null,
            "_model_module": "@jupyter-widgets/base",
            "top": null,
            "grid_column": null,
            "overflow_y": null,
            "overflow_x": null,
            "grid_auto_flow": null,
            "grid_area": null,
            "grid_template_columns": null,
            "flex": null,
            "_model_name": "LayoutModel",
            "justify_items": null,
            "grid_row": null,
            "max_height": null,
            "align_content": null,
            "visibility": null,
            "align_self": null,
            "height": null,
            "min_height": null,
            "padding": null,
            "grid_auto_rows": null,
            "grid_gap": null,
            "max_width": null,
            "order": null,
            "_view_module_version": "1.2.0",
            "grid_template_areas": null,
            "object_position": null,
            "object_fit": null,
            "grid_auto_columns": null,
            "margin": null,
            "display": null,
            "left": null
          }
        },
        "4d08a911db6946f283640168436ab4f4": {
          "model_module": "@jupyter-widgets/controls",
          "model_name": "ButtonStyleModel",
          "state": {
            "_view_name": "StyleView",
            "_model_name": "ButtonStyleModel",
            "_view_module": "@jupyter-widgets/base",
            "_model_module_version": "1.5.0",
            "_view_count": null,
            "button_color": null,
            "font_weight": "",
            "_view_module_version": "1.2.0",
            "_model_module": "@jupyter-widgets/controls"
          }
        },
        "1d2303eea49a4bee9ca5fe83f24a2286": {
          "model_module": "@jupyter-widgets/base",
          "model_name": "LayoutModel",
          "state": {
            "_view_name": "LayoutView",
            "grid_template_rows": null,
            "right": null,
            "justify_content": null,
            "_view_module": "@jupyter-widgets/base",
            "overflow": null,
            "_model_module_version": "1.2.0",
            "_view_count": null,
            "flex_flow": null,
            "width": null,
            "min_width": null,
            "border": null,
            "align_items": null,
            "bottom": null,
            "_model_module": "@jupyter-widgets/base",
            "top": null,
            "grid_column": null,
            "overflow_y": null,
            "overflow_x": null,
            "grid_auto_flow": null,
            "grid_area": null,
            "grid_template_columns": null,
            "flex": null,
            "_model_name": "LayoutModel",
            "justify_items": null,
            "grid_row": null,
            "max_height": null,
            "align_content": null,
            "visibility": null,
            "align_self": null,
            "height": null,
            "min_height": null,
            "padding": null,
            "grid_auto_rows": null,
            "grid_gap": null,
            "max_width": null,
            "order": null,
            "_view_module_version": "1.2.0",
            "grid_template_areas": null,
            "object_position": null,
            "object_fit": null,
            "grid_auto_columns": null,
            "margin": null,
            "display": null,
            "left": null
          }
        },
        "38cb60dfcf844ceaa5d256f2eef64c5d": {
          "model_module": "@jupyter-widgets/controls",
          "model_name": "DescriptionStyleModel",
          "state": {
            "_view_name": "StyleView",
            "_model_name": "DescriptionStyleModel",
            "description_width": "",
            "_view_module": "@jupyter-widgets/base",
            "_model_module_version": "1.5.0",
            "_view_count": null,
            "_view_module_version": "1.2.0",
            "_model_module": "@jupyter-widgets/controls"
          }
        },
        "7eb981ab3e1f4ceb9b0b6a1152d2a8a1": {
          "model_module": "@jupyter-widgets/base",
          "model_name": "LayoutModel",
          "state": {
            "_view_name": "LayoutView",
            "grid_template_rows": null,
            "right": null,
            "justify_content": null,
            "_view_module": "@jupyter-widgets/base",
            "overflow": null,
            "_model_module_version": "1.2.0",
            "_view_count": null,
            "flex_flow": null,
            "width": null,
            "min_width": null,
            "border": null,
            "align_items": null,
            "bottom": null,
            "_model_module": "@jupyter-widgets/base",
            "top": null,
            "grid_column": null,
            "overflow_y": null,
            "overflow_x": null,
            "grid_auto_flow": null,
            "grid_area": null,
            "grid_template_columns": null,
            "flex": null,
            "_model_name": "LayoutModel",
            "justify_items": null,
            "grid_row": null,
            "max_height": null,
            "align_content": null,
            "visibility": null,
            "align_self": null,
            "height": null,
            "min_height": null,
            "padding": null,
            "grid_auto_rows": null,
            "grid_gap": null,
            "max_width": null,
            "order": null,
            "_view_module_version": "1.2.0",
            "grid_template_areas": null,
            "object_position": null,
            "object_fit": null,
            "grid_auto_columns": null,
            "margin": null,
            "display": null,
            "left": null
          }
        },
        "2ed8439eaf3d46d1899e69be6089c163": {
          "model_module": "@jupyter-widgets/controls",
          "model_name": "ButtonStyleModel",
          "state": {
            "_view_name": "StyleView",
            "_model_name": "ButtonStyleModel",
            "_view_module": "@jupyter-widgets/base",
            "_model_module_version": "1.5.0",
            "_view_count": null,
            "button_color": null,
            "font_weight": "",
            "_view_module_version": "1.2.0",
            "_model_module": "@jupyter-widgets/controls"
          }
        },
        "77d0ae2de85849019e29b30da0f821c7": {
          "model_module": "@jupyter-widgets/base",
          "model_name": "LayoutModel",
          "state": {
            "_view_name": "LayoutView",
            "grid_template_rows": null,
            "right": null,
            "justify_content": null,
            "_view_module": "@jupyter-widgets/base",
            "overflow": null,
            "_model_module_version": "1.2.0",
            "_view_count": null,
            "flex_flow": null,
            "width": "40px",
            "min_width": null,
            "border": null,
            "align_items": null,
            "bottom": null,
            "_model_module": "@jupyter-widgets/base",
            "top": null,
            "grid_column": null,
            "overflow_y": null,
            "overflow_x": null,
            "grid_auto_flow": null,
            "grid_area": null,
            "grid_template_columns": null,
            "flex": null,
            "_model_name": "LayoutModel",
            "justify_items": null,
            "grid_row": null,
            "max_height": null,
            "align_content": null,
            "visibility": null,
            "align_self": null,
            "height": null,
            "min_height": null,
            "padding": null,
            "grid_auto_rows": null,
            "grid_gap": null,
            "max_width": null,
            "order": null,
            "_view_module_version": "1.2.0",
            "grid_template_areas": null,
            "object_position": null,
            "object_fit": null,
            "grid_auto_columns": null,
            "margin": null,
            "display": null,
            "left": null
          }
        },
        "f7c4da9e99cc49f98a28183a2cd8d3d6": {
          "model_module": "@jupyter-widgets/controls",
          "model_name": "ButtonStyleModel",
          "state": {
            "_view_name": "StyleView",
            "_model_name": "ButtonStyleModel",
            "_view_module": "@jupyter-widgets/base",
            "_model_module_version": "1.5.0",
            "_view_count": null,
            "button_color": null,
            "font_weight": "",
            "_view_module_version": "1.2.0",
            "_model_module": "@jupyter-widgets/controls"
          }
        },
        "b36d7a6154fc432d9f2c71572a8c0658": {
          "model_module": "@jupyter-widgets/base",
          "model_name": "LayoutModel",
          "state": {
            "_view_name": "LayoutView",
            "grid_template_rows": null,
            "right": null,
            "justify_content": null,
            "_view_module": "@jupyter-widgets/base",
            "overflow": null,
            "_model_module_version": "1.2.0",
            "_view_count": null,
            "flex_flow": null,
            "width": "40px",
            "min_width": null,
            "border": null,
            "align_items": null,
            "bottom": null,
            "_model_module": "@jupyter-widgets/base",
            "top": null,
            "grid_column": null,
            "overflow_y": null,
            "overflow_x": null,
            "grid_auto_flow": null,
            "grid_area": null,
            "grid_template_columns": null,
            "flex": null,
            "_model_name": "LayoutModel",
            "justify_items": null,
            "grid_row": null,
            "max_height": null,
            "align_content": null,
            "visibility": null,
            "align_self": null,
            "height": null,
            "min_height": null,
            "padding": null,
            "grid_auto_rows": null,
            "grid_gap": null,
            "max_width": null,
            "order": null,
            "_view_module_version": "1.2.0",
            "grid_template_areas": null,
            "object_position": null,
            "object_fit": null,
            "grid_auto_columns": null,
            "margin": null,
            "display": null,
            "left": null
          }
        },
        "6024d275d08145bc88f3afaa87242f9b": {
          "model_module": "@jupyter-widgets/controls",
          "model_name": "SliderStyleModel",
          "state": {
            "_view_name": "StyleView",
            "handle_color": null,
            "_model_name": "SliderStyleModel",
            "description_width": "",
            "_view_module": "@jupyter-widgets/base",
            "_model_module_version": "1.5.0",
            "_view_count": null,
            "_view_module_version": "1.2.0",
            "_model_module": "@jupyter-widgets/controls"
          }
        },
        "0e6efd6181ec49f2a00b58ebe6e47631": {
          "model_module": "@jupyter-widgets/base",
          "model_name": "LayoutModel",
          "state": {
            "_view_name": "LayoutView",
            "grid_template_rows": null,
            "right": null,
            "justify_content": null,
            "_view_module": "@jupyter-widgets/base",
            "overflow": null,
            "_model_module_version": "1.2.0",
            "_view_count": null,
            "flex_flow": null,
            "width": null,
            "min_width": null,
            "border": null,
            "align_items": null,
            "bottom": null,
            "_model_module": "@jupyter-widgets/base",
            "top": null,
            "grid_column": null,
            "overflow_y": null,
            "overflow_x": null,
            "grid_auto_flow": null,
            "grid_area": null,
            "grid_template_columns": null,
            "flex": null,
            "_model_name": "LayoutModel",
            "justify_items": null,
            "grid_row": null,
            "max_height": null,
            "align_content": null,
            "visibility": null,
            "align_self": null,
            "height": null,
            "min_height": null,
            "padding": null,
            "grid_auto_rows": null,
            "grid_gap": null,
            "max_width": null,
            "order": null,
            "_view_module_version": "1.2.0",
            "grid_template_areas": null,
            "object_position": null,
            "object_fit": null,
            "grid_auto_columns": null,
            "margin": null,
            "display": null,
            "left": null
          }
        },
        "bdb3f22426c24d82abcbbafd1a2688ee": {
          "model_module": "@jupyter-widgets/base",
          "model_name": "LayoutModel",
          "state": {
            "_view_name": "LayoutView",
            "grid_template_rows": null,
            "right": null,
            "justify_content": null,
            "_view_module": "@jupyter-widgets/base",
            "overflow": null,
            "_model_module_version": "1.2.0",
            "_view_count": null,
            "flex_flow": null,
            "width": null,
            "min_width": null,
            "border": null,
            "align_items": null,
            "bottom": null,
            "_model_module": "@jupyter-widgets/base",
            "top": null,
            "grid_column": null,
            "overflow_y": null,
            "overflow_x": null,
            "grid_auto_flow": null,
            "grid_area": null,
            "grid_template_columns": null,
            "flex": null,
            "_model_name": "LayoutModel",
            "justify_items": null,
            "grid_row": null,
            "max_height": null,
            "align_content": null,
            "visibility": null,
            "align_self": null,
            "height": null,
            "min_height": null,
            "padding": null,
            "grid_auto_rows": null,
            "grid_gap": null,
            "max_width": null,
            "order": null,
            "_view_module_version": "1.2.0",
            "grid_template_areas": null,
            "object_position": null,
            "object_fit": null,
            "grid_auto_columns": null,
            "margin": null,
            "display": null,
            "left": null
          }
        },
        "e0d46053f52146d9ae6f21922c91dd2f": {
          "model_module": "@jupyter-widgets/base",
          "model_name": "LayoutModel",
          "state": {
            "_view_name": "LayoutView",
            "grid_template_rows": null,
            "right": null,
            "justify_content": null,
            "_view_module": "@jupyter-widgets/base",
            "overflow": null,
            "_model_module_version": "1.2.0",
            "_view_count": null,
            "flex_flow": null,
            "width": null,
            "min_width": null,
            "border": null,
            "align_items": null,
            "bottom": null,
            "_model_module": "@jupyter-widgets/base",
            "top": null,
            "grid_column": null,
            "overflow_y": null,
            "overflow_x": null,
            "grid_auto_flow": null,
            "grid_area": null,
            "grid_template_columns": null,
            "flex": null,
            "_model_name": "LayoutModel",
            "justify_items": null,
            "grid_row": null,
            "max_height": null,
            "align_content": null,
            "visibility": null,
            "align_self": null,
            "height": null,
            "min_height": null,
            "padding": null,
            "grid_auto_rows": null,
            "grid_gap": null,
            "max_width": null,
            "order": null,
            "_view_module_version": "1.2.0",
            "grid_template_areas": null,
            "object_position": null,
            "object_fit": null,
            "grid_auto_columns": null,
            "margin": null,
            "display": null,
            "left": null
          }
        },
        "f6458007bffd46ed8a951beeefcd2827": {
          "model_module": "@jupyter-widgets/controls",
          "model_name": "VBoxModel",
          "state": {
            "_view_name": "VBoxView",
            "_dom_classes": [],
            "_model_name": "VBoxModel",
            "_view_module": "@jupyter-widgets/controls",
            "_model_module_version": "1.5.0",
            "_view_count": null,
            "_view_module_version": "1.5.0",
            "box_style": "",
            "layout": "IPY_MODEL_1d6d010be3284130bdde5bda62d1c4a0",
            "_model_module": "@jupyter-widgets/controls",
            "children": [
              "IPY_MODEL_ca07661dc4ee41a5a1b1e67bb98f3006",
              "IPY_MODEL_6f79fe9610894a58a7d781ce9718ffe0",
              "IPY_MODEL_0744c36fee044ecf990556cdec23404e",
              "IPY_MODEL_f6b481bb0b42411a991576e6238d2ea3"
            ]
          }
        },
        "1d6d010be3284130bdde5bda62d1c4a0": {
          "model_module": "@jupyter-widgets/base",
          "model_name": "LayoutModel",
          "state": {
            "_view_name": "LayoutView",
            "grid_template_rows": null,
            "right": null,
            "justify_content": null,
            "_view_module": "@jupyter-widgets/base",
            "overflow": null,
            "_model_module_version": "1.2.0",
            "_view_count": null,
            "flex_flow": null,
            "width": null,
            "min_width": null,
            "border": null,
            "align_items": null,
            "bottom": null,
            "_model_module": "@jupyter-widgets/base",
            "top": null,
            "grid_column": null,
            "overflow_y": null,
            "overflow_x": null,
            "grid_auto_flow": null,
            "grid_area": null,
            "grid_template_columns": null,
            "flex": null,
            "_model_name": "LayoutModel",
            "justify_items": null,
            "grid_row": null,
            "max_height": null,
            "align_content": null,
            "visibility": null,
            "align_self": null,
            "height": null,
            "min_height": null,
            "padding": null,
            "grid_auto_rows": null,
            "grid_gap": null,
            "max_width": null,
            "order": null,
            "_view_module_version": "1.2.0",
            "grid_template_areas": null,
            "object_position": null,
            "object_fit": null,
            "grid_auto_columns": null,
            "margin": null,
            "display": null,
            "left": null
          }
        },
        "ca07661dc4ee41a5a1b1e67bb98f3006": {
          "model_module": "@jupyter-widgets/controls",
          "model_name": "HBoxModel",
          "state": {
            "_view_name": "HBoxView",
            "_dom_classes": [],
            "_model_name": "HBoxModel",
            "_view_module": "@jupyter-widgets/controls",
            "_model_module_version": "1.5.0",
            "_view_count": null,
            "_view_module_version": "1.5.0",
            "box_style": "",
            "layout": "IPY_MODEL_015332554aea40c08aba617aa0b4f9b8",
            "_model_module": "@jupyter-widgets/controls",
            "children": [
              "IPY_MODEL_ee58b416484c400399040317cd18e503",
              "IPY_MODEL_4b9cef059c90410aa132662e3a8b2b59"
            ]
          }
        },
        "6f79fe9610894a58a7d781ce9718ffe0": {
          "model_module": "@jupyter-widgets/output",
          "model_name": "OutputModel",
          "state": {
            "_view_name": "OutputView",
            "msg_id": "",
            "_dom_classes": [],
            "_model_name": "OutputModel",
            "outputs": [
              {
                "output_type": "display_data",
                "metadata": {
                  "tags": []
                },
                "text/plain": "<graphviz.files.Source at 0x7fa6494727f0>",
                "image/svg+xml": "<?xml version=\"1.0\" encoding=\"UTF-8\" standalone=\"no\"?>\n<!DOCTYPE svg PUBLIC \"-//W3C//DTD SVG 1.1//EN\"\n \"http://www.w3.org/Graphics/SVG/1.1/DTD/svg11.dtd\">\n<!-- Generated by graphviz version 2.40.1 (20161225.0304)\n -->\n<!-- Title: %3 Pages: 1 -->\n<svg width=\"554pt\" height=\"251pt\"\n viewBox=\"0.00 0.00 554.00 251.00\" xmlns=\"http://www.w3.org/2000/svg\" xmlns:xlink=\"http://www.w3.org/1999/xlink\">\n<g id=\"graph0\" class=\"graph\" transform=\"scale(1 1) rotate(0) translate(4 247)\">\n<title>%3</title>\n<polygon fill=\"#ffffff\" stroke=\"transparent\" points=\"-4,4 -4,-247 550,-247 550,4 -4,4\"/>\n<!-- EMPTY -->\n<g id=\"node1\" class=\"node\">\n<title>EMPTY</title>\n</g>\n<!-- I -->\n<g id=\"node2\" class=\"node\">\n<title>I</title>\n<ellipse fill=\"none\" stroke=\"#000000\" cx=\"109\" cy=\"-176\" rx=\"18\" ry=\"18\"/>\n<text text-anchor=\"middle\" x=\"109\" y=\"-172.3\" font-family=\"Times,serif\" font-size=\"14.00\" fill=\"#000000\">I</text>\n</g>\n<!-- EMPTY&#45;&gt;I -->\n<g id=\"edge1\" class=\"edge\">\n<title>EMPTY&#45;&gt;I</title>\n<path fill=\"none\" stroke=\"#000000\" d=\"M54.3048,-176C62.6909,-176 71.9407,-176 80.4103,-176\"/>\n<polygon fill=\"#000000\" stroke=\"#000000\" points=\"80.5976,-179.5001 90.5976,-176 80.5976,-172.5001 80.5976,-179.5001\"/>\n</g>\n<!-- G -->\n<g id=\"node3\" class=\"node\">\n<title>G</title>\n<ellipse fill=\"#66cd00\" stroke=\"#000000\" cx=\"436\" cy=\"-154\" rx=\"18\" ry=\"18\"/>\n<text text-anchor=\"middle\" x=\"436\" y=\"-150.3\" font-family=\"Times,serif\" font-size=\"14.00\" fill=\"#ffffff\">G</text>\n</g>\n<!-- I&#45;&gt;G -->\n<g id=\"edge2\" class=\"edge\">\n<title>I&#45;&gt;G</title>\n<path fill=\"none\" stroke=\"#000000\" d=\"M120.9214,-189.935C135.5043,-205.3381 161.7586,-228 190,-228 190,-228 190,-228 355,-228 384.8331,-228 408.4813,-200.3004 422.3455,-178.7953\"/>\n<polygon fill=\"#000000\" stroke=\"#000000\" points=\"425.4565,-180.4163 427.6778,-170.0569 419.4812,-176.77 425.4565,-180.4163\"/>\n<text text-anchor=\"start\" x=\"266.5\" y=\"-231.8\" font-family=\"Times,serif\" font-size=\"14.00\" fill=\"#000000\"> &#39;&#39;</text>\n</g>\n<!-- A -->\n<g id=\"node8\" class=\"node\">\n<title>A</title>\n<ellipse fill=\"#66cd00\" stroke=\"#000000\" cx=\"190\" cy=\"-123\" rx=\"18\" ry=\"18\"/>\n<text text-anchor=\"middle\" x=\"190\" y=\"-119.3\" font-family=\"Times,serif\" font-size=\"14.00\" fill=\"#ffffff\">A</text>\n</g>\n<!-- I&#45;&gt;A -->\n<g id=\"edge3\" class=\"edge\">\n<title>I&#45;&gt;A</title>\n<path fill=\"none\" stroke=\"#000000\" d=\"M124.2355,-166.0311C136.1148,-158.2582 152.8227,-147.3259 166.4248,-138.4258\"/>\n<polygon fill=\"#000000\" stroke=\"#000000\" points=\"168.3813,-141.3283 174.8328,-132.9242 164.5486,-135.4708 168.3813,-141.3283\"/>\n<text text-anchor=\"start\" x=\"145\" y=\"-154.8\" font-family=\"Times,serif\" font-size=\"14.00\" fill=\"#000000\"> &#39;&#39;</text>\n</g>\n<!-- F -->\n<g id=\"node9\" class=\"node\">\n<title>F</title>\n<ellipse fill=\"#66cd00\" stroke=\"#000000\" cx=\"524\" cy=\"-154\" rx=\"18\" ry=\"18\"/>\n<ellipse fill=\"none\" stroke=\"#000000\" cx=\"524\" cy=\"-154\" rx=\"22\" ry=\"22\"/>\n<text text-anchor=\"middle\" x=\"524\" y=\"-150.3\" font-family=\"Times,serif\" font-size=\"14.00\" fill=\"#ffffff\">F</text>\n</g>\n<!-- G&#45;&gt;F -->\n<g id=\"edge6\" class=\"edge\">\n<title>G&#45;&gt;F</title>\n<path fill=\"none\" stroke=\"#000000\" d=\"M454.2337,-154C465.0103,-154 478.9708,-154 491.5692,-154\"/>\n<polygon fill=\"#000000\" stroke=\"#000000\" points=\"491.7317,-157.5001 501.7317,-154 491.7317,-150.5001 491.7317,-157.5001\"/>\n<text text-anchor=\"start\" x=\"472\" y=\"-157.8\" font-family=\"Times,serif\" font-size=\"14.00\" fill=\"#000000\"> 1</text>\n</g>\n<!-- B -->\n<g id=\"node4\" class=\"node\">\n<title>B</title>\n<ellipse fill=\"#66cd00\" stroke=\"#000000\" cx=\"271\" cy=\"-18\" rx=\"18\" ry=\"18\"/>\n<text text-anchor=\"middle\" x=\"271\" y=\"-14.3\" font-family=\"Times,serif\" font-size=\"14.00\" fill=\"#ffffff\">B</text>\n</g>\n<!-- D -->\n<g id=\"node6\" class=\"node\">\n<title>D</title>\n<ellipse fill=\"#66cd00\" stroke=\"#000000\" cx=\"355\" cy=\"-72\" rx=\"18\" ry=\"18\"/>\n<text text-anchor=\"middle\" x=\"355\" y=\"-68.3\" font-family=\"Times,serif\" font-size=\"14.00\" fill=\"#ffffff\">D</text>\n</g>\n<!-- B&#45;&gt;D -->\n<g id=\"edge7\" class=\"edge\">\n<title>B&#45;&gt;D</title>\n<path fill=\"none\" stroke=\"#000000\" d=\"M287.4509,-25.5632C296.9345,-30.1677 308.9345,-36.4177 319,-43 323.8698,-46.1846 328.8686,-49.8913 333.5328,-53.569\"/>\n<polygon fill=\"#000000\" stroke=\"#000000\" points=\"331.505,-56.4316 341.4669,-60.0385 335.9286,-51.0065 331.505,-56.4316\"/>\n<text text-anchor=\"start\" x=\"307\" y=\"-46.8\" font-family=\"Times,serif\" font-size=\"14.00\" fill=\"#000000\"> 1</text>\n</g>\n<!-- E -->\n<g id=\"node5\" class=\"node\">\n<title>E</title>\n<ellipse fill=\"none\" stroke=\"#000000\" cx=\"355\" cy=\"-154\" rx=\"18\" ry=\"18\"/>\n<text text-anchor=\"middle\" x=\"355\" y=\"-150.3\" font-family=\"Times,serif\" font-size=\"14.00\" fill=\"#000000\">E</text>\n</g>\n<!-- E&#45;&gt;G -->\n<g id=\"edge11\" class=\"edge\">\n<title>E&#45;&gt;G</title>\n<path fill=\"none\" stroke=\"#000000\" d=\"M373.3802,-154C383.4966,-154 396.2691,-154 407.6363,-154\"/>\n<polygon fill=\"#000000\" stroke=\"#000000\" points=\"407.9716,-157.5001 417.9716,-154 407.9716,-150.5001 407.9716,-157.5001\"/>\n<text text-anchor=\"start\" x=\"391\" y=\"-157.8\" font-family=\"Times,serif\" font-size=\"14.00\" fill=\"#000000\"> &#39;&#39;</text>\n</g>\n<!-- E&#45;&gt;A -->\n<g id=\"edge12\" class=\"edge\">\n<title>E&#45;&gt;A</title>\n<path fill=\"none\" stroke=\"#000000\" d=\"M338.204,-147.2009C325.0394,-142.1675 306.1423,-135.5858 289,-132 265.4821,-127.0806 238.2647,-124.85 218.3269,-123.8387\"/>\n<polygon fill=\"#000000\" stroke=\"#000000\" points=\"218.2115,-120.3305 208.069,-123.393 217.9076,-127.3239 218.2115,-120.3305\"/>\n<text text-anchor=\"start\" x=\"266.5\" y=\"-135.8\" font-family=\"Times,serif\" font-size=\"14.00\" fill=\"#000000\"> &#39;&#39;</text>\n</g>\n<!-- D&#45;&gt;G -->\n<g id=\"edge9\" class=\"edge\">\n<title>D&#45;&gt;G</title>\n<path fill=\"none\" stroke=\"#000000\" d=\"M367.6563,-84.8125C380.5388,-97.8541 400.7064,-118.2707 415.8002,-133.5508\"/>\n<polygon fill=\"#000000\" stroke=\"#000000\" points=\"413.6477,-136.3522 423.1653,-141.0069 418.6277,-131.4329 413.6477,-136.3522\"/>\n<text text-anchor=\"start\" x=\"391\" y=\"-119.8\" font-family=\"Times,serif\" font-size=\"14.00\" fill=\"#000000\"> &#39;&#39;</text>\n</g>\n<!-- D&#45;&gt;A -->\n<g id=\"edge10\" class=\"edge\">\n<title>D&#45;&gt;A</title>\n<path fill=\"none\" stroke=\"#000000\" d=\"M337.6388,-77.3662C308.9099,-86.246 251.2704,-104.0619 217.1292,-114.6146\"/>\n<polygon fill=\"#000000\" stroke=\"#000000\" points=\"215.8665,-111.3415 207.346,-117.6385 217.9337,-118.0293 215.8665,-111.3415\"/>\n<text text-anchor=\"start\" x=\"266.5\" y=\"-107.8\" font-family=\"Times,serif\" font-size=\"14.00\" fill=\"#000000\"> &#39;&#39;</text>\n</g>\n<!-- C -->\n<g id=\"node7\" class=\"node\">\n<title>C</title>\n<ellipse fill=\"#66cd00\" stroke=\"#000000\" cx=\"271\" cy=\"-174\" rx=\"18\" ry=\"18\"/>\n<text text-anchor=\"middle\" x=\"271\" y=\"-170.3\" font-family=\"Times,serif\" font-size=\"14.00\" fill=\"#ffffff\">C</text>\n</g>\n<!-- C&#45;&gt;E -->\n<g id=\"edge8\" class=\"edge\">\n<title>C&#45;&gt;E</title>\n<path fill=\"none\" stroke=\"#000000\" d=\"M288.8142,-169.7585C299.951,-167.1069 314.5294,-163.6359 327.1687,-160.6265\"/>\n<polygon fill=\"#000000\" stroke=\"#000000\" points=\"328.2941,-163.9565 337.2114,-158.2354 326.6727,-157.1468 328.2941,-163.9565\"/>\n<text text-anchor=\"start\" x=\"307\" y=\"-168.8\" font-family=\"Times,serif\" font-size=\"14.00\" fill=\"#000000\"> 0</text>\n</g>\n<!-- A&#45;&gt;B -->\n<g id=\"edge5\" class=\"edge\">\n<title>A&#45;&gt;B</title>\n<path fill=\"none\" stroke=\"#000000\" d=\"M194.4338,-105.2566C199.5698,-87.7061 209.5097,-60.9415 226,-43 231.2389,-37.3 238.0849,-32.5951 244.8504,-28.8643\"/>\n<polygon fill=\"#000000\" stroke=\"#000000\" points=\"246.4731,-31.9663 253.8679,-24.379 243.3556,-25.6989 246.4731,-31.9663\"/>\n<text text-anchor=\"start\" x=\"226\" y=\"-46.8\" font-family=\"Times,serif\" font-size=\"14.00\" fill=\"#000000\"> &#39;&#39;</text>\n</g>\n<!-- A&#45;&gt;C -->\n<g id=\"edge4\" class=\"edge\">\n<title>A&#45;&gt;C</title>\n<path fill=\"none\" stroke=\"#000000\" d=\"M205.2355,-132.5927C216.9272,-139.9542 233.2961,-150.2605 246.778,-158.7491\"/>\n<polygon fill=\"#000000\" stroke=\"#000000\" points=\"245.2302,-161.9105 255.5574,-164.2769 248.96,-155.9869 245.2302,-161.9105\"/>\n<text text-anchor=\"start\" x=\"226\" y=\"-153.8\" font-family=\"Times,serif\" font-size=\"14.00\" fill=\"#000000\"> &#39;&#39;</text>\n</g>\n</g>\n</svg>\n"
              }
            ],
            "_view_module": "@jupyter-widgets/output",
            "_model_module_version": "1.0.0",
            "_view_count": null,
            "_view_module_version": "1.0.0",
            "layout": "IPY_MODEL_e3c359a0cb474b1cbc17d8eaabd8d7ad",
            "_model_module": "@jupyter-widgets/output"
          }
        },
        "0744c36fee044ecf990556cdec23404e": {
          "model_module": "@jupyter-widgets/output",
          "model_name": "OutputModel",
          "state": {
            "_view_name": "OutputView",
            "msg_id": "",
            "_dom_classes": [],
            "_model_name": "OutputModel",
            "outputs": [
              {
                "output_type": "display_data",
                "metadata": {
                  "tags": []
                },
                "text/plain": "<graphviz.files.Source at 0x7fa6494727f0>",
                "image/svg+xml": "<?xml version=\"1.0\" encoding=\"UTF-8\" standalone=\"no\"?>\n<!DOCTYPE svg PUBLIC \"-//W3C//DTD SVG 1.1//EN\"\n \"http://www.w3.org/Graphics/SVG/1.1/DTD/svg11.dtd\">\n<!-- Generated by graphviz version 2.40.1 (20161225.0304)\n -->\n<!-- Title: %3 Pages: 1 -->\n<svg width=\"98pt\" height=\"47pt\"\n viewBox=\"0.00 0.00 98.00 47.00\" xmlns=\"http://www.w3.org/2000/svg\" xmlns:xlink=\"http://www.w3.org/1999/xlink\">\n<g id=\"graph0\" class=\"graph\" transform=\"scale(1 1) rotate(0) translate(4 43)\">\n<title>%3</title>\n<polygon fill=\"#ffffff\" stroke=\"transparent\" points=\"-4,4 -4,-43 94,-43 94,4 -4,4\"/>\n<!-- feed -->\n<g id=\"node1\" class=\"node\">\n<title>feed</title>\n<polygon fill=\"none\" stroke=\"#000000\" points=\"8,-3.5 8,-34.5 39,-34.5 39,-3.5 8,-3.5\"/>\n<text text-anchor=\"start\" x=\"17\" y=\"-15.9\" font-family=\"Times,serif\" font-size=\"12.00\" fill=\"#000000\">01</text>\n<polygon fill=\"none\" stroke=\"#000000\" points=\"39,-3.5 39,-34.5 64,-34.5 64,-3.5 39,-3.5\"/>\n<text text-anchor=\"start\" x=\"48\" y=\"-15.9\" font-family=\"Times,serif\" font-size=\"12.00\" fill=\"#000000\"> &#160;</text>\n<polygon fill=\"none\" stroke=\"#000000\" points=\"64,-3.5 64,-34.5 82,-34.5 82,-3.5 64,-3.5\"/>\n</g>\n</g>\n</svg>\n"
              }
            ],
            "_view_module": "@jupyter-widgets/output",
            "_model_module_version": "1.0.0",
            "_view_count": null,
            "_view_module_version": "1.0.0",
            "layout": "IPY_MODEL_b24ae61bcbea4256a81968bf8e713a7d",
            "_model_module": "@jupyter-widgets/output"
          }
        },
        "f6b481bb0b42411a991576e6238d2ea3": {
          "model_module": "@jupyter-widgets/controls",
          "model_name": "HBoxModel",
          "state": {
            "_view_name": "HBoxView",
            "_dom_classes": [],
            "_model_name": "HBoxModel",
            "_view_module": "@jupyter-widgets/controls",
            "_model_module_version": "1.5.0",
            "_view_count": null,
            "_view_module_version": "1.5.0",
            "box_style": "",
            "layout": "IPY_MODEL_6453506df0f740448d2d69713cc9ae23",
            "_model_module": "@jupyter-widgets/controls",
            "children": [
              "IPY_MODEL_7cfedd1725fe4f04865f334c7ec2676a",
              "IPY_MODEL_04a1d9cbf4ae4c03a5f3b9ebe4328dae",
              "IPY_MODEL_deaa3e26d1b64aaf981ac3aa2d66b589",
              "IPY_MODEL_f2eb0b42caa340f686f4518c8057ad23"
            ]
          }
        },
        "015332554aea40c08aba617aa0b4f9b8": {
          "model_module": "@jupyter-widgets/base",
          "model_name": "LayoutModel",
          "state": {
            "_view_name": "LayoutView",
            "grid_template_rows": null,
            "right": null,
            "justify_content": null,
            "_view_module": "@jupyter-widgets/base",
            "overflow": null,
            "_model_module_version": "1.2.0",
            "_view_count": null,
            "flex_flow": null,
            "width": null,
            "min_width": null,
            "border": null,
            "align_items": null,
            "bottom": null,
            "_model_module": "@jupyter-widgets/base",
            "top": null,
            "grid_column": null,
            "overflow_y": null,
            "overflow_x": null,
            "grid_auto_flow": null,
            "grid_area": null,
            "grid_template_columns": null,
            "flex": null,
            "_model_name": "LayoutModel",
            "justify_items": null,
            "grid_row": null,
            "max_height": null,
            "align_content": null,
            "visibility": null,
            "align_self": null,
            "height": null,
            "min_height": null,
            "padding": null,
            "grid_auto_rows": null,
            "grid_gap": null,
            "max_width": null,
            "order": null,
            "_view_module_version": "1.2.0",
            "grid_template_areas": null,
            "object_position": null,
            "object_fit": null,
            "grid_auto_columns": null,
            "margin": null,
            "display": null,
            "left": null
          }
        },
        "ee58b416484c400399040317cd18e503": {
          "model_module": "@jupyter-widgets/controls",
          "model_name": "TextModel",
          "state": {
            "_view_name": "TextView",
            "style": "IPY_MODEL_bdbf99168db74f6db01840e8a6cb1a6b",
            "_dom_classes": [],
            "description": "Input:",
            "_model_name": "TextModel",
            "placeholder": "Sigma: {0,1}",
            "_view_module": "@jupyter-widgets/controls",
            "_model_module_version": "1.5.0",
            "value": "01",
            "_view_count": null,
            "disabled": true,
            "_view_module_version": "1.5.0",
            "continuous_update": true,
            "description_tooltip": null,
            "_model_module": "@jupyter-widgets/controls",
            "layout": "IPY_MODEL_82e34ea64cde4d8697decea5aa80499d"
          }
        },
        "4b9cef059c90410aa132662e3a8b2b59": {
          "model_module": "@jupyter-widgets/controls",
          "model_name": "ButtonModel",
          "state": {
            "_view_name": "ButtonView",
            "style": "IPY_MODEL_69614a4f249c42968689c6ef08413b59",
            "_dom_classes": [],
            "description": "Change Input",
            "_model_name": "ButtonModel",
            "button_style": "primary",
            "_view_module": "@jupyter-widgets/controls",
            "_model_module_version": "1.5.0",
            "tooltip": "",
            "_view_count": null,
            "disabled": false,
            "_view_module_version": "1.5.0",
            "layout": "IPY_MODEL_701b5ddd79aa4ee7a6db05ded1473b83",
            "_model_module": "@jupyter-widgets/controls",
            "icon": ""
          }
        },
        "6453506df0f740448d2d69713cc9ae23": {
          "model_module": "@jupyter-widgets/base",
          "model_name": "LayoutModel",
          "state": {
            "_view_name": "LayoutView",
            "grid_template_rows": null,
            "right": null,
            "justify_content": null,
            "_view_module": "@jupyter-widgets/base",
            "overflow": null,
            "_model_module_version": "1.2.0",
            "_view_count": null,
            "flex_flow": null,
            "width": null,
            "min_width": null,
            "border": null,
            "align_items": null,
            "bottom": null,
            "_model_module": "@jupyter-widgets/base",
            "top": null,
            "grid_column": null,
            "overflow_y": null,
            "overflow_x": null,
            "grid_auto_flow": null,
            "grid_area": null,
            "grid_template_columns": null,
            "flex": null,
            "_model_name": "LayoutModel",
            "justify_items": null,
            "grid_row": null,
            "max_height": null,
            "align_content": null,
            "visibility": null,
            "align_self": null,
            "height": null,
            "min_height": null,
            "padding": null,
            "grid_auto_rows": null,
            "grid_gap": null,
            "max_width": null,
            "order": null,
            "_view_module_version": "1.2.0",
            "grid_template_areas": null,
            "object_position": null,
            "object_fit": null,
            "grid_auto_columns": null,
            "margin": null,
            "display": null,
            "left": null
          }
        },
        "7cfedd1725fe4f04865f334c7ec2676a": {
          "model_module": "@jupyter-widgets/controls",
          "model_name": "PlayModel",
          "state": {
            "_view_name": "PlayView",
            "style": "IPY_MODEL_0f072e919c674211b6c59e13b471527a",
            "interval": 950,
            "_dom_classes": [],
            "description": "Press play",
            "_model_name": "PlayModel",
            "max": 6,
            "_view_module": "@jupyter-widgets/controls",
            "_model_module_version": "1.5.0",
            "value": 6,
            "_view_count": null,
            "disabled": false,
            "_repeat": false,
            "_view_module_version": "1.5.0",
            "show_repeat": true,
            "min": 0,
            "_playing": false,
            "step": 1,
            "description_tooltip": null,
            "_model_module": "@jupyter-widgets/controls",
            "layout": "IPY_MODEL_9136cc2bb4664c118226a703f4aaf7e3"
          }
        },
        "04a1d9cbf4ae4c03a5f3b9ebe4328dae": {
          "model_module": "@jupyter-widgets/controls",
          "model_name": "ButtonModel",
          "state": {
            "_view_name": "ButtonView",
            "style": "IPY_MODEL_46d0c79504e549808e96dc54c74d85b1",
            "_dom_classes": [],
            "description": "",
            "_model_name": "ButtonModel",
            "button_style": "",
            "_view_module": "@jupyter-widgets/controls",
            "_model_module_version": "1.5.0",
            "tooltip": "",
            "_view_count": null,
            "disabled": false,
            "_view_module_version": "1.5.0",
            "layout": "IPY_MODEL_87a2570f5ee240888768978c6ec93f7a",
            "_model_module": "@jupyter-widgets/controls",
            "icon": "step-backward"
          }
        },
        "deaa3e26d1b64aaf981ac3aa2d66b589": {
          "model_module": "@jupyter-widgets/controls",
          "model_name": "ButtonModel",
          "state": {
            "_view_name": "ButtonView",
            "style": "IPY_MODEL_5a0d464193764e078791f08acc69757a",
            "_dom_classes": [],
            "description": "",
            "_model_name": "ButtonModel",
            "button_style": "",
            "_view_module": "@jupyter-widgets/controls",
            "_model_module_version": "1.5.0",
            "tooltip": "",
            "_view_count": null,
            "disabled": true,
            "_view_module_version": "1.5.0",
            "layout": "IPY_MODEL_2101d800cbe449d5a99278401867d2ca",
            "_model_module": "@jupyter-widgets/controls",
            "icon": "step-forward"
          }
        },
        "f2eb0b42caa340f686f4518c8057ad23": {
          "model_module": "@jupyter-widgets/controls",
          "model_name": "IntSliderModel",
          "state": {
            "_view_name": "IntSliderView",
            "style": "IPY_MODEL_a4c4b2a060714fc09a7307017e8c2fda",
            "_dom_classes": [],
            "description": "Speed:",
            "step": 1,
            "_model_name": "IntSliderModel",
            "orientation": "horizontal",
            "max": 10,
            "_view_module": "@jupyter-widgets/controls",
            "_model_module_version": "1.5.0",
            "value": 1,
            "_view_count": null,
            "disabled": false,
            "_view_module_version": "1.5.0",
            "min": 1,
            "continuous_update": false,
            "readout_format": "d",
            "description_tooltip": null,
            "readout": true,
            "_model_module": "@jupyter-widgets/controls",
            "layout": "IPY_MODEL_c3a6dc4642e844eeaee91cb0afeef943"
          }
        },
        "bdbf99168db74f6db01840e8a6cb1a6b": {
          "model_module": "@jupyter-widgets/controls",
          "model_name": "DescriptionStyleModel",
          "state": {
            "_view_name": "StyleView",
            "_model_name": "DescriptionStyleModel",
            "description_width": "",
            "_view_module": "@jupyter-widgets/base",
            "_model_module_version": "1.5.0",
            "_view_count": null,
            "_view_module_version": "1.2.0",
            "_model_module": "@jupyter-widgets/controls"
          }
        },
        "82e34ea64cde4d8697decea5aa80499d": {
          "model_module": "@jupyter-widgets/base",
          "model_name": "LayoutModel",
          "state": {
            "_view_name": "LayoutView",
            "grid_template_rows": null,
            "right": null,
            "justify_content": null,
            "_view_module": "@jupyter-widgets/base",
            "overflow": null,
            "_model_module_version": "1.2.0",
            "_view_count": null,
            "flex_flow": null,
            "width": "500px",
            "min_width": null,
            "border": null,
            "align_items": null,
            "bottom": null,
            "_model_module": "@jupyter-widgets/base",
            "top": null,
            "grid_column": null,
            "overflow_y": null,
            "overflow_x": null,
            "grid_auto_flow": null,
            "grid_area": null,
            "grid_template_columns": null,
            "flex": null,
            "_model_name": "LayoutModel",
            "justify_items": null,
            "grid_row": null,
            "max_height": null,
            "align_content": null,
            "visibility": null,
            "align_self": null,
            "height": null,
            "min_height": null,
            "padding": null,
            "grid_auto_rows": null,
            "grid_gap": null,
            "max_width": null,
            "order": null,
            "_view_module_version": "1.2.0",
            "grid_template_areas": null,
            "object_position": null,
            "object_fit": null,
            "grid_auto_columns": null,
            "margin": null,
            "display": null,
            "left": null
          }
        },
        "69614a4f249c42968689c6ef08413b59": {
          "model_module": "@jupyter-widgets/controls",
          "model_name": "ButtonStyleModel",
          "state": {
            "_view_name": "StyleView",
            "_model_name": "ButtonStyleModel",
            "_view_module": "@jupyter-widgets/base",
            "_model_module_version": "1.5.0",
            "_view_count": null,
            "button_color": null,
            "font_weight": "",
            "_view_module_version": "1.2.0",
            "_model_module": "@jupyter-widgets/controls"
          }
        },
        "701b5ddd79aa4ee7a6db05ded1473b83": {
          "model_module": "@jupyter-widgets/base",
          "model_name": "LayoutModel",
          "state": {
            "_view_name": "LayoutView",
            "grid_template_rows": null,
            "right": null,
            "justify_content": null,
            "_view_module": "@jupyter-widgets/base",
            "overflow": null,
            "_model_module_version": "1.2.0",
            "_view_count": null,
            "flex_flow": null,
            "width": null,
            "min_width": null,
            "border": null,
            "align_items": null,
            "bottom": null,
            "_model_module": "@jupyter-widgets/base",
            "top": null,
            "grid_column": null,
            "overflow_y": null,
            "overflow_x": null,
            "grid_auto_flow": null,
            "grid_area": null,
            "grid_template_columns": null,
            "flex": null,
            "_model_name": "LayoutModel",
            "justify_items": null,
            "grid_row": null,
            "max_height": null,
            "align_content": null,
            "visibility": null,
            "align_self": null,
            "height": null,
            "min_height": null,
            "padding": null,
            "grid_auto_rows": null,
            "grid_gap": null,
            "max_width": null,
            "order": null,
            "_view_module_version": "1.2.0",
            "grid_template_areas": null,
            "object_position": null,
            "object_fit": null,
            "grid_auto_columns": null,
            "margin": null,
            "display": null,
            "left": null
          }
        },
        "0f072e919c674211b6c59e13b471527a": {
          "model_module": "@jupyter-widgets/controls",
          "model_name": "DescriptionStyleModel",
          "state": {
            "_view_name": "StyleView",
            "_model_name": "DescriptionStyleModel",
            "description_width": "",
            "_view_module": "@jupyter-widgets/base",
            "_model_module_version": "1.5.0",
            "_view_count": null,
            "_view_module_version": "1.2.0",
            "_model_module": "@jupyter-widgets/controls"
          }
        },
        "9136cc2bb4664c118226a703f4aaf7e3": {
          "model_module": "@jupyter-widgets/base",
          "model_name": "LayoutModel",
          "state": {
            "_view_name": "LayoutView",
            "grid_template_rows": null,
            "right": null,
            "justify_content": null,
            "_view_module": "@jupyter-widgets/base",
            "overflow": null,
            "_model_module_version": "1.2.0",
            "_view_count": null,
            "flex_flow": null,
            "width": null,
            "min_width": null,
            "border": null,
            "align_items": null,
            "bottom": null,
            "_model_module": "@jupyter-widgets/base",
            "top": null,
            "grid_column": null,
            "overflow_y": null,
            "overflow_x": null,
            "grid_auto_flow": null,
            "grid_area": null,
            "grid_template_columns": null,
            "flex": null,
            "_model_name": "LayoutModel",
            "justify_items": null,
            "grid_row": null,
            "max_height": null,
            "align_content": null,
            "visibility": null,
            "align_self": null,
            "height": null,
            "min_height": null,
            "padding": null,
            "grid_auto_rows": null,
            "grid_gap": null,
            "max_width": null,
            "order": null,
            "_view_module_version": "1.2.0",
            "grid_template_areas": null,
            "object_position": null,
            "object_fit": null,
            "grid_auto_columns": null,
            "margin": null,
            "display": null,
            "left": null
          }
        },
        "46d0c79504e549808e96dc54c74d85b1": {
          "model_module": "@jupyter-widgets/controls",
          "model_name": "ButtonStyleModel",
          "state": {
            "_view_name": "StyleView",
            "_model_name": "ButtonStyleModel",
            "_view_module": "@jupyter-widgets/base",
            "_model_module_version": "1.5.0",
            "_view_count": null,
            "button_color": null,
            "font_weight": "",
            "_view_module_version": "1.2.0",
            "_model_module": "@jupyter-widgets/controls"
          }
        },
        "87a2570f5ee240888768978c6ec93f7a": {
          "model_module": "@jupyter-widgets/base",
          "model_name": "LayoutModel",
          "state": {
            "_view_name": "LayoutView",
            "grid_template_rows": null,
            "right": null,
            "justify_content": null,
            "_view_module": "@jupyter-widgets/base",
            "overflow": null,
            "_model_module_version": "1.2.0",
            "_view_count": null,
            "flex_flow": null,
            "width": "40px",
            "min_width": null,
            "border": null,
            "align_items": null,
            "bottom": null,
            "_model_module": "@jupyter-widgets/base",
            "top": null,
            "grid_column": null,
            "overflow_y": null,
            "overflow_x": null,
            "grid_auto_flow": null,
            "grid_area": null,
            "grid_template_columns": null,
            "flex": null,
            "_model_name": "LayoutModel",
            "justify_items": null,
            "grid_row": null,
            "max_height": null,
            "align_content": null,
            "visibility": null,
            "align_self": null,
            "height": null,
            "min_height": null,
            "padding": null,
            "grid_auto_rows": null,
            "grid_gap": null,
            "max_width": null,
            "order": null,
            "_view_module_version": "1.2.0",
            "grid_template_areas": null,
            "object_position": null,
            "object_fit": null,
            "grid_auto_columns": null,
            "margin": null,
            "display": null,
            "left": null
          }
        },
        "5a0d464193764e078791f08acc69757a": {
          "model_module": "@jupyter-widgets/controls",
          "model_name": "ButtonStyleModel",
          "state": {
            "_view_name": "StyleView",
            "_model_name": "ButtonStyleModel",
            "_view_module": "@jupyter-widgets/base",
            "_model_module_version": "1.5.0",
            "_view_count": null,
            "button_color": null,
            "font_weight": "",
            "_view_module_version": "1.2.0",
            "_model_module": "@jupyter-widgets/controls"
          }
        },
        "2101d800cbe449d5a99278401867d2ca": {
          "model_module": "@jupyter-widgets/base",
          "model_name": "LayoutModel",
          "state": {
            "_view_name": "LayoutView",
            "grid_template_rows": null,
            "right": null,
            "justify_content": null,
            "_view_module": "@jupyter-widgets/base",
            "overflow": null,
            "_model_module_version": "1.2.0",
            "_view_count": null,
            "flex_flow": null,
            "width": "40px",
            "min_width": null,
            "border": null,
            "align_items": null,
            "bottom": null,
            "_model_module": "@jupyter-widgets/base",
            "top": null,
            "grid_column": null,
            "overflow_y": null,
            "overflow_x": null,
            "grid_auto_flow": null,
            "grid_area": null,
            "grid_template_columns": null,
            "flex": null,
            "_model_name": "LayoutModel",
            "justify_items": null,
            "grid_row": null,
            "max_height": null,
            "align_content": null,
            "visibility": null,
            "align_self": null,
            "height": null,
            "min_height": null,
            "padding": null,
            "grid_auto_rows": null,
            "grid_gap": null,
            "max_width": null,
            "order": null,
            "_view_module_version": "1.2.0",
            "grid_template_areas": null,
            "object_position": null,
            "object_fit": null,
            "grid_auto_columns": null,
            "margin": null,
            "display": null,
            "left": null
          }
        },
        "a4c4b2a060714fc09a7307017e8c2fda": {
          "model_module": "@jupyter-widgets/controls",
          "model_name": "SliderStyleModel",
          "state": {
            "_view_name": "StyleView",
            "handle_color": null,
            "_model_name": "SliderStyleModel",
            "description_width": "",
            "_view_module": "@jupyter-widgets/base",
            "_model_module_version": "1.5.0",
            "_view_count": null,
            "_view_module_version": "1.2.0",
            "_model_module": "@jupyter-widgets/controls"
          }
        },
        "c3a6dc4642e844eeaee91cb0afeef943": {
          "model_module": "@jupyter-widgets/base",
          "model_name": "LayoutModel",
          "state": {
            "_view_name": "LayoutView",
            "grid_template_rows": null,
            "right": null,
            "justify_content": null,
            "_view_module": "@jupyter-widgets/base",
            "overflow": null,
            "_model_module_version": "1.2.0",
            "_view_count": null,
            "flex_flow": null,
            "width": null,
            "min_width": null,
            "border": null,
            "align_items": null,
            "bottom": null,
            "_model_module": "@jupyter-widgets/base",
            "top": null,
            "grid_column": null,
            "overflow_y": null,
            "overflow_x": null,
            "grid_auto_flow": null,
            "grid_area": null,
            "grid_template_columns": null,
            "flex": null,
            "_model_name": "LayoutModel",
            "justify_items": null,
            "grid_row": null,
            "max_height": null,
            "align_content": null,
            "visibility": null,
            "align_self": null,
            "height": null,
            "min_height": null,
            "padding": null,
            "grid_auto_rows": null,
            "grid_gap": null,
            "max_width": null,
            "order": null,
            "_view_module_version": "1.2.0",
            "grid_template_areas": null,
            "object_position": null,
            "object_fit": null,
            "grid_auto_columns": null,
            "margin": null,
            "display": null,
            "left": null
          }
        },
        "e3c359a0cb474b1cbc17d8eaabd8d7ad": {
          "model_module": "@jupyter-widgets/base",
          "model_name": "LayoutModel",
          "state": {
            "_view_name": "LayoutView",
            "grid_template_rows": null,
            "right": null,
            "justify_content": null,
            "_view_module": "@jupyter-widgets/base",
            "overflow": null,
            "_model_module_version": "1.2.0",
            "_view_count": null,
            "flex_flow": null,
            "width": null,
            "min_width": null,
            "border": null,
            "align_items": null,
            "bottom": null,
            "_model_module": "@jupyter-widgets/base",
            "top": null,
            "grid_column": null,
            "overflow_y": null,
            "overflow_x": null,
            "grid_auto_flow": null,
            "grid_area": null,
            "grid_template_columns": null,
            "flex": null,
            "_model_name": "LayoutModel",
            "justify_items": null,
            "grid_row": null,
            "max_height": null,
            "align_content": null,
            "visibility": null,
            "align_self": null,
            "height": null,
            "min_height": null,
            "padding": null,
            "grid_auto_rows": null,
            "grid_gap": null,
            "max_width": null,
            "order": null,
            "_view_module_version": "1.2.0",
            "grid_template_areas": null,
            "object_position": null,
            "object_fit": null,
            "grid_auto_columns": null,
            "margin": null,
            "display": null,
            "left": null
          }
        },
        "b24ae61bcbea4256a81968bf8e713a7d": {
          "model_module": "@jupyter-widgets/base",
          "model_name": "LayoutModel",
          "state": {
            "_view_name": "LayoutView",
            "grid_template_rows": null,
            "right": null,
            "justify_content": null,
            "_view_module": "@jupyter-widgets/base",
            "overflow": null,
            "_model_module_version": "1.2.0",
            "_view_count": null,
            "flex_flow": null,
            "width": null,
            "min_width": null,
            "border": null,
            "align_items": null,
            "bottom": null,
            "_model_module": "@jupyter-widgets/base",
            "top": null,
            "grid_column": null,
            "overflow_y": null,
            "overflow_x": null,
            "grid_auto_flow": null,
            "grid_area": null,
            "grid_template_columns": null,
            "flex": null,
            "_model_name": "LayoutModel",
            "justify_items": null,
            "grid_row": null,
            "max_height": null,
            "align_content": null,
            "visibility": null,
            "align_self": null,
            "height": null,
            "min_height": null,
            "padding": null,
            "grid_auto_rows": null,
            "grid_gap": null,
            "max_width": null,
            "order": null,
            "_view_module_version": "1.2.0",
            "grid_template_areas": null,
            "object_position": null,
            "object_fit": null,
            "grid_auto_columns": null,
            "margin": null,
            "display": null,
            "left": null
          }
        },
        "fe9bcfe9a45243b2b218a6969331c2f5": {
          "model_module": "@jupyter-widgets/controls",
          "model_name": "VBoxModel",
          "state": {
            "_view_name": "VBoxView",
            "_dom_classes": [
              "widget-interact"
            ],
            "_model_name": "VBoxModel",
            "_view_module": "@jupyter-widgets/controls",
            "_model_module_version": "1.5.0",
            "_view_count": null,
            "_view_module_version": "1.5.0",
            "box_style": "",
            "layout": "IPY_MODEL_cab441d5e6a54e7fb241f234d291ff1b",
            "_model_module": "@jupyter-widgets/controls",
            "children": [
              "IPY_MODEL_004e3f8a92cc4cc5b99d2a408d1e9f04",
              "IPY_MODEL_dc583bda45884ea9a6c5d87ad6c94e49",
              "IPY_MODEL_e8d22900d4d64cb5823c5b474fbd5682",
              "IPY_MODEL_db3ba525e7d043a0aee4b31c7ff0299c"
            ]
          }
        },
        "cab441d5e6a54e7fb241f234d291ff1b": {
          "model_module": "@jupyter-widgets/base",
          "model_name": "LayoutModel",
          "state": {
            "_view_name": "LayoutView",
            "grid_template_rows": null,
            "right": null,
            "justify_content": null,
            "_view_module": "@jupyter-widgets/base",
            "overflow": null,
            "_model_module_version": "1.2.0",
            "_view_count": null,
            "flex_flow": null,
            "width": null,
            "min_width": null,
            "border": null,
            "align_items": null,
            "bottom": null,
            "_model_module": "@jupyter-widgets/base",
            "top": null,
            "grid_column": null,
            "overflow_y": null,
            "overflow_x": null,
            "grid_auto_flow": null,
            "grid_area": null,
            "grid_template_columns": null,
            "flex": null,
            "_model_name": "LayoutModel",
            "justify_items": null,
            "grid_row": null,
            "max_height": null,
            "align_content": null,
            "visibility": null,
            "align_self": null,
            "height": null,
            "min_height": null,
            "padding": null,
            "grid_auto_rows": null,
            "grid_gap": null,
            "max_width": null,
            "order": null,
            "_view_module_version": "1.2.0",
            "grid_template_areas": null,
            "object_position": null,
            "object_fit": null,
            "grid_auto_columns": null,
            "margin": null,
            "display": null,
            "left": null
          }
        },
        "004e3f8a92cc4cc5b99d2a408d1e9f04": {
          "model_module": "@jupyter-widgets/controls",
          "model_name": "DropdownModel",
          "state": {
            "_options_labels": [
              "N1",
              "N2"
            ],
            "_view_name": "DropdownView",
            "style": "IPY_MODEL_d3b7e1311f87422180c0515f4fa0d1a6",
            "_dom_classes": [],
            "description": "N",
            "_model_name": "DropdownModel",
            "index": 1,
            "_view_module": "@jupyter-widgets/controls",
            "_model_module_version": "1.5.0",
            "_view_count": null,
            "disabled": false,
            "_view_module_version": "1.5.0",
            "description_tooltip": null,
            "_model_module": "@jupyter-widgets/controls",
            "layout": "IPY_MODEL_dc81f38531694d62b7fbd9322f285b03"
          }
        },
        "dc583bda45884ea9a6c5d87ad6c94e49": {
          "model_module": "@jupyter-widgets/controls",
          "model_name": "TextModel",
          "state": {
            "_view_name": "TextView",
            "style": "IPY_MODEL_7103d47e62bd49d88ec3796bb24f5a15",
            "_dom_classes": [],
            "description": "s",
            "_model_name": "TextModel",
            "placeholder": "​",
            "_view_module": "@jupyter-widgets/controls",
            "_model_module_version": "1.5.0",
            "value": "10101",
            "_view_count": null,
            "disabled": false,
            "_view_module_version": "1.5.0",
            "continuous_update": true,
            "description_tooltip": null,
            "_model_module": "@jupyter-widgets/controls",
            "layout": "IPY_MODEL_050efc57bf0c4d10867f22a3a8840958"
          }
        },
        "e8d22900d4d64cb5823c5b474fbd5682": {
          "model_module": "@jupyter-widgets/controls",
          "model_name": "IntSliderModel",
          "state": {
            "_view_name": "IntSliderView",
            "style": "IPY_MODEL_fe8f26516a8449b8a61b066450ef4315",
            "_dom_classes": [],
            "description": "n",
            "step": 1,
            "_model_name": "IntSliderModel",
            "orientation": "horizontal",
            "max": 32,
            "_view_module": "@jupyter-widgets/controls",
            "_model_module_version": "1.5.0",
            "value": 12,
            "_view_count": null,
            "disabled": false,
            "_view_module_version": "1.5.0",
            "min": 0,
            "continuous_update": true,
            "readout_format": "d",
            "description_tooltip": null,
            "readout": true,
            "_model_module": "@jupyter-widgets/controls",
            "layout": "IPY_MODEL_1e3981454a0d4ba3850dc9fd35b0a50c"
          }
        },
        "db3ba525e7d043a0aee4b31c7ff0299c": {
          "model_module": "@jupyter-widgets/output",
          "model_name": "OutputModel",
          "state": {
            "_view_name": "OutputView",
            "msg_id": "",
            "_dom_classes": [],
            "_model_name": "OutputModel",
            "outputs": [
              {
                "output_type": "stream",
                "metadata": {
                  "tags": []
                },
                "text": "string =  10101\nStates reached =  {'S1', 'S0', 'I'}\nStates reached =  {'S0', 'S2', 'I'}\nStates reached =  {'S1', 'S0', 'I', 'F'}\nStates reached =  {'S0', 'S2', 'I'}\nStates reached =  {'S1', 'S0', 'I', 'F'}\n",
                "stream": "stdout"
              }
            ],
            "_view_module": "@jupyter-widgets/output",
            "_model_module_version": "1.0.0",
            "_view_count": null,
            "_view_module_version": "1.0.0",
            "layout": "IPY_MODEL_cf80a4b94998496f9624e100bac4146a",
            "_model_module": "@jupyter-widgets/output"
          }
        },
        "d3b7e1311f87422180c0515f4fa0d1a6": {
          "model_module": "@jupyter-widgets/controls",
          "model_name": "DescriptionStyleModel",
          "state": {
            "_view_name": "StyleView",
            "_model_name": "DescriptionStyleModel",
            "description_width": "",
            "_view_module": "@jupyter-widgets/base",
            "_model_module_version": "1.5.0",
            "_view_count": null,
            "_view_module_version": "1.2.0",
            "_model_module": "@jupyter-widgets/controls"
          }
        },
        "dc81f38531694d62b7fbd9322f285b03": {
          "model_module": "@jupyter-widgets/base",
          "model_name": "LayoutModel",
          "state": {
            "_view_name": "LayoutView",
            "grid_template_rows": null,
            "right": null,
            "justify_content": null,
            "_view_module": "@jupyter-widgets/base",
            "overflow": null,
            "_model_module_version": "1.2.0",
            "_view_count": null,
            "flex_flow": null,
            "width": null,
            "min_width": null,
            "border": null,
            "align_items": null,
            "bottom": null,
            "_model_module": "@jupyter-widgets/base",
            "top": null,
            "grid_column": null,
            "overflow_y": null,
            "overflow_x": null,
            "grid_auto_flow": null,
            "grid_area": null,
            "grid_template_columns": null,
            "flex": null,
            "_model_name": "LayoutModel",
            "justify_items": null,
            "grid_row": null,
            "max_height": null,
            "align_content": null,
            "visibility": null,
            "align_self": null,
            "height": null,
            "min_height": null,
            "padding": null,
            "grid_auto_rows": null,
            "grid_gap": null,
            "max_width": null,
            "order": null,
            "_view_module_version": "1.2.0",
            "grid_template_areas": null,
            "object_position": null,
            "object_fit": null,
            "grid_auto_columns": null,
            "margin": null,
            "display": null,
            "left": null
          }
        },
        "7103d47e62bd49d88ec3796bb24f5a15": {
          "model_module": "@jupyter-widgets/controls",
          "model_name": "DescriptionStyleModel",
          "state": {
            "_view_name": "StyleView",
            "_model_name": "DescriptionStyleModel",
            "description_width": "",
            "_view_module": "@jupyter-widgets/base",
            "_model_module_version": "1.5.0",
            "_view_count": null,
            "_view_module_version": "1.2.0",
            "_model_module": "@jupyter-widgets/controls"
          }
        },
        "050efc57bf0c4d10867f22a3a8840958": {
          "model_module": "@jupyter-widgets/base",
          "model_name": "LayoutModel",
          "state": {
            "_view_name": "LayoutView",
            "grid_template_rows": null,
            "right": null,
            "justify_content": null,
            "_view_module": "@jupyter-widgets/base",
            "overflow": null,
            "_model_module_version": "1.2.0",
            "_view_count": null,
            "flex_flow": null,
            "width": null,
            "min_width": null,
            "border": null,
            "align_items": null,
            "bottom": null,
            "_model_module": "@jupyter-widgets/base",
            "top": null,
            "grid_column": null,
            "overflow_y": null,
            "overflow_x": null,
            "grid_auto_flow": null,
            "grid_area": null,
            "grid_template_columns": null,
            "flex": null,
            "_model_name": "LayoutModel",
            "justify_items": null,
            "grid_row": null,
            "max_height": null,
            "align_content": null,
            "visibility": null,
            "align_self": null,
            "height": null,
            "min_height": null,
            "padding": null,
            "grid_auto_rows": null,
            "grid_gap": null,
            "max_width": null,
            "order": null,
            "_view_module_version": "1.2.0",
            "grid_template_areas": null,
            "object_position": null,
            "object_fit": null,
            "grid_auto_columns": null,
            "margin": null,
            "display": null,
            "left": null
          }
        },
        "fe8f26516a8449b8a61b066450ef4315": {
          "model_module": "@jupyter-widgets/controls",
          "model_name": "SliderStyleModel",
          "state": {
            "_view_name": "StyleView",
            "handle_color": null,
            "_model_name": "SliderStyleModel",
            "description_width": "",
            "_view_module": "@jupyter-widgets/base",
            "_model_module_version": "1.5.0",
            "_view_count": null,
            "_view_module_version": "1.2.0",
            "_model_module": "@jupyter-widgets/controls"
          }
        },
        "1e3981454a0d4ba3850dc9fd35b0a50c": {
          "model_module": "@jupyter-widgets/base",
          "model_name": "LayoutModel",
          "state": {
            "_view_name": "LayoutView",
            "grid_template_rows": null,
            "right": null,
            "justify_content": null,
            "_view_module": "@jupyter-widgets/base",
            "overflow": null,
            "_model_module_version": "1.2.0",
            "_view_count": null,
            "flex_flow": null,
            "width": null,
            "min_width": null,
            "border": null,
            "align_items": null,
            "bottom": null,
            "_model_module": "@jupyter-widgets/base",
            "top": null,
            "grid_column": null,
            "overflow_y": null,
            "overflow_x": null,
            "grid_auto_flow": null,
            "grid_area": null,
            "grid_template_columns": null,
            "flex": null,
            "_model_name": "LayoutModel",
            "justify_items": null,
            "grid_row": null,
            "max_height": null,
            "align_content": null,
            "visibility": null,
            "align_self": null,
            "height": null,
            "min_height": null,
            "padding": null,
            "grid_auto_rows": null,
            "grid_gap": null,
            "max_width": null,
            "order": null,
            "_view_module_version": "1.2.0",
            "grid_template_areas": null,
            "object_position": null,
            "object_fit": null,
            "grid_auto_columns": null,
            "margin": null,
            "display": null,
            "left": null
          }
        },
        "cf80a4b94998496f9624e100bac4146a": {
          "model_module": "@jupyter-widgets/base",
          "model_name": "LayoutModel",
          "state": {
            "_view_name": "LayoutView",
            "grid_template_rows": null,
            "right": null,
            "justify_content": null,
            "_view_module": "@jupyter-widgets/base",
            "overflow": null,
            "_model_module_version": "1.2.0",
            "_view_count": null,
            "flex_flow": null,
            "width": null,
            "min_width": null,
            "border": null,
            "align_items": null,
            "bottom": null,
            "_model_module": "@jupyter-widgets/base",
            "top": null,
            "grid_column": null,
            "overflow_y": null,
            "overflow_x": null,
            "grid_auto_flow": null,
            "grid_area": null,
            "grid_template_columns": null,
            "flex": null,
            "_model_name": "LayoutModel",
            "justify_items": null,
            "grid_row": null,
            "max_height": null,
            "align_content": null,
            "visibility": null,
            "align_self": null,
            "height": null,
            "min_height": null,
            "padding": null,
            "grid_auto_rows": null,
            "grid_gap": null,
            "max_width": null,
            "order": null,
            "_view_module_version": "1.2.0",
            "grid_template_areas": null,
            "object_position": null,
            "object_fit": null,
            "grid_auto_columns": null,
            "margin": null,
            "display": null,
            "left": null
          }
        }
      }
    },
    "colab": {
      "name": "04_1_NFA_Basics.ipynb",
      "provenance": []
    }
  },
  "cells": [
    {
      "cell_type": "markdown",
      "metadata": {
        "run_control": {
          "frozen": false,
          "read_only": false
        },
        "id": "nY47WJS7fiRC"
      },
      "source": [
        "# NFA Basics\n",
        "\n",
        "You may wish to watch Ganesh's lecture on NFA a little, then play with the\n",
        "code below, and then finish watching."
      ]
    },
    {
      "cell_type": "code",
      "metadata": {
        "run_control": {
          "frozen": false,
          "read_only": false
        },
        "colab": {
          "base_uri": "https://localhost:8080/",
          "height": 321
        },
        "id": "aG0nxfzSfiRQ",
        "outputId": "2de5530c-8fce-4984-962e-0214325d21df"
      },
      "source": [
        "# This Youtube video walks through this notebook\n",
        "from IPython.display import YouTubeVideo\n",
        "YouTubeVideo('xjFtLF95uBc')"
      ],
      "execution_count": 1,
      "outputs": [
        {
          "output_type": "execute_result",
          "data": {
            "text/html": [
              "\n",
              "        <iframe\n",
              "            width=\"400\"\n",
              "            height=\"300\"\n",
              "            src=\"https://www.youtube.com/embed/xjFtLF95uBc\"\n",
              "            frameborder=\"0\"\n",
              "            allowfullscreen\n",
              "        ></iframe>\n",
              "        "
            ],
            "text/plain": [
              "<IPython.lib.display.YouTubeVideo at 0x7fa649c98f28>"
            ],
            "image/jpeg": "[encoded data removed]"
          },
          "metadata": {
            "tags": []
          },
          "execution_count": 1
        }
      ]
    },
    {
      "cell_type": "code",
      "metadata": {
        "run_control": {
          "frozen": false,
          "read_only": false
        },
        "colab": {
          "base_uri": "https://localhost:8080/"
        },
        "id": "UWdKWmH_fiRT",
        "outputId": "91e3d89e-f40c-4b52-a3e2-6b233f605443"
      },
      "source": [
        "#~~~~~~~~~~~~~~~~~~~~~~~~~~~~~~~~~~~~~~~~~~~~~~~~~~~~~~~\n",
        "import sys\n",
        "\n",
        "# -- Detect if in Own Install or in Colab\n",
        "try:\n",
        "    import google.colab\n",
        "    OWN_INSTALL = False\n",
        "except:\n",
        "    OWN_INSTALL = True\n",
        "    \n",
        "if OWN_INSTALL:\n",
        "    \n",
        "  #---- Leave these definitions ON if running on laptop\n",
        "  #---- Else turn OFF by putting them between ''' ... '''\n",
        "\n",
        "  sys.path[0:0] = ['../../../../..',  '../../../../../3rdparty',  \n",
        "                   '../../../..',  '../../../../3rdparty',  \n",
        "                   '../../..',     '../../../3rdparty', \n",
        "                   '../..',        '../../3rdparty',\n",
        "                   '..',           '../3rdparty' ]\n",
        "\n",
        "else: # In colab\n",
        "  ! if [ ! -d Jove ]; then git clone https://github.com/ganeshutah/Jove Jove; fi\n",
        "  sys.path.append('./Jove')\n",
        "  sys.path.append('./Jove/jove')\n",
        "\n",
        "# -- common imports --\n",
        "from jove.DotBashers import *\n",
        "from jove.Def_md2mc  import *\n",
        "from jove.Def_NFA    import *\n",
        "from jove.Def_DFA    import *\n",
        "from jove.AnimateNFA import *\n",
        "#~~~~~~~~~~~~~~~~~~~~~~~~~~~~~~~~~~~~~~~~~~~~~~~~~~~~~~~"
      ],
      "execution_count": 2,
      "outputs": [
        {
          "output_type": "stream",
          "text": [
            "Cloning into 'Jove'...\n",
            "remote: Enumerating objects: 4634, done.\u001b[K\n",
            "remote: Total 4634 (delta 0), reused 0 (delta 0), pack-reused 4634\u001b[K\n",
            "Receiving objects: 100% (4634/4634), 7.38 MiB | 23.17 MiB/s, done.\n",
            "Resolving deltas: 100% (3005/3005), done.\n",
            "You may use any of these help commands:\n",
            "help(ResetStNum)\n",
            "help(NxtStateStr)\n",
            "\n",
            "You may use any of these help commands:\n",
            "help(md2mc)\n",
            ".. and if you want to dig more, then ..\n",
            "help(default_line_attr)\n",
            "help(length_ok_input_items)\n",
            "help(union_line_attr_list_fld)\n",
            "help(extend_rsltdict)\n",
            "help(form_delta)\n",
            "help(get_machine_components)\n",
            "\n",
            "You may use any of these help commands:\n",
            "help(mkp_dfa)\n",
            "help(mk_dfa)\n",
            "help(totalize_dfa)\n",
            "help(addtosigma_delta)\n",
            "help(step_dfa)\n",
            "help(run_dfa)\n",
            "help(accepts_dfa)\n",
            "help(comp_dfa)\n",
            "help(union_dfa)\n",
            "help(intersect_dfa)\n",
            "help(pruneUnreach)\n",
            "help(iso_dfa)\n",
            "help(langeq_dfa)\n",
            "help(same_status)\n",
            "help(h_langeq_dfa)\n",
            "help(fixptDist)\n",
            "help(min_dfa)\n",
            "help(pairFR)\n",
            "help(state_combos)\n",
            "help(sepFinNonFin)\n",
            "help(bash_eql_classes)\n",
            "help(listminus)\n",
            "help(bash_1)\n",
            "help(mk_rep_eqc)\n",
            "help(F_of)\n",
            "help(rep_of_s)\n",
            "help(q0_of)\n",
            "help(Delta_of)\n",
            "help(mk_state_eqc_name)\n",
            "\n",
            "You may use any of these help commands:\n",
            "help(mk_nfa)\n",
            "help(totalize_nfa)\n",
            "help(step_nfa)\n",
            "help(run_nfa)\n",
            "help(ec_step_nfa)\n",
            "help(Eclosure)\n",
            "help(Echelp)\n",
            "help(accepts_nfa)\n",
            "help(nfa2dfa)\n",
            "help(n2d)\n",
            "help(inSets)\n",
            "help(rev_dfa)\n",
            "help(min_dfa_brz)\n",
            "\n",
            " \"help(AnimateNFA)\" gives you info on how to use animations with NFA \n"
          ],
          "name": "stdout"
        }
      ]
    },
    {
      "cell_type": "markdown",
      "metadata": {
        "id": "DVeWTXblfiRV"
      },
      "source": [
        "# This NFA checks whether a string has \"01\" in it."
      ]
    },
    {
      "cell_type": "code",
      "metadata": {
        "colab": {
          "base_uri": "https://localhost:8080/"
        },
        "id": "hSExM6HQfiRW",
        "outputId": "aa130904-590d-4099-c6a3-9ff53e1d98e1"
      },
      "source": [
        "nfahas01 = md2mc('''\n",
        "NFA \n",
        "I : 0 | 1 -> I\n",
        "I : '' -> A\n",
        "A : 0  -> B\n",
        "B : 1  -> C\n",
        "C : 0 | 1 -> C\n",
        "C : '' -> F\n",
        "''')"
      ],
      "execution_count": 3,
      "outputs": [
        {
          "output_type": "stream",
          "text": [
            "Generating LALR tables\n"
          ],
          "name": "stderr"
        }
      ]
    },
    {
      "cell_type": "markdown",
      "metadata": {
        "id": "jPP5TusVfiRX"
      },
      "source": [
        "## This example is highly worth studying via animations.\n",
        "\n",
        "Put it in animate mode, and then single-step to see the EClosure of states"
      ]
    },
    {
      "cell_type": "code",
      "metadata": {
        "colab": {
          "base_uri": "https://localhost:8080/",
          "height": 304,
          "referenced_widgets": [
            "1f9131de4e59427f80efc617addbd919",
            "cd236fd8707242499564e00ee8e61dcd",
            "51ad92d1cdfa4be188eae2e014db7267",
            "741274d15db840beacbb61407ca3bf3c",
            "eb894e6712e9488d9feed8eda80953d4",
            "68f90e15382f4808a6d37d50dd2ebc0b",
            "3119afb623bf4ecd8018a7a4853272b7",
            "cb7a15eb73a040658a4b7ca38a4e27cf",
            "d930da8d62754d55a7df0510844ca38c",
            "48ee6a7887644f7bb3ebfad5bdb12457",
            "9106157b7f9749cba0aa1c79188e463b",
            "c623ecaddbd04fa0a759ba99e4e8a491",
            "ffbe6b6793d44cbe880b6ea1cbea282c",
            "43cce41cba5b49ff9e97f97e71fea10a",
            "11734bda0a6f4ad8b97dd6a12fe65bed",
            "c8f93b8411e143298fd7af14ae348e3c",
            "4d08a911db6946f283640168436ab4f4",
            "1d2303eea49a4bee9ca5fe83f24a2286",
            "38cb60dfcf844ceaa5d256f2eef64c5d",
            "7eb981ab3e1f4ceb9b0b6a1152d2a8a1",
            "2ed8439eaf3d46d1899e69be6089c163",
            "77d0ae2de85849019e29b30da0f821c7",
            "f7c4da9e99cc49f98a28183a2cd8d3d6",
            "b36d7a6154fc432d9f2c71572a8c0658",
            "6024d275d08145bc88f3afaa87242f9b",
            "0e6efd6181ec49f2a00b58ebe6e47631",
            "bdb3f22426c24d82abcbbafd1a2688ee",
            "e0d46053f52146d9ae6f21922c91dd2f"
          ]
        },
        "id": "p2CyOTNQfiRY",
        "outputId": "7db9701e-6533-4b9d-fd2b-c9e2e3a3cb99"
      },
      "source": [
        "AnimateNFA(nfahas01, FuseEdges=False)\n",
        "display(HTML('<link rel=\\\"stylesheet\\\" href=\\\"//stackpath.bootstrapcdn.com/font-awesome/4.7.0/css/font-awesome.min.css\\\"/>'))"
      ],
      "execution_count": 4,
      "outputs": [
        {
          "output_type": "display_data",
          "data": {
            "application/vnd.jupyter.widget-view+json": {
              "model_id": "1f9131de4e59427f80efc617addbd919",
              "version_minor": 0,
              "version_major": 2
            },
            "text/plain": [
              "VBox(children=(HBox(children=(Text(value='', description='Input:', layout=Layout(width='500px'), placeholder='…"
            ]
          },
          "metadata": {
            "tags": []
          }
        },
        {
          "output_type": "display_data",
          "data": {
            "text/html": [
              "<link rel=\"stylesheet\" href=\"//stackpath.bootstrapcdn.com/font-awesome/4.7.0/css/font-awesome.min.css\"/>"
            ],
            "text/plain": [
              "<IPython.core.display.HTML object>"
            ]
          },
          "metadata": {
            "tags": []
          }
        }
      ]
    },
    {
      "cell_type": "markdown",
      "metadata": {
        "id": "X1dPLypNfiRZ"
      },
      "source": [
        "# This is an example from Figure 7.7 of the book.\n",
        "\n",
        "Presented in two different ways: one with a single initial state, and \n",
        "another with multiple initial states. Fig77 is the single initial state version, and\n",
        "Fig77a is with multiple initial states."
      ]
    },
    {
      "cell_type": "code",
      "metadata": {
        "id": "NXZxp7VbfiRa"
      },
      "source": [
        "Fig77 = md2mc('''NFA\n",
        "I : '' -> A, G\n",
        "A : '' -> B, C\n",
        "G : 1  -> F\n",
        "B : 1  -> D\n",
        "C : 0  -> E\n",
        "D : '' -> A, G\n",
        "E : '' -> A, G\n",
        "''')"
      ],
      "execution_count": 5,
      "outputs": []
    },
    {
      "cell_type": "code",
      "metadata": {
        "scrolled": true,
        "colab": {
          "base_uri": "https://localhost:8080/",
          "height": 486,
          "referenced_widgets": [
            "f6458007bffd46ed8a951beeefcd2827",
            "1d6d010be3284130bdde5bda62d1c4a0",
            "ca07661dc4ee41a5a1b1e67bb98f3006",
            "6f79fe9610894a58a7d781ce9718ffe0",
            "0744c36fee044ecf990556cdec23404e",
            "f6b481bb0b42411a991576e6238d2ea3",
            "015332554aea40c08aba617aa0b4f9b8",
            "ee58b416484c400399040317cd18e503",
            "4b9cef059c90410aa132662e3a8b2b59",
            "6453506df0f740448d2d69713cc9ae23",
            "7cfedd1725fe4f04865f334c7ec2676a",
            "04a1d9cbf4ae4c03a5f3b9ebe4328dae",
            "deaa3e26d1b64aaf981ac3aa2d66b589",
            "f2eb0b42caa340f686f4518c8057ad23",
            "bdbf99168db74f6db01840e8a6cb1a6b",
            "82e34ea64cde4d8697decea5aa80499d",
            "69614a4f249c42968689c6ef08413b59",
            "701b5ddd79aa4ee7a6db05ded1473b83",
            "0f072e919c674211b6c59e13b471527a",
            "9136cc2bb4664c118226a703f4aaf7e3",
            "46d0c79504e549808e96dc54c74d85b1",
            "87a2570f5ee240888768978c6ec93f7a",
            "5a0d464193764e078791f08acc69757a",
            "2101d800cbe449d5a99278401867d2ca",
            "a4c4b2a060714fc09a7307017e8c2fda",
            "c3a6dc4642e844eeaee91cb0afeef943",
            "e3c359a0cb474b1cbc17d8eaabd8d7ad",
            "b24ae61bcbea4256a81968bf8e713a7d"
          ]
        },
        "id": "o2o-9V4vfiRb",
        "outputId": "b65911d4-728d-457a-f681-33590a9fb3e1"
      },
      "source": [
        "AnimateNFA(Fig77, FuseEdges=False)\n",
        "display(HTML('<link rel=\\\"stylesheet\\\" href=\\\"//stackpath.bootstrapcdn.com/font-awesome/4.7.0/css/font-awesome.min.css\\\"/>'))"
      ],
      "execution_count": 6,
      "outputs": [
        {
          "output_type": "display_data",
          "data": {
            "application/vnd.jupyter.widget-view+json": {
              "model_id": "f6458007bffd46ed8a951beeefcd2827",
              "version_minor": 0,
              "version_major": 2
            },
            "text/plain": [
              "VBox(children=(HBox(children=(Text(value='', description='Input:', layout=Layout(width='500px'), placeholder='…"
            ]
          },
          "metadata": {
            "tags": []
          }
        },
        {
          "output_type": "display_data",
          "data": {
            "text/html": [
              "<link rel=\"stylesheet\" href=\"//stackpath.bootstrapcdn.com/font-awesome/4.7.0/css/font-awesome.min.css\"/>"
            ],
            "text/plain": [
              "<IPython.core.display.HTML object>"
            ]
          },
          "metadata": {
            "tags": []
          }
        }
      ]
    },
    {
      "cell_type": "code",
      "metadata": {
        "id": "RzYuncyefiRc"
      },
      "source": [
        "Fig77a = md2mc('''NFA\n",
        "IA : '' -> B, C\n",
        "IG : 1  -> F\n",
        "B : 1  -> D\n",
        "C : 0  -> E\n",
        "D : '' -> IA, IG\n",
        "E : '' -> IA, IG\n",
        "''')"
      ],
      "execution_count": 7,
      "outputs": []
    },
    {
      "cell_type": "code",
      "metadata": {
        "colab": {
          "base_uri": "https://localhost:8080/",
          "height": 304
        },
        "id": "JthiqMsIfiRd",
        "outputId": "c4c73558-a156-4d7a-9ce3-9640dddac301"
      },
      "source": [
        "dotObj_nfa(Fig77a)"
      ],
      "execution_count": 8,
      "outputs": [
        {
          "output_type": "execute_result",
          "data": {
            "text/plain": [
              "<graphviz.dot.Digraph at 0x7fa6489880f0>"
            ],
            "image/svg+xml": "<?xml version=\"1.0\" encoding=\"UTF-8\" standalone=\"no\"?>\n<!DOCTYPE svg PUBLIC \"-//W3C//DTD SVG 1.1//EN\"\n \"http://www.w3.org/Graphics/SVG/1.1/DTD/svg11.dtd\">\n<!-- Generated by graphviz version 2.40.1 (20161225.0304)\n -->\n<!-- Title: %3 Pages: 1 -->\n<svg width=\"484pt\" height=\"212pt\"\n viewBox=\"0.00 0.00 484.19 212.00\" xmlns=\"http://www.w3.org/2000/svg\" xmlns:xlink=\"http://www.w3.org/1999/xlink\">\n<g id=\"graph0\" class=\"graph\" transform=\"scale(1 1) rotate(0) translate(4 208)\">\n<title>%3</title>\n<polygon fill=\"#ffffff\" stroke=\"transparent\" points=\"-4,4 -4,-208 480.1926,-208 480.1926,4 -4,4\"/>\n<!-- EMPTY -->\n<g id=\"node1\" class=\"node\">\n<title>EMPTY</title>\n</g>\n<!-- IA -->\n<g id=\"node2\" class=\"node\">\n<title>IA</title>\n<ellipse fill=\"none\" stroke=\"#000000\" cx=\"111.7982\" cy=\"-103\" rx=\"20.5982\" ry=\"20.5982\"/>\n<text text-anchor=\"middle\" x=\"111.7982\" y=\"-99.3\" font-family=\"Times,serif\" font-size=\"14.00\" fill=\"#000000\">IA</text>\n</g>\n<!-- EMPTY&#45;&gt;IA -->\n<g id=\"edge1\" class=\"edge\">\n<title>EMPTY&#45;&gt;IA</title>\n<path fill=\"none\" stroke=\"#000000\" d=\"M44.9835,-36.0263C58.028,-49.1018 75.7496,-66.8657 89.664,-80.8132\"/>\n<polygon fill=\"#000000\" stroke=\"#000000\" points=\"87.4081,-83.5076 96.9486,-88.1151 92.3638,-78.5637 87.4081,-83.5076\"/>\n</g>\n<!-- IG -->\n<g id=\"node7\" class=\"node\">\n<title>IG</title>\n<ellipse fill=\"none\" stroke=\"#000000\" cx=\"363.3945\" cy=\"-73\" rx=\"20.5982\" ry=\"20.5982\"/>\n<text text-anchor=\"middle\" x=\"363.3945\" y=\"-69.3\" font-family=\"Times,serif\" font-size=\"14.00\" fill=\"#000000\">IG</text>\n</g>\n<!-- EMPTY&#45;&gt;IG -->\n<g id=\"edge2\" class=\"edge\">\n<title>EMPTY&#45;&gt;IG</title>\n<path fill=\"none\" stroke=\"#000000\" d=\"M54.3581,-12.1406C70.9038,-9.0945 92.469,-6 111.7982,-6 111.7982,-6 111.7982,-6 279.5963,-6 307.1799,-6 330.8917,-28.4193 345.9811,-47.3206\"/>\n<polygon fill=\"#000000\" stroke=\"#000000\" points=\"343.2703,-49.5384 352.0982,-55.3965 348.8503,-45.3118 343.2703,-49.5384\"/>\n</g>\n<!-- B -->\n<g id=\"node3\" class=\"node\">\n<title>B</title>\n<ellipse fill=\"none\" stroke=\"#000000\" cx=\"195.5963\" cy=\"-157\" rx=\"18\" ry=\"18\"/>\n<text text-anchor=\"middle\" x=\"195.5963\" y=\"-153.3\" font-family=\"Times,serif\" font-size=\"14.00\" fill=\"#000000\">B</text>\n</g>\n<!-- IA&#45;&gt;B -->\n<g id=\"edge4\" class=\"edge\">\n<title>IA&#45;&gt;B</title>\n<path fill=\"none\" stroke=\"#000000\" d=\"M129.5696,-114.452C141.8266,-122.3505 158.2626,-132.9419 171.6694,-141.5814\"/>\n<polygon fill=\"#000000\" stroke=\"#000000\" points=\"170.0768,-144.7188 180.3786,-147.1936 173.8686,-138.8347 170.0768,-144.7188\"/>\n<text text-anchor=\"middle\" x=\"155.0963\" y=\"-137.8\" font-family=\"Times,serif\" font-size=\"14.00\" fill=\"#000000\">&#39;&#39; </text>\n</g>\n<!-- C -->\n<g id=\"node6\" class=\"node\">\n<title>C</title>\n<ellipse fill=\"none\" stroke=\"#000000\" cx=\"195.5963\" cy=\"-103\" rx=\"18\" ry=\"18\"/>\n<text text-anchor=\"middle\" x=\"195.5963\" y=\"-99.3\" font-family=\"Times,serif\" font-size=\"14.00\" fill=\"#000000\">C</text>\n</g>\n<!-- IA&#45;&gt;C -->\n<g id=\"edge3\" class=\"edge\">\n<title>IA&#45;&gt;C</title>\n<path fill=\"none\" stroke=\"#000000\" d=\"M132.944,-103C143.3789,-103 156.1115,-103 167.3663,-103\"/>\n<polygon fill=\"#000000\" stroke=\"#000000\" points=\"167.5809,-106.5001 177.5809,-103 167.5809,-99.5001 167.5809,-106.5001\"/>\n<text text-anchor=\"middle\" x=\"155.0963\" y=\"-106.8\" font-family=\"Times,serif\" font-size=\"14.00\" fill=\"#000000\">&#39;&#39; </text>\n</g>\n<!-- D -->\n<g id=\"node5\" class=\"node\">\n<title>D</title>\n<ellipse fill=\"none\" stroke=\"#000000\" cx=\"279.5963\" cy=\"-157\" rx=\"18\" ry=\"18\"/>\n<text text-anchor=\"middle\" x=\"279.5963\" y=\"-153.3\" font-family=\"Times,serif\" font-size=\"14.00\" fill=\"#000000\">D</text>\n</g>\n<!-- B&#45;&gt;D -->\n<g id=\"edge6\" class=\"edge\">\n<title>B&#45;&gt;D</title>\n<path fill=\"none\" stroke=\"#000000\" d=\"M213.8231,-157C224.7205,-157 238.8017,-157 251.1376,-157\"/>\n<polygon fill=\"#000000\" stroke=\"#000000\" points=\"251.4052,-160.5001 261.4051,-157 251.4051,-153.5001 251.4052,-160.5001\"/>\n<text text-anchor=\"middle\" x=\"237.5963\" y=\"-160.8\" font-family=\"Times,serif\" font-size=\"14.00\" fill=\"#000000\">1 </text>\n</g>\n<!-- E -->\n<g id=\"node4\" class=\"node\">\n<title>E</title>\n<ellipse fill=\"none\" stroke=\"#000000\" cx=\"279.5963\" cy=\"-73\" rx=\"18\" ry=\"18\"/>\n<text text-anchor=\"middle\" x=\"279.5963\" y=\"-69.3\" font-family=\"Times,serif\" font-size=\"14.00\" fill=\"#000000\">E</text>\n</g>\n<!-- E&#45;&gt;IA -->\n<g id=\"edge10\" class=\"edge\">\n<title>E&#45;&gt;IA</title>\n<path fill=\"none\" stroke=\"#000000\" d=\"M262.2845,-66.8582C241.7091,-60.4897 206.5222,-52.555 177.5963,-61 162.4174,-65.4315 147.4064,-74.5484 135.5634,-83.1589\"/>\n<polygon fill=\"#000000\" stroke=\"#000000\" points=\"133.3792,-80.4228 127.5427,-89.2651 137.6194,-85.9925 133.3792,-80.4228\"/>\n<text text-anchor=\"middle\" x=\"195.5963\" y=\"-64.8\" font-family=\"Times,serif\" font-size=\"14.00\" fill=\"#000000\">&#39;&#39; </text>\n</g>\n<!-- E&#45;&gt;IG -->\n<g id=\"edge11\" class=\"edge\">\n<title>E&#45;&gt;IG</title>\n<path fill=\"none\" stroke=\"#000000\" d=\"M297.7793,-73C307.8773,-73 320.7158,-73 332.3538,-73\"/>\n<polygon fill=\"#000000\" stroke=\"#000000\" points=\"332.5912,-76.5001 342.5912,-73 332.5911,-69.5001 332.5912,-76.5001\"/>\n<text text-anchor=\"middle\" x=\"320.0963\" y=\"-76.8\" font-family=\"Times,serif\" font-size=\"14.00\" fill=\"#000000\">&#39;&#39; </text>\n</g>\n<!-- D&#45;&gt;IA -->\n<g id=\"edge8\" class=\"edge\">\n<title>D&#45;&gt;IA</title>\n<path fill=\"none\" stroke=\"#000000\" d=\"M264.5358,-167.175C244.147,-179.5856 206.9399,-197.3557 177.5963,-184 154.3559,-173.4222 136.7621,-149.9409 125.6415,-130.9699\"/>\n<polygon fill=\"#000000\" stroke=\"#000000\" points=\"128.6252,-129.1337 120.7059,-122.0955 122.5076,-132.5361 128.6252,-129.1337\"/>\n<text text-anchor=\"middle\" x=\"195.5963\" y=\"-192.8\" font-family=\"Times,serif\" font-size=\"14.00\" fill=\"#000000\">&#39;&#39; </text>\n</g>\n<!-- D&#45;&gt;IG -->\n<g id=\"edge9\" class=\"edge\">\n<title>D&#45;&gt;IG</title>\n<path fill=\"none\" stroke=\"#000000\" d=\"M292.3234,-144.2422C305.308,-131.2264 325.7129,-110.7723 341.3343,-95.1133\"/>\n<polygon fill=\"#000000\" stroke=\"#000000\" points=\"343.9806,-97.4164 348.5653,-87.8649 339.0249,-92.4726 343.9806,-97.4164\"/>\n<text text-anchor=\"middle\" x=\"320.0963\" y=\"-124.8\" font-family=\"Times,serif\" font-size=\"14.00\" fill=\"#000000\">&#39;&#39; </text>\n</g>\n<!-- C&#45;&gt;E -->\n<g id=\"edge7\" class=\"edge\">\n<title>C&#45;&gt;E</title>\n<path fill=\"none\" stroke=\"#000000\" d=\"M212.595,-96.9291C224.2083,-92.7814 239.8314,-87.2018 253.07,-82.4737\"/>\n<polygon fill=\"#000000\" stroke=\"#000000\" points=\"254.3827,-85.7214 262.6229,-79.0619 252.0283,-79.1292 254.3827,-85.7214\"/>\n<text text-anchor=\"middle\" x=\"237.5963\" y=\"-93.8\" font-family=\"Times,serif\" font-size=\"14.00\" fill=\"#000000\">0 </text>\n</g>\n<!-- F -->\n<g id=\"node8\" class=\"node\">\n<title>F</title>\n<ellipse fill=\"none\" stroke=\"#000000\" cx=\"454.1926\" cy=\"-73\" rx=\"18\" ry=\"18\"/>\n<ellipse fill=\"none\" stroke=\"#000000\" cx=\"454.1926\" cy=\"-73\" rx=\"22\" ry=\"22\"/>\n<text text-anchor=\"middle\" x=\"454.1926\" y=\"-69.3\" font-family=\"Times,serif\" font-size=\"14.00\" fill=\"#000000\">F</text>\n</g>\n<!-- IG&#45;&gt;F -->\n<g id=\"edge5\" class=\"edge\">\n<title>IG&#45;&gt;F</title>\n<path fill=\"none\" stroke=\"#000000\" d=\"M384.4536,-73C395.5861,-73 409.4908,-73 421.9489,-73\"/>\n<polygon fill=\"#000000\" stroke=\"#000000\" points=\"421.9809,-76.5001 431.9809,-73 421.9809,-69.5001 421.9809,-76.5001\"/>\n<text text-anchor=\"middle\" x=\"408.1926\" y=\"-76.8\" font-family=\"Times,serif\" font-size=\"14.00\" fill=\"#000000\">1 </text>\n</g>\n</g>\n</svg>\n"
          },
          "metadata": {
            "tags": []
          },
          "execution_count": 8
        }
      ]
    },
    {
      "cell_type": "code",
      "metadata": {
        "colab": {
          "base_uri": "https://localhost:8080/",
          "height": 357
        },
        "id": "d0rn-uhmfiRe",
        "outputId": "15a49a49-45d3-4480-dfb0-4619d9a12617"
      },
      "source": [
        "dotObj_dfa(nfa2dfa(Fig77a, STATENAME_MAXSIZE=50), STATENAME_MAXSIZE=50)"
      ],
      "execution_count": 9,
      "outputs": [
        {
          "output_type": "execute_result",
          "data": {
            "text/plain": [
              "<graphviz.dot.Digraph at 0x7fa648988240>"
            ],
            "image/svg+xml": "<?xml version=\"1.0\" encoding=\"UTF-8\" standalone=\"no\"?>\n<!DOCTYPE svg PUBLIC \"-//W3C//DTD SVG 1.1//EN\"\n \"http://www.w3.org/Graphics/SVG/1.1/DTD/svg11.dtd\">\n<!-- Generated by graphviz version 2.40.1 (20161225.0304)\n -->\n<!-- Title: %3 Pages: 1 -->\n<svg width=\"614pt\" height=\"252pt\"\n viewBox=\"0.00 0.00 613.76 252.09\" xmlns=\"http://www.w3.org/2000/svg\" xmlns:xlink=\"http://www.w3.org/1999/xlink\">\n<g id=\"graph0\" class=\"graph\" transform=\"scale(1 1) rotate(0) translate(4 248.0888)\">\n<title>%3</title>\n<polygon fill=\"#ffffff\" stroke=\"transparent\" points=\"-4,4 -4,-248.0888 609.7636,-248.0888 609.7636,4 -4,4\"/>\n<!-- EMPTY -->\n<g id=\"node1\" class=\"node\">\n<title>EMPTY</title>\n</g>\n<!-- B_C_IA_IG -->\n<g id=\"node3\" class=\"node\">\n<title>B_C_IA_IG</title>\n<ellipse fill=\"none\" stroke=\"#000000\" cx=\"148.8449\" cy=\"-57.8449\" rx=\"57.6901\" ry=\"57.6901\"/>\n<text text-anchor=\"middle\" x=\"148.8449\" y=\"-54.1449\" font-family=\"Times,serif\" font-size=\"14.00\" fill=\"#000000\">B_C_IA_IG</text>\n</g>\n<!-- EMPTY&#45;&gt;B_C_IA_IG -->\n<g id=\"edge1\" class=\"edge\">\n<title>EMPTY&#45;&gt;B_C_IA_IG</title>\n<path fill=\"none\" stroke=\"#000000\" d=\"M54.0413,-57.8449C62.0733,-57.8449 71.2574,-57.8449 80.6758,-57.8449\"/>\n<polygon fill=\"#000000\" stroke=\"#000000\" points=\"80.9444,-61.345 90.9444,-57.8449 80.9444,-54.345 80.9444,-61.345\"/>\n</g>\n<!-- B_C_E_IA_IG -->\n<g id=\"node2\" class=\"node\">\n<title>B_C_E_IA_IG</title>\n<ellipse fill=\"none\" stroke=\"#000000\" cx=\"322.9337\" cy=\"-142.8449\" rx=\"68.4888\" ry=\"68.4888\"/>\n<text text-anchor=\"middle\" x=\"322.9337\" y=\"-139.1449\" font-family=\"Times,serif\" font-size=\"14.00\" fill=\"#000000\">B_C_E_IA_IG</text>\n</g>\n<!-- B_C_E_IA_IG&#45;&gt;B_C_E_IA_IG -->\n<g id=\"edge4\" class=\"edge\">\n<title>B_C_E_IA_IG&#45;&gt;B_C_E_IA_IG</title>\n<path fill=\"none\" stroke=\"#000000\" d=\"M306.7618,-209.3807C308.9181,-221.0034 314.3087,-229.0888 322.9337,-229.0888 328.8634,-229.0888 333.2643,-225.2672 336.1365,-219.1019\"/>\n<polygon fill=\"#000000\" stroke=\"#000000\" points=\"339.5318,-219.967 339.1056,-209.3807 332.8371,-217.9222 339.5318,-219.967\"/>\n<text text-anchor=\"middle\" x=\"322.9337\" y=\"-232.8888\" font-family=\"Times,serif\" font-size=\"14.00\" fill=\"#000000\">0 </text>\n</g>\n<!-- B_C_D_F_IA_IG -->\n<g id=\"node4\" class=\"node\">\n<title>B_C_D_F_IA_IG</title>\n<ellipse fill=\"none\" stroke=\"#000000\" cx=\"522.4706\" cy=\"-104.8449\" rx=\"79.0964\" ry=\"79.0964\"/>\n<ellipse fill=\"none\" stroke=\"#000000\" cx=\"522.4706\" cy=\"-104.8449\" rx=\"83.0864\" ry=\"83.0864\"/>\n<text text-anchor=\"middle\" x=\"522.4706\" y=\"-101.1449\" font-family=\"Times,serif\" font-size=\"14.00\" fill=\"#000000\">B_C_D_F_IA_IG</text>\n</g>\n<!-- B_C_E_IA_IG&#45;&gt;B_C_D_F_IA_IG -->\n<g id=\"edge5\" class=\"edge\">\n<title>B_C_E_IA_IG&#45;&gt;B_C_D_F_IA_IG</title>\n<path fill=\"none\" stroke=\"#000000\" d=\"M390.2096,-130.0328C403.2287,-127.5534 417.0764,-124.9162 430.7227,-122.3174\"/>\n<polygon fill=\"#000000\" stroke=\"#000000\" points=\"431.4403,-125.7437 440.609,-120.4347 430.1307,-118.8673 431.4403,-125.7437\"/>\n<text text-anchor=\"middle\" x=\"415.1776\" y=\"-129.6449\" font-family=\"Times,serif\" font-size=\"14.00\" fill=\"#000000\">1 </text>\n</g>\n<!-- B_C_IA_IG&#45;&gt;B_C_E_IA_IG -->\n<g id=\"edge2\" class=\"edge\">\n<title>B_C_IA_IG&#45;&gt;B_C_E_IA_IG</title>\n<path fill=\"none\" stroke=\"#000000\" d=\"M201.0773,-83.3477C217.1332,-91.1871 235.0812,-99.9503 252.1622,-108.2902\"/>\n<polygon fill=\"#000000\" stroke=\"#000000\" points=\"251.0233,-111.629 261.545,-112.8714 254.0946,-105.3387 251.0233,-111.629\"/>\n<text text-anchor=\"middle\" x=\"230.6897\" y=\"-104.6449\" font-family=\"Times,serif\" font-size=\"14.00\" fill=\"#000000\">0 </text>\n</g>\n<!-- B_C_IA_IG&#45;&gt;B_C_D_F_IA_IG -->\n<g id=\"edge3\" class=\"edge\">\n<title>B_C_IA_IG&#45;&gt;B_C_D_F_IA_IG</title>\n<path fill=\"none\" stroke=\"#000000\" d=\"M206.2381,-49.0598C255.7207,-43.1731 328.8287,-38.5237 391.1776,-50.8449 406.6956,-53.9115 422.6848,-58.8344 437.9335,-64.4903\"/>\n<polygon fill=\"#000000\" stroke=\"#000000\" points=\"436.7315,-67.7778 447.3215,-68.0965 439.2416,-61.2433 436.7315,-67.7778\"/>\n<text text-anchor=\"middle\" x=\"322.9337\" y=\"-54.6449\" font-family=\"Times,serif\" font-size=\"14.00\" fill=\"#000000\">1 </text>\n</g>\n<!-- B_C_D_F_IA_IG&#45;&gt;B_C_E_IA_IG -->\n<g id=\"edge6\" class=\"edge\">\n<title>B_C_D_F_IA_IG&#45;&gt;B_C_E_IA_IG</title>\n<path fill=\"none\" stroke=\"#000000\" d=\"M439.1516,-101.8179C428.9893,-102.553 418.8024,-103.8231 409.1776,-105.8449 404.2223,-106.8858 399.1991,-108.2192 394.1975,-109.7589\"/>\n<polygon fill=\"#000000\" stroke=\"#000000\" points=\"393.0075,-106.4662 384.6293,-112.9512 395.223,-113.1063 393.0075,-106.4662\"/>\n<text text-anchor=\"middle\" x=\"415.1776\" y=\"-109.6449\" font-family=\"Times,serif\" font-size=\"14.00\" fill=\"#000000\">0 </text>\n</g>\n<!-- B_C_D_F_IA_IG&#45;&gt;B_C_D_F_IA_IG -->\n<g id=\"edge7\" class=\"edge\">\n<title>B_C_D_F_IA_IG&#45;&gt;B_C_D_F_IA_IG</title>\n<path fill=\"none\" stroke=\"#000000\" d=\"M504.5365,-186.3139C507.3832,-198.1584 513.3612,-206.1378 522.4706,-206.1378 528.8756,-206.1378 533.7326,-202.1929 537.0414,-195.7333\"/>\n<polygon fill=\"#000000\" stroke=\"#000000\" points=\"540.3382,-196.9085 540.4047,-186.3139 533.7458,-194.5546 540.3382,-196.9085\"/>\n<text text-anchor=\"middle\" x=\"522.4706\" y=\"-209.9378\" font-family=\"Times,serif\" font-size=\"14.00\" fill=\"#000000\">1 </text>\n</g>\n</g>\n</svg>\n"
          },
          "metadata": {
            "tags": []
          },
          "execution_count": 9
        }
      ]
    },
    {
      "cell_type": "code",
      "metadata": {
        "run_control": {
          "frozen": false,
          "read_only": false
        },
        "id": "KmmbuhnyfiRf"
      },
      "source": [
        "# Our automd markdown works for NFA also. Here is the NFA for\n",
        "# the language \"ends in 0101\"\n",
        "\n",
        "NFA_ends0101 = md2mc(''' \n",
        "!!---------------------------------------------------------------------------\n",
        "!! This NFA looks for patterns of the form \n",
        "!!\n",
        "!!     ......<some 0's and 1's>.....0101\n",
        "!!\n",
        "!! i.e., all strings that end in 0101.\n",
        "!!\n",
        "!! This example (over and above thirdlastis1.nfa) also illustrates\n",
        "!! the power of nondeterminism. Anytime we see a 0 from state I, we\n",
        "!! can have the NFA speculate that it is seeing the beginning of a\n",
        "!! 0101 pattern! If the NFA fails in its guess, it pays no price\n",
        "!! (because another guess is soon coming from behind).\n",
        "!!\n",
        "!! * We take 4 states in the NFA solution. The DFA solution takes\n",
        "!!   5 states.\n",
        "!!\n",
        "!! * This shows how burden is shifted from the\n",
        "!!   human to the computer doing the NFA simulation.\n",
        "!!   Even though the savings in states is not dramatic,\n",
        "!!   the effort to build this NFA is much lower than building\n",
        "!!   the corresponding DFA.\n",
        "!! \n",
        "!!-----------------------------------------------------------------\n",
        "!! For NFA, each line can be as follows:\n",
        "!!\n",
        "!! State : in1 | in2 ...  ->  COmma, Separated, State, List  !! comment\n",
        "!!-----------------------------------------------------------------\n",
        "\n",
        "NFA\n",
        "\n",
        "I    : 1   -> I      !! I goes to I upon 1\n",
        "\n",
        "I    : 0   -> S0, I  !! I goes to S0 and I upon 0\n",
        "\n",
        "S0   : 1   -> S01    !! S0 goes to S01 upon 1\n",
        "\n",
        "S01  : 0   -> S010   !! S01 goes to S010 upon 0\n",
        "\n",
        "S010 : 1   -> F      !! S010 goes to F upon F\n",
        "\n",
        "!!---\n",
        "''')"
      ],
      "execution_count": 10,
      "outputs": []
    },
    {
      "cell_type": "code",
      "metadata": {
        "run_control": {
          "frozen": false,
          "read_only": false
        },
        "colab": {
          "base_uri": "https://localhost:8080/"
        },
        "id": "_SqEH7M1fiRg",
        "outputId": "f28d4fc5-04c9-47ef-f191-5457dc3950e8"
      },
      "source": [
        "# Now let us see the dict version of the NFA\n",
        "NFA_ends0101 "
      ],
      "execution_count": 11,
      "outputs": [
        {
          "output_type": "execute_result",
          "data": {
            "text/plain": [
              "{'Delta': {('I', '0'): {'I', 'S0'},\n",
              "  ('I', '1'): {'I'},\n",
              "  ('S0', '1'): {'S01'},\n",
              "  ('S01', '0'): {'S010'},\n",
              "  ('S010', '1'): {'F'}},\n",
              " 'F': {'F'},\n",
              " 'Q': {'F', 'I', 'S0', 'S01', 'S010'},\n",
              " 'Q0': {'I'},\n",
              " 'Sigma': {'0', '1'}}"
            ]
          },
          "metadata": {
            "tags": []
          },
          "execution_count": 11
        }
      ]
    },
    {
      "cell_type": "code",
      "metadata": {
        "run_control": {
          "frozen": false,
          "read_only": false
        },
        "colab": {
          "base_uri": "https://localhost:8080/",
          "height": 185
        },
        "id": "zQOKYU9ofiRh",
        "outputId": "8061c1ca-c1e9-4729-9c01-3f972d9022c3"
      },
      "source": [
        "# Let's see the drawing of this NFA\n",
        "dotObj_nfa(NFA_ends0101)  "
      ],
      "execution_count": 12,
      "outputs": [
        {
          "output_type": "execute_result",
          "data": {
            "text/plain": [
              "<graphviz.dot.Digraph at 0x7fa6489ab128>"
            ],
            "image/svg+xml": "<?xml version=\"1.0\" encoding=\"UTF-8\" standalone=\"no\"?>\n<!DOCTYPE svg PUBLIC \"-//W3C//DTD SVG 1.1//EN\"\n \"http://www.w3.org/Graphics/SVG/1.1/DTD/svg11.dtd\">\n<!-- Generated by graphviz version 2.40.1 (20161225.0304)\n -->\n<!-- Title: %3 Pages: 1 -->\n<svg width=\"526pt\" height=\"123pt\"\n viewBox=\"0.00 0.00 525.69 122.55\" xmlns=\"http://www.w3.org/2000/svg\" xmlns:xlink=\"http://www.w3.org/1999/xlink\">\n<g id=\"graph0\" class=\"graph\" transform=\"scale(1 1) rotate(0) translate(4 118.5473)\">\n<title>%3</title>\n<polygon fill=\"#ffffff\" stroke=\"transparent\" points=\"-4,4 -4,-118.5473 521.6863,-118.5473 521.6863,4 -4,4\"/>\n<!-- EMPTY -->\n<g id=\"node1\" class=\"node\">\n<title>EMPTY</title>\n</g>\n<!-- I -->\n<g id=\"node3\" class=\"node\">\n<title>I</title>\n<ellipse fill=\"none\" stroke=\"#000000\" cx=\"109\" cy=\"-30.5473\" rx=\"18\" ry=\"18\"/>\n<text text-anchor=\"middle\" x=\"109\" y=\"-26.8473\" font-family=\"Times,serif\" font-size=\"14.00\" fill=\"#000000\">I</text>\n</g>\n<!-- EMPTY&#45;&gt;I -->\n<g id=\"edge1\" class=\"edge\">\n<title>EMPTY&#45;&gt;I</title>\n<path fill=\"none\" stroke=\"#000000\" d=\"M54.3048,-30.5473C62.6909,-30.5473 71.9407,-30.5473 80.4103,-30.5473\"/>\n<polygon fill=\"#000000\" stroke=\"#000000\" points=\"80.5976,-34.0474 90.5976,-30.5473 80.5976,-27.0474 80.5976,-34.0474\"/>\n</g>\n<!-- S01 -->\n<g id=\"node2\" class=\"node\">\n<title>S01</title>\n<ellipse fill=\"none\" stroke=\"#000000\" cx=\"290.594\" cy=\"-30.5473\" rx=\"25.9954\" ry=\"25.9954\"/>\n<text text-anchor=\"middle\" x=\"290.594\" y=\"-26.8473\" font-family=\"Times,serif\" font-size=\"14.00\" fill=\"#000000\">S01</text>\n</g>\n<!-- S010 -->\n<g id=\"node5\" class=\"node\">\n<title>S010</title>\n<ellipse fill=\"none\" stroke=\"#000000\" cx=\"395.139\" cy=\"-30.5473\" rx=\"30.5947\" ry=\"30.5947\"/>\n<text text-anchor=\"middle\" x=\"395.139\" y=\"-26.8473\" font-family=\"Times,serif\" font-size=\"14.00\" fill=\"#000000\">S010</text>\n</g>\n<!-- S01&#45;&gt;S010 -->\n<g id=\"edge6\" class=\"edge\">\n<title>S01&#45;&gt;S010</title>\n<path fill=\"none\" stroke=\"#000000\" d=\"M316.7054,-30.5473C328.0453,-30.5473 341.5984,-30.5473 354.2229,-30.5473\"/>\n<polygon fill=\"#000000\" stroke=\"#000000\" points=\"354.5401,-34.0474 364.54,-30.5473 354.54,-27.0474 354.5401,-34.0474\"/>\n<text text-anchor=\"middle\" x=\"340.5917\" y=\"-34.3473\" font-family=\"Times,serif\" font-size=\"14.00\" fill=\"#000000\">0 </text>\n</g>\n<!-- I&#45;&gt;I -->\n<g id=\"edge2\" class=\"edge\">\n<title>I&#45;&gt;I</title>\n<path fill=\"none\" stroke=\"#000000\" d=\"M105.7643,-48.329C105.2144,-57.8622 106.293,-66.5473 109,-66.5473 110.6496,-66.5473 111.6945,-63.3222 112.1347,-58.6454\"/>\n<polygon fill=\"#000000\" stroke=\"#000000\" points=\"115.6375,-58.3629 112.2357,-48.329 108.6379,-58.2942 115.6375,-58.3629\"/>\n<text text-anchor=\"middle\" x=\"109\" y=\"-70.3473\" font-family=\"Times,serif\" font-size=\"14.00\" fill=\"#000000\">1 </text>\n</g>\n<!-- I&#45;&gt;I -->\n<g id=\"edge4\" class=\"edge\">\n<title>I&#45;&gt;I</title>\n<path fill=\"none\" stroke=\"#000000\" d=\"M103.6841,-47.9676C100.6538,-65.3382 102.4258,-84.5473 109,-84.5473 114.2902,-84.5473 116.4708,-72.109 115.5419,-58.1993\"/>\n<polygon fill=\"#000000\" stroke=\"#000000\" points=\"118.9808,-57.4801 114.3159,-47.9676 112.0305,-58.313 118.9808,-57.4801\"/>\n<text text-anchor=\"middle\" x=\"109\" y=\"-88.3473\" font-family=\"Times,serif\" font-size=\"14.00\" fill=\"#000000\">0 </text>\n</g>\n<!-- S0 -->\n<g id=\"node4\" class=\"node\">\n<title>S0</title>\n<ellipse fill=\"none\" stroke=\"#000000\" cx=\"195.7982\" cy=\"-30.5473\" rx=\"20.5982\" ry=\"20.5982\"/>\n<text text-anchor=\"middle\" x=\"195.7982\" y=\"-26.8473\" font-family=\"Times,serif\" font-size=\"14.00\" fill=\"#000000\">S0</text>\n</g>\n<!-- I&#45;&gt;S0 -->\n<g id=\"edge3\" class=\"edge\">\n<title>I&#45;&gt;S0</title>\n<path fill=\"none\" stroke=\"#000000\" d=\"M127.4077,-30.5473C138.2934,-30.5473 152.3613,-30.5473 164.9052,-30.5473\"/>\n<polygon fill=\"#000000\" stroke=\"#000000\" points=\"164.9803,-34.0474 174.9802,-30.5473 164.9802,-27.0474 164.9803,-34.0474\"/>\n<text text-anchor=\"middle\" x=\"151\" y=\"-34.3473\" font-family=\"Times,serif\" font-size=\"14.00\" fill=\"#000000\">0 </text>\n</g>\n<!-- S0&#45;&gt;S01 -->\n<g id=\"edge5\" class=\"edge\">\n<title>S0&#45;&gt;S01</title>\n<path fill=\"none\" stroke=\"#000000\" d=\"M216.8364,-30.5473C227.8309,-30.5473 241.5999,-30.5473 254.2549,-30.5473\"/>\n<polygon fill=\"#000000\" stroke=\"#000000\" points=\"254.5378,-34.0474 264.5378,-30.5473 254.5378,-27.0474 254.5378,-34.0474\"/>\n<text text-anchor=\"middle\" x=\"240.5963\" y=\"-34.3473\" font-family=\"Times,serif\" font-size=\"14.00\" fill=\"#000000\">1 </text>\n</g>\n<!-- F -->\n<g id=\"node6\" class=\"node\">\n<title>F</title>\n<ellipse fill=\"none\" stroke=\"#000000\" cx=\"495.6863\" cy=\"-30.5473\" rx=\"18\" ry=\"18\"/>\n<ellipse fill=\"none\" stroke=\"#000000\" cx=\"495.6863\" cy=\"-30.5473\" rx=\"22\" ry=\"22\"/>\n<text text-anchor=\"middle\" x=\"495.6863\" y=\"-26.8473\" font-family=\"Times,serif\" font-size=\"14.00\" fill=\"#000000\">F</text>\n</g>\n<!-- S010&#45;&gt;F -->\n<g id=\"edge7\" class=\"edge\">\n<title>S010&#45;&gt;F</title>\n<path fill=\"none\" stroke=\"#000000\" d=\"M425.8528,-30.5473C437.7344,-30.5473 451.3429,-30.5473 463.3721,-30.5473\"/>\n<polygon fill=\"#000000\" stroke=\"#000000\" points=\"463.4535,-34.0474 473.4534,-30.5473 463.4534,-27.0474 463.4535,-34.0474\"/>\n<text text-anchor=\"middle\" x=\"449.6863\" y=\"-34.3473\" font-family=\"Times,serif\" font-size=\"14.00\" fill=\"#000000\">1 </text>\n</g>\n</g>\n</svg>\n"
          },
          "metadata": {
            "tags": []
          },
          "execution_count": 12
        }
      ]
    },
    {
      "cell_type": "code",
      "metadata": {
        "run_control": {
          "frozen": false,
          "read_only": false
        },
        "colab": {
          "base_uri": "https://localhost:8080/",
          "height": 161
        },
        "id": "y85i6uoIfiRi",
        "outputId": "0caac5bf-d2e8-47ca-d3c2-3f9db3af51b4"
      },
      "source": [
        "# The drawing produces separated self-loops. Let's fuse 'em.\n",
        "\n",
        "# Now we are going to fuse the separate self-loops into one.\n",
        "\n",
        "dotObj_nfa(NFA_ends0101, FuseEdges=True) "
      ],
      "execution_count": 13,
      "outputs": [
        {
          "output_type": "execute_result",
          "data": {
            "text/plain": [
              "<graphviz.dot.Digraph at 0x7fa6489abda0>"
            ],
            "image/svg+xml": "<?xml version=\"1.0\" encoding=\"UTF-8\" standalone=\"no\"?>\n<!DOCTYPE svg PUBLIC \"-//W3C//DTD SVG 1.1//EN\"\n \"http://www.w3.org/Graphics/SVG/1.1/DTD/svg11.dtd\">\n<!-- Generated by graphviz version 2.40.1 (20161225.0304)\n -->\n<!-- Title: %3 Pages: 1 -->\n<svg width=\"526pt\" height=\"105pt\"\n viewBox=\"0.00 0.00 525.69 104.55\" xmlns=\"http://www.w3.org/2000/svg\" xmlns:xlink=\"http://www.w3.org/1999/xlink\">\n<g id=\"graph0\" class=\"graph\" transform=\"scale(1 1) rotate(0) translate(4 100.5473)\">\n<title>%3</title>\n<polygon fill=\"#ffffff\" stroke=\"transparent\" points=\"-4,4 -4,-100.5473 521.6863,-100.5473 521.6863,4 -4,4\"/>\n<!-- EMPTY -->\n<g id=\"node1\" class=\"node\">\n<title>EMPTY</title>\n</g>\n<!-- I -->\n<g id=\"node3\" class=\"node\">\n<title>I</title>\n<ellipse fill=\"none\" stroke=\"#000000\" cx=\"109\" cy=\"-30.5473\" rx=\"18\" ry=\"18\"/>\n<text text-anchor=\"middle\" x=\"109\" y=\"-26.8473\" font-family=\"Times,serif\" font-size=\"14.00\" fill=\"#000000\">I</text>\n</g>\n<!-- EMPTY&#45;&gt;I -->\n<g id=\"edge1\" class=\"edge\">\n<title>EMPTY&#45;&gt;I</title>\n<path fill=\"none\" stroke=\"#000000\" d=\"M54.3048,-30.5473C62.6909,-30.5473 71.9407,-30.5473 80.4103,-30.5473\"/>\n<polygon fill=\"#000000\" stroke=\"#000000\" points=\"80.5976,-34.0474 90.5976,-30.5473 80.5976,-27.0474 80.5976,-34.0474\"/>\n</g>\n<!-- S01 -->\n<g id=\"node2\" class=\"node\">\n<title>S01</title>\n<ellipse fill=\"none\" stroke=\"#000000\" cx=\"290.594\" cy=\"-30.5473\" rx=\"25.9954\" ry=\"25.9954\"/>\n<text text-anchor=\"middle\" x=\"290.594\" y=\"-26.8473\" font-family=\"Times,serif\" font-size=\"14.00\" fill=\"#000000\">S01</text>\n</g>\n<!-- S010 -->\n<g id=\"node5\" class=\"node\">\n<title>S010</title>\n<ellipse fill=\"none\" stroke=\"#000000\" cx=\"395.139\" cy=\"-30.5473\" rx=\"30.5947\" ry=\"30.5947\"/>\n<text text-anchor=\"middle\" x=\"395.139\" y=\"-26.8473\" font-family=\"Times,serif\" font-size=\"14.00\" fill=\"#000000\">S010</text>\n</g>\n<!-- S01&#45;&gt;S010 -->\n<g id=\"edge5\" class=\"edge\">\n<title>S01&#45;&gt;S010</title>\n<path fill=\"none\" stroke=\"#000000\" d=\"M316.7054,-30.5473C328.0453,-30.5473 341.5984,-30.5473 354.2229,-30.5473\"/>\n<polygon fill=\"#000000\" stroke=\"#000000\" points=\"354.5401,-34.0474 364.54,-30.5473 354.54,-27.0474 354.5401,-34.0474\"/>\n<text text-anchor=\"middle\" x=\"340.5917\" y=\"-34.3473\" font-family=\"Times,serif\" font-size=\"14.00\" fill=\"#000000\">0 </text>\n</g>\n<!-- I&#45;&gt;I -->\n<g id=\"edge2\" class=\"edge\">\n<title>I&#45;&gt;I</title>\n<path fill=\"none\" stroke=\"#000000\" d=\"M102.6208,-47.5846C101.3189,-57.4052 103.4453,-66.5473 109,-66.5473 112.4717,-66.5473 114.6042,-62.9762 115.3975,-57.9002\"/>\n<polygon fill=\"#000000\" stroke=\"#000000\" points=\"118.8971,-57.5783 115.3792,-47.5846 111.8971,-57.5908 118.8971,-57.5783\"/>\n<text text-anchor=\"middle\" x=\"109\" y=\"-85.3473\" font-family=\"Times,serif\" font-size=\"14.00\" fill=\"#000000\">0 </text>\n<text text-anchor=\"middle\" x=\"109\" y=\"-70.3473\" font-family=\"Times,serif\" font-size=\"14.00\" fill=\"#000000\"> 1 </text>\n</g>\n<!-- S0 -->\n<g id=\"node4\" class=\"node\">\n<title>S0</title>\n<ellipse fill=\"none\" stroke=\"#000000\" cx=\"195.7982\" cy=\"-30.5473\" rx=\"20.5982\" ry=\"20.5982\"/>\n<text text-anchor=\"middle\" x=\"195.7982\" y=\"-26.8473\" font-family=\"Times,serif\" font-size=\"14.00\" fill=\"#000000\">S0</text>\n</g>\n<!-- I&#45;&gt;S0 -->\n<g id=\"edge3\" class=\"edge\">\n<title>I&#45;&gt;S0</title>\n<path fill=\"none\" stroke=\"#000000\" d=\"M127.4077,-30.5473C138.2934,-30.5473 152.3613,-30.5473 164.9052,-30.5473\"/>\n<polygon fill=\"#000000\" stroke=\"#000000\" points=\"164.9803,-34.0474 174.9802,-30.5473 164.9802,-27.0474 164.9803,-34.0474\"/>\n<text text-anchor=\"middle\" x=\"151\" y=\"-34.3473\" font-family=\"Times,serif\" font-size=\"14.00\" fill=\"#000000\">0 </text>\n</g>\n<!-- S0&#45;&gt;S01 -->\n<g id=\"edge4\" class=\"edge\">\n<title>S0&#45;&gt;S01</title>\n<path fill=\"none\" stroke=\"#000000\" d=\"M216.8364,-30.5473C227.8309,-30.5473 241.5999,-30.5473 254.2549,-30.5473\"/>\n<polygon fill=\"#000000\" stroke=\"#000000\" points=\"254.5378,-34.0474 264.5378,-30.5473 254.5378,-27.0474 254.5378,-34.0474\"/>\n<text text-anchor=\"middle\" x=\"240.5963\" y=\"-34.3473\" font-family=\"Times,serif\" font-size=\"14.00\" fill=\"#000000\">1 </text>\n</g>\n<!-- F -->\n<g id=\"node6\" class=\"node\">\n<title>F</title>\n<ellipse fill=\"none\" stroke=\"#000000\" cx=\"495.6863\" cy=\"-30.5473\" rx=\"18\" ry=\"18\"/>\n<ellipse fill=\"none\" stroke=\"#000000\" cx=\"495.6863\" cy=\"-30.5473\" rx=\"22\" ry=\"22\"/>\n<text text-anchor=\"middle\" x=\"495.6863\" y=\"-26.8473\" font-family=\"Times,serif\" font-size=\"14.00\" fill=\"#000000\">F</text>\n</g>\n<!-- S010&#45;&gt;F -->\n<g id=\"edge6\" class=\"edge\">\n<title>S010&#45;&gt;F</title>\n<path fill=\"none\" stroke=\"#000000\" d=\"M425.8528,-30.5473C437.7344,-30.5473 451.3429,-30.5473 463.3721,-30.5473\"/>\n<polygon fill=\"#000000\" stroke=\"#000000\" points=\"463.4535,-34.0474 473.4534,-30.5473 463.4534,-27.0474 463.4535,-34.0474\"/>\n<text text-anchor=\"middle\" x=\"449.6863\" y=\"-34.3473\" font-family=\"Times,serif\" font-size=\"14.00\" fill=\"#000000\">1 </text>\n</g>\n</g>\n</svg>\n"
          },
          "metadata": {
            "tags": []
          },
          "execution_count": 13
        }
      ]
    },
    {
      "cell_type": "code",
      "metadata": {
        "colab": {
          "base_uri": "https://localhost:8080/"
        },
        "id": "f7NlpvmjfiRi",
        "outputId": "92a74f82-3a71-4647-f6e6-490edef7cd7a"
      },
      "source": [
        "step_nfa(NFA_ends0101, 'F', '1')"
      ],
      "execution_count": 15,
      "outputs": [
        {
          "output_type": "execute_result",
          "data": {
            "text/plain": [
              "set()"
            ]
          },
          "metadata": {
            "tags": []
          },
          "execution_count": 15
        }
      ]
    },
    {
      "cell_type": "markdown",
      "metadata": {
        "run_control": {
          "frozen": false,
          "read_only": false
        },
        "id": "cZASN3V0fiRj"
      },
      "source": [
        "# NFA for 3rd-last is 1"
      ]
    },
    {
      "cell_type": "code",
      "metadata": {
        "run_control": {
          "frozen": false,
          "read_only": false
        },
        "id": "jjM6wEvBfiRj"
      },
      "source": [
        "# Here is the automd (markdown) for an NF whose third-last symbol is a 1\n",
        "\n",
        "NFA_3rdlast_1 = md2mc('''\n",
        "NFA\n",
        "\n",
        "I : 0  | 1  -> I  !! Upon a 0 or a 1, continue to stay in state I\n",
        "\n",
        "I : ''      -> S0 !! Nondeterministically transition to state S0\n",
        "\n",
        "S0 : 1      -> S1 !! This is the key \"1\" (third-last being 1) seen\n",
        "\n",
        "S1 : 0 | 1  -> S2 !! One 0/1 takes the NFA to S2\n",
        "\n",
        "S2 : 0 | 1  -> F  !! One more 0/1 takes the NFA to F\n",
        "\n",
        "''')"
      ],
      "execution_count": 17,
      "outputs": []
    },
    {
      "cell_type": "code",
      "metadata": {
        "run_control": {
          "frozen": false,
          "read_only": false
        },
        "colab": {
          "base_uri": "https://localhost:8080/"
        },
        "id": "N7cQDqKAfiRk",
        "outputId": "b11216e8-c61b-4618-d6f3-433e72f44209"
      },
      "source": [
        "# Let us see its internal representation:\n",
        "NFA_3rdlast_1"
      ],
      "execution_count": 18,
      "outputs": [
        {
          "output_type": "execute_result",
          "data": {
            "text/plain": [
              "{'Delta': {('I', ''): {'S0'},\n",
              "  ('I', '0'): {'I'},\n",
              "  ('I', '1'): {'I'},\n",
              "  ('S0', '1'): {'S1'},\n",
              "  ('S1', '0'): {'S2'},\n",
              "  ('S1', '1'): {'S2'},\n",
              "  ('S2', '0'): {'F'},\n",
              "  ('S2', '1'): {'F'}},\n",
              " 'F': {'F'},\n",
              " 'Q': {'F', 'I', 'S0', 'S1', 'S2'},\n",
              " 'Q0': {'I'},\n",
              " 'Sigma': {'0', '1'}}"
            ]
          },
          "metadata": {
            "tags": []
          },
          "execution_count": 18
        }
      ]
    },
    {
      "cell_type": "code",
      "metadata": {
        "run_control": {
          "frozen": false,
          "read_only": false
        },
        "colab": {
          "base_uri": "https://localhost:8080/",
          "height": 149
        },
        "id": "a-EYweWqfiRl",
        "outputId": "b3d5cc1f-fdd8-458c-d575-d0b553e723af"
      },
      "source": [
        "# Let us see this NFA drawn out:\n",
        "dotObj_nfa(NFA_3rdlast_1, FuseEdges=True)"
      ],
      "execution_count": 19,
      "outputs": [
        {
          "output_type": "execute_result",
          "data": {
            "text/plain": [
              "<graphviz.dot.Digraph at 0x7fa6487fa748>"
            ],
            "image/svg+xml": "<?xml version=\"1.0\" encoding=\"UTF-8\" standalone=\"no\"?>\n<!DOCTYPE svg PUBLIC \"-//W3C//DTD SVG 1.1//EN\"\n \"http://www.w3.org/Graphics/SVG/1.1/DTD/svg11.dtd\">\n<!-- Generated by graphviz version 2.40.1 (20161225.0304)\n -->\n<!-- Title: %3 Pages: 1 -->\n<svg width=\"501pt\" height=\"96pt\"\n viewBox=\"0.00 0.00 500.79 96.00\" xmlns=\"http://www.w3.org/2000/svg\" xmlns:xlink=\"http://www.w3.org/1999/xlink\">\n<g id=\"graph0\" class=\"graph\" transform=\"scale(1 1) rotate(0) translate(4 92)\">\n<title>%3</title>\n<polygon fill=\"#ffffff\" stroke=\"transparent\" points=\"-4,4 -4,-92 496.7889,-92 496.7889,4 -4,4\"/>\n<!-- EMPTY -->\n<g id=\"node1\" class=\"node\">\n<title>EMPTY</title>\n</g>\n<!-- I -->\n<g id=\"node4\" class=\"node\">\n<title>I</title>\n<ellipse fill=\"none\" stroke=\"#000000\" cx=\"109\" cy=\"-22\" rx=\"18\" ry=\"18\"/>\n<text text-anchor=\"middle\" x=\"109\" y=\"-18.3\" font-family=\"Times,serif\" font-size=\"14.00\" fill=\"#000000\">I</text>\n</g>\n<!-- EMPTY&#45;&gt;I -->\n<g id=\"edge1\" class=\"edge\">\n<title>EMPTY&#45;&gt;I</title>\n<path fill=\"none\" stroke=\"#000000\" d=\"M54.3048,-22C62.6909,-22 71.9407,-22 80.4103,-22\"/>\n<polygon fill=\"#000000\" stroke=\"#000000\" points=\"80.5976,-25.5001 90.5976,-22 80.5976,-18.5001 80.5976,-25.5001\"/>\n</g>\n<!-- S1 -->\n<g id=\"node2\" class=\"node\">\n<title>S1</title>\n<ellipse fill=\"none\" stroke=\"#000000\" cx=\"282.3945\" cy=\"-22\" rx=\"20.5982\" ry=\"20.5982\"/>\n<text text-anchor=\"middle\" x=\"282.3945\" y=\"-18.3\" font-family=\"Times,serif\" font-size=\"14.00\" fill=\"#000000\">S1</text>\n</g>\n<!-- S2 -->\n<g id=\"node5\" class=\"node\">\n<title>S2</title>\n<ellipse fill=\"none\" stroke=\"#000000\" cx=\"375.9908\" cy=\"-22\" rx=\"20.5982\" ry=\"20.5982\"/>\n<text text-anchor=\"middle\" x=\"375.9908\" y=\"-18.3\" font-family=\"Times,serif\" font-size=\"14.00\" fill=\"#000000\">S2</text>\n</g>\n<!-- S1&#45;&gt;S2 -->\n<g id=\"edge5\" class=\"edge\">\n<title>S1&#45;&gt;S2</title>\n<path fill=\"none\" stroke=\"#000000\" d=\"M303.6329,-22C315.8046,-22 331.3038,-22 344.8326,-22\"/>\n<polygon fill=\"#000000\" stroke=\"#000000\" points=\"345.1588,-25.5001 355.1588,-22 345.1587,-18.5001 345.1588,-25.5001\"/>\n<text text-anchor=\"middle\" x=\"329.1926\" y=\"-40.8\" font-family=\"Times,serif\" font-size=\"14.00\" fill=\"#000000\">0 </text>\n<text text-anchor=\"middle\" x=\"329.1926\" y=\"-25.8\" font-family=\"Times,serif\" font-size=\"14.00\" fill=\"#000000\"> 1 </text>\n</g>\n<!-- S0 -->\n<g id=\"node3\" class=\"node\">\n<title>S0</title>\n<ellipse fill=\"none\" stroke=\"#000000\" cx=\"192.7982\" cy=\"-22\" rx=\"20.5982\" ry=\"20.5982\"/>\n<text text-anchor=\"middle\" x=\"192.7982\" y=\"-18.3\" font-family=\"Times,serif\" font-size=\"14.00\" fill=\"#000000\">S0</text>\n</g>\n<!-- S0&#45;&gt;S1 -->\n<g id=\"edge4\" class=\"edge\">\n<title>S0&#45;&gt;S1</title>\n<path fill=\"none\" stroke=\"#000000\" d=\"M214.0312,-22C225.0778,-22 238.7967,-22 251.0394,-22\"/>\n<polygon fill=\"#000000\" stroke=\"#000000\" points=\"251.3138,-25.5001 261.3138,-22 251.3138,-18.5001 251.3138,-25.5001\"/>\n<text text-anchor=\"middle\" x=\"237.5963\" y=\"-25.8\" font-family=\"Times,serif\" font-size=\"14.00\" fill=\"#000000\">1 </text>\n</g>\n<!-- I&#45;&gt;S0 -->\n<g id=\"edge3\" class=\"edge\">\n<title>I&#45;&gt;S0</title>\n<path fill=\"none\" stroke=\"#000000\" d=\"M127.183,-22C137.281,-22 150.1195,-22 161.7575,-22\"/>\n<polygon fill=\"#000000\" stroke=\"#000000\" points=\"161.9949,-25.5001 171.9949,-22 161.9948,-18.5001 161.9949,-25.5001\"/>\n<text text-anchor=\"middle\" x=\"149.5\" y=\"-25.8\" font-family=\"Times,serif\" font-size=\"14.00\" fill=\"#000000\">&#39;&#39; </text>\n</g>\n<!-- I&#45;&gt;I -->\n<g id=\"edge2\" class=\"edge\">\n<title>I&#45;&gt;I</title>\n<path fill=\"none\" stroke=\"#000000\" d=\"M102.6208,-39.0373C101.3189,-48.8579 103.4453,-58 109,-58 112.4717,-58 114.6042,-54.4289 115.3975,-49.3529\"/>\n<polygon fill=\"#000000\" stroke=\"#000000\" points=\"118.8971,-49.031 115.3792,-39.0373 111.8971,-49.0435 118.8971,-49.031\"/>\n<text text-anchor=\"middle\" x=\"109\" y=\"-76.8\" font-family=\"Times,serif\" font-size=\"14.00\" fill=\"#000000\">0 </text>\n<text text-anchor=\"middle\" x=\"109\" y=\"-61.8\" font-family=\"Times,serif\" font-size=\"14.00\" fill=\"#000000\"> 1 </text>\n</g>\n<!-- F -->\n<g id=\"node6\" class=\"node\">\n<title>F</title>\n<ellipse fill=\"none\" stroke=\"#000000\" cx=\"470.7889\" cy=\"-22\" rx=\"18\" ry=\"18\"/>\n<ellipse fill=\"none\" stroke=\"#000000\" cx=\"470.7889\" cy=\"-22\" rx=\"22\" ry=\"22\"/>\n<text text-anchor=\"middle\" x=\"470.7889\" y=\"-18.3\" font-family=\"Times,serif\" font-size=\"14.00\" fill=\"#000000\">F</text>\n</g>\n<!-- S2&#45;&gt;F -->\n<g id=\"edge6\" class=\"edge\">\n<title>S2&#45;&gt;F</title>\n<path fill=\"none\" stroke=\"#000000\" d=\"M397.0296,-22C409.2005,-22 424.7713,-22 438.4674,-22\"/>\n<polygon fill=\"#000000\" stroke=\"#000000\" points=\"438.4881,-25.5001 448.4881,-22 438.4881,-18.5001 438.4881,-25.5001\"/>\n<text text-anchor=\"middle\" x=\"422.7889\" y=\"-40.8\" font-family=\"Times,serif\" font-size=\"14.00\" fill=\"#000000\">0 </text>\n<text text-anchor=\"middle\" x=\"422.7889\" y=\"-25.8\" font-family=\"Times,serif\" font-size=\"14.00\" fill=\"#000000\"> 1 </text>\n</g>\n</g>\n</svg>\n"
          },
          "metadata": {
            "tags": []
          },
          "execution_count": 19
        }
      ]
    },
    {
      "cell_type": "code",
      "metadata": {
        "run_control": {
          "frozen": false,
          "read_only": false
        },
        "colab": {
          "base_uri": "https://localhost:8080/"
        },
        "id": "twrleLokfiRl",
        "outputId": "65f845a3-4ded-4305-a571-b2168dc61673"
      },
      "source": [
        "# Let's step the NFA on epsilon:   \n",
        "step_nfa(NFA_3rdlast_1, \"I\", \"\")"
      ],
      "execution_count": 20,
      "outputs": [
        {
          "output_type": "execute_result",
          "data": {
            "text/plain": [
              "{'S0'}"
            ]
          },
          "metadata": {
            "tags": []
          },
          "execution_count": 20
        }
      ]
    },
    {
      "cell_type": "code",
      "metadata": {
        "run_control": {
          "frozen": false,
          "read_only": false
        },
        "colab": {
          "base_uri": "https://localhost:8080/"
        },
        "id": "x9jQlFP5fiRn",
        "outputId": "b8b2af17-d51e-4f1b-e221-3372d88b0035"
      },
      "source": [
        "# Let's step it on '0': \n",
        "step_nfa(NFA_3rdlast_1, \"I\", \"0\")"
      ],
      "execution_count": 21,
      "outputs": [
        {
          "output_type": "execute_result",
          "data": {
            "text/plain": [
              "{'I'}"
            ]
          },
          "metadata": {
            "tags": []
          },
          "execution_count": 21
        }
      ]
    },
    {
      "cell_type": "code",
      "metadata": {
        "run_control": {
          "frozen": false,
          "read_only": false
        },
        "colab": {
          "base_uri": "https://localhost:8080/"
        },
        "id": "XfkfZsPRfiRo",
        "outputId": "4d0dee6a-b767-4ac3-f2f9-8291b1cf1c03"
      },
      "source": [
        "# Step it on a \"1\" to see two next states. That shows nondeterminism!\n",
        "step_nfa(NFA_3rdlast_1, \"I\", \"1\")  "
      ],
      "execution_count": 22,
      "outputs": [
        {
          "output_type": "execute_result",
          "data": {
            "text/plain": [
              "{'I'}"
            ]
          },
          "metadata": {
            "tags": []
          },
          "execution_count": 22
        }
      ]
    },
    {
      "cell_type": "code",
      "metadata": {
        "run_control": {
          "frozen": false,
          "read_only": false
        },
        "colab": {
          "base_uri": "https://localhost:8080/"
        },
        "id": "M5JrtIEpfiRo",
        "outputId": "97c6fb88-c920-49e9-df4f-e857a894fa19"
      },
      "source": [
        "# What is the Eclosure of the set of states {I} ?\n",
        "Eclosure(NFA_3rdlast_1, {\"I\"})"
      ],
      "execution_count": 23,
      "outputs": [
        {
          "output_type": "execute_result",
          "data": {
            "text/plain": [
              "{'I', 'S0'}"
            ]
          },
          "metadata": {
            "tags": []
          },
          "execution_count": 23
        }
      ]
    },
    {
      "cell_type": "code",
      "metadata": {
        "run_control": {
          "frozen": false,
          "read_only": false
        },
        "colab": {
          "base_uri": "https://localhost:8080/"
        },
        "id": "fshYJnX1fiRp",
        "outputId": "b08aaf05-78f2-40d8-9a50-08e78aebeded"
      },
      "source": [
        "help(accepts_nfa)"
      ],
      "execution_count": 24,
      "outputs": [
        {
          "output_type": "stream",
          "text": [
            "Help on function accepts_nfa in module jove.Def_NFA:\n",
            "\n",
            "accepts_nfa(N, s, chatty=False)\n",
            "    NFA acceptance.\n",
            "    Input : N : given NFA\n",
            "            s : given string\n",
            "            chatty : Boolean (prints accepting path,\n",
            "                     which is the state-sets encountered).\n",
            "\n"
          ],
          "name": "stdout"
        }
      ]
    },
    {
      "cell_type": "code",
      "metadata": {
        "run_control": {
          "frozen": false,
          "read_only": false
        },
        "colab": {
          "base_uri": "https://localhost:8080/"
        },
        "id": "KTZ0kJjTfiRq",
        "outputId": "76fdc005-1cbd-4ce7-99e0-baf95fcc0873"
      },
      "source": [
        "accepts_nfa(NFA_3rdlast_1, \"0100100\", chatty=True)"
      ],
      "execution_count": 25,
      "outputs": [
        {
          "output_type": "stream",
          "text": [
            "States reached =  {'S0', 'I'}\n",
            "States reached =  {'S1', 'S0', 'I'}\n",
            "States reached =  {'S0', 'S2', 'I'}\n",
            "States reached =  {'F', 'S0', 'I'}\n",
            "States reached =  {'S1', 'S0', 'I'}\n",
            "States reached =  {'S0', 'S2', 'I'}\n",
            "States reached =  {'F', 'S0', 'I'}\n",
            "NFA accepts '0100100' by reaching {'F', 'S0', 'I'}\n"
          ],
          "name": "stdout"
        },
        {
          "output_type": "execute_result",
          "data": {
            "text/plain": [
              "True"
            ]
          },
          "metadata": {
            "tags": []
          },
          "execution_count": 25
        }
      ]
    },
    {
      "cell_type": "markdown",
      "metadata": {
        "run_control": {
          "frozen": false,
          "read_only": false
        },
        "id": "_huE-2XyfiRr"
      },
      "source": [
        "# Let us run NFA interactively via widgets\n",
        "\n",
        "We have two NFA to play with, namely nfa_ends0101 and NFA_3rdlast_1\n"
      ]
    },
    {
      "cell_type": "code",
      "metadata": {
        "run_control": {
          "frozen": false,
          "read_only": false
        },
        "id": "Tfa7pLCOfiRr"
      },
      "source": [
        "import ipywidgets as wdg\n",
        "def run_nfa_slider(N, s, n):\n",
        "    \"\"\"Run NFA N from N[\"Q0\"] (which is a set..) on substring s[0:n]\n",
        "    \"\"\"\n",
        "    S = N[\"Q0\"] \n",
        "    if (n > len(s)):\n",
        "        n = len(s)\n",
        "    print(\"string = \", s[0:n])\n",
        "    run_nfa(N, S, s[0:n], True)\n",
        "    \n",
        "def run_nfa_int(N1, N2):\n",
        "    \"\"\"Run interactively from the given NFA .. from {q0} \n",
        "       on input string's substring\n",
        "       as picked by slider.\n",
        "    \"\"\"\n",
        "    inp = input(\"Please provide string: \")\n",
        "    wdg.interact(run_nfa_slider, N = {'N1': N1, 'N2': N2}, \n",
        "                 s = inp, n=(0,32))\n",
        "    \n",
        "def test_run_nfa_int(N1, N2):\n",
        "    \"\"\"Test the interactive run of NFA.\n",
        "    \"\"\"\n",
        "    run_nfa_int(N1, N2)\n",
        "\n",
        "#-- enable this later. test_run_nfa_int()"
      ],
      "execution_count": 26,
      "outputs": []
    },
    {
      "cell_type": "markdown",
      "metadata": {
        "run_control": {
          "frozen": false,
          "read_only": false
        },
        "id": "8S0POuUefiRt"
      },
      "source": [
        "## Once you run the command below, provide a string\n",
        "\n",
        "Provide a string of 0's and 1's. Then you can use the pull-down to pick the NFA\n",
        "to test, and the slider to incrementally consume more of the input string.\n"
      ]
    },
    {
      "cell_type": "code",
      "metadata": {
        "run_control": {
          "frozen": false,
          "read_only": false
        },
        "colab": {
          "base_uri": "https://localhost:8080/",
          "height": 232,
          "referenced_widgets": [
            "fe9bcfe9a45243b2b218a6969331c2f5",
            "cab441d5e6a54e7fb241f234d291ff1b",
            "004e3f8a92cc4cc5b99d2a408d1e9f04",
            "dc583bda45884ea9a6c5d87ad6c94e49",
            "e8d22900d4d64cb5823c5b474fbd5682",
            "db3ba525e7d043a0aee4b31c7ff0299c",
            "d3b7e1311f87422180c0515f4fa0d1a6",
            "dc81f38531694d62b7fbd9322f285b03",
            "7103d47e62bd49d88ec3796bb24f5a15",
            "050efc57bf0c4d10867f22a3a8840958",
            "fe8f26516a8449b8a61b066450ef4315",
            "1e3981454a0d4ba3850dc9fd35b0a50c",
            "cf80a4b94998496f9624e100bac4146a"
          ]
        },
        "id": "_Rdp00dyfiRv",
        "outputId": "04b1907f-f16f-4c78-e93e-3d7b36b1222d"
      },
      "source": [
        "test_run_nfa_int(NFA_ends0101, NFA_3rdlast_1)"
      ],
      "execution_count": 27,
      "outputs": [
        {
          "output_type": "stream",
          "text": [
            "Please provide string: 10100001110010111\n"
          ],
          "name": "stdout"
        },
        {
          "output_type": "display_data",
          "data": {
            "application/vnd.jupyter.widget-view+json": {
              "model_id": "fe9bcfe9a45243b2b218a6969331c2f5",
              "version_minor": 0,
              "version_major": 2
            },
            "text/plain": [
              "interactive(children=(Dropdown(description='N', options={'N1': {'Q': {'S01', 'S0', 'I', 'F', 'S010'}, 'Sigma':…"
            ]
          },
          "metadata": {
            "tags": []
          }
        }
      ]
    }
  ]
}